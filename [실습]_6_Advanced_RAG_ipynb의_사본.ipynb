{
  "cells": [
    {
      "cell_type": "markdown",
      "metadata": {
        "id": "oKEsZgnVB-CW"
      },
      "source": [
        "# [실습] Advanced RAG\n",
        "\n",
        "RAG의 기본 베이스 체인에서 시작하여, 다양한 기능을 추가해 보겠습니다.   "
      ]
    },
    {
      "cell_type": "markdown",
      "source": [
        "### <필수> 실습을 진행하기 전, GPU를 T4로 설정해 주세요!"
      ],
      "metadata": {
        "id": "lrM5vQF3txRG"
      }
    },
    {
      "cell_type": "markdown",
      "metadata": {
        "id": "z6VgRzQEhlqN"
      },
      "source": [
        "### 라이브러리 설치  \n",
        "\n",
        "랭체인 관련 라이브러리와 벡터 데이터베이스 라이브러리를 설치합니다.   "
      ]
    },
    {
      "cell_type": "code",
      "execution_count": null,
      "metadata": {
        "id": "GHgrhVbLnM6I",
        "colab": {
          "base_uri": "https://localhost:8080/"
        },
        "collapsed": true,
        "outputId": "6a70068e-7c40-4405-ac5f-25f829d58130"
      },
      "outputs": [
        {
          "output_type": "stream",
          "name": "stdout",
          "text": [
            "Collecting jsonlines\n",
            "  Downloading jsonlines-4.0.0-py3-none-any.whl.metadata (1.6 kB)\n",
            "Requirement already satisfied: openai in /usr/local/lib/python3.12/dist-packages (1.109.1)\n",
            "Requirement already satisfied: langchain in /usr/local/lib/python3.12/dist-packages (0.3.27)\n",
            "Collecting langchain-openai\n",
            "  Downloading langchain_openai-1.0.0-py3-none-any.whl.metadata (1.8 kB)\n",
            "Collecting langchain-community\n",
            "  Downloading langchain_community-0.4-py3-none-any.whl.metadata (3.0 kB)\n",
            "Collecting langchain-chroma\n",
            "  Downloading langchain_chroma-1.0.0-py3-none-any.whl.metadata (1.9 kB)\n",
            "Requirement already satisfied: tiktoken in /usr/local/lib/python3.12/dist-packages (0.12.0)\n",
            "Collecting rank_bm25\n",
            "  Downloading rank_bm25-0.2.2-py3-none-any.whl.metadata (3.2 kB)\n",
            "Collecting pymupdf\n",
            "  Downloading pymupdf-1.26.5-cp39-abi3-manylinux_2_28_x86_64.whl.metadata (3.4 kB)\n",
            "Collecting kiwipiepy\n",
            "  Downloading kiwipiepy-0.21.0-cp312-cp312-manylinux_2_17_x86_64.manylinux2014_x86_64.whl.metadata (1.3 kB)\n",
            "Requirement already satisfied: attrs>=19.2.0 in /usr/local/lib/python3.12/dist-packages (from jsonlines) (25.4.0)\n",
            "Requirement already satisfied: anyio<5,>=3.5.0 in /usr/local/lib/python3.12/dist-packages (from openai) (4.11.0)\n",
            "Requirement already satisfied: distro<2,>=1.7.0 in /usr/local/lib/python3.12/dist-packages (from openai) (1.9.0)\n",
            "Requirement already satisfied: httpx<1,>=0.23.0 in /usr/local/lib/python3.12/dist-packages (from openai) (0.28.1)\n",
            "Requirement already satisfied: jiter<1,>=0.4.0 in /usr/local/lib/python3.12/dist-packages (from openai) (0.11.0)\n",
            "Requirement already satisfied: pydantic<3,>=1.9.0 in /usr/local/lib/python3.12/dist-packages (from openai) (2.11.10)\n",
            "Requirement already satisfied: sniffio in /usr/local/lib/python3.12/dist-packages (from openai) (1.3.1)\n",
            "Requirement already satisfied: tqdm>4 in /usr/local/lib/python3.12/dist-packages (from openai) (4.67.1)\n",
            "Requirement already satisfied: typing-extensions<5,>=4.11 in /usr/local/lib/python3.12/dist-packages (from openai) (4.15.0)\n",
            "Requirement already satisfied: langchain-core<1.0.0,>=0.3.72 in /usr/local/lib/python3.12/dist-packages (from langchain) (0.3.79)\n",
            "Requirement already satisfied: langchain-text-splitters<1.0.0,>=0.3.9 in /usr/local/lib/python3.12/dist-packages (from langchain) (0.3.11)\n",
            "Requirement already satisfied: langsmith>=0.1.17 in /usr/local/lib/python3.12/dist-packages (from langchain) (0.4.35)\n",
            "Requirement already satisfied: SQLAlchemy<3,>=1.4 in /usr/local/lib/python3.12/dist-packages (from langchain) (2.0.44)\n",
            "Requirement already satisfied: requests<3,>=2 in /usr/local/lib/python3.12/dist-packages (from langchain) (2.32.4)\n",
            "Requirement already satisfied: PyYAML>=5.3 in /usr/local/lib/python3.12/dist-packages (from langchain) (6.0.3)\n",
            "INFO: pip is looking at multiple versions of langchain-openai to determine which version is compatible with other requirements. This could take a while.\n",
            "Collecting langchain-openai\n",
            "  Downloading langchain_openai-0.3.35-py3-none-any.whl.metadata (2.4 kB)\n",
            "INFO: pip is looking at multiple versions of langchain-community to determine which version is compatible with other requirements. This could take a while.\n",
            "Collecting langchain-community\n",
            "  Downloading langchain_community-0.3.31-py3-none-any.whl.metadata (3.0 kB)\n",
            "Collecting requests<3,>=2 (from langchain)\n",
            "  Downloading requests-2.32.5-py3-none-any.whl.metadata (4.9 kB)\n",
            "Requirement already satisfied: aiohttp<4.0.0,>=3.8.3 in /usr/local/lib/python3.12/dist-packages (from langchain-community) (3.13.0)\n",
            "Requirement already satisfied: tenacity!=8.4.0,<10.0.0,>=8.1.0 in /usr/local/lib/python3.12/dist-packages (from langchain-community) (8.5.0)\n",
            "Collecting dataclasses-json<0.7.0,>=0.6.7 (from langchain-community)\n",
            "  Downloading dataclasses_json-0.6.7-py3-none-any.whl.metadata (25 kB)\n",
            "Requirement already satisfied: pydantic-settings<3.0.0,>=2.10.1 in /usr/local/lib/python3.12/dist-packages (from langchain-community) (2.11.0)\n",
            "Requirement already satisfied: httpx-sse<1.0.0,>=0.4.0 in /usr/local/lib/python3.12/dist-packages (from langchain-community) (0.4.3)\n",
            "Requirement already satisfied: numpy>=1.26.2 in /usr/local/lib/python3.12/dist-packages (from langchain-community) (2.0.2)\n",
            "Collecting chromadb<2.0.0,>=1.0.20 (from langchain-chroma)\n",
            "  Downloading chromadb-1.2.1-cp39-abi3-manylinux_2_17_x86_64.manylinux2014_x86_64.whl.metadata (7.2 kB)\n",
            "INFO: pip is looking at multiple versions of langchain-chroma to determine which version is compatible with other requirements. This could take a while.\n",
            "Collecting langchain-chroma\n",
            "  Downloading langchain_chroma-0.2.6-py3-none-any.whl.metadata (1.1 kB)\n",
            "Requirement already satisfied: regex>=2022.1.18 in /usr/local/lib/python3.12/dist-packages (from tiktoken) (2024.11.6)\n",
            "Collecting kiwipiepy_model<0.22,>=0.21 (from kiwipiepy)\n",
            "  Downloading kiwipiepy_model-0.21.0.tar.gz (35.5 MB)\n",
            "\u001b[2K     \u001b[90m━━━━━━━━━━━━━━━━━━━━━━━━━━━━━━━━━━━━━━━━\u001b[0m \u001b[32m35.5/35.5 MB\u001b[0m \u001b[31m35.1 MB/s\u001b[0m eta \u001b[36m0:00:00\u001b[0m\n",
            "\u001b[?25h  Preparing metadata (setup.py) ... \u001b[?25l\u001b[?25hdone\n",
            "Requirement already satisfied: aiohappyeyeballs>=2.5.0 in /usr/local/lib/python3.12/dist-packages (from aiohttp<4.0.0,>=3.8.3->langchain-community) (2.6.1)\n",
            "Requirement already satisfied: aiosignal>=1.4.0 in /usr/local/lib/python3.12/dist-packages (from aiohttp<4.0.0,>=3.8.3->langchain-community) (1.4.0)\n",
            "Requirement already satisfied: frozenlist>=1.1.1 in /usr/local/lib/python3.12/dist-packages (from aiohttp<4.0.0,>=3.8.3->langchain-community) (1.8.0)\n",
            "Requirement already satisfied: multidict<7.0,>=4.5 in /usr/local/lib/python3.12/dist-packages (from aiohttp<4.0.0,>=3.8.3->langchain-community) (6.7.0)\n",
            "Requirement already satisfied: propcache>=0.2.0 in /usr/local/lib/python3.12/dist-packages (from aiohttp<4.0.0,>=3.8.3->langchain-community) (0.4.1)\n",
            "Requirement already satisfied: yarl<2.0,>=1.17.0 in /usr/local/lib/python3.12/dist-packages (from aiohttp<4.0.0,>=3.8.3->langchain-community) (1.22.0)\n",
            "Requirement already satisfied: idna>=2.8 in /usr/local/lib/python3.12/dist-packages (from anyio<5,>=3.5.0->openai) (3.11)\n",
            "Requirement already satisfied: build>=1.0.3 in /usr/local/lib/python3.12/dist-packages (from chromadb<2.0.0,>=1.0.20->langchain-chroma) (1.3.0)\n",
            "Collecting pybase64>=1.4.1 (from chromadb<2.0.0,>=1.0.20->langchain-chroma)\n",
            "  Downloading pybase64-1.4.2-cp312-cp312-manylinux1_x86_64.manylinux2014_x86_64.manylinux_2_17_x86_64.manylinux_2_5_x86_64.whl.metadata (8.7 kB)\n",
            "Requirement already satisfied: uvicorn>=0.18.3 in /usr/local/lib/python3.12/dist-packages (from uvicorn[standard]>=0.18.3->chromadb<2.0.0,>=1.0.20->langchain-chroma) (0.37.0)\n",
            "Collecting posthog<6.0.0,>=2.4.0 (from chromadb<2.0.0,>=1.0.20->langchain-chroma)\n",
            "  Downloading posthog-5.4.0-py3-none-any.whl.metadata (5.7 kB)\n",
            "Collecting onnxruntime>=1.14.1 (from chromadb<2.0.0,>=1.0.20->langchain-chroma)\n",
            "  Downloading onnxruntime-1.23.1-cp312-cp312-manylinux_2_27_x86_64.manylinux_2_28_x86_64.whl.metadata (5.0 kB)\n",
            "Requirement already satisfied: opentelemetry-api>=1.2.0 in /usr/local/lib/python3.12/dist-packages (from chromadb<2.0.0,>=1.0.20->langchain-chroma) (1.37.0)\n",
            "Collecting opentelemetry-exporter-otlp-proto-grpc>=1.2.0 (from chromadb<2.0.0,>=1.0.20->langchain-chroma)\n",
            "  Downloading opentelemetry_exporter_otlp_proto_grpc-1.38.0-py3-none-any.whl.metadata (2.4 kB)\n",
            "Requirement already satisfied: opentelemetry-sdk>=1.2.0 in /usr/local/lib/python3.12/dist-packages (from chromadb<2.0.0,>=1.0.20->langchain-chroma) (1.37.0)\n",
            "Requirement already satisfied: tokenizers>=0.13.2 in /usr/local/lib/python3.12/dist-packages (from chromadb<2.0.0,>=1.0.20->langchain-chroma) (0.22.1)\n",
            "Collecting pypika>=0.48.9 (from chromadb<2.0.0,>=1.0.20->langchain-chroma)\n",
            "  Downloading PyPika-0.48.9.tar.gz (67 kB)\n",
            "\u001b[2K     \u001b[90m━━━━━━━━━━━━━━━━━━━━━━━━━━━━━━━━━━━━━━━━\u001b[0m \u001b[32m67.3/67.3 kB\u001b[0m \u001b[31m7.3 MB/s\u001b[0m eta \u001b[36m0:00:00\u001b[0m\n",
            "\u001b[?25h  Installing build dependencies ... \u001b[?25l\u001b[?25hdone\n",
            "  Getting requirements to build wheel ... \u001b[?25l\u001b[?25hdone\n",
            "  Preparing metadata (pyproject.toml) ... \u001b[?25l\u001b[?25hdone\n",
            "Requirement already satisfied: overrides>=7.3.1 in /usr/local/lib/python3.12/dist-packages (from chromadb<2.0.0,>=1.0.20->langchain-chroma) (7.7.0)\n",
            "Requirement already satisfied: importlib-resources in /usr/local/lib/python3.12/dist-packages (from chromadb<2.0.0,>=1.0.20->langchain-chroma) (6.5.2)\n",
            "Requirement already satisfied: grpcio>=1.58.0 in /usr/local/lib/python3.12/dist-packages (from chromadb<2.0.0,>=1.0.20->langchain-chroma) (1.75.1)\n",
            "Collecting bcrypt>=4.0.1 (from chromadb<2.0.0,>=1.0.20->langchain-chroma)\n",
            "  Downloading bcrypt-5.0.0-cp39-abi3-manylinux_2_34_x86_64.whl.metadata (10 kB)\n",
            "Requirement already satisfied: typer>=0.9.0 in /usr/local/lib/python3.12/dist-packages (from chromadb<2.0.0,>=1.0.20->langchain-chroma) (0.19.2)\n",
            "Collecting kubernetes>=28.1.0 (from chromadb<2.0.0,>=1.0.20->langchain-chroma)\n",
            "  Downloading kubernetes-34.1.0-py2.py3-none-any.whl.metadata (1.7 kB)\n",
            "Collecting mmh3>=4.0.1 (from chromadb<2.0.0,>=1.0.20->langchain-chroma)\n",
            "  Downloading mmh3-5.2.0-cp312-cp312-manylinux1_x86_64.manylinux_2_28_x86_64.manylinux_2_5_x86_64.whl.metadata (14 kB)\n",
            "Requirement already satisfied: orjson>=3.9.12 in /usr/local/lib/python3.12/dist-packages (from chromadb<2.0.0,>=1.0.20->langchain-chroma) (3.11.3)\n",
            "Requirement already satisfied: rich>=10.11.0 in /usr/local/lib/python3.12/dist-packages (from chromadb<2.0.0,>=1.0.20->langchain-chroma) (13.9.4)\n",
            "Requirement already satisfied: jsonschema>=4.19.0 in /usr/local/lib/python3.12/dist-packages (from chromadb<2.0.0,>=1.0.20->langchain-chroma) (4.25.1)\n",
            "Collecting marshmallow<4.0.0,>=3.18.0 (from dataclasses-json<0.7.0,>=0.6.7->langchain-community)\n",
            "  Downloading marshmallow-3.26.1-py3-none-any.whl.metadata (7.3 kB)\n",
            "Collecting typing-inspect<1,>=0.4.0 (from dataclasses-json<0.7.0,>=0.6.7->langchain-community)\n",
            "  Downloading typing_inspect-0.9.0-py3-none-any.whl.metadata (1.5 kB)\n",
            "Requirement already satisfied: certifi in /usr/local/lib/python3.12/dist-packages (from httpx<1,>=0.23.0->openai) (2025.10.5)\n",
            "Requirement already satisfied: httpcore==1.* in /usr/local/lib/python3.12/dist-packages (from httpx<1,>=0.23.0->openai) (1.0.9)\n",
            "Requirement already satisfied: h11>=0.16 in /usr/local/lib/python3.12/dist-packages (from httpcore==1.*->httpx<1,>=0.23.0->openai) (0.16.0)\n",
            "Requirement already satisfied: jsonpatch<2.0.0,>=1.33.0 in /usr/local/lib/python3.12/dist-packages (from langchain-core<1.0.0,>=0.3.72->langchain) (1.33)\n",
            "Requirement already satisfied: packaging<26.0.0,>=23.2.0 in /usr/local/lib/python3.12/dist-packages (from langchain-core<1.0.0,>=0.3.72->langchain) (25.0)\n",
            "Requirement already satisfied: requests-toolbelt>=1.0.0 in /usr/local/lib/python3.12/dist-packages (from langsmith>=0.1.17->langchain) (1.0.0)\n",
            "Requirement already satisfied: zstandard>=0.23.0 in /usr/local/lib/python3.12/dist-packages (from langsmith>=0.1.17->langchain) (0.25.0)\n",
            "Requirement already satisfied: annotated-types>=0.6.0 in /usr/local/lib/python3.12/dist-packages (from pydantic<3,>=1.9.0->openai) (0.7.0)\n",
            "Requirement already satisfied: pydantic-core==2.33.2 in /usr/local/lib/python3.12/dist-packages (from pydantic<3,>=1.9.0->openai) (2.33.2)\n",
            "Requirement already satisfied: typing-inspection>=0.4.0 in /usr/local/lib/python3.12/dist-packages (from pydantic<3,>=1.9.0->openai) (0.4.2)\n",
            "Requirement already satisfied: python-dotenv>=0.21.0 in /usr/local/lib/python3.12/dist-packages (from pydantic-settings<3.0.0,>=2.10.1->langchain-community) (1.1.1)\n",
            "Requirement already satisfied: charset_normalizer<4,>=2 in /usr/local/lib/python3.12/dist-packages (from requests<3,>=2->langchain) (3.4.4)\n",
            "Requirement already satisfied: urllib3<3,>=1.21.1 in /usr/local/lib/python3.12/dist-packages (from requests<3,>=2->langchain) (2.5.0)\n",
            "Requirement already satisfied: greenlet>=1 in /usr/local/lib/python3.12/dist-packages (from SQLAlchemy<3,>=1.4->langchain) (3.2.4)\n",
            "Requirement already satisfied: pyproject_hooks in /usr/local/lib/python3.12/dist-packages (from build>=1.0.3->chromadb<2.0.0,>=1.0.20->langchain-chroma) (1.2.0)\n",
            "Requirement already satisfied: jsonpointer>=1.9 in /usr/local/lib/python3.12/dist-packages (from jsonpatch<2.0.0,>=1.33.0->langchain-core<1.0.0,>=0.3.72->langchain) (3.0.0)\n",
            "Requirement already satisfied: jsonschema-specifications>=2023.03.6 in /usr/local/lib/python3.12/dist-packages (from jsonschema>=4.19.0->chromadb<2.0.0,>=1.0.20->langchain-chroma) (2025.9.1)\n",
            "Requirement already satisfied: referencing>=0.28.4 in /usr/local/lib/python3.12/dist-packages (from jsonschema>=4.19.0->chromadb<2.0.0,>=1.0.20->langchain-chroma) (0.37.0)\n",
            "Requirement already satisfied: rpds-py>=0.7.1 in /usr/local/lib/python3.12/dist-packages (from jsonschema>=4.19.0->chromadb<2.0.0,>=1.0.20->langchain-chroma) (0.27.1)\n",
            "Requirement already satisfied: six>=1.9.0 in /usr/local/lib/python3.12/dist-packages (from kubernetes>=28.1.0->chromadb<2.0.0,>=1.0.20->langchain-chroma) (1.17.0)\n",
            "Requirement already satisfied: python-dateutil>=2.5.3 in /usr/local/lib/python3.12/dist-packages (from kubernetes>=28.1.0->chromadb<2.0.0,>=1.0.20->langchain-chroma) (2.9.0.post0)\n",
            "Requirement already satisfied: google-auth>=1.0.1 in /usr/local/lib/python3.12/dist-packages (from kubernetes>=28.1.0->chromadb<2.0.0,>=1.0.20->langchain-chroma) (2.38.0)\n",
            "Requirement already satisfied: websocket-client!=0.40.0,!=0.41.*,!=0.42.*,>=0.32.0 in /usr/local/lib/python3.12/dist-packages (from kubernetes>=28.1.0->chromadb<2.0.0,>=1.0.20->langchain-chroma) (1.9.0)\n",
            "Requirement already satisfied: requests-oauthlib in /usr/local/lib/python3.12/dist-packages (from kubernetes>=28.1.0->chromadb<2.0.0,>=1.0.20->langchain-chroma) (2.0.0)\n",
            "Collecting urllib3<3,>=1.21.1 (from requests<3,>=2->langchain)\n",
            "  Downloading urllib3-2.3.0-py3-none-any.whl.metadata (6.5 kB)\n",
            "Collecting durationpy>=0.7 (from kubernetes>=28.1.0->chromadb<2.0.0,>=1.0.20->langchain-chroma)\n",
            "  Downloading durationpy-0.10-py3-none-any.whl.metadata (340 bytes)\n",
            "Collecting coloredlogs (from onnxruntime>=1.14.1->chromadb<2.0.0,>=1.0.20->langchain-chroma)\n",
            "  Downloading coloredlogs-15.0.1-py2.py3-none-any.whl.metadata (12 kB)\n",
            "Requirement already satisfied: flatbuffers in /usr/local/lib/python3.12/dist-packages (from onnxruntime>=1.14.1->chromadb<2.0.0,>=1.0.20->langchain-chroma) (25.9.23)\n",
            "Requirement already satisfied: protobuf in /usr/local/lib/python3.12/dist-packages (from onnxruntime>=1.14.1->chromadb<2.0.0,>=1.0.20->langchain-chroma) (5.29.5)\n",
            "Requirement already satisfied: sympy in /usr/local/lib/python3.12/dist-packages (from onnxruntime>=1.14.1->chromadb<2.0.0,>=1.0.20->langchain-chroma) (1.13.3)\n",
            "Requirement already satisfied: importlib-metadata<8.8.0,>=6.0 in /usr/local/lib/python3.12/dist-packages (from opentelemetry-api>=1.2.0->chromadb<2.0.0,>=1.0.20->langchain-chroma) (8.7.0)\n",
            "Requirement already satisfied: googleapis-common-protos~=1.57 in /usr/local/lib/python3.12/dist-packages (from opentelemetry-exporter-otlp-proto-grpc>=1.2.0->chromadb<2.0.0,>=1.0.20->langchain-chroma) (1.70.0)\n",
            "Collecting opentelemetry-exporter-otlp-proto-common==1.38.0 (from opentelemetry-exporter-otlp-proto-grpc>=1.2.0->chromadb<2.0.0,>=1.0.20->langchain-chroma)\n",
            "  Downloading opentelemetry_exporter_otlp_proto_common-1.38.0-py3-none-any.whl.metadata (1.8 kB)\n",
            "Collecting opentelemetry-proto==1.38.0 (from opentelemetry-exporter-otlp-proto-grpc>=1.2.0->chromadb<2.0.0,>=1.0.20->langchain-chroma)\n",
            "  Downloading opentelemetry_proto-1.38.0-py3-none-any.whl.metadata (2.3 kB)\n",
            "Collecting opentelemetry-sdk>=1.2.0 (from chromadb<2.0.0,>=1.0.20->langchain-chroma)\n",
            "  Downloading opentelemetry_sdk-1.38.0-py3-none-any.whl.metadata (1.5 kB)\n",
            "Collecting opentelemetry-api>=1.2.0 (from chromadb<2.0.0,>=1.0.20->langchain-chroma)\n",
            "  Downloading opentelemetry_api-1.38.0-py3-none-any.whl.metadata (1.5 kB)\n",
            "Collecting opentelemetry-semantic-conventions==0.59b0 (from opentelemetry-sdk>=1.2.0->chromadb<2.0.0,>=1.0.20->langchain-chroma)\n",
            "  Downloading opentelemetry_semantic_conventions-0.59b0-py3-none-any.whl.metadata (2.4 kB)\n",
            "Collecting backoff>=1.10.0 (from posthog<6.0.0,>=2.4.0->chromadb<2.0.0,>=1.0.20->langchain-chroma)\n",
            "  Downloading backoff-2.2.1-py3-none-any.whl.metadata (14 kB)\n",
            "Requirement already satisfied: markdown-it-py>=2.2.0 in /usr/local/lib/python3.12/dist-packages (from rich>=10.11.0->chromadb<2.0.0,>=1.0.20->langchain-chroma) (4.0.0)\n",
            "Requirement already satisfied: pygments<3.0.0,>=2.13.0 in /usr/local/lib/python3.12/dist-packages (from rich>=10.11.0->chromadb<2.0.0,>=1.0.20->langchain-chroma) (2.19.2)\n",
            "Requirement already satisfied: huggingface-hub<2.0,>=0.16.4 in /usr/local/lib/python3.12/dist-packages (from tokenizers>=0.13.2->chromadb<2.0.0,>=1.0.20->langchain-chroma) (0.35.3)\n",
            "Requirement already satisfied: click>=8.0.0 in /usr/local/lib/python3.12/dist-packages (from typer>=0.9.0->chromadb<2.0.0,>=1.0.20->langchain-chroma) (8.3.0)\n",
            "Requirement already satisfied: shellingham>=1.3.0 in /usr/local/lib/python3.12/dist-packages (from typer>=0.9.0->chromadb<2.0.0,>=1.0.20->langchain-chroma) (1.5.4)\n",
            "Collecting mypy-extensions>=0.3.0 (from typing-inspect<1,>=0.4.0->dataclasses-json<0.7.0,>=0.6.7->langchain-community)\n",
            "  Downloading mypy_extensions-1.1.0-py3-none-any.whl.metadata (1.1 kB)\n",
            "Collecting httptools>=0.6.3 (from uvicorn[standard]>=0.18.3->chromadb<2.0.0,>=1.0.20->langchain-chroma)\n",
            "  Downloading httptools-0.7.1-cp312-cp312-manylinux1_x86_64.manylinux_2_28_x86_64.manylinux_2_5_x86_64.whl.metadata (3.5 kB)\n",
            "Collecting uvloop>=0.15.1 (from uvicorn[standard]>=0.18.3->chromadb<2.0.0,>=1.0.20->langchain-chroma)\n",
            "  Downloading uvloop-0.22.1-cp312-cp312-manylinux2014_x86_64.manylinux_2_17_x86_64.manylinux_2_28_x86_64.whl.metadata (4.9 kB)\n",
            "Collecting watchfiles>=0.13 (from uvicorn[standard]>=0.18.3->chromadb<2.0.0,>=1.0.20->langchain-chroma)\n",
            "  Downloading watchfiles-1.1.1-cp312-cp312-manylinux_2_17_x86_64.manylinux2014_x86_64.whl.metadata (4.9 kB)\n",
            "Requirement already satisfied: websockets>=10.4 in /usr/local/lib/python3.12/dist-packages (from uvicorn[standard]>=0.18.3->chromadb<2.0.0,>=1.0.20->langchain-chroma) (15.0.1)\n",
            "Requirement already satisfied: cachetools<6.0,>=2.0.0 in /usr/local/lib/python3.12/dist-packages (from google-auth>=1.0.1->kubernetes>=28.1.0->chromadb<2.0.0,>=1.0.20->langchain-chroma) (5.5.2)\n",
            "Requirement already satisfied: pyasn1-modules>=0.2.1 in /usr/local/lib/python3.12/dist-packages (from google-auth>=1.0.1->kubernetes>=28.1.0->chromadb<2.0.0,>=1.0.20->langchain-chroma) (0.4.2)\n",
            "Requirement already satisfied: rsa<5,>=3.1.4 in /usr/local/lib/python3.12/dist-packages (from google-auth>=1.0.1->kubernetes>=28.1.0->chromadb<2.0.0,>=1.0.20->langchain-chroma) (4.9.1)\n",
            "Requirement already satisfied: filelock in /usr/local/lib/python3.12/dist-packages (from huggingface-hub<2.0,>=0.16.4->tokenizers>=0.13.2->chromadb<2.0.0,>=1.0.20->langchain-chroma) (3.20.0)\n",
            "Requirement already satisfied: fsspec>=2023.5.0 in /usr/local/lib/python3.12/dist-packages (from huggingface-hub<2.0,>=0.16.4->tokenizers>=0.13.2->chromadb<2.0.0,>=1.0.20->langchain-chroma) (2025.3.0)\n",
            "Requirement already satisfied: hf-xet<2.0.0,>=1.1.3 in /usr/local/lib/python3.12/dist-packages (from huggingface-hub<2.0,>=0.16.4->tokenizers>=0.13.2->chromadb<2.0.0,>=1.0.20->langchain-chroma) (1.1.10)\n",
            "Requirement already satisfied: zipp>=3.20 in /usr/local/lib/python3.12/dist-packages (from importlib-metadata<8.8.0,>=6.0->opentelemetry-api>=1.2.0->chromadb<2.0.0,>=1.0.20->langchain-chroma) (3.23.0)\n",
            "Requirement already satisfied: mdurl~=0.1 in /usr/local/lib/python3.12/dist-packages (from markdown-it-py>=2.2.0->rich>=10.11.0->chromadb<2.0.0,>=1.0.20->langchain-chroma) (0.1.2)\n",
            "Collecting humanfriendly>=9.1 (from coloredlogs->onnxruntime>=1.14.1->chromadb<2.0.0,>=1.0.20->langchain-chroma)\n",
            "  Downloading humanfriendly-10.0-py2.py3-none-any.whl.metadata (9.2 kB)\n",
            "Requirement already satisfied: oauthlib>=3.0.0 in /usr/local/lib/python3.12/dist-packages (from requests-oauthlib->kubernetes>=28.1.0->chromadb<2.0.0,>=1.0.20->langchain-chroma) (3.3.1)\n",
            "Requirement already satisfied: mpmath<1.4,>=1.1.0 in /usr/local/lib/python3.12/dist-packages (from sympy->onnxruntime>=1.14.1->chromadb<2.0.0,>=1.0.20->langchain-chroma) (1.3.0)\n",
            "Requirement already satisfied: pyasn1<0.7.0,>=0.6.1 in /usr/local/lib/python3.12/dist-packages (from pyasn1-modules>=0.2.1->google-auth>=1.0.1->kubernetes>=28.1.0->chromadb<2.0.0,>=1.0.20->langchain-chroma) (0.6.1)\n",
            "Downloading jsonlines-4.0.0-py3-none-any.whl (8.7 kB)\n",
            "Downloading langchain_openai-0.3.35-py3-none-any.whl (75 kB)\n",
            "\u001b[2K   \u001b[90m━━━━━━━━━━━━━━━━━━━━━━━━━━━━━━━━━━━━━━━━\u001b[0m \u001b[32m76.0/76.0 kB\u001b[0m \u001b[31m8.2 MB/s\u001b[0m eta \u001b[36m0:00:00\u001b[0m\n",
            "\u001b[?25hDownloading langchain_community-0.3.31-py3-none-any.whl (2.5 MB)\n",
            "\u001b[2K   \u001b[90m━━━━━━━━━━━━━━━━━━━━━━━━━━━━━━━━━━━━━━━━\u001b[0m \u001b[32m2.5/2.5 MB\u001b[0m \u001b[31m100.2 MB/s\u001b[0m eta \u001b[36m0:00:00\u001b[0m\n",
            "\u001b[?25hDownloading langchain_chroma-0.2.6-py3-none-any.whl (12 kB)\n",
            "Downloading rank_bm25-0.2.2-py3-none-any.whl (8.6 kB)\n",
            "Downloading pymupdf-1.26.5-cp39-abi3-manylinux_2_28_x86_64.whl (24.1 MB)\n",
            "\u001b[2K   \u001b[90m━━━━━━━━━━━━━━━━━━━━━━━━━━━━━━━━━━━━━━━━\u001b[0m \u001b[32m24.1/24.1 MB\u001b[0m \u001b[31m94.5 MB/s\u001b[0m eta \u001b[36m0:00:00\u001b[0m\n",
            "\u001b[?25hDownloading kiwipiepy-0.21.0-cp312-cp312-manylinux_2_17_x86_64.manylinux2014_x86_64.whl (7.6 MB)\n",
            "\u001b[2K   \u001b[90m━━━━━━━━━━━━━━━━━━━━━━━━━━━━━━━━━━━━━━━━\u001b[0m \u001b[32m7.6/7.6 MB\u001b[0m \u001b[31m125.5 MB/s\u001b[0m eta \u001b[36m0:00:00\u001b[0m\n",
            "\u001b[?25hDownloading chromadb-1.2.1-cp39-abi3-manylinux_2_17_x86_64.manylinux2014_x86_64.whl (20.7 MB)\n",
            "\u001b[2K   \u001b[90m━━━━━━━━━━━━━━━━━━━━━━━━━━━━━━━━━━━━━━━━\u001b[0m \u001b[32m20.7/20.7 MB\u001b[0m \u001b[31m117.8 MB/s\u001b[0m eta \u001b[36m0:00:00\u001b[0m\n",
            "\u001b[?25hDownloading dataclasses_json-0.6.7-py3-none-any.whl (28 kB)\n",
            "Downloading requests-2.32.5-py3-none-any.whl (64 kB)\n",
            "\u001b[2K   \u001b[90m━━━━━━━━━━━━━━━━━━━━━━━━━━━━━━━━━━━━━━━━\u001b[0m \u001b[32m64.7/64.7 kB\u001b[0m \u001b[31m7.0 MB/s\u001b[0m eta \u001b[36m0:00:00\u001b[0m\n",
            "\u001b[?25hDownloading bcrypt-5.0.0-cp39-abi3-manylinux_2_34_x86_64.whl (278 kB)\n",
            "\u001b[2K   \u001b[90m━━━━━━━━━━━━━━━━━━━━━━━━━━━━━━━━━━━━━━━━\u001b[0m \u001b[32m278.2/278.2 kB\u001b[0m \u001b[31m29.4 MB/s\u001b[0m eta \u001b[36m0:00:00\u001b[0m\n",
            "\u001b[?25hDownloading kubernetes-34.1.0-py2.py3-none-any.whl (2.0 MB)\n",
            "\u001b[2K   \u001b[90m━━━━━━━━━━━━━━━━━━━━━━━━━━━━━━━━━━━━━━━━\u001b[0m \u001b[32m2.0/2.0 MB\u001b[0m \u001b[31m100.8 MB/s\u001b[0m eta \u001b[36m0:00:00\u001b[0m\n",
            "\u001b[?25hDownloading marshmallow-3.26.1-py3-none-any.whl (50 kB)\n",
            "\u001b[2K   \u001b[90m━━━━━━━━━━━━━━━━━━━━━━━━━━━━━━━━━━━━━━━━\u001b[0m \u001b[32m50.9/50.9 kB\u001b[0m \u001b[31m5.4 MB/s\u001b[0m eta \u001b[36m0:00:00\u001b[0m\n",
            "\u001b[?25hDownloading mmh3-5.2.0-cp312-cp312-manylinux1_x86_64.manylinux_2_28_x86_64.manylinux_2_5_x86_64.whl (103 kB)\n",
            "\u001b[2K   \u001b[90m━━━━━━━━━━━━━━━━━━━━━━━━━━━━━━━━━━━━━━━━\u001b[0m \u001b[32m103.3/103.3 kB\u001b[0m \u001b[31m11.8 MB/s\u001b[0m eta \u001b[36m0:00:00\u001b[0m\n",
            "\u001b[?25hDownloading onnxruntime-1.23.1-cp312-cp312-manylinux_2_27_x86_64.manylinux_2_28_x86_64.whl (17.4 MB)\n",
            "\u001b[2K   \u001b[90m━━━━━━━━━━━━━━━━━━━━━━━━━━━━━━━━━━━━━━━━\u001b[0m \u001b[32m17.4/17.4 MB\u001b[0m \u001b[31m24.1 MB/s\u001b[0m eta \u001b[36m0:00:00\u001b[0m\n",
            "\u001b[?25hDownloading opentelemetry_exporter_otlp_proto_grpc-1.38.0-py3-none-any.whl (19 kB)\n",
            "Downloading opentelemetry_exporter_otlp_proto_common-1.38.0-py3-none-any.whl (18 kB)\n",
            "Downloading opentelemetry_proto-1.38.0-py3-none-any.whl (72 kB)\n",
            "\u001b[2K   \u001b[90m━━━━━━━━━━━━━━━━━━━━━━━━━━━━━━━━━━━━━━━━\u001b[0m \u001b[32m72.5/72.5 kB\u001b[0m \u001b[31m8.5 MB/s\u001b[0m eta \u001b[36m0:00:00\u001b[0m\n",
            "\u001b[?25hDownloading opentelemetry_sdk-1.38.0-py3-none-any.whl (132 kB)\n",
            "\u001b[2K   \u001b[90m━━━━━━━━━━━━━━━━━━━━━━━━━━━━━━━━━━━━━━━━\u001b[0m \u001b[32m132.3/132.3 kB\u001b[0m \u001b[31m14.9 MB/s\u001b[0m eta \u001b[36m0:00:00\u001b[0m\n",
            "\u001b[?25hDownloading opentelemetry_api-1.38.0-py3-none-any.whl (65 kB)\n",
            "\u001b[2K   \u001b[90m━━━━━━━━━━━━━━━━━━━━━━━━━━━━━━━━━━━━━━━━\u001b[0m \u001b[32m65.9/65.9 kB\u001b[0m \u001b[31m6.2 MB/s\u001b[0m eta \u001b[36m0:00:00\u001b[0m\n",
            "\u001b[?25hDownloading opentelemetry_semantic_conventions-0.59b0-py3-none-any.whl (207 kB)\n",
            "\u001b[2K   \u001b[90m━━━━━━━━━━━━━━━━━━━━━━━━━━━━━━━━━━━━━━━━\u001b[0m \u001b[32m208.0/208.0 kB\u001b[0m \u001b[31m14.1 MB/s\u001b[0m eta \u001b[36m0:00:00\u001b[0m\n",
            "\u001b[?25hDownloading posthog-5.4.0-py3-none-any.whl (105 kB)\n",
            "\u001b[2K   \u001b[90m━━━━━━━━━━━━━━━━━━━━━━━━━━━━━━━━━━━━━━━━\u001b[0m \u001b[32m105.4/105.4 kB\u001b[0m \u001b[31m12.4 MB/s\u001b[0m eta \u001b[36m0:00:00\u001b[0m\n",
            "\u001b[?25hDownloading pybase64-1.4.2-cp312-cp312-manylinux1_x86_64.manylinux2014_x86_64.manylinux_2_17_x86_64.manylinux_2_5_x86_64.whl (71 kB)\n",
            "\u001b[2K   \u001b[90m━━━━━━━━━━━━━━━━━━━━━━━━━━━━━━━━━━━━━━━━\u001b[0m \u001b[32m71.6/71.6 kB\u001b[0m \u001b[31m8.2 MB/s\u001b[0m eta \u001b[36m0:00:00\u001b[0m\n",
            "\u001b[?25hDownloading typing_inspect-0.9.0-py3-none-any.whl (8.8 kB)\n",
            "Downloading urllib3-2.3.0-py3-none-any.whl (128 kB)\n",
            "\u001b[2K   \u001b[90m━━━━━━━━━━━━━━━━━━━━━━━━━━━━━━━━━━━━━━━━\u001b[0m \u001b[32m128.4/128.4 kB\u001b[0m \u001b[31m11.9 MB/s\u001b[0m eta \u001b[36m0:00:00\u001b[0m\n",
            "\u001b[?25hDownloading backoff-2.2.1-py3-none-any.whl (15 kB)\n",
            "Downloading durationpy-0.10-py3-none-any.whl (3.9 kB)\n",
            "Downloading httptools-0.7.1-cp312-cp312-manylinux1_x86_64.manylinux_2_28_x86_64.manylinux_2_5_x86_64.whl (517 kB)\n",
            "\u001b[2K   \u001b[90m━━━━━━━━━━━━━━━━━━━━━━━━━━━━━━━━━━━━━━━━\u001b[0m \u001b[32m517.7/517.7 kB\u001b[0m \u001b[31m46.1 MB/s\u001b[0m eta \u001b[36m0:00:00\u001b[0m\n",
            "\u001b[?25hDownloading mypy_extensions-1.1.0-py3-none-any.whl (5.0 kB)\n",
            "Downloading uvloop-0.22.1-cp312-cp312-manylinux2014_x86_64.manylinux_2_17_x86_64.manylinux_2_28_x86_64.whl (4.4 MB)\n",
            "\u001b[2K   \u001b[90m━━━━━━━━━━━━━━━━━━━━━━━━━━━━━━━━━━━━━━━━\u001b[0m \u001b[32m4.4/4.4 MB\u001b[0m \u001b[31m87.1 MB/s\u001b[0m eta \u001b[36m0:00:00\u001b[0m\n",
            "\u001b[?25hDownloading watchfiles-1.1.1-cp312-cp312-manylinux_2_17_x86_64.manylinux2014_x86_64.whl (456 kB)\n",
            "\u001b[2K   \u001b[90m━━━━━━━━━━━━━━━━━━━━━━━━━━━━━━━━━━━━━━━━\u001b[0m \u001b[32m456.8/456.8 kB\u001b[0m \u001b[31m42.1 MB/s\u001b[0m eta \u001b[36m0:00:00\u001b[0m\n",
            "\u001b[?25hDownloading coloredlogs-15.0.1-py2.py3-none-any.whl (46 kB)\n",
            "\u001b[2K   \u001b[90m━━━━━━━━━━━━━━━━━━━━━━━━━━━━━━━━━━━━━━━━\u001b[0m \u001b[32m46.0/46.0 kB\u001b[0m \u001b[31m5.6 MB/s\u001b[0m eta \u001b[36m0:00:00\u001b[0m\n",
            "\u001b[?25hDownloading humanfriendly-10.0-py2.py3-none-any.whl (86 kB)\n",
            "\u001b[2K   \u001b[90m━━━━━━━━━━━━━━━━━━━━━━━━━━━━━━━━━━━━━━━━\u001b[0m \u001b[32m86.8/86.8 kB\u001b[0m \u001b[31m10.0 MB/s\u001b[0m eta \u001b[36m0:00:00\u001b[0m\n",
            "\u001b[?25hBuilding wheels for collected packages: kiwipiepy_model, pypika\n",
            "  Building wheel for kiwipiepy_model (setup.py) ... \u001b[?25l\u001b[?25hdone\n",
            "  Created wheel for kiwipiepy_model: filename=kiwipiepy_model-0.21.0-py3-none-any.whl size=35593192 sha256=bb5500593ec36b0395fa2cc9217a8ac0316f679d6fc1b92bb1365a0bcd65a3d7\n",
            "  Stored in directory: /root/.cache/pip/wheels/5f/94/81/3e8b1478625f1bdb3b72733dfe3086a8f77a8f25db2b1d746b\n",
            "  Building wheel for pypika (pyproject.toml) ... \u001b[?25l\u001b[?25hdone\n",
            "  Created wheel for pypika: filename=pypika-0.48.9-py2.py3-none-any.whl size=53803 sha256=cf453daccebced476bcf5e4e2eff2e13cd18a54d155ad5116c2b256f05aaa21a\n",
            "  Stored in directory: /root/.cache/pip/wheels/d5/3d/69/8d68d249cd3de2584f226e27fd431d6344f7d70fd856ebd01b\n",
            "Successfully built kiwipiepy_model pypika\n",
            "Installing collected packages: pypika, kiwipiepy_model, durationpy, uvloop, urllib3, rank_bm25, pymupdf, pybase64, opentelemetry-proto, mypy-extensions, mmh3, marshmallow, kiwipiepy, jsonlines, humanfriendly, httptools, bcrypt, backoff, watchfiles, typing-inspect, requests, opentelemetry-exporter-otlp-proto-common, opentelemetry-api, coloredlogs, posthog, opentelemetry-semantic-conventions, onnxruntime, dataclasses-json, opentelemetry-sdk, kubernetes, opentelemetry-exporter-otlp-proto-grpc, langchain-openai, chromadb, langchain-chroma, langchain-community\n",
            "  Attempting uninstall: urllib3\n",
            "    Found existing installation: urllib3 2.5.0\n",
            "    Uninstalling urllib3-2.5.0:\n",
            "      Successfully uninstalled urllib3-2.5.0\n",
            "  Attempting uninstall: opentelemetry-proto\n",
            "    Found existing installation: opentelemetry-proto 1.37.0\n",
            "    Uninstalling opentelemetry-proto-1.37.0:\n",
            "      Successfully uninstalled opentelemetry-proto-1.37.0\n",
            "  Attempting uninstall: requests\n",
            "    Found existing installation: requests 2.32.4\n",
            "    Uninstalling requests-2.32.4:\n",
            "      Successfully uninstalled requests-2.32.4\n",
            "  Attempting uninstall: opentelemetry-exporter-otlp-proto-common\n",
            "    Found existing installation: opentelemetry-exporter-otlp-proto-common 1.37.0\n",
            "    Uninstalling opentelemetry-exporter-otlp-proto-common-1.37.0:\n",
            "      Successfully uninstalled opentelemetry-exporter-otlp-proto-common-1.37.0\n",
            "  Attempting uninstall: opentelemetry-api\n",
            "    Found existing installation: opentelemetry-api 1.37.0\n",
            "    Uninstalling opentelemetry-api-1.37.0:\n",
            "      Successfully uninstalled opentelemetry-api-1.37.0\n",
            "  Attempting uninstall: opentelemetry-semantic-conventions\n",
            "    Found existing installation: opentelemetry-semantic-conventions 0.58b0\n",
            "    Uninstalling opentelemetry-semantic-conventions-0.58b0:\n",
            "      Successfully uninstalled opentelemetry-semantic-conventions-0.58b0\n",
            "  Attempting uninstall: opentelemetry-sdk\n",
            "    Found existing installation: opentelemetry-sdk 1.37.0\n",
            "    Uninstalling opentelemetry-sdk-1.37.0:\n",
            "      Successfully uninstalled opentelemetry-sdk-1.37.0\n",
            "\u001b[31mERROR: pip's dependency resolver does not currently take into account all the packages that are installed. This behaviour is the source of the following dependency conflicts.\n",
            "google-colab 1.0.0 requires requests==2.32.4, but you have requests 2.32.5 which is incompatible.\n",
            "google-adk 1.16.0 requires opentelemetry-api<=1.37.0,>=1.37.0, but you have opentelemetry-api 1.38.0 which is incompatible.\n",
            "google-adk 1.16.0 requires opentelemetry-sdk<=1.37.0,>=1.37.0, but you have opentelemetry-sdk 1.38.0 which is incompatible.\n",
            "opentelemetry-exporter-otlp-proto-http 1.37.0 requires opentelemetry-exporter-otlp-proto-common==1.37.0, but you have opentelemetry-exporter-otlp-proto-common 1.38.0 which is incompatible.\n",
            "opentelemetry-exporter-otlp-proto-http 1.37.0 requires opentelemetry-proto==1.37.0, but you have opentelemetry-proto 1.38.0 which is incompatible.\n",
            "opentelemetry-exporter-otlp-proto-http 1.37.0 requires opentelemetry-sdk~=1.37.0, but you have opentelemetry-sdk 1.38.0 which is incompatible.\u001b[0m\u001b[31m\n",
            "\u001b[0mSuccessfully installed backoff-2.2.1 bcrypt-5.0.0 chromadb-1.2.1 coloredlogs-15.0.1 dataclasses-json-0.6.7 durationpy-0.10 httptools-0.7.1 humanfriendly-10.0 jsonlines-4.0.0 kiwipiepy-0.21.0 kiwipiepy_model-0.21.0 kubernetes-34.1.0 langchain-chroma-0.2.6 langchain-community-0.3.31 langchain-openai-0.3.35 marshmallow-3.26.1 mmh3-5.2.0 mypy-extensions-1.1.0 onnxruntime-1.23.1 opentelemetry-api-1.38.0 opentelemetry-exporter-otlp-proto-common-1.38.0 opentelemetry-exporter-otlp-proto-grpc-1.38.0 opentelemetry-proto-1.38.0 opentelemetry-sdk-1.38.0 opentelemetry-semantic-conventions-0.59b0 posthog-5.4.0 pybase64-1.4.2 pymupdf-1.26.5 pypika-0.48.9 rank_bm25-0.2.2 requests-2.32.5 typing-inspect-0.9.0 urllib3-2.3.0 uvloop-0.22.1 watchfiles-1.1.1\n"
          ]
        }
      ],
      "source": [
        "!pip install jsonlines openai langchain langchain-openai langchain-community langchain-chroma tiktoken rank_bm25 pymupdf kiwipiepy"
      ]
    },
    {
      "cell_type": "markdown",
      "metadata": {
        "id": "DzxspxgJhlqO"
      },
      "source": [
        "### LLM과 임베딩 모델 불러오기"
      ]
    },
    {
      "cell_type": "code",
      "execution_count": null,
      "metadata": {
        "id": "C5uYZQknXLDM",
        "colab": {
          "base_uri": "https://localhost:8080/"
        },
        "outputId": "3ac45faf-bc38-43d1-f8d6-e764dc528760"
      },
      "outputs": [
        {
          "output_type": "stream",
          "name": "stdout",
          "text": [
            "OpenAI API 키 확인\n"
          ]
        }
      ],
      "source": [
        "import os\n",
        "from dotenv import load_dotenv\n",
        "from langchain_openai import ChatOpenAI\n",
        "from langchain_openai import OpenAIEmbeddings\n",
        "\n",
        "load_dotenv('env', override=True)\n",
        "if os.environ.get('OPENAI_API_KEY'):\n",
        "    print('OpenAI API 키 확인')\n",
        "\n",
        "llm = ChatOpenAI(model=\"gpt-4.1-mini\", temperature = 0.7)\n",
        "sllm = ChatOpenAI(model='gpt-4.1-nano', temperature = 0.7)\n",
        "reasoning_llm = ChatOpenAI(model='gpt-5-mini')\n",
        "\n",
        "embeddings = OpenAIEmbeddings(model = 'text-embedding-3-large')"
      ]
    },
    {
      "cell_type": "markdown",
      "metadata": {
        "id": "QVZAwR7l7qX2"
      },
      "source": [
        "pdfs.zip 파일을 압축 해제합니다."
      ]
    },
    {
      "cell_type": "code",
      "execution_count": null,
      "metadata": {
        "id": "NI3t4y536SP7"
      },
      "outputs": [],
      "source": [
        "import zipfile\n",
        "\n",
        "with zipfile.ZipFile('pdfs.zip', 'r') as zip_ref:\n",
        "    zip_ref.extractall('.')"
      ]
    },
    {
      "cell_type": "markdown",
      "metadata": {
        "id": "-p6HLjhjB-Cb"
      },
      "source": [
        "## 데이터 불러오기"
      ]
    },
    {
      "cell_type": "markdown",
      "metadata": {
        "id": "H9hsE11FB-Cb"
      },
      "source": [
        "폴더에 포함된 문서들을 pdf 로더로 불러옵니다.   \n",
        "glob 라이브러리를 사용합니다."
      ]
    },
    {
      "cell_type": "code",
      "execution_count": null,
      "metadata": {
        "id": "HthIQomXB-Cc",
        "colab": {
          "base_uri": "https://localhost:8080/"
        },
        "outputId": "dac2ad65-a963-44f4-c8d2-8bd9c047820e"
      },
      "outputs": [
        {
          "output_type": "execute_result",
          "data": {
            "text/plain": [
              "['./분기보고서(2024.11.14).pdf',\n",
              " './사업보고서(2025.03.11).pdf',\n",
              " './반기보고서(2024.08.14).pdf']"
            ]
          },
          "metadata": {},
          "execution_count": 4
        }
      ],
      "source": [
        "from langchain.schema import Document\n",
        "from glob import glob\n",
        "\n",
        "# 모든 PDF 파일을 glob으로 찾음\n",
        "pdf_files = glob(\"./*.pdf\")\n",
        "pdf_files"
      ]
    },
    {
      "cell_type": "code",
      "execution_count": null,
      "metadata": {
        "id": "KiPe4x47Bcng",
        "colab": {
          "base_uri": "https://localhost:8080/",
          "height": 217
        },
        "outputId": "942d55e9-35cb-4d11-c54b-9a6d615a6147"
      },
      "outputs": [
        {
          "output_type": "stream",
          "name": "stdout",
          "text": [
            "3\n"
          ]
        },
        {
          "output_type": "execute_result",
          "data": {
            "text/plain": [
              "'목 차 분 기 보 고 서.1 【 대표이사 등의 확인 】.2 I. 회사의 개요.3 1. 회사의 개요.3 2. 회사의 연혁.3 3. 자본금 변동사항.3 4. 주식의 총수 등.3 5. 정관에 관한 사항.3 II. 사업의 내용.4 1. 사업의 개요.4 2. 주요 제품 및 서비스.5 3. 원재료 및 생산설비.9 4. 매출 및 수주상황.11 5. 위험관리 및 파생거래.13 6. 주요계약 및 연구개발활동.15 7. 기타 참고사항.17 III. 재무에 관한 사항.26 1. 요약재무정보.26 2. 연결재무제표.29 2-1. 연결 재무상태표.29 2-2. 연결 손익계산서.30 2-3. 연결 포괄손익계산서.31 2-4. 연결 자본변동표.31 2-5. 연결 현금흐름표.32 3. 연결재무제표 주석.34 1. 지배기업의 개요 (연결) .34 2. 연결재무제표 작성기준 및 중요한 회계정책 (연결).34 3. 중요한 판단과 추정 불확실성의 주요 원천 (연결) .35 4. 영업부문 (연결) .36 5. 범주별 금융상품 (연결) .39 6. 공정가치 (연결) .40 7. 공정가치측정금융자산 (연결).44 8. 관계기업투자주식 (연결).47 9. 종속기업 (연결) .49 10. 유형자산 (연결) .57 11. 무형자산 (연결) .57 12. 투자부동산 (연결).59 13. 리스 (연결) .60 14. 리스부채 (연결) .62 15. 금융리스채권 (연결).64 16. 충당부채 (연결) .65 17. 재무위험관리 (연결).68 18. 우발채무와 약정사항 (연결) .70 19. 납입자본 (연결) .73 20. 이익잉여금 (연결).73 21. 기타자본항목 (연결).74 22. 매출액 (연결).75 23. 판매비와 관리비 (연결).78 24. 기타수익 및 기타비용 (연결).80 25. 금융수익 및 금융비용 (연결).81 26. 법인세비용 (연결).83 27. 현금흐름표 (연결).83 28. 주당이익 (연결) .86 29. 특수관계자 (연결).87 30. 주식기준보상 (연결).96 4. 재무제표.100 '"
            ],
            "application/vnd.google.colaboratory.intrinsic+json": {
              "type": "string"
            }
          },
          "metadata": {},
          "execution_count": 5
        }
      ],
      "source": [
        "from langchain_community.document_loaders import PyMuPDFLoader\n",
        "\n",
        "# 각 PDF 파일에서 페이지별로 내용을 불러와 하나로 합침\n",
        "all_papers=[]\n",
        "\n",
        "for i, path_paper in enumerate(pdf_files):\n",
        "    loader = PyMuPDFLoader(path_paper)\n",
        "    pages = loader.load()\n",
        "    doc = Document(page_content='', metadata = {'index':i, 'source':pages[0].metadata['source']})\n",
        "    for page in pages:\n",
        "        doc.page_content += page.page_content +' '\n",
        "\n",
        "    doc.page_content = doc.page_content.replace('\\n', ' ')\n",
        "    for _ in range(10):\n",
        "        doc.page_content = doc.page_content.replace('  ', ' ')\n",
        "        doc.page_content = doc.page_content.replace('..', '.')\n",
        "\n",
        "    all_papers.append(doc)\n",
        "\n",
        "print(len(all_papers))\n",
        "all_papers[0].page_content[:1000]"
      ]
    },
    {
      "cell_type": "markdown",
      "source": [
        "글자 수와 토큰 수를 확인해 보겠습니다."
      ],
      "metadata": {
        "id": "aKgHZ9nh5161"
      }
    },
    {
      "cell_type": "code",
      "execution_count": null,
      "metadata": {
        "id": "2SPZPJsKXrh3",
        "colab": {
          "base_uri": "https://localhost:8080/"
        },
        "outputId": "dbbfc9dd-7111-4ab3-c4ab-9516ed495480"
      },
      "outputs": [
        {
          "output_type": "stream",
          "name": "stdout",
          "text": [
            "212976 123712 ./분기보고서(2024.11.14).pdf\n",
            "510249 283113 ./사업보고서(2025.03.11).pdf\n",
            "345728 182859 ./반기보고서(2024.08.14).pdf\n"
          ]
        }
      ],
      "source": [
        "import tiktoken\n",
        "\n",
        "encoder = tiktoken.encoding_for_model('gpt-4o-mini')\n",
        "for paper in all_papers:\n",
        "    print(len(paper.page_content), len(encoder.encode(paper.page_content)), paper.metadata['source'])"
      ]
    },
    {
      "cell_type": "markdown",
      "metadata": {
        "id": "rDlHdthhIlGg"
      },
      "source": [
        "# 토큰 단위로 청킹하기   \n",
        "\n",
        "tiktoken이나 huggingface를 이용해 토큰 단위 청킹을 수행합니다."
      ]
    },
    {
      "cell_type": "code",
      "execution_count": null,
      "metadata": {
        "id": "iwS_mNK1BYxa",
        "colab": {
          "base_uri": "https://localhost:8080/"
        },
        "outputId": "44ab3b5f-865f-4661-e87b-67fc5f8f1350"
      },
      "outputs": [
        {
          "output_type": "stream",
          "name": "stdout",
          "text": [
            "371\n"
          ]
        }
      ],
      "source": [
        "from langchain_text_splitters import RecursiveCharacterTextSplitter\n",
        "import tiktoken\n",
        "token_splitter = RecursiveCharacterTextSplitter.from_tiktoken_encoder(\n",
        "    model_name=\"gpt-4o-mini\",\n",
        "    chunk_size=2000,\n",
        "    chunk_overlap=400,\n",
        ")\n",
        "# from_huggingface_tokenizer : 허깅페이스 모델에서 토크나이저 가져오기\n",
        "\n",
        "token_chunks = token_splitter.split_documents(all_papers)\n",
        "print(len(token_chunks))"
      ]
    },
    {
      "cell_type": "markdown",
      "metadata": {
        "id": "t86FtpsEhlqP"
      },
      "source": [
        "벡터 DB를 구성합니다.   "
      ]
    },
    {
      "cell_type": "code",
      "execution_count": null,
      "metadata": {
        "id": "h7D0khLSB-Cc",
        "colab": {
          "base_uri": "https://localhost:8080/"
        },
        "outputId": "8702c911-5e5a-45ea-fef7-92210c7c0d5c"
      },
      "outputs": [
        {
          "output_type": "stream",
          "name": "stderr",
          "text": [
            "100%|██████████| 8/8 [00:27<00:00,  3.41s/it]\n"
          ]
        }
      ],
      "source": [
        "from langchain_chroma import Chroma\n",
        "from tqdm import tqdm\n",
        "\n",
        "Chroma().delete_collection()\n",
        "db = Chroma(embedding_function=embeddings,\n",
        "                           persist_directory=\"./chroma\",\n",
        "                           collection_metadata={'hnsw:space':'l2'},\n",
        "                           collection_name='finance',\n",
        "                           )\n",
        "\n",
        "\n",
        "# 50개씩 저장\n",
        "for i in tqdm(range(0, len(token_chunks), 50)):\n",
        "    db.add_documents(token_chunks[i:min(i+50, len(token_chunks))])\n",
        "\n",
        "retriever = db.as_retriever(search_kwargs={\"k\": 5})\n",
        "\n",
        "# filter 옵션을 통해 특정 메타데이터를 가진 벡터만 검색 가능\n",
        "# retriever = db.as_retriever(search_kwargs={\"k\": 5,\"filter\":{'author':'Hyungho Byun'}})"
      ]
    },
    {
      "cell_type": "markdown",
      "metadata": {
        "id": "bXKQRimxPBXs"
      },
      "source": [
        "RAG 체인을 구현합니다."
      ]
    },
    {
      "cell_type": "code",
      "execution_count": null,
      "metadata": {
        "id": "MKpQh1QlPW9d",
        "colab": {
          "base_uri": "https://localhost:8080/"
        },
        "outputId": "c37f25f3-5bae-4fe3-8029-54ef3fadfd5a"
      },
      "outputs": [
        {
          "output_type": "stream",
          "name": "stdout",
          "text": [
            "================================\u001b[1m Human Message \u001b[0m=================================\n",
            "\n",
            "당신은 QA(Question-Answering)을 수행하는 Assistant입니다.\n",
            "다음의 Context를 이용하여 Question에 한국어로 답변하세요.\n",
            "정확한 답변을 제공하세요.\n",
            "만약 모든 Context를 다 확인해도 정보가 없다면, \"정보가 부족하여 답변할 수 없습니다.\"를 출력하세요.\n",
            "---\n",
            "Context: \u001b[33;1m\u001b[1;3m{context}\u001b[0m\n",
            "---\n",
            "Question: \u001b[33;1m\u001b[1;3m{question}\u001b[0m\n"
          ]
        }
      ],
      "source": [
        "from langchain.prompts import ChatPromptTemplate\n",
        "\n",
        "prompt = ChatPromptTemplate([\n",
        "    (\"user\", '''당신은 QA(Question-Answering)을 수행하는 Assistant입니다.\n",
        "다음의 Context를 이용하여 Question에 한국어로 답변하세요.\n",
        "정확한 답변을 제공하세요.\n",
        "만약 모든 Context를 다 확인해도 정보가 없다면, \"정보가 부족하여 답변할 수 없습니다.\"를 출력하세요.\n",
        "---\n",
        "Context: {context}\n",
        "---\n",
        "Question: {question}''')])\n",
        "prompt.pretty_print()"
      ]
    },
    {
      "cell_type": "code",
      "execution_count": null,
      "metadata": {
        "id": "zrJD53z-POIa"
      },
      "outputs": [],
      "source": [
        "from langchain.schema.runnable import RunnablePassthrough\n",
        "from langchain.schema.output_parser import StrOutputParser\n",
        "\n",
        "def format_docs(docs):\n",
        "    return \"\\n---\\n\".join([doc.page_content for doc in docs])\n",
        "    # join : 구분자를 기준으로 스트링 리스트를 하나의 스트링으로 연결\n",
        "\n",
        "rag_chain = (\n",
        "    {\"context\": retriever | format_docs, \"question\": RunnablePassthrough()}\n",
        "\n",
        "    | prompt\n",
        "    | llm\n",
        "    | StrOutputParser()\n",
        ")"
      ]
    },
    {
      "cell_type": "markdown",
      "metadata": {
        "id": "EqDz__JdhlqQ"
      },
      "source": [
        "다양한 질문을 통해 결과를 확인해 보겠습니다."
      ]
    },
    {
      "cell_type": "code",
      "execution_count": null,
      "metadata": {
        "id": "M_veMYqZ7yEs",
        "colab": {
          "base_uri": "https://localhost:8080/"
        },
        "outputId": "c7eb1d8b-e306-4631-8496-6592c850a0ad"
      },
      "outputs": [
        {
          "output_type": "stream",
          "name": "stdout",
          "text": [
            "Question: 이 회사의 사업은 크게 두 부문으로 나눠집니다. 각각은 어떤 부문입니까?\n",
            "Answer: 이 회사의 사업은 크게 두 부문으로 나뉘며, 각각 IT서비스 부문과 물류 부문입니다.\n",
            "---\n",
            "Question: IT서비스는 몇 개의 분야로 나눠집니까? 각각은 무엇입니까?\n",
            "Answer: IT서비스는 3개의 분야로 나눠집니다. 각각은 다음과 같습니다.\n",
            "\n",
            "1. 클라우드 서비스  \n",
            "2. SI(시스템 통합)  \n",
            "3. ITO(IT 아웃소싱)\n",
            "---\n",
            "Question: 2024년과 2025년에 걸쳐, 매출 비중은 어떻게 변화했나요?\n",
            "Answer: 2024년과 2025년에 걸쳐 매출 비중 변화에 대한 구체적인 수치는 제공된 Context에 직접적으로 명시되어 있지 않습니다.\n",
            "\n",
            "다만, 2024년 사업부문별 매출 비중은 다음과 같습니다.  \n",
            "- IT서비스 사업부문 매출 비중: 약 46.3% (6조 4,014억원)  \n",
            "- 물류 사업부문 매출 비중: 약 53.7% (7조 4,268억원)\n",
            "\n",
            "2024년 IT서비스 매출 내 클라우드 사업의 비중이 2023년 31%에서 2024년 36%로 증가한 점은 언급되어 있습니다.\n",
            "\n",
            "2025년 전망 관련해서는 글로벌 IT서비스 시장과 국내 IT서비스 시장의 성장률이 각각 9.0%, 9.9%로 높게 전망되고 있으며, 물류 시장도 3PL 물류 시장 연평균 5.6%, 디지털포워딩 시장 연평균 18.9% 성장할 것으로 예측되어 IT서비스 부문의 성장 비중이 커질 가능성이 있으나, 구체적인 매출 비중 수치는 제공되지 않았습니다.\n",
            "\n",
            "따라서, 2024년과 2025년 매출 비중의 구체적인 변화 수치는 정보가 부족하여 정확히 답변할 수 없습니다.\n",
            "---\n",
            "Question: 2024년 6월말 기준, 연결 재무제표의 유동자산은 얼마인가요?\n",
            "Answer: 2024년 6월말 기준, 연결 재무제표의 유동자산은 8,436,908,715,388원입니다.\n",
            "---\n",
            "Question: GPUaaS 서비스가 무엇입니까?\n",
            "Answer: GPUaaS(GPU as a Service)는 생성형 AI를 위한 구독형 GPU 컴퓨팅 서비스로, 클라우드 환경에서 AI 모델 실험, 예측, 추론 등 빠른 연산 속도를 필요로 하는 업무를 위한 가상 GPU 서버 서비스를 의미합니다. 이 서비스는 AI 작업 처리 시간 단축과 데이터 처리량 증가를 위해 고성능 멀티 노드 GPU 서버를 지원하며, 데이터 처리 전 과정을 지원하는 다양한 AI 특화 상품을 보유하고 있습니다.\n",
            "---\n",
            "Question: 회사의 연혁 중 2024년 3월 20일 주주총회에서 이인실 사외이사가 신규 선임되었는데, 이때 함께 재선임된 사내이사는 누구이며 사임한 사외이사는 누구입니까?\n",
            "Answer: 2024년 3월 20일 주주총회에서 이인실 사외이사가 신규 선임되었고, 함께 재선임된 사내이사는 황성우, 구형준입니다. 이와 동시에 사임한 사외이사는 조승아입니다.\n",
            "---\n",
            "Question: 회사의 연구개발 담당조직은 어떤 분야의 핵심 기술을 연구하고 있습니까?\n",
            "Answer: 회사의 연구개발 담당조직은 다음과 같은 분야의 핵심 기술을 연구하고 있습니다.\n",
            "\n",
            "- 데이터 분석, AI, 보안, 클라우드, 분산컴퓨팅 기술 등  \n",
            "- AI연구팀: Gen.AI 서비스 및 Hyper Automation 사업을 위한 핵심 모델 경쟁력 강화 및 사업 활용 모델 연구  \n",
            "- 클라우드연구팀: 클라우드 기반 AI플랫폼 연구개발, SDS클라우드 사업에 필요한 클라우드 서비스 기술 개발, 클라우드 기반 HPC 플랫폼 연구개발, 데이터센터 네트워크 자동화 기술 연구  \n",
            "- 보안연구팀: 암호기술 및 소프트웨어 보안기술 연구개발  \n",
            "- 기술전략팀: 기술전략 수립 및 실행, 특허 출원 및 관리  \n",
            "- IT윤리팀: 데이터 오남용, 저작권 침해, 알고리즘 편향성 방지 등 IT윤리 관련 원칙 및 가이드라인 수립\n",
            "\n",
            "즉, 인공지능(AI), 클라우드 컴퓨팅, 보안 기술, 분산컴퓨팅, 데이터 분석 및 IT 윤리 등 다양한 첨단 기술 분야를 중심으로 핵심 기술 연구를 수행하고 있습니다.\n",
            "---\n",
            "Question: 2021-2022년 사이에 있었던 합병 사례를 모두 파악하여, 표로 나타내세요.\n",
            "Answer: 정보가 부족하여 답변할 수 없습니다.\n",
            "---\n"
          ]
        }
      ],
      "source": [
        "questions = [\n",
        "    '이 회사의 사업은 크게 두 부문으로 나눠집니다. 각각은 어떤 부문입니까?',\n",
        "    'IT서비스는 몇 개의 분야로 나눠집니까? 각각은 무엇입니까?',\n",
        "    '2024년과 2025년에 걸쳐, 매출 비중은 어떻게 변화했나요?',\n",
        "    '2024년 6월말 기준, 연결 재무제표의 유동자산은 얼마인가요?',\n",
        "    'GPUaaS 서비스가 무엇입니까?',\n",
        "    '회사의 연혁 중 2024년 3월 20일 주주총회에서 이인실 사외이사가 신규 선임되었는데, 이때 함께 재선임된 사내이사는 누구이며 사임한 사외이사는 누구입니까?',\n",
        "    '회사의 연구개발 담당조직은 어떤 분야의 핵심 기술을 연구하고 있습니까?',\n",
        "    '2021-2022년 사이에 있었던 합병 사례를 모두 파악하여, 표로 나타내세요.'\n",
        "]\n",
        "result = rag_chain.batch(questions)\n",
        "for i, ans in enumerate(result):\n",
        "    print(f\"Question: {questions[i]}\")\n",
        "    print(f\"Answer: {ans}\")\n",
        "    print('---')\n"
      ]
    },
    {
      "cell_type": "markdown",
      "metadata": {
        "id": "nfE_CR5gUf-Z"
      },
      "source": [
        "# Multi-Query Retriever   \n",
        "모호한 쿼리를 검색하는 대신, 다양한 관점에서 Paraphrazing한 쿼리를 사용할 수 있습니다.   \n",
        "이 때, LLM의 도움을 받을 수 있습니다."
      ]
    },
    {
      "cell_type": "code",
      "execution_count": null,
      "metadata": {
        "id": "don3dZrSVN53"
      },
      "outputs": [],
      "source": [
        "# Multi Query를 확인하기 위한 로깅\n",
        "import logging\n",
        "\n",
        "logging.basicConfig()\n",
        "logging.getLogger('langchain.retrievers.multi_query').setLevel(logging.INFO)"
      ]
    },
    {
      "cell_type": "code",
      "execution_count": null,
      "metadata": {
        "id": "_VQi5lYbUdky"
      },
      "outputs": [],
      "source": [
        "from langchain.prompts import PromptTemplate\n",
        "from langchain.retrievers.multi_query import MultiQueryRetriever\n",
        "\n",
        "rewrite_prompt = PromptTemplate(template = \"\"\"\n",
        "당신은 삼성SDS 임직원을 대상으로 하는 정보 검색 봇입니다.\n",
        "\n",
        "기업 공시 문서에 대한 질문이 주어집니다.\n",
        "해당 질문에 대한 정보를 검색하기 위해, 벡터 데이터베이스에 입력할 다양한 맥락의 질문을 생성하세요.\n",
        "질문은 3개 생성하고, 한 줄에 질문 하나씩 출력하세요.\n",
        "질문을 다각도로 분석하여, 다양한 검색 결과가 나오도록 구성해야 합니다.\n",
        "\n",
        "공시 문서에서는 삼성에스디에스, Samsung SDS 두 표현이 혼재되어 있으므로 다양한 질문을 생성하세요.\n",
        "\n",
        "---\n",
        "원본 질문: {question}\n",
        "\n",
        "\"\"\")\n",
        "\n",
        "multi_query_retriever = MultiQueryRetriever.from_llm(\n",
        "    retriever=db.as_retriever(),\n",
        "    llm=llm,\n",
        "    prompt = rewrite_prompt,\n",
        ")\n",
        "\n",
        "# prompt + llm 으로 질문을 3개로 확장, 각각 retriver 로 3*k개 검색, 합집합으로 압축"
      ]
    },
    {
      "cell_type": "code",
      "execution_count": null,
      "metadata": {
        "id": "C4NozqMhU1Pq",
        "colab": {
          "base_uri": "https://localhost:8080/"
        },
        "outputId": "49f08f74-5273-4be9-dcf6-75283637edcd"
      },
      "outputs": [
        {
          "output_type": "stream",
          "name": "stderr",
          "text": [
            "INFO:langchain.retrievers.multi_query:Generated queries: ['삼성SDS의 주요 사업별 매출 비중은 어떻게 되나요?  ', 'Samsung SDS 사업 부문별 매출 비중 현황을 알려주세요.  ', '삼성에스디에스의 각 사업 분야별 매출 점유율과 순위는 무엇인가요?']\n"
          ]
        },
        {
          "output_type": "execute_result",
          "data": {
            "text/plain": [
              "10"
            ]
          },
          "metadata": {},
          "execution_count": 20
        }
      ],
      "source": [
        "len(multi_query_retriever.invoke(\"우리 회사는 어떤 사업이 제일 매출 비중이 높니?\"))"
      ]
    },
    {
      "cell_type": "code",
      "execution_count": null,
      "metadata": {
        "id": "MUYnpM0_WnE7"
      },
      "outputs": [],
      "source": [
        "rag_chain = (\n",
        "    {\"context\": multi_query_retriever | format_docs, \"question\": RunnablePassthrough()}\n",
        "    | prompt\n",
        "    | llm\n",
        "    | StrOutputParser()\n",
        ")"
      ]
    },
    {
      "cell_type": "code",
      "execution_count": null,
      "metadata": {
        "id": "NR1I5wr-Wewc",
        "colab": {
          "base_uri": "https://localhost:8080/"
        },
        "outputId": "f438ab26-0e22-4edf-d4a6-7bcfcc743dd9"
      },
      "outputs": [
        {
          "output_type": "stream",
          "name": "stderr",
          "text": [
            "INFO:langchain.retrievers.multi_query:Generated queries: ['GPUaaS 서비스의 정의와 주요 기능은 무엇인가요?  ', 'GPUaaS가 제공하는 혜택과 활용 사례에는 어떤 것들이 있나요?  ', 'GPUaaS 서비스와 전통적인 GPU 사용 방식의 차이점은 무엇인가요?']\n",
            "INFO:langchain.retrievers.multi_query:Generated queries: ['이 회사가 영위하는 주요 사업 부문은 무엇입니까?  ', '회사의 사업 부문별 구성은 어떻게 되어 있습니까?  ', '기업의 사업 영역을 구분하는 기준과 각 부문의 명칭은 무엇인가요?']\n",
            "INFO:langchain.retrievers.multi_query:Generated queries: ['2024년과 2025년의 매출 비중 변화 추이를 알려주세요.  ', '2024년 대비 2025년 매출 구성 비율에 어떤 차이가 있나요?  ', '2024년과 2025년 동안 주요 사업 부문별 매출 비중은 어떻게 변했나요?']\n",
            "INFO:langchain.retrievers.multi_query:Generated queries: ['IT서비스의 세부 분야는 몇 가지이며 각각의 명칭은 무엇인가요?  ', '기업 공시 문서에서 IT서비스가 분류된 분야의 개수와 구체적인 내용을 알려주세요.  ', 'IT서비스 분야 구분과 각 분야별 주요 업무 또는 역할에 대해 설명해 주세요.']\n",
            "INFO:langchain.retrievers.multi_query:Generated queries: ['2024년 6월 30일 기준 연결 재무제표에 기재된 유동자산 총액은 얼마입니까?  ', '2024년 2분기 말 연결 재무상태표 상 유동자산 금액을 알려주세요.  ', '2024년 6월 말 현재 회사의 연결 재무제표에 보고된 유동자산 규모는 어떻게 됩니까?']\n",
            "INFO:langchain.retrievers.multi_query:Generated queries: ['2024년 3월 20일 주주총회에서 선임 및 재선임된 이사들의 명단은 어떻게 되나요?  ', '이인실 사외이사가 신규 선임된 2024년 3월 20일 주주총회에서 사내이사 중 재선임된 인물은 누구인가요?  ', '2024년 3월 20일 주주총회에서 사임한 사외이사 명단과 그 사유에 대한 정보가 있나요?']\n",
            "INFO:langchain.retrievers.multi_query:Generated queries: ['회사의 연구개발 조직이 집중하고 있는 주요 기술 분야는 무엇입니까?  ', '해당 기업의 연구개발 부서에서 진행 중인 핵심 기술 연구 주제는 어떤 것들이 있습니까?  ', '회사의 R&D 팀이 중점적으로 개발하고 있는 신기술이나 혁신 분야는 무엇인지 알려주세요.']\n",
            "INFO:langchain.retrievers.multi_query:Generated queries: ['2021년부터 2022년 사이에 진행된 모든 기업 합병 사례는 무엇인가요?  ', '2021년과 2022년에 이루어진 합병 관련 공시 문서 목록을 알려주세요.  ', '2021-2022년 기간 동안 발표된 합병 계약 및 완료 보고서에 포함된 주요 내용을 정리해 주세요.']\n"
          ]
        },
        {
          "output_type": "stream",
          "name": "stdout",
          "text": [
            "Question: 이 회사의 사업은 크게 두 부문으로 나눠집니다. 각각은 어떤 부문입니까?\n",
            "Answer: 이 회사의 사업은 크게 두 부문으로 나눠지며, 각각은 다음과 같습니다.\n",
            "\n",
            "1. IT서비스 부문  \n",
            "2. 물류 부문\n",
            "\n",
            "IT서비스 부문은 IT기술역량을 활용하여 클라우드 서비스, 시스템 통합(SI), IT 아웃소싱(ITO) 등 다양한 IT서비스를 제공하는 분야이고,  \n",
            "물류 부문은 물류 통합관리 플랫폼과 디지털 물류 플랫폼을 기반으로 국제운송, 내륙운송, 물류센터 운영, 이커머스, 프로젝트 물류 등 종합 물류 서비스를 제공하는 분야입니다.\n",
            "---\n",
            "Question: IT서비스는 몇 개의 분야로 나눠집니까? 각각은 무엇입니까?\n",
            "Answer: IT서비스는 3개의 분야로 나눠집니다. 각각은 다음과 같습니다.\n",
            "\n",
            "1. 클라우드 서비스 (Cloud Service)  \n",
            "2. SI (System Integration)  \n",
            "3. ITO (IT Outsourcing)  \n",
            "\n",
            "이 세 분야를 통해 고객 맞춤형 IT인프라, 업무시스템 구축, IT 운영 및 아웃소싱 서비스를 제공합니다.\n",
            "---\n",
            "Question: 2024년과 2025년에 걸쳐, 매출 비중은 어떻게 변화했나요?\n",
            "Answer: 2024년 매출 비중은 IT서비스 사업부문이 46.3%, 물류 사업부문이 53.7%를 차지하였습니다. IT서비스 매출은 전년 대비 4.8% 증가하여 6조 4,014억원을 기록했으며, 물류 매출은 전년 대비 3.6% 증가한 7조 4,268억원입니다. \n",
            "\n",
            "2025년 매출 비중에 대한 구체적인 수치는 제시되어 있지 않으나, IT서비스 시장은 2025년에 국내 9.9%, 글로벌 9.0% 성장률이 전망되고 있으며, 클라우드 및 생성형 AI 서비스가 계속 확대될 것으로 예상되어 IT서비스 매출 비중이 증가할 가능성이 큽니다. 물류 부문은 2025년 신규 선박 투입으로 공급이 증가하고 물류 운임 하락이 예상되나, 디지털포워딩 사업의 글로벌 확대 및 계약물류 사업 확장으로 매출 성장이 기대됩니다.\n",
            "\n",
            "따라서 2024년 대비 2025년에는 IT서비스 부문의 매출 비중이 다소 증가하는 반면, 물류 부문의 매출 비중은 다소 감소하거나 비슷한 수준을 유지할 가능성이 있습니다. \n",
            "\n",
            "요약하면,\n",
            "\n",
            "- 2024년: IT서비스 46.3%, 물류 53.7%\n",
            "- 2025년: IT서비스 매출 비중 증가 예상, 물류 매출 비중은 비슷하거나 다소 감소 예상\n",
            "\n",
            "정확한 2025년 매출 비중 수치는 제공된 자료에 없습니다.\n",
            "---\n",
            "Question: 2024년 6월말 기준, 연결 재무제표의 유동자산은 얼마인가요?\n",
            "Answer: 2024년 6월말 기준, 연결 재무제표의 유동자산은 8,436,908,715,388원입니다.\n",
            "---\n",
            "Question: GPUaaS 서비스가 무엇입니까?\n",
            "Answer: GPUaaS 서비스는 생성형 AI를 위한 구독형 GPU 컴퓨팅 서비스로, 클라우드 환경에서 AI 모델 실험, 예측, 추론 등 빠른 연산 속도를 필요로 하는 업무를 위해 가상 GPU 서버를 제공하는 서비스입니다. 이 서비스는 AI 작업 처리 시간을 단축하고 데이터 처리량을 증가시키기 위해 고성능 멀티 노드 GPU 서버를 지원하며, 데이터 처리의 전 과정을 지원하는 다양한 AI 특화 상품을 보유하고 있습니다.\n",
            "---\n",
            "Question: 회사의 연혁 중 2024년 3월 20일 주주총회에서 이인실 사외이사가 신규 선임되었는데, 이때 함께 재선임된 사내이사는 누구이며 사임한 사외이사는 누구입니까?\n",
            "Answer: 2024년 3월 20일 주주총회에서 이인실 사외이사가 신규 선임되었으며, 함께 재선임된 사내이사는 황성우와 구형준입니다. 그리고 사임한 사외이사는 조승아입니다.\n",
            "---\n",
            "Question: 회사의 연구개발 담당조직은 어떤 분야의 핵심 기술을 연구하고 있습니까?\n",
            "Answer: 회사의 연구개발 담당조직은 다음과 같은 분야의 핵심 기술을 연구하고 있습니다.\n",
            "\n",
            "- 데이터 분석\n",
            "- 인공지능(AI), 특히 생성형 AI 서비스 및 Hyper Automation 사업을 위한 핵심 모델 연구\n",
            "- 클라우드 기반 AI플랫폼, SDS클라우드 사업에 필요한 클라우드 서비스 기술 개발\n",
            "- 클라우드 기반 고성능 컴퓨팅(HPC) 플랫폼 연구개발 및 데이터센터 네트워크 자동화 기술 연구\n",
            "- 암호기술 및 소프트웨어 보안기술 연구\n",
            "- 기술전략 수립 및 특허 출원·관리\n",
            "- IT윤리 관련 원칙 및 가이드라인 수립 (데이터 오남용, 저작권 침해, 알고리즘 편향성 방지 등)\n",
            "\n",
            "즉, 데이터 분석, AI, 클라우드, 보안, 기술전략, IT 윤리 등 다양한 첨단 IT 기술 분야의 핵심 기술을 연구하고 있습니다.\n",
            "---\n",
            "Question: 2021-2022년 사이에 있었던 합병 사례를 모두 파악하여, 표로 나타내세요.\n",
            "Answer: 2021년부터 2022년 사이에 있었던 합병 사례는 다음과 같습니다.\n",
            "\n",
            "| 합병일      | 합병종속기업                        | 합병대상기업                  | 비고                   |\n",
            "|-------------|-----------------------------------|------------------------------|------------------------|\n",
            "| 2021년 9월  | Samsung SDS India Private Limited | Samsung Data Systems India Private Limited | 합병 완료               |\n",
            "| 2022년 5월  | Samsung SDS Global SCL Beijing Co., Ltd | Samsung SDS China Co., Ltd             | 합병 완료               |\n",
            "\n",
            "위 내용은 공시된 자료를 바탕으로 작성되었습니다.\n",
            "---\n"
          ]
        }
      ],
      "source": [
        "result = rag_chain.batch(questions)\n",
        "for i, ans in enumerate(result):\n",
        "    print(f\"Question: {questions[i]}\")\n",
        "    print(f\"Answer: {ans}\")\n",
        "    print('---')\n"
      ]
    },
    {
      "cell_type": "markdown",
      "metadata": {
        "id": "hKTLylMpV38i"
      },
      "source": [
        "\n",
        "### Ensemble Retriever\n",
        "\n",
        "Ensemble Retriever는 서로 다른 리트리버를 결합하여 순위를 합산합니다.   \n",
        "주로 Keyword Indexing 기반 검색인 BM25 검색과 Semantic 검색을 합친 Hybrid Search를 사용합니다."
      ]
    },
    {
      "cell_type": "code",
      "execution_count": null,
      "metadata": {
        "id": "R8hCjt5K6WTZ",
        "colab": {
          "base_uri": "https://localhost:8080/"
        },
        "outputId": "faa5566d-b272-4b32-b0c9-dff4a45142fc"
      },
      "outputs": [
        {
          "output_type": "stream",
          "name": "stdout",
          "text": [
            "Requirement already satisfied: kiwipiepy in /usr/local/lib/python3.12/dist-packages (0.21.0)\n",
            "Requirement already satisfied: kiwipiepy_model<0.22,>=0.21 in /usr/local/lib/python3.12/dist-packages (from kiwipiepy) (0.21.0)\n",
            "Requirement already satisfied: numpy in /usr/local/lib/python3.12/dist-packages (from kiwipiepy) (2.0.2)\n",
            "Requirement already satisfied: tqdm in /usr/local/lib/python3.12/dist-packages (from kiwipiepy) (4.67.1)\n"
          ]
        }
      ],
      "source": [
        "!pip install kiwipiepy"
      ]
    },
    {
      "cell_type": "code",
      "execution_count": null,
      "metadata": {
        "id": "I27U7lbk6WTZ"
      },
      "outputs": [],
      "source": [
        "from kiwipiepy import Kiwi\n",
        "\n",
        "kiwi = Kiwi()\n",
        "def kiwi_tokenize(text):\n",
        "    return [token.form for token in kiwi.tokenize(text)]"
      ]
    },
    {
      "cell_type": "code",
      "execution_count": null,
      "metadata": {
        "id": "q-0BAYTwVaat"
      },
      "outputs": [],
      "source": [
        "from langchain.retrievers import BM25Retriever, EnsembleRetriever\n",
        "\n",
        "bm25_retriever = BM25Retriever.from_documents(token_chunks, preprocess_func = kiwi_tokenize)\n",
        "bm25_retriever.k = 5\n",
        "# BM25: 키워드 기반 인덱싱 리트리버 --> kiwi_tokenize로 전처리\n",
        "\n",
        "\n",
        "retriever = db.as_retriever(search_kwargs={\"k\": 5})\n",
        "\n",
        "ensemble_retriever = EnsembleRetriever(\n",
        "    retrievers=[bm25_retriever, retriever], weights=[0.5, 0.5]\n",
        ")"
      ]
    },
    {
      "cell_type": "code",
      "execution_count": null,
      "metadata": {
        "id": "6ywb_5RcWyDT"
      },
      "outputs": [],
      "source": [
        "rag_chain = (\n",
        "    {\"context\": ensemble_retriever | format_docs, \"question\": RunnablePassthrough()}\n",
        "    | prompt\n",
        "    | llm\n",
        "    | StrOutputParser()\n",
        ")"
      ]
    },
    {
      "cell_type": "code",
      "execution_count": null,
      "metadata": {
        "id": "QebTOz7EW5Uc",
        "colab": {
          "base_uri": "https://localhost:8080/"
        },
        "outputId": "d13d7c22-8ae6-439f-8043-57af32becbcb"
      },
      "outputs": [
        {
          "output_type": "stream",
          "name": "stdout",
          "text": [
            "Question: 이 회사의 사업은 크게 두 부문으로 나눠집니다. 각각은 어떤 부문입니까?\n",
            "Answer: 이 회사의 사업은 크게 두 부문으로 나누어지며, 각각은 다음과 같습니다.\n",
            "\n",
            "1. IT서비스 부문  \n",
            "- 클라우드 서비스(CSP, MSP, SaaS)  \n",
            "- 시스템 통합(SI)  \n",
            "- IT 아웃소싱(ITO)  \n",
            "이 부문에서는 고객 맞춤형 클라우드 인프라 서비스, 클라우드 도입 컨설팅 및 운영, 엔터프라이즈 업무 솔루션, ERP, SCM, CRM 등 업무 시스템 구축과 관련 컨설팅, IT 아웃소싱 서비스 등을 제공합니다.\n",
            "\n",
            "2. 물류 부문  \n",
            "- 글로벌 종합 물류 서비스  \n",
            "- 자체 개발한 물류 통합관리 플랫폼 Cello와 디지털 물류 플랫폼 Cello Square를 통한 국제운송, 내륙운송, 물류센터 운영, 프로젝트 물류 등 전 영역 서비스  \n",
            "- 디지털포워딩 서비스 제공  \n",
            "이 부문은 전 세계 다수 국가에 걸친 글로벌 네트워크와 IT기술을 활용하여 차별화된 물류 솔루션과 종합 물류 서비스를 제공합니다.\n",
            "---\n",
            "Question: IT서비스는 몇 개의 분야로 나눠집니까? 각각은 무엇입니까?\n",
            "Answer: IT서비스는 3개의 분야로 나눠집니다. 각각은 클라우드 서비스, SI, ITO입니다.\n",
            "---\n",
            "Question: 2024년과 2025년에 걸쳐, 매출 비중은 어떻게 변화했나요?\n",
            "Answer: 2024년과 2025년에 걸쳐 매출 비중 변화는 다음과 같습니다.\n",
            "\n",
            "- 2024년 IT서비스 사업부문 매출은 6조 4,014억원으로 전체 매출의 약 46.3%를 차지하였고, 물류 사업부문 매출은 7조 4,268억원으로 약 53.7%를 차지하였습니다.\n",
            "\n",
            "- 2025년 전망 자료에 따르면, 국내 IT서비스 시장 규모는 33.2조원으로 전년 대비 9.9% 증가가 예상되며, 연평균 10.1% 성장하여 2028년에는 44.3조원 규모에 이를 전망입니다.\n",
            "\n",
            "- 물류 부문은 2025년부터 2029년까지 글로벌 3PL 물류 시장이 연평균 5.6% 성장할 것으로 전망되며, 디지털포워딩 시장은 같은 기간 연평균 18.9% 성장할 것으로 예상됩니다.\n",
            "\n",
            "구체적인 2025년 회사별 매출 비중 수치는 제공되지 않았으나, IT서비스 부문의 성장률이 물류 부문보다 높고, 클라우드 및 생성형 AI 서비스가 매출 성장을 견인함에 따라 IT서비스 매출 비중이 점차 확대될 것으로 보입니다.\n",
            "\n",
            "요약하면, 2024년에는 물류 부문 매출 비중이 약 53.7%, IT서비스 부문이 약 46.3%였으나 2025년 이후 IT서비스 부문의 매출 성장률이 더 높아 매출 비중 내에서 IT서비스 부문의 비중이 증가하는 추세입니다.\n",
            "---\n",
            "Question: 2024년 6월말 기준, 연결 재무제표의 유동자산은 얼마인가요?\n",
            "Answer: 2024년 6월말 기준, 연결 재무제표의 유동자산은 8,436,909백만원입니다.\n",
            "---\n",
            "Question: GPUaaS 서비스가 무엇입니까?\n",
            "Answer: GPUaaS 서비스는 생성형 AI를 위한 구독형 GPU 컴퓨팅 서비스입니다. 클라우드 환경에서 AI 모델 실험, 예측, 추론 등 빠른 연산 속도를 필요로 하는 업무를 위해 가상 GPU 서버를 제공하며, AI 작업 처리 시간 단축과 데이터 처리량 증가를 위해 고성능 멀티 노드 GPU 서버를 지원하고, 데이터 처리 전 과정을 지원하는 다양한 AI 특화 상품을 보유하고 있는 서비스입니다.\n",
            "---\n",
            "Question: 회사의 연혁 중 2024년 3월 20일 주주총회에서 이인실 사외이사가 신규 선임되었는데, 이때 함께 재선임된 사내이사는 누구이며 사임한 사외이사는 누구입니까?\n",
            "Answer: 2024년 3월 20일 주주총회에서 이인실 사외이사가 신규 선임되었고, 함께 재선임된 사내이사는 황성우, 구형준입니다. 이때 사임한 사외이사는 조승아입니다.\n",
            "---\n",
            "Question: 회사의 연구개발 담당조직은 어떤 분야의 핵심 기술을 연구하고 있습니까?\n",
            "Answer: 회사의 연구개발 담당조직은 데이터 분석, AI, 보안, 클라우드, 분산컴퓨팅 기술 등의 분야에서 핵심 기술을 연구하고 있습니다. 구체적으로는 다음과 같습니다.\n",
            "\n",
            "- AI연구팀: 엔터프라이즈 생성형 AI 솔루션을 위한 인공지능 알고리즘, 대화형(자연어 대화 기반), 시각형(이미지·영상분석), 프로그램형(AI 코드 검색·생성 등) AI 요소기술 및 강화학습 기술 연구\n",
            "- 클라우드연구팀: 클라우드 기반 AI플랫폼 연구개발, 클라우드 서비스 기술 개발, 고성능 컴퓨팅(HPC) 플랫폼 연구개발, 데이터센터 네트워크 자동화 기술 연구\n",
            "- 보안연구팀: 생체인식, 이상행위 기반 탐지, 통신구간 정보유출 방지 등 다양한 보안 기술 연구 및 암호기술과 소프트웨어 보안기술 개발\n",
            "- 기술전략팀: 기술전략 수립 및 실행, 특허 출원 및 관리\n",
            "- IT윤리팀: 데이터 오남용, 저작권 침해, 알고리즘 편향성 방지 등 IT윤리 관련 원칙 및 가이드라인 수립\n",
            "\n",
            "이와 같이 AI, 클라우드, 보안, 분산컴퓨팅 등 첨단 기술 분야를 중심으로 핵심 기술을 연구하고 있습니다.\n",
            "---\n",
            "Question: 2021-2022년 사이에 있었던 합병 사례를 모두 파악하여, 표로 나타내세요.\n",
            "Answer: 2021년부터 2022년 사이에 있었던 합병 사례는 다음과 같습니다.\n",
            "\n",
            "| 합병 시기   | 합병 대상 회사명                                   | 합병 후 회사명                                  |\n",
            "|-------------|---------------------------------------------------|-----------------------------------------------|\n",
            "| 2021년 5월  | Samsung IT Services (Beijing) Co., Ltd.           | Samsung SDS China Co., Ltd.                    |\n",
            "| 2021년 7월  | Samsung SDS America, Inc.                          | Samsung SDS Global SCL America, Inc. → Samsung SDS America, Inc. (사명 변경) |\n",
            "| 2021년 7월  | Samsung SDS Latin America Solucoes em Tecnologia Ltda. | Samsung SDS Global SCL Latin America Logistica Ltda. → Samsung SDS Latin America Tecnologia e Logistica Ltda. (사명 변경) |\n",
            "| 2021년 9월  | Samsung SDS India Private Limited                  | Samsung Data Systems India Private Limited     |\n",
            "| 2022년 5월  | Samsung SDS Global SCL Beijing Co., Ltd.           | Samsung SDS China Co., Ltd.                    |\n",
            "\n",
            "위 표는 공시된 정보를 바탕으로 작성되었습니다.\n",
            "---\n"
          ]
        }
      ],
      "source": [
        "result = rag_chain.batch(questions)\n",
        "for i, ans in enumerate(result):\n",
        "    print(f\"Question: {questions[i]}\")\n",
        "    print(f\"Answer: {ans}\")\n",
        "    print('---')"
      ]
    },
    {
      "cell_type": "code",
      "source": [],
      "metadata": {
        "id": "xt20aVr2QmuH"
      },
      "execution_count": null,
      "outputs": []
    },
    {
      "cell_type": "markdown",
      "source": [
        "# Reranker\n",
        "넓은 Retriever 검색 범위를 이용한 뒤, Reranker를 통해 개수를 줄일 수 있습니다."
      ],
      "metadata": {
        "id": "W-LzPCai4KJA"
      }
    },
    {
      "cell_type": "code",
      "source": [
        "rough_retriever = db.as_retriever(search_kwargs={\"k\": 20})"
      ],
      "metadata": {
        "id": "DCwCDXin4HlK"
      },
      "execution_count": null,
      "outputs": []
    },
    {
      "cell_type": "code",
      "source": [
        "from langchain.retrievers.document_compressors import CrossEncoderReranker\n",
        "from langchain_community.cross_encoders import HuggingFaceCrossEncoder\n",
        "from langchain.retrievers import ContextualCompressionRetriever\n",
        "import torch\n",
        "\n",
        "# 다국어 리랭커 모델 사용하기\n",
        "model = HuggingFaceCrossEncoder(model_name=\"BAAI/bge-reranker-v2-m3\")\n",
        "\n",
        "compressor = CrossEncoderReranker(model=model, top_n=5)\n",
        "# Cross Encoder : 질문과 Chunk를 같이 넣고 처리하는 Transformers 계열 모델\n",
        "# 점수순으로 Top 5\n",
        "\n",
        "compression_retriever = ContextualCompressionRetriever(base_compressor=compressor, base_retriever=rough_retriever)\n",
        "compressed_docs = compression_retriever.invoke(\"2021-2022년 사이에 있었던 합병 사례를 모두 파악하여, 표로 나타내세요.\")\n",
        "\n",
        "compressed_docs"
      ],
      "metadata": {
        "id": "FzDCJzYj4LQR",
        "colab": {
          "base_uri": "https://localhost:8080/",
          "height": 1000,
          "referenced_widgets": [
            "a4b0ce22fe954764bc14545a7d76393e",
            "cfc85a611eb5498d85182363f61c0fc4",
            "495c8b8745cd4d869ad5f48029ad15a5",
            "3e9c19fb68454ffb91c5652813a01226",
            "6803a49d2d9b4390bca2016685e98863",
            "4ea96bf3f8414528a1e6f37dbb2fef10",
            "b84bf3c4bf1341c9bc8d24675c809b05",
            "70f65b780a4847cfa326b4bb6d609191",
            "bbc91075de9d409fa2d92d1ed2f18093",
            "ed2c94bd24cd4761a84b7c095cfaa684",
            "8e6fea0fa1cb4d68bde8a3a3968a4114",
            "318fdc13fab945f790c3bbabfb649c47",
            "f732b38f3e604d77a84a44f37dd8b536",
            "1b320a3ecb3a4371940ff55c2248d15d",
            "fdc8d4581ae24354a7d57c674b3e3ec4",
            "4afb3a5524bc4e42a09badb9ab8f1a57",
            "123516d5b8724ce6b9b034e0ca039268",
            "a3bc80737d314489b8b371346b317e19",
            "f7d5c538014c4573aadeeef61fa73695",
            "331970984b9747e794ceaf96898a1d0e",
            "5ccec18ce92d48a08d9a48add50a572c",
            "9b4dc37a1ddf4c4a9af57f531de3fd74",
            "466847887c9d4881a9553beae427d178",
            "97029a3bb48d4d76bbf35538a684a884",
            "6acf2fae08df42458eba48a611495862",
            "af8260db58d74c02823aa49f7a7207b1",
            "9bcb60350c9043cd9aa7ab6fa3388b33",
            "c1d9d2dea935436e9189be0385074360",
            "85cb7f5f81fd41dcbd991cc0ca1bd24e",
            "0bcd7f3201b349f89cfff0f2e25111f4",
            "eabc3d1a824648c29562ca716f18a185",
            "e1619e731cf64179a71d87b9bafb3aac",
            "dc458182a5ea46acbb9bff2d54b864e1",
            "61d924cbceb243ddb1430128eb1c0634",
            "c6391d47d5684e14abc4fa9df700091d",
            "9467261ffe89409aad3c35bdca8401e3",
            "186b5a7ca2644fa09a7735e00aa823bc",
            "8c1f1ff694da44aca6caad6399d55415",
            "527798bebb984c82bb519f03980b9339",
            "42fb0d2acfbf4a8cac47a46e8ba08f5e",
            "de5d410b4cdb4456955b9369cf636dbf",
            "91d47a916691422f8bfa675ef20cb6c9",
            "2605224152bb4cbebcff9947bf63c9c3",
            "3d90933d0a494056b181ca58a1e3bf42",
            "f93f36f17cda4cef90d2aa4feed618ad",
            "98249fe784d7448a96484192de7962c1",
            "13cf2c2244f542949bd8b05ce8111d66",
            "5648dd3ee5584798a20b858528e2aed8",
            "c4bb15a568f24276849dd783fcbd992c",
            "caf903f305cb4526ac6576e49796fe0b",
            "0c6de9085a9c4221886db26c25cdc48b",
            "bca5e7350c6b42cf9f82089f13eb1f45",
            "f74f1dd9fe834b999dda6dfc7937d08f",
            "e02919594fea411696eb83b3bdfe7f62",
            "94e2451bda1a43528edb6b3f5242e62a",
            "81cae9f6013c4c0fb5f5fbb1c5a01fd7",
            "df7b22ec1700445098787f068e584abe",
            "2a4c8645b7b242ac8845969cd8bac9fc",
            "be7ce25e7d9240d7b1726a8f2caf4395",
            "5bf7a562c5fa40aeab1a5dc94e02dd2d",
            "53667606baa243c9b4c725d7bff60296",
            "5b7acf49deb7473fb2829cb443da25a3",
            "4d9aaedba49447d19ceb49e7ae56bc77",
            "8851f385e6974a3a97784ee8e2990c02",
            "b6016a04569b4a46aba7bb19324f8ac6",
            "af942660334348c1b5a8cc2321b9c822",
            "545c703962274851a59cc7eabff001ad",
            "25e1d97dae4d41f28cf69fe48207e9c4",
            "55e757a49b3d4d43a43c589d2170138c",
            "8b732a9dd1274839b87bd5e81601a3ca",
            "cb0876ca700a42e09e6cec276f8eee81",
            "f7d14e69be6f4e2b868c7cd5d66b2490",
            "be2a99178344481b8a3407f9494c5683",
            "fcd1e4f27e8f416a9a1deb49298b9c15",
            "c86bf06702634c1fa861b4337ddcacec",
            "e28d6844ea654c5f9e52d1ad47d1292f",
            "f1418f8afba141be971851a46696e4d2"
          ]
        },
        "outputId": "a22b2cfe-235b-4a06-9ca0-3ee36e7cc518"
      },
      "execution_count": null,
      "outputs": [
        {
          "output_type": "stream",
          "name": "stderr",
          "text": [
            "/usr/local/lib/python3.12/dist-packages/huggingface_hub/utils/_auth.py:94: UserWarning: \n",
            "The secret `HF_TOKEN` does not exist in your Colab secrets.\n",
            "To authenticate with the Hugging Face Hub, create a token in your settings tab (https://huggingface.co/settings/tokens), set it as secret in your Google Colab and restart your session.\n",
            "You will be able to reuse this secret in all of your notebooks.\n",
            "Please note that authentication is recommended but still optional to access public models or datasets.\n",
            "  warnings.warn(\n"
          ]
        },
        {
          "output_type": "display_data",
          "data": {
            "text/plain": [
              "config.json:   0%|          | 0.00/795 [00:00<?, ?B/s]"
            ],
            "application/vnd.jupyter.widget-view+json": {
              "version_major": 2,
              "version_minor": 0,
              "model_id": "a4b0ce22fe954764bc14545a7d76393e"
            }
          },
          "metadata": {}
        },
        {
          "output_type": "display_data",
          "data": {
            "text/plain": [
              "model.safetensors:   0%|          | 0.00/2.27G [00:00<?, ?B/s]"
            ],
            "application/vnd.jupyter.widget-view+json": {
              "version_major": 2,
              "version_minor": 0,
              "model_id": "318fdc13fab945f790c3bbabfb649c47"
            }
          },
          "metadata": {}
        },
        {
          "output_type": "display_data",
          "data": {
            "text/plain": [
              "tokenizer_config.json: 0.00B [00:00, ?B/s]"
            ],
            "application/vnd.jupyter.widget-view+json": {
              "version_major": 2,
              "version_minor": 0,
              "model_id": "466847887c9d4881a9553beae427d178"
            }
          },
          "metadata": {}
        },
        {
          "output_type": "display_data",
          "data": {
            "text/plain": [
              "sentencepiece.bpe.model:   0%|          | 0.00/5.07M [00:00<?, ?B/s]"
            ],
            "application/vnd.jupyter.widget-view+json": {
              "version_major": 2,
              "version_minor": 0,
              "model_id": "61d924cbceb243ddb1430128eb1c0634"
            }
          },
          "metadata": {}
        },
        {
          "output_type": "display_data",
          "data": {
            "text/plain": [
              "tokenizer.json:   0%|          | 0.00/17.1M [00:00<?, ?B/s]"
            ],
            "application/vnd.jupyter.widget-view+json": {
              "version_major": 2,
              "version_minor": 0,
              "model_id": "f93f36f17cda4cef90d2aa4feed618ad"
            }
          },
          "metadata": {}
        },
        {
          "output_type": "display_data",
          "data": {
            "text/plain": [
              "special_tokens_map.json:   0%|          | 0.00/964 [00:00<?, ?B/s]"
            ],
            "application/vnd.jupyter.widget-view+json": {
              "version_major": 2,
              "version_minor": 0,
              "model_id": "81cae9f6013c4c0fb5f5fbb1c5a01fd7"
            }
          },
          "metadata": {}
        },
        {
          "output_type": "display_data",
          "data": {
            "text/plain": [
              "README.md: 0.00B [00:00, ?B/s]"
            ],
            "application/vnd.jupyter.widget-view+json": {
              "version_major": 2,
              "version_minor": 0,
              "model_id": "545c703962274851a59cc7eabff001ad"
            }
          },
          "metadata": {}
        },
        {
          "output_type": "execute_result",
          "data": {
            "text/plain": [
              "[Document(id='24ff2c53-f953-4578-a072-7c84e4dfbad7', metadata={'source': './반기보고서(2024.08.14).pdf', 'index': 2}, page_content=\"최근 3년간 최근 5년간 - 29 1.86 1.63 [지분증권의 발행 등과 관련된 사항] (기준일 : 2024년 06월 30일 ) (단위 : 원, 주) 주식발행 (감소)일자 발행(감소) 형태 발행(감소)한 주식의 내용 종류 수량 주당 주당발행 비고 전자공시시스템 dart.fss.or.kr Page 176 ※ 당사는 공시대상기간 중 자본금 변동사항이 없습니다. 나. 전환사채 등 발행현황 미상환 전환사채 발행현황 ※ 해당사항 없음 미상환 신주인수권부사채 등 발행현황 ※ 해당사항 없음 미상환 전환형 조건부자본증권 발행현황 ※ 해당사항 없음 다. 채무증권 발행실적 등 액면가액 (감소)가액 - - - - - - - (기준일 : 2024년 06월 30일 ) (단위 : 원, 주) 종류＼구분 회차 발행일 만기일 권면 (전자 등록 )총액 전환대상 주식의 종 류 전환청 구가능 기간 전환조건 미상환사채 비고 전환 비율 (%) 전환가 액 권면 (전자 등록 )총액 전환가 능주식 수 - - - - - - - - - - - - 합 계 - - - - - - - - - - - (기준일 : 2024년 06월 30일 ) (단위 : 원, 주) 종류＼구분 회차 발행일 만기일 권면 (전자 등록 )총액 행사대상 주식의 종 류 신주인 수권 행 사가능 기간 행사조건 미상환 사채 미행사 신주 인수권 비고 행사비 율 (%) 행사가 액 권면(전 자등록 )총액 행사가 능주식 수 - - - - - - - - - - - - 합 계 - - - - - - - - - - - (기준일 : 2024년 06월 30일 ) (단위 : 원, 주) 구분 회차 발행일 만기일 권면 (전자 등록 )총액 주식 전환의 사유 주식 전환의 범위 전환가 액 주식전환으로 인하여 발행할 주식 비고 종류 수 - - - - - - - - - - - 합 계 - - - - - - - - - - [채무증권의 발행 등과 관련된 사항] 전자공시시스템 dart.fss.or.kr Page 177 채무증권 발행실적 ※ 해당사항 없음 기업어음증권 미상환 잔액 ※ 해당사항 없음 단기사채 미상환 잔액 ※ 해당사항 없음 회사채 미상환 잔액 ※ 해당사항 없음 신종자본증권 미상환 잔액 (기준일 : 2024년 06월 30일 ) (단위 : 원, %) 발행회사 증권종류 발행방법 발행일자 권면(전자등 록)총액 이자율 평가등급 (평가기관) 만기일 상환 여부 주관회사 - - - - - - - - - - 합 계 - - - - - - - - - (기준일 : 2024년 06월 30일 ) (단위 : 원) 잔여만기 10일 이하 10일초과 30일이하 30일초과 90일이하 90일초과 180일이하 180일초과 1년이하 1년초과 2년이하 2년초과 3년이하 3년 초과 합 계 미상환 잔액 공모 - - - - - - - - - 사모 - - - - - - - - - 합계 - - - - - - - - - (기준일 : 2024년 06월 30일 ) (단위 : 원) 잔여만기 10일 이하 10일초과 30일이하 30일초과 90일이하 90일초과 180일이하 180일초과 1년이하 합 계 발행 한도 잔여 한도 미상환 잔액 공모 - - - - - - - - 사모 - - - - - - - - 합계 - - - - - - - - (기준일 : 2024년 06월 30일 ) (단위 : 원) 잔여만기 1년 이하 1년초과 2년이하 2년초과 3년이하 3년초과 4년이하 4년초과 5년이하 5년초과 10년이하 10년초과 합 계 미상환 잔액 공모 - - - - - - - - 사모 - - - - - - - - 합계 - - - - - - - - (기준일 : 2024년 06월 30일 ) (단위 : 원) 잔여만기 1년 이하 1년초과 5년이하 5년초과 10년이하 10년초과 15년이하 15년초과 20년이하 20년초과 30년이하 30년초과 합 계 미상환 잔액 공모 - - - - - - - - 사모 - - - - - - - - 합계 - - - - - - - - 전자공시시스템 dart.fss.or.kr Page 178 ※ 해당사항 없음 조건부자본증권 미상환 잔액 ※ 해당사항 없음 사채관리계약 주요내용 및 충족여부 등 ※ 해당사항 없음 7-2. 증권의 발행을 통해 조달된 자금의 사용실적 공모자금의 사용내역 (기준일 : 2024년 06월 30일 ) (단위 : 원) 잔여만기 1년 이하 1년초과 2년이하 2년초과 3년이하 3년초과 4년이하 4년초과 5년이하 5년초과 10년이하 10년초과 20년이하 20년초과 30년이하 30년초과 합 계 미상환 잔액 공모 - - - - - - - - - - 사모 - - - - - - - - - - 합계 - - - - - - - - - - (작성기준일 : 2024년 06월 30일 ) (단위 : 원, %) 채권명 발행일 만기일 발행액 사채관리 계약체결일 사채관리회사 - - - - - - (이행현황기준일 : 2024년 06월 30일 ) 재무비율 유지현황 계약내용 - 이행현황 - 담보권설정 제한현황 계약내용 - 이행현황 - 자산처분 제한현황 계약내용 - 이행현황 - 지배구조변경 제한현황 계약내용 - 이행현황 - 이행상황보고서 제출현황 이행현황 - (기준일 : 2024년 06월 30일 ) (단위 : 원) 구 분 회차 납입일 증권신고서 등의 자금사용 계획 실제 자금사용 내역 차이발생 사유 등 사용용도 조달금액 내용 금액 - - - - - - - - 전자공시시스템 dart.fss.or.kr Page 179 ※ 해당사항 없음 사모자금의 사용내역 ※ 해당사항 없음 미사용자금의 운용내역 ※ 해당사항 없음 8. 기타 재무에 관한 사항 가. 재무제표 재작성 등 유의사항 (1) 재무제표 재작성 해당사항 없음 (2) 합병, 분할, 자산양수도, 영업양수도에 관한 사항 2022년 5월 중 종속기업 Samsung SDS Global SCL Beijing Co., Ltd는 종속기업 Samsung SDS China Co., Ltd.에 합병되었습니다. 2022년 7월 중 삼성에스디에스(주)와 Samsung SDS China Co., Ltd.는 홈 IoT사업 부문을 (주)직방과 직방북경과기(유)에 양도하는 것으로 2022년 1월 27일 이사회 결의하였고, 2022년 7월 27일 거래 종결 하였습니다. 2022년 11월 중 Samsung SDS Global Delivery & Development Center Xi'an Co., Ltd.는 GDC사업 부문을 Samsung SDS China Co., Ltd.에 양도하는 것으로 2022년 10월 28일 이사회 결의하였고, 2022년 11월 1일 거래 종결 하였습니다. (3)\"),\n",
              " Document(id='e3c45893-68ea-486f-ac62-a440698a95a9', metadata={'source': './분기보고서(2024.11.14).pdf', 'index': 0}, page_content='주당 현금배당금(원) 보통주 - 2,700 3,200 우선주 - - - 주당 주식배당(주) 보통주 - - - 우선주 - - - (단위: 회, %) 연속 배당횟수 평균 배당수익률 분기(중간)배당 결산배당 최근 3년간 최근 5년간 - 29 1.86 1.63 [지분증권의 발행 등과 관련된 사항] (기준일 : 2024년 09월 30일 ) (단위 : 원, 주) 주식발행 (감소)일자 발행(감소) 형태 발행(감소)한 주식의 내용 종류 수량 주당 주당발행 비고 전자공시시스템 dart.fss.or.kr Page 155 ※ 당사는 공시대상기간 중 자본금 변동사항이 없습니다. 나. 전환사채 등 발행현황 미상환 전환사채 발행현황 ※ 해당사항 없음 미상환 신주인수권부사채 등 발행현황 ※ 해당사항 없음 미상환 전환형 조건부자본증권 발행현황 ※ 해당사항 없음 다. 채무증권 발행실적 등 채무증권 발행실적 액면가액 (감소)가액 - - - - - - - (기준일 : 2024년 09월 30일 ) (단위 : 원, 주) 종류＼구분 회차 발행일 만기일 권면(전 자등록 )총액 전환대상 주식의 종류 전환청구 가능기간 전환조건 미상환사채 비고 전환비 율 (%) 전환가 액 권면(전 자등록 )총액 전환가능 주식수 - - - - - - - - - - - - 합 계 - - - - - - - - - - - (기준일 : 2024년 09월 30일 ) (단위 : 원, 주) 종류＼구분 회차 발행일 만기일 권면(전 자등록 )총액 행사대상 주식의 종류 신주인수 권 행사가 능기간 행사조건 미상환 사채 미행사 신주 인수권 비고 행사비 율 (%) 행사가 액 권면(전자 등록)총액 행사가능 주식수 - - - - - - - - - - - - 합 계 - - - - - - - - - - - (기준일 : 2024년 09월 30일 ) (단위 : 원, 주) 구분 회차 발행일 만기일 권면(전 자등록 )총액 주식 전환의 사유 주식 전환의 범위 전환가 액 주식전환으로 인하여 발행할 주식 비고 종류 수 - - - - - - - - - - - 합 계 - - - - - - - - - - [채무증권의 발행 등과 관련된 사항] (기준일 : 2024년 09월 30일 ) (단위 : 원, %) 발행회사 증권종류 발행방법 발행일자 권면(전자등 이자율 평가등급 만기일 상환 주관회사 전자공시시스템 dart.fss.or.kr Page 156 ※ 해당사항 없음 기업어음증권 미상환 잔액 ※ 해당사항 없음 단기사채 미상환 잔액 ※ 해당사항 없음 회사채 미상환 잔액 ※ 해당사항 없음 신종자본증권 미상환 잔액 ※ 해당사항 없음 조건부자본증권 미상환 잔액 록)총액 (평가기관) 여부 - - - - - - - - - - 합 계 - - - - - - - - - (기준일 : 2024년 09월 30일 ) (단위 : 원) 잔여만기 10일 이하 10일초과 30일이하 30일초과 90일이하 90일초과 180일이하 180일초과 1년이하 1년초과 2년이하 2년초과 3년이하 3년 초과 합 계 미상환 잔액 공모 - - - - - - - - - 사모 - - - - - - - - - 합계 - - - - - - - - - (기준일 : 2024년 09월 30일 ) (단위 : 원) 잔여만기 10일 이하 10일초과 30일이하 30일초과 90일이하 90일초과 180일이하 180일초과 1년이하 합 계 발행 한도 잔여 한도 미상환 잔액 공모 - - - - - - - - 사모 - - - - - - - - 합계 - - - - - - - - (기준일 : 2024년 09월 30일 ) (단위 : 원) 잔여만기 1년 이하 1년초과 2년이하 2년초과 3년이하 3년초과 4년이하 4년초과 5년이하 5년초과 10년이하 10년초과 합 계 미상환 잔액 공모 - - - - - - - - 사모 - - - - - - - - 합계 - - - - - - - - (기준일 : 2024년 09월 30일 ) (단위 : 원) 잔여만기 1년 이하 1년초과 5년이하 5년초과 10년이하 10년초과 15년이하 15년초과 20년이하 20년초과 30년이하 30년초과 합 계 미상환 잔액 공모 - - - - - - - - 사모 - - - - - - - - 합계 - - - - - - - - (기준일 : 2024년 09월 30일 ) (단위 : 원) 전자공시시스템 dart.fss.or.kr Page 157 ※ 해당사항 없음 사채관리계약 주요내용 및 충족여부 등 ※ 해당사항 없음 7-2. 증권의 발행을 통해 조달된 자금의 사용실적 공모자금의 사용내역 ※ 해당사항 없음 사모자금의 사용내역 잔여만기 1년 이하 1년초과 2년이하 2년초과 3년이하 3년초과 4년이하 4년초과 5년이하 5년초과 10년이하 10년초과 20년이하 20년초과 30년이하 30년초과 합 계 미상환 잔액 공모 - - - - - - - - - - 사모 - - - - - - - - - - 합계 - - - - - - - - - - (작성기준일 : 2024년 09월 30일 ) (단위 : 원, %) 채권명 발행일 만기일 발행액 사채관리 계약체결일 사채관리회사 - - - - - - (이행현황기준일 : 2024년 09월 30일 ) 재무비율 유지현황 계약내용 - 이행현황 - 담보권설정 제한현황 계약내용 - 이행현황 - 자산처분 제한현황 계약내용 - 이행현황 - 지배구조변경 제한현황 계약내용 - 이행현황 - 이행상황보고서 제출현황 이행현황 - (기준일 : 2024년 09월 30일 ) (단위 : 원) 구 분 회차 납입일 증권신고서 등의 자금사용 계획 실제 자금사용 내역 차이발생 사유 등 사용용도 조달금액 내용 금액 - - - - - - - - (기준일 : 2024년 09월 30일 ) (단위 : 원) 전자공시시스템 dart.fss.or.kr Page 158 ※ 해당사항 없음 미사용자금의 운용내역 ※ 해당사항 없음 8. 기타 재무에 관한 사항 가. 재무제표 재작성 등 유의사항 (1) 재무제표 재작성 해당사항 없음 (2) 합병, 분할, 자산양수도, 영업양수도에 관한 사항 2022년 5월 중 종속기업 Samsung SDS Global SCL Beijing Co., Ltd는 종속기업 Samsung SDS China Co., Ltd.에 합병되었습니다. 2022년 7월 중 삼성에스디에스(주)와 Samsung SDS China Co., Ltd.는 홈 IoT사업 부문을 (주)직방과 직방북경과기(유)에 양도하는 것으로 2022년 1월'),\n",
              " Document(id='89c1b1b3-b1e5-4429-a1ad-66bde7a3bbe6', metadata={'index': 1, 'source': './사업보고서(2025.03.11).pdf'}, page_content='채무상환 능력이 매우 우수하며, 예측 가능한 장래의 환경변화에 영향을 받을 가능성이 낮다. A2 단기적인 채무상환능력이 우수하지만, 장래의 환경변화에 의해 영향을 받을 가능성이 상위 등급에 비해서는 높다. A3 단기적인 채무상환능력은 있으나, 장래의 환경변화에 따라 저하될 가능성이 내포되어 있다. B 최소한의 단기적인 채무상환능력은 인정되나, 그 안정성은 가변적이어서 투기적이다. C 단기적인 채무상환능력이 의문시되며, 채무불이행이 발생할 가능성이 높다. D 현재 채무불이행 상태에 있다. 신용등급 내용 A1 적기상환능력이 최고수준이며, 현단계에서 합리적으로 예측가능한 장래의 어떠한 환경변화에도 영향을 받지 않을 만큼 안정적임. A2 적기상환능력이 우수하지만 A1등급에 비해 다소 열등한 요소가 있음. A3 적기상환능력이 양호하지만 장래 급격한 환경변화에 따라 다소 영향을 받을 가능성이 있음. B 적기상환능력은 인정되지만 투기적 요소가 내재되어 있음. C 적기상환능력이 의문시됨. D 지급불능상태에 있음. 주권상장 (또는 등록ㆍ지정)현황 주권상장 (또는 등록ㆍ지정)일자 특례상장 유형 유가증권시장 상장 2014년 11월 14일 해당사항 없음 전자공시시스템 dart.fss.or.kr Page 5 공시대상기간 중 변동된 사항은 없습니다 나. 경영진 및 감사의 중요한 변동 경영진 및 감사의 중요한 변동 ※ 2020년 3월 18일 주주총회에서 안정태 사내이사와 유혁, 신현한, 조승아 사외이사가 신규 선임되었고, 유재만 사외이사는 재선임되었습니다. 2020년 3월 18일 박학규 사내이사와 박정호, 박영열, 이재은 사외이사가 사임하였습니다. ※ 2021년 3월 17일 주주총회에서 황성우 사내이사와 구형준 사내이사가 신규 선임되었습니다. 2021년 3월 17일 홍원표 사내이사와 박성태 사내이사가 사임하였습니다. 2021년 3월 17일 이사회에서 황성우 사내이사가 대표이사로 선임되었습니다. ※ 2023년 3월 15일 주주총회에서 문무일, 이재진 사외이사가 신규 선임되었고, 안정태 사내이사와 신현한, 조승아 사외이사가 재선임되었습니다. 2023년 3월 15일 유재만, 유혁 사외이사가 사임하였습니다. ※ 2024년 3월 20일 주주총회에서 이인실 사외이사가 신규 선임되었고, 황성우, 구형준 사내이사가 재선임되었습니다. 2024년 3월 20일 조승아 사외이사가 사임하였습니다. 2024년 3월 20일 이사회에서 황성우 사내이사가 대표이사로 재선임되었습니다. ※ 당사는 제40기 정기주주총회(2025년 3월 19일)에서 이사 선임 안건을 상정할 예정으로, 선임 후보자 현황은 Ⅷ.임원 및 직원 등에 관한 사항을 참고하시기 바랍니다. 주주총회 결과는 2025년 3월 19일 전자공시시스템에 공시예정인 \"정기주주총회결과\"를 참고하시기 바랍니다. 다. 최대주주의 변동 당사의 최대주주는 삼성전자주식회사로 최근 5사업연도 중 최대주주의 변동내역은 없습니 다. 변동일자 주총종류 선임 임기만료 또는 해임 신규 재선임 2020년 03월 18일 정기주총 사내이사 안정태 사외이사 유 혁 사외이사 신현한 사외이사 조승아 사외이사 유재만 사내이사 박학규(사임) 사외이사 박정호 사외이사 박영열 사외이사 이재은 2021년 03월 17일 정기주총 사내이사 황성우 사내이사 구형준 - 대표이사 홍원표(사임) 사내이사 박성태(사임) 2021년 03월 17일 - 대표이사 황성우 - - 2023년 03월 15일 정기주총 사외이사 문무일 사외이사 이재진 사내이사 안정태 사외이사 신현한 사외이사 조승아 사외이사 유재만(사임) 사외이사 유 혁(사임) 2024년 03월 20일 정기주총 사외이사 이인실 사내이사 황성우 사내이사 구형준 사외이사 조승아(사임) 2024년 03월 20일 - - 대표이사 황성우 - 전자공시시스템 dart.fss.or.kr Page 6 ☞ 최대주주 관련 자세한 사항은 \\'Ⅶ. 주주에 관한 사항\\'을 참조하시기 바랍니다. 라. 상호의 변경 2021년 중 종속기업 Samsung SDS Global SCL America, Inc.의 사명이 Samsung SDS America, Inc.로, Samsung SDS Global SCL Latin America Logistica Ltda.의 사명이 Samsung SDS Latin America Tecnologia e Logistica Ltda. 로 변경되었습니다. ☞ 종속기업에 대한 사항은 \\'XII. 상세표\\'의 \\'1. 연결대상 종속회사 현황(상세)\\' 항목을 참조하시기 바랍니다. 마. 회사가 화의, 회사정리절차 그 밖에 이에 준하는 절차를 밟은 적이 있거나 현재 진행중인 경우 그 내용과 결과 당사는 본 보고서 제출일 현재 해당사항이 없습니다. 바. 회사가 합병등을 한 경우 그 내용 2021년 5월 중 종속기업 Samsung IT Services (Beijing) Co., Ltd. 는 종속기업 Samsung SDS China Co., Ltd.에 합병되었습니다. 2021년 7월 중 종속기업 Samsung SDS America, Inc.는 종속기업 Samsung SDS Global SCL America, Inc.에 합병되었으며, Samsung SDS Global SCL America, Inc.의 상호는 Samsung SDS America, Inc.로 변경되었습니다. 2021년 7월 중 종속기업 Samsung SDS Latin America Solucoes em Tecnologia Ltda.는 종속기업 Samsung SDS Global SCL Latin America Logistica Ltda.에 합병되었으며, Samsung SDS Global SCL Latin America Logistica Ltda.의 상호는 Samsung SDS Latin America Tecnologia e Logistica Ltda.로 변경되었습니다. 2021년 9월 중 종속기업 Samsung SDS India Private Limited는 종속기업 Samsung Data Systems India Private Limited에 합병되었습니다. 2022년 5월 중 종속기업 Samsung SDS Global SCL Beijing Co., Ltd. 는 종속기업 Samsung SDS China Co., Ltd. 에 합병되었습니다. ☞ 종속기업에 대한 사항은 \\'XII. 상세표\\'의 \\'1. 연결대상 종속회사 현황(상세)\\' 항목을 참조하시기 바랍니다. 사. 회사의 업종 또는 주된 사업의 변화 당사는 공시대상기간 중 해당사항이 없습니다. 아. 그 밖에 경영활동과 관련된 중요한 사항의 발생내용 날짜 내용 2020.01 글로벌 IT서비스 기업 브랜드 가치 11위 선정 (英 글로벌브랜드 컨설팅업체 브랜드파이낸스) 2020.01 EMM(모바일 보안 솔루션), 미국 국가안보국 산하 국가정보보증협회로부터 세계 최초로 최신 보안 인증(CC) 획득 2020.02 PwC컨설팅과 AI 기반 업무혁신 사업 확대 위한 MoU 체결 2020.02 포브스(Forbes) \\'글로벌 블록체인 50 기업\\'에 2년 연속 선정 전자공시시스템 dart.fss.or.kr Page 7 3. 자본금 변동사항 가. 자본금 변동추이 당사는 최근 5사업연도(\\'20.01.01 ~ \\'24.12.31) 중 자본금 변동사항이 없습니다. 2020.03 글로벌 기업 크레도락스와 블록체인 및 RPA 솔루션 기반 지급결제 플랫폼 사업 협력 2020.07 디지털 트랜스포메이션'),\n",
              " Document(id='172a30a2-db0c-4b16-a67b-d28480674c0d', metadata={'index': 1, 'source': './사업보고서(2025.03.11).pdf'}, page_content='배당금 당기 (단위 : 백만원) \\u3000 특수관계자 수취 배당금 234 지급결의한 배당금 84,695 전기 (단위 : 백만원) \\u3000 특수관계자 수취 배당금 18,296 지급결의한 배당금 99,070 \\u3000 특수관계자 배당 관련 미수금ㆍ미지급금 당기 (단위 : 백만원) \\u3000 특수관계자 미수 배당금 0 미지급 배당금 0 전자공시시스템 dart.fss.or.kr Page 160 35. 주당이익 (연결) 전기 (단위 : 백만원) \\u3000 특수관계자 미수 배당금 0 미지급 배당금 0 (6) 경영진에 대한 보상 당기 및 전기 중 지배회사의 등기임원에 대한 보상내역은 다음과 같습니다. 주요 경영진에 대한 보상내역 당기 (단위 : 천원) \\u3000 공시금액 단기종업원급여 3,669,904 장기급여 2,729,423 퇴직급여 498,702 합계 6,898,029 전기 (단위 : 천원) \\u3000 공시금액 단기종업원급여 3,548,382 장기급여 (1,699,647) 퇴직급여 415,462 합계 2,264,197 상기의 주요 경영진은 연결실체 활동의 계획ㆍ운영ㆍ통제에 대한 중요한 권한과 책임을 가진 지배 기업의 등기이사입니다. (1) 당기 및 전기 중 기본주당이익의 내역은 다음과 같습니다. 주당이익 당기 (단위 : 원) \\u3000 공시금액 기본주당이익 9,787 전기 (단위 : 원) \\u3000 공시금액 기본주당이익 8,965 (2) 기본주당이익 기본주당이익 계산에 사용된 지배기업소유지분순이익과 가중평균유통보통주식수는 다음과 같습니 다. 기본주당이익 계산에 사용된 내역 전자공시시스템 dart.fss.or.kr Page 161 36. 재무제표의 승인 (연결) 37. 온실가스 배출권과 배출부채 (연결) 당기 (단위 : 천원) \\u3000 공시금액 지배기업 소유지분 순이익 756,996,882 가중평균유통보통주식수 (단위: 주) 77,350,186 전기 (단위 : 천원) \\u3000 공시금액 지배기업 소유지분 순이익 693,422,012 가중평균유통보통주식수 (단위: 주) 77,350,186 (3) 희석주당이익 당기 및 전기 중 희석증권을 보유하지 않아 희석주당이익은 기본주당이익과 동일합니다. 동 재무제표는 2025년 1월 23일에 개최된 이사회에서 발행 승인되었으며, 2025년 3월 19일자 주주 총회에서 최종 승인될 예정입니다. 재무제표의 발행승인일 2025-01-23 (1) 당기말 현재 3차 계획기간(2021년~2025년)의 이행연도별로 무상할당받은 배출권의 수량은 다 음과 같습니다. 온실가스배출권 기간별 수량 \\u3000 \\u3000 \\u3000 \\u3000 \\u3000 무상할당받은 배출권의 수량 (단위: KAU) 자산 배출권 2021년분 무상할당배출 권 93,044 2022년분 무상할당배출 권 105,644 2023년분 무상할당배출 권 93,044 2024년분 무상할당배출 권 92,172 2025년분 무상할당배출 권 92,172 자산 합계 476,076 (2) 당기 및 전기 중 배출권 수량 및 장부금액의 증감내역은 다음과 같습니다. (배출권 수량 변동내역) (단위: KAU) 전자공시시스템 dart.fss.or.kr Page 162 온실가스배출권 수량의 변동내역 당기 \\u3000 \\u3000 공시금액 기초(단위: KAU) 93,143 무상할당(단위: KAU) 133,504 유상매입(단위: KAU) 47,089 매각(단위: KAU) 0 제출(*)(단위: KAU) (149,538) 기말(단위: KAU) 124,198 전기 \\u3000 \\u3000 공시금액 기초(단위: KAU) 115,594 무상할당(단위: KAU) 105,644 유상매입(단위: KAU) 0 매각(단위: KAU) (9,988) 제출(*)(단위: KAU) (118,107) 기말(단위: KAU) 93,143 (배출권 장부금액 변동내역) 온실가스배출권의 변동내역 당기 (단위 : 천원) \\u3000 공시금액 기초 0 무상할당 0 유상매입 415,939 매각 0 제출(*) (149,834) 기말 266,105 전기 (단위 : 천원) \\u3000 공시금액 기초 340,640 무상할당 0 유상매입 0 매각 (159,808) 제출(*) (180,832) 기말 0 (*) 당기 배출권 수량 변동 내역은 추정치로 추후 확정치와 차이가 발생할 수 있으며, 전기 배출권 수 전자공시시스템 dart.fss.or.kr Page 163 38. 사업결합 (연결) 량 변동 내역은 확정치로 조정 반영된 수량입니다. 당기말 현재 담보로 제공된 배출권은 없습니다. (3) 당기 이행연도에 대한 온실가스 배출량 추정치는 175,669 KAU 입니다. 온실가스 배출량 추정치 \\u3000 \\u3000 \\u3000 공시금액 온실가스 배출량 추정치(KAU) 175,669 (4) 당기 및 전기 중 배출부채 장부금액의 증감내역은 다음과 같습니다. 온실가스배출부채에 대한 공시 당기 (단위 : 천원) \\u3000 공시금액 기초 150,030 증가 203,562 감소 (150,030) 기말(*) 203,562 전기 (단위 : 천원) \\u3000 공시금액 기초 307,312 증가 150,030 감소 (307,312) 기말(*) 150,030 (*) 배출부채는 유동성충당부채에 포함되어 있습니다. (1) 연결실체는 2023년 5월 31일 주식회사 엠로와 그 종속기업들의 지분 33.39%를 취득하였으며, 과반 미만의 지분율을 보유하고 있으나 다른 의결권 보유자보다 유의적으로 많은 의결권을 보유하 고 있고 다른 주주들의 분포가 널리 분산되어 있는 점 등을 종합적으로 고려하여 실질적 지배력이 있는 것으로 판단하였습니다. 연결실체는 동 사업결합으로 인해 글로벌 시장 고객을 대상으로한 통 합 공급망플랫폼 사업이 확대될 것으로 기대하고 있습니다. (2) 전기 중 취득일 현재 (주)엠로의 식별가능한 자산과 부채의 공정가치는 다음과 같습니다. 사업결합에 대한 세부 정보 공시 전기 (단위 : 천원) \\u3000 \\u3000 \\u3000 사업결합 피취득자에 대한 명칭 (주)엠로 전자공시시스템 dart.fss.or.kr Page 164 피취득자에 대한 설명 주식회사 엠로와 그 종 속기업들의 지분 33.39% 취득일 2023-05-31 취득한 의결권이 있는 지분율 0.3339 사업결합의 주된 이유에 대한 기술 연결실체는 동 사업결합 으로 인해 글로벌 시장 고객을 대상으로한 통합 공급망플랫폼 사업이 확 대될 것으로 기대하고 있습니다. 피취득자에 대한 취득자의 지배력 획득 방법에 대한 기술 연결실체는 2023년 5월 31일 주식회사 엠로와 그 종속기업들의 지분 33.39%를 취득하였으며 , 과반 미만의 지분율을 보유하고 있으나 다른 의결권'),\n",
              " Document(id='6932f70b-b802-4aac-9c3e-06c319c33296', metadata={'index': 1, 'source': './사업보고서(2025.03.11).pdf'}, page_content='1,654,419 1,520,437 ㆍ무형자산 814,126 818,854 712,749 ㆍ사용권자산 916,317 821,718 827,595 ㆍ기타비유동자산 573,886 720,987 733,091 자산총계 13,238,330 12,321,025 11,952,425 [유동부채] 2,495,409 2,391,861 2,493,323 [비유동부채] 1,037,472 953,593 992,132 부채총계 3,532,881 3,345,454 3,485,455 지배기업 소유지분 9,333,119 8,658,009 8,223,193 [납입자본] 38,689 38,689 38,689 [주식발행초과금] 1,297,467 1,297,467 1,297,467 [이익잉여금] 7,995,006 7,446,854 7,000,953 [기타자본항목] 1,957 (125,001) (113,916) 비지배지분 372,330 317,562 243,777 자본총계 9,705,449 8,975,571 8,466,970 2024.01.01~2024.12.31 2023.01.01~2023.12.31 2022.01.01~2022.12.31 전자공시시스템 dart.fss.or.kr Page 35 ※ 한국채택국제회계기준(K-IFRS)에 따라 작성되었습니다. 나. 요약 별도재무정보 *삼성에스디에스 주식회사 매출액 13,828,232 13,276,844 17,234,750 영업이익 911,097 808,231 916,074 법인세차감전순이익 1,102,762 985,508 1,132,080 연결순이익 789,501 701,326 1,130,013 지배기업 소유주지분 756,997 693,422 1,099,745 비지배지분 32,504 7,904 30,268 기본주당순이익(단위: 원) 9,787 8,965 14,218 희석주당이익(단위: 원) 9,787 8,965 14,218 연결에 포함된 회사수 49개 48개 49개 (단위 : 백만원) 구 분 제 40 기 (2024년 12월말) 제 39 기 (2023년 12월말) 제 38 기 (2022년 12월말) [유동자산] 4,765,995 3,956,739 4,094,240 ㆍ 현금및현금성자산 292,340 207,266 261,769 ㆍ 단기금융상품 2,811,315 2,186,973 2,222,616 ㆍ 매출채권 1,021,088 928,387 861,915 ㆍ 미수금 472,544 459,893 566,537 ㆍ 선급금 30,172 23,452 53,361 ㆍ 선급비용 68,345 71,998 81,452 ㆍ 재고자산 5,115 4,531 8,862 ㆍ 기타유동자산 65,076 74,239 37,728 [비유동자산] 3,607,415 3,703,704 3,534,659 ㆍ기타포괄손익 - 공정가치측정금융자산 1,573 1,575 1,574 ㆍ당기손익 - 공정가치측정금융자산 3,501 50,253 3,330 ㆍ관계기업투자 24,296 25,425 25,425 ㆍ종속기업투자 676,401 626,664 513,614 ㆍ유형자산 1,629,936 1,526,460 1,422,886 ㆍ무형자산 547,520 556,724 573,865 ㆍ사용권자산 331,553 388,838 418,417 ㆍ기타비유동자산 392,635 527,765 575,548 자산총계 8,373,410 7,660,443 7,628,899 [유동부채] 991,673 1,079,973 1,067,177 [비유동부채] 399,917 452,488 547,040 부채총계 1,391,590 1,532,461 1,614,217 [납입자본] 38,689 38,689 38,689 전자공시시스템 dart.fss.or.kr Page 36 ※ 한국채택국제회계기준(K-IFRS)에 따라 작성되었습니다. [주식발행초과금] 1,297,467 1,297,467 1,297,467 [이익잉여금] 5,989,481 5,066,399 4,904,411 [기타자본항목] (343,817) (274,573) (225,885) 자본총계 6,981,820 6,127,982 6,014,682 종속·관계·공동기업 투자주식의 평가방법 원가법 원가법 원가법 2024.01.01~2024.12.31 2023.01.01~2023.12.31 2022.01.01~2022.12.31 매출액 5,447,352 5,166,839 5,174,554 영업이익 507,423 351,192 296,153 법인세차감전순이익 1,290,382 526,367 482,314 당기순이익 1,131,927 409,509 530,146 기본주당순이익(단위: 원) 14,634 5,294 6,854 전자공시시스템 dart.fss.or.kr Page 37 2. 연결재무제표 2-1. 연결 재무상태표 연결 재무상태표 제 40 기 2024.12.31 현재 제 39 기 2023.12.31 현재 제 38 기 2022.12.31 현재 (단위 : 원) \\u3000 제 40 기 제 39 기 제 38 기 자산 \\u3000 \\u3000 \\u3000 \\u3000유동자산 9,003,786,950,710 8,160,300,292,307 8,005,764,371,670 \\u3000\\u3000현금및현금성자산 1,668,766,407,204 1,787,694,554,183 1,392,134,431,709 \\u3000\\u3000단기금융상품 4,355,281,662,519 3,703,537,442,174 3,637,376,221,724 \\u3000\\u3000매출채권 1,720,313,462,609 1,482,447,864,085 1,651,518,939,884 \\u3000\\u3000미수금 813,897,287,781 746,434,747,193 899,219,909,069 \\u3000\\u3000선급금 56,842,374,815 56,603,635,591 79,164,244,622 \\u3000\\u3000선급비용 145,728,125,350 128,538,044,192 127,952,447,735 \\u3000\\u3000재고자산 18,980,443,722 23,535,380,327 40,898,414,807 \\u3000\\u3000기타유동자산 223,977,186,710 231,508,624,562 177,499,762,120 \\u3000비유동자산 4,234,543,300,986 4,160,724,268,716 3,946,660,517,819 \\u3000\\u3000기타포괄손익-공정가치측정금융자 산 22,521,632,228 14,625,130,936 12,345,875,803 \\u3000\\u3000당기손익-공정가치측정금융자산 22,922,212,882 18,860,583,954 21,930,269,866 \\u3000\\u3000관계기업투자주식 110,878,095,158 111,259,824,794 118,512,528,173 \\u3000\\u3000유형자산 1,773,892,203,533')]"
            ]
          },
          "metadata": {},
          "execution_count": 28
        }
      ]
    },
    {
      "cell_type": "markdown",
      "metadata": {
        "id": "Sd3aIA0UakiZ"
      },
      "source": [
        "# Contextual Retrieval    \n",
        "\n",
        "Claude가 제안한 Contextual Retrieval은 전체 Context를 활용하여     \n",
        "청크별 헤더를 추가하는 방법입니다.    "
      ]
    },
    {
      "cell_type": "code",
      "source": [
        "# 청크 초기화\n",
        "token_chunks = token_splitter.split_documents(all_papers)\n",
        "print(len(token_chunks))"
      ],
      "metadata": {
        "id": "Jmt6bx5aSW0p",
        "colab": {
          "base_uri": "https://localhost:8080/"
        },
        "outputId": "a979ff2a-5952-4cf1-c94e-c31abf2d21ea"
      },
      "execution_count": null,
      "outputs": [
        {
          "output_type": "stream",
          "name": "stdout",
          "text": [
            "371\n"
          ]
        }
      ]
    },
    {
      "cell_type": "code",
      "execution_count": null,
      "metadata": {
        "id": "ItWF7dQ9bKll"
      },
      "outputs": [],
      "source": [
        "context_prompt = ChatPromptTemplate(\n",
        "    [\n",
        "        ('user', '''\n",
        "기업 공시 보고서의 전체 내용과, 그 중 일부 Chunk가 주어집니다.\n",
        "주어진 Document의 일부인 Chunk에 대해\n",
        "간결하고 관련성 있는 짧은 설명을 생성하세요.\n",
        "청크만으로는 명확하지 않으나, 전체를 참고하여 파악할 수 있는 정보를 추가하여\n",
        "청크의 내용이 더 명확해지도록 하는 2~4문장 길이의 Context를 생성하면 됩니다.\n",
        "아래의 가이드라인을 참고하세요.\n",
        "\n",
        "1. 텍스트 부분에서 논의된 주요 주제나 개념을 포함하세요.\n",
        "2. 문서 전체의 문맥에서 관련 정보나 비교를 언급하세요.\n",
        "3. 가능한 경우, 이 정보가 문서의 전체적인 주제나 목적과 어떻게 연관되는지를 설명하세요.\n",
        "4. 중요한 정보를 제공하는 주요 항목과 수치를 포함하세요.\n",
        "5. 답변은 한국어로 작성합니다.\n",
        "\n",
        "답변은 간결하게 작성하세요.\n",
        "\n",
        "# Input Format\n",
        "\n",
        "- [Document]: `<document> {document} </document>`\n",
        "- [Chunk]: `<chunk> {chunk} </chunk>`\n",
        "\n",
        "Context:\n",
        "        ''')\n",
        "    ]\n",
        ")\n",
        "\n",
        "context_chain = context_prompt | llm | StrOutputParser()\n"
      ]
    },
    {
      "cell_type": "markdown",
      "metadata": {
        "id": "cIaH5yPgfF8C"
      },
      "source": [
        "Context가 잘 생성됐는지 확인해 봅니다."
      ]
    },
    {
      "cell_type": "code",
      "execution_count": null,
      "metadata": {
        "collapsed": true,
        "id": "oRMPSHjid0MN",
        "colab": {
          "base_uri": "https://localhost:8080/"
        },
        "outputId": "a90c8af6-da25-4cc4-a704-e83fd46a71ee"
      },
      "outputs": [
        {
          "output_type": "stream",
          "name": "stdout",
          "text": [
            "해당 청크는 주요 경영진의 급여 내역과 (주)엠로 임직원 대상 주식매입선택권 현황을 포함하고 있습니다. 경영진은 회사의 계획·운영·통제에 중대한 책임을 지며, 주식매입선택권은 2차부터 5차까지 부여되어 있으며, 총 633,540주의 선택권이 유효합니다. 이 정보는 임원 보상 및 직원 동기 부여 체계와 연계되어 당사의 인재 확보 및 유지 전략을 보여줍니다.\n",
            "========\n",
            "587,668 1,710,629 퇴직급여 124,353 375,821 합계 1,658,581 4,883,226 전분기 (단위 : 천원) 　 장부금액 　 공시금액 　 3개월 누적 단기종업원급여 986,156 2,704,797 장기급여 (1,394,893) (2,264,480) 퇴직급여 100,829 312,737 합계 (307,908) 753,054 상기의 주요 경영진은 연결실체 활동의 계획ㆍ운영ㆍ통제에 대한 중요한 권한과 책임을 가진 지배 기업의 등기이사입니다. (1) 연결실체인 (주)엠로가 임직원에 부여한 주식매입선택권 현황은 다음과 같습니다. 임직원에 부여한 주식매입선택권 현황 　 　 　 전체 종속기업 전자공시시스템 dart.fss.or.kr Page 96 종속기업 　 (주)엠로 　 주식 　 기명식 보통주식 2차 기명식 보통주식 3차 기명식 보통주식 4차 기명식 보통주식 5차 부여방법, 주식매 입선택권 이사회가 신주교부이사회가 신주교부이사회가 신주교부이사회가 신주교부 행사가능 조건, 주 식매입선택권 주식선택권 행사일 현재 재직중인 자 (사망, 정년퇴직, 임원으로의 승진 및 임원의 임기만 료 등 기타 본인의 귀책사유가 아닌 사유는 제외) 주식선택권 행사일 현재 재직중인 자 (사망, 정년퇴직, 임원으로의 승진 및 임원의 임기만 료 등 기타 본인의 귀책사유가 아닌 사유는 제외) 주식선택권 행사일 현재 재직중인 자 (사망, 정년퇴직, 임원으로의 승진 및 임원의 임기만 료 등 기타 본인의 귀책사유가 아닌 사유는 제외) 주식선택권 행사일 현재 재직중인 자 (사망, 정년퇴직, 임원으로의 승진 및 임원의 임기만 료 등 기타 본인의 귀책사유가 아닌 사유는 제외) 행사가능 기간, 주 식매입선택권 주식선택권 부여일 로부터 3년이 경과 한 날로부터 3년 이 내 주식선택권 부여일 로부터 3년이 경과 한 날로부터 3년 이 내 주식선택권 부여일 로부터 3년이 경과 한 날로부터 3년 이 내 주식선택권 부여일 로부터 3년이 경과 한 날로부터 3년 이 내 (2) (주)엠로가 임직원에게 부여한 주식선택권의 수량과 변동내역은 다음과 같습니다. 임직원에게 부여한 주식선택권의 수량과 변동내역 당분기 　 　 전체 종속기업 　 종속기업 　 (주)엠로 기초 주식선택권의 수량 (단위 : 주) 572,960 주식기준보상약정에 따라 부여된 주식선택권의 수량 (단위 : 주) 71,460 사업결합 이전에 부여된 종속회사의 주식선택권 (단위 : 주) 0 주식기준보상약정에 따라 만료된 주식선택권의 수량 (단위: 주) (10,880) 기말 주식선택권의 수량 (단위 : 주) 633,540 주식기준보상약정 중 행사할 수 있는 주식선택권 의 수량 (단위: 주) 0 기초 주식선택권의 가중평균행사가격 (단위 : 원) 18,751 주식기준보상약정 중 부여된 주식선택권의 가중 평균행사가격 58,405 사업결합 이전에 부여된 주식선택권의 가중평균 행사가격 (단위 : 원) 0 전자공시시스템 dart.fss.or.kr Page 97 주식기준보상약정 중 만료된 주식선택권의 가중 평균행사가격 (단위: 원) 26,080 기말 주식선택권의 가중평균행사가격 (단위 : 원) 23,098 전분기 　 　 전체 종속기업 　 종속기업 　 (주)엠로 기초 주식선택권의 수량 (단위 : 주) 0 주식기준보상약정에 따라 부여된 주식선택권의 수량 (단위 : 주) 0 사업결합 이전에 부여된 종속회사의 주식선택권 (단위 : 주) 576,360 주식기준보상약정에 따라 만료된 주식선택권의 수량 (단위: 주) (2,900) 기말 주식선택권의 수량 (단위 : 주) 573,460 주식기준보상약정 중 행사할 수 있는 주식선택권 의 수량 (단위: 주) 0 기초 주식선택권의 가중평균행사가격 (단위 : 원) 0 주식기준보상약정 중 부여된 주식선택권의 가중 평균행사가격 0 사업결합 이전에 부여된 주식선택권의 가중평균 행사가격 (단위 : 원) 18,838 주식기준보상약정 중 만료된 주식선택권의 가중 평균행사가격 (단위: 원) 36,299 기말 주식선택권의 가중평균행사가격 (단위 : 원) 18,750 보고기간말 현재 유효한 주식매입선택권의 만기와 행사가격은 아래와 같습니다. 주식매입선택권의 만기와 행사가격 　 (단위 : 원) 　 　 주식기준보상약정의 부여일 주식기준보상약정에 따라 부여된 주식선 택권의 최장만기에 대한 기술 부여된 주식수 (단위: 주) 가득된 주식수 (단위: 주) 존속하는 주식선택권 의 행사가격 (단위:원 ) 주식기준보상약정 기명식 보통주식 2차 2021-10-29 2027-10-29 425,440 0 16,440 기명식 보통주식 3차 2022-03-25 2028-03-25 94,860 0 17,678 기명식 보통주식 4차 2023-03-31 2029-03-31 43,380 0 43,393 기명식 보통주식 5차 2024-03-20 2030-03-19 69,860 0 58,405 주식기준보상약정 합계 　 　 633,540 0 　 (3) 당분기에 비용으로 인식한 주식기준보상은 6,207백만원이며, 전액 주식결제형 주식기준보상과 관련된 비용입니다. 비용으로 인식한 주식기준보상 　 (단위 : 백만원) 전자공시시스템 dart.fss.or.kr Page 98 공시금액 비용으로 인식한 주식기준보상 6,207 전자공시시스템 dart.fss.or.kr Page 99 4. 재무제표 4-1. 재무상태표 재무상태표 제 40 기 3분기말 2024.09.30 현재 제 39 기말 2023.12.31 현재 (단위 : 원) 　 제 40 기 3분기말 제 39 기말 자산 　 　 　유동자산 4,559,433,679,533 3,956,739,154,665 　　현금및현금성자산 205,888,741,694 207,266,399,485 　　단기금융상품 2,629,344,791,764 2,186,972,625,956 　　매출채권 1,061,248,439,419 928,387,012,570 　　미수금 473,987,742,066 459,892,622,077 　　선급금 33,275,296,183 23,451,792,895 　　선급비용 92,734,842,508\n"
          ]
        }
      ],
      "source": [
        "chunk = token_chunks[40]\n",
        "doc = all_papers[chunk.metadata['index']].page_content\n",
        "context = context_chain.invoke({'document':doc, 'chunk':chunk.page_content})\n",
        "print(context)\n",
        "print('========')\n",
        "print(chunk.page_content)"
      ]
    },
    {
      "cell_type": "markdown",
      "metadata": {
        "id": "VLZ_6-igfpVg"
      },
      "source": [
        "이제 Context 추가 작업을 수행합니다."
      ]
    },
    {
      "cell_type": "code",
      "execution_count": null,
      "metadata": {
        "id": "P-RwbdBmdxnz"
      },
      "outputs": [],
      "source": [
        "from tqdm import tqdm\n",
        "\n",
        "chunk_with_parents=[]\n",
        "\n",
        "for i, chunk in enumerate(tqdm(token_chunks)):\n",
        "    doc = all_papers[chunk.metadata['index']].page_content\n",
        "    chunk_with_parents.append({'document':doc, 'chunk':chunk.page_content})\n",
        "    # print('\\n'+context)\n",
        "    # print('---')\n",
        "\n",
        "# 10개씩 실행 (API 여유시 배치 늘리기)\n",
        "for i in tqdm(range(0, len(token_chunks), 10)):\n",
        "    contexts = context_chain.batch(chunk_with_parents[i:min(i+10, len(token_chunks))])\n",
        "    for j in range(i,min(i+10, len(token_chunks))):\n",
        "        token_chunks[j].page_content = context + '\\n\\n' + token_chunks[j].page_content"
      ]
    },
    {
      "cell_type": "markdown",
      "metadata": {
        "id": "ihlx6OjGf114"
      },
      "source": [
        "수정된 청크를 이용해, 벡터 데이터베이스를 다시 구성합니다."
      ]
    },
    {
      "cell_type": "code",
      "execution_count": null,
      "metadata": {
        "id": "Wl0TgOS2fwhZ"
      },
      "outputs": [],
      "source": [
        "db = Chroma(embedding_function=embeddings,\n",
        "                           persist_directory=\"./chroma_Web_ContextualRetrieval\",\n",
        "                           collection_metadata={'hnsw:space':'l2'},\n",
        "                           collection_name='Report',\n",
        "                           )\n",
        "\n",
        "# 50개씩 저장\n",
        "for i in range(0, len(token_chunks), 50):\n",
        "    db.add_documents(token_chunks[i:min(i+50, len(token_chunks))])"
      ]
    },
    {
      "cell_type": "markdown",
      "metadata": {
        "id": "ZRU-ZwSnf_0j"
      },
      "source": [
        "Contextual Header를 이용하기 위해, BM25와 Semantic Search를 결합합니다."
      ]
    },
    {
      "cell_type": "code",
      "execution_count": null,
      "metadata": {
        "id": "GfExqL5kgFyO"
      },
      "outputs": [],
      "source": [
        "bm25_retriever = BM25Retriever.from_documents(token_chunks, preprocess_func = kiwi_tokenize)\n",
        "bm25_retriever.k = 5\n",
        "\n",
        "retriever = db.as_retriever(search_kwargs={\"k\": 5})\n",
        "\n",
        "ensemble_retriever = EnsembleRetriever(\n",
        "    retrievers=[bm25_retriever, retriever], weights=[0.5, 0.5]\n",
        ")"
      ]
    },
    {
      "cell_type": "code",
      "execution_count": null,
      "metadata": {
        "id": "_WSfQZ6vgMuL"
      },
      "outputs": [],
      "source": [
        "rag_chain = (\n",
        "    {\"context\": ensemble_retriever | format_docs, \"question\": RunnablePassthrough()}\n",
        "    | prompt\n",
        "    | llm\n",
        "    | StrOutputParser()\n",
        ")\n",
        "\n",
        "result = rag_chain.batch(questions)\n",
        "for i, ans in enumerate(result):\n",
        "    print(f\"Question: {questions[i]}\")\n",
        "    print(f\"Answer: {ans}\")\n",
        "    print('---')"
      ]
    },
    {
      "cell_type": "code",
      "source": [],
      "metadata": {
        "id": "zFLwaGAMUHuI"
      },
      "execution_count": null,
      "outputs": []
    }
  ],
  "metadata": {
    "colab": {
      "provenance": [],
      "gpuType": "T4"
    },
    "kernelspec": {
      "display_name": "Python 3",
      "name": "python3"
    },
    "language_info": {
      "codemirror_mode": {
        "name": "ipython",
        "version": 3
      },
      "file_extension": ".py",
      "mimetype": "text/x-python",
      "name": "python",
      "nbconvert_exporter": "python",
      "pygments_lexer": "ipython3",
      "version": "3.10.11"
    },
    "accelerator": "GPU",
    "widgets": {
      "application/vnd.jupyter.widget-state+json": {
        "a4b0ce22fe954764bc14545a7d76393e": {
          "model_module": "@jupyter-widgets/controls",
          "model_name": "HBoxModel",
          "model_module_version": "1.5.0",
          "state": {
            "_dom_classes": [],
            "_model_module": "@jupyter-widgets/controls",
            "_model_module_version": "1.5.0",
            "_model_name": "HBoxModel",
            "_view_count": null,
            "_view_module": "@jupyter-widgets/controls",
            "_view_module_version": "1.5.0",
            "_view_name": "HBoxView",
            "box_style": "",
            "children": [
              "IPY_MODEL_cfc85a611eb5498d85182363f61c0fc4",
              "IPY_MODEL_495c8b8745cd4d869ad5f48029ad15a5",
              "IPY_MODEL_3e9c19fb68454ffb91c5652813a01226"
            ],
            "layout": "IPY_MODEL_6803a49d2d9b4390bca2016685e98863"
          }
        },
        "cfc85a611eb5498d85182363f61c0fc4": {
          "model_module": "@jupyter-widgets/controls",
          "model_name": "HTMLModel",
          "model_module_version": "1.5.0",
          "state": {
            "_dom_classes": [],
            "_model_module": "@jupyter-widgets/controls",
            "_model_module_version": "1.5.0",
            "_model_name": "HTMLModel",
            "_view_count": null,
            "_view_module": "@jupyter-widgets/controls",
            "_view_module_version": "1.5.0",
            "_view_name": "HTMLView",
            "description": "",
            "description_tooltip": null,
            "layout": "IPY_MODEL_4ea96bf3f8414528a1e6f37dbb2fef10",
            "placeholder": "​",
            "style": "IPY_MODEL_b84bf3c4bf1341c9bc8d24675c809b05",
            "value": "config.json: 100%"
          }
        },
        "495c8b8745cd4d869ad5f48029ad15a5": {
          "model_module": "@jupyter-widgets/controls",
          "model_name": "FloatProgressModel",
          "model_module_version": "1.5.0",
          "state": {
            "_dom_classes": [],
            "_model_module": "@jupyter-widgets/controls",
            "_model_module_version": "1.5.0",
            "_model_name": "FloatProgressModel",
            "_view_count": null,
            "_view_module": "@jupyter-widgets/controls",
            "_view_module_version": "1.5.0",
            "_view_name": "ProgressView",
            "bar_style": "success",
            "description": "",
            "description_tooltip": null,
            "layout": "IPY_MODEL_70f65b780a4847cfa326b4bb6d609191",
            "max": 795,
            "min": 0,
            "orientation": "horizontal",
            "style": "IPY_MODEL_bbc91075de9d409fa2d92d1ed2f18093",
            "value": 795
          }
        },
        "3e9c19fb68454ffb91c5652813a01226": {
          "model_module": "@jupyter-widgets/controls",
          "model_name": "HTMLModel",
          "model_module_version": "1.5.0",
          "state": {
            "_dom_classes": [],
            "_model_module": "@jupyter-widgets/controls",
            "_model_module_version": "1.5.0",
            "_model_name": "HTMLModel",
            "_view_count": null,
            "_view_module": "@jupyter-widgets/controls",
            "_view_module_version": "1.5.0",
            "_view_name": "HTMLView",
            "description": "",
            "description_tooltip": null,
            "layout": "IPY_MODEL_ed2c94bd24cd4761a84b7c095cfaa684",
            "placeholder": "​",
            "style": "IPY_MODEL_8e6fea0fa1cb4d68bde8a3a3968a4114",
            "value": " 795/795 [00:00&lt;00:00, 76.2kB/s]"
          }
        },
        "6803a49d2d9b4390bca2016685e98863": {
          "model_module": "@jupyter-widgets/base",
          "model_name": "LayoutModel",
          "model_module_version": "1.2.0",
          "state": {
            "_model_module": "@jupyter-widgets/base",
            "_model_module_version": "1.2.0",
            "_model_name": "LayoutModel",
            "_view_count": null,
            "_view_module": "@jupyter-widgets/base",
            "_view_module_version": "1.2.0",
            "_view_name": "LayoutView",
            "align_content": null,
            "align_items": null,
            "align_self": null,
            "border": null,
            "bottom": null,
            "display": null,
            "flex": null,
            "flex_flow": null,
            "grid_area": null,
            "grid_auto_columns": null,
            "grid_auto_flow": null,
            "grid_auto_rows": null,
            "grid_column": null,
            "grid_gap": null,
            "grid_row": null,
            "grid_template_areas": null,
            "grid_template_columns": null,
            "grid_template_rows": null,
            "height": null,
            "justify_content": null,
            "justify_items": null,
            "left": null,
            "margin": null,
            "max_height": null,
            "max_width": null,
            "min_height": null,
            "min_width": null,
            "object_fit": null,
            "object_position": null,
            "order": null,
            "overflow": null,
            "overflow_x": null,
            "overflow_y": null,
            "padding": null,
            "right": null,
            "top": null,
            "visibility": null,
            "width": null
          }
        },
        "4ea96bf3f8414528a1e6f37dbb2fef10": {
          "model_module": "@jupyter-widgets/base",
          "model_name": "LayoutModel",
          "model_module_version": "1.2.0",
          "state": {
            "_model_module": "@jupyter-widgets/base",
            "_model_module_version": "1.2.0",
            "_model_name": "LayoutModel",
            "_view_count": null,
            "_view_module": "@jupyter-widgets/base",
            "_view_module_version": "1.2.0",
            "_view_name": "LayoutView",
            "align_content": null,
            "align_items": null,
            "align_self": null,
            "border": null,
            "bottom": null,
            "display": null,
            "flex": null,
            "flex_flow": null,
            "grid_area": null,
            "grid_auto_columns": null,
            "grid_auto_flow": null,
            "grid_auto_rows": null,
            "grid_column": null,
            "grid_gap": null,
            "grid_row": null,
            "grid_template_areas": null,
            "grid_template_columns": null,
            "grid_template_rows": null,
            "height": null,
            "justify_content": null,
            "justify_items": null,
            "left": null,
            "margin": null,
            "max_height": null,
            "max_width": null,
            "min_height": null,
            "min_width": null,
            "object_fit": null,
            "object_position": null,
            "order": null,
            "overflow": null,
            "overflow_x": null,
            "overflow_y": null,
            "padding": null,
            "right": null,
            "top": null,
            "visibility": null,
            "width": null
          }
        },
        "b84bf3c4bf1341c9bc8d24675c809b05": {
          "model_module": "@jupyter-widgets/controls",
          "model_name": "DescriptionStyleModel",
          "model_module_version": "1.5.0",
          "state": {
            "_model_module": "@jupyter-widgets/controls",
            "_model_module_version": "1.5.0",
            "_model_name": "DescriptionStyleModel",
            "_view_count": null,
            "_view_module": "@jupyter-widgets/base",
            "_view_module_version": "1.2.0",
            "_view_name": "StyleView",
            "description_width": ""
          }
        },
        "70f65b780a4847cfa326b4bb6d609191": {
          "model_module": "@jupyter-widgets/base",
          "model_name": "LayoutModel",
          "model_module_version": "1.2.0",
          "state": {
            "_model_module": "@jupyter-widgets/base",
            "_model_module_version": "1.2.0",
            "_model_name": "LayoutModel",
            "_view_count": null,
            "_view_module": "@jupyter-widgets/base",
            "_view_module_version": "1.2.0",
            "_view_name": "LayoutView",
            "align_content": null,
            "align_items": null,
            "align_self": null,
            "border": null,
            "bottom": null,
            "display": null,
            "flex": null,
            "flex_flow": null,
            "grid_area": null,
            "grid_auto_columns": null,
            "grid_auto_flow": null,
            "grid_auto_rows": null,
            "grid_column": null,
            "grid_gap": null,
            "grid_row": null,
            "grid_template_areas": null,
            "grid_template_columns": null,
            "grid_template_rows": null,
            "height": null,
            "justify_content": null,
            "justify_items": null,
            "left": null,
            "margin": null,
            "max_height": null,
            "max_width": null,
            "min_height": null,
            "min_width": null,
            "object_fit": null,
            "object_position": null,
            "order": null,
            "overflow": null,
            "overflow_x": null,
            "overflow_y": null,
            "padding": null,
            "right": null,
            "top": null,
            "visibility": null,
            "width": null
          }
        },
        "bbc91075de9d409fa2d92d1ed2f18093": {
          "model_module": "@jupyter-widgets/controls",
          "model_name": "ProgressStyleModel",
          "model_module_version": "1.5.0",
          "state": {
            "_model_module": "@jupyter-widgets/controls",
            "_model_module_version": "1.5.0",
            "_model_name": "ProgressStyleModel",
            "_view_count": null,
            "_view_module": "@jupyter-widgets/base",
            "_view_module_version": "1.2.0",
            "_view_name": "StyleView",
            "bar_color": null,
            "description_width": ""
          }
        },
        "ed2c94bd24cd4761a84b7c095cfaa684": {
          "model_module": "@jupyter-widgets/base",
          "model_name": "LayoutModel",
          "model_module_version": "1.2.0",
          "state": {
            "_model_module": "@jupyter-widgets/base",
            "_model_module_version": "1.2.0",
            "_model_name": "LayoutModel",
            "_view_count": null,
            "_view_module": "@jupyter-widgets/base",
            "_view_module_version": "1.2.0",
            "_view_name": "LayoutView",
            "align_content": null,
            "align_items": null,
            "align_self": null,
            "border": null,
            "bottom": null,
            "display": null,
            "flex": null,
            "flex_flow": null,
            "grid_area": null,
            "grid_auto_columns": null,
            "grid_auto_flow": null,
            "grid_auto_rows": null,
            "grid_column": null,
            "grid_gap": null,
            "grid_row": null,
            "grid_template_areas": null,
            "grid_template_columns": null,
            "grid_template_rows": null,
            "height": null,
            "justify_content": null,
            "justify_items": null,
            "left": null,
            "margin": null,
            "max_height": null,
            "max_width": null,
            "min_height": null,
            "min_width": null,
            "object_fit": null,
            "object_position": null,
            "order": null,
            "overflow": null,
            "overflow_x": null,
            "overflow_y": null,
            "padding": null,
            "right": null,
            "top": null,
            "visibility": null,
            "width": null
          }
        },
        "8e6fea0fa1cb4d68bde8a3a3968a4114": {
          "model_module": "@jupyter-widgets/controls",
          "model_name": "DescriptionStyleModel",
          "model_module_version": "1.5.0",
          "state": {
            "_model_module": "@jupyter-widgets/controls",
            "_model_module_version": "1.5.0",
            "_model_name": "DescriptionStyleModel",
            "_view_count": null,
            "_view_module": "@jupyter-widgets/base",
            "_view_module_version": "1.2.0",
            "_view_name": "StyleView",
            "description_width": ""
          }
        },
        "318fdc13fab945f790c3bbabfb649c47": {
          "model_module": "@jupyter-widgets/controls",
          "model_name": "HBoxModel",
          "model_module_version": "1.5.0",
          "state": {
            "_dom_classes": [],
            "_model_module": "@jupyter-widgets/controls",
            "_model_module_version": "1.5.0",
            "_model_name": "HBoxModel",
            "_view_count": null,
            "_view_module": "@jupyter-widgets/controls",
            "_view_module_version": "1.5.0",
            "_view_name": "HBoxView",
            "box_style": "",
            "children": [
              "IPY_MODEL_f732b38f3e604d77a84a44f37dd8b536",
              "IPY_MODEL_1b320a3ecb3a4371940ff55c2248d15d",
              "IPY_MODEL_fdc8d4581ae24354a7d57c674b3e3ec4"
            ],
            "layout": "IPY_MODEL_4afb3a5524bc4e42a09badb9ab8f1a57"
          }
        },
        "f732b38f3e604d77a84a44f37dd8b536": {
          "model_module": "@jupyter-widgets/controls",
          "model_name": "HTMLModel",
          "model_module_version": "1.5.0",
          "state": {
            "_dom_classes": [],
            "_model_module": "@jupyter-widgets/controls",
            "_model_module_version": "1.5.0",
            "_model_name": "HTMLModel",
            "_view_count": null,
            "_view_module": "@jupyter-widgets/controls",
            "_view_module_version": "1.5.0",
            "_view_name": "HTMLView",
            "description": "",
            "description_tooltip": null,
            "layout": "IPY_MODEL_123516d5b8724ce6b9b034e0ca039268",
            "placeholder": "​",
            "style": "IPY_MODEL_a3bc80737d314489b8b371346b317e19",
            "value": "model.safetensors: 100%"
          }
        },
        "1b320a3ecb3a4371940ff55c2248d15d": {
          "model_module": "@jupyter-widgets/controls",
          "model_name": "FloatProgressModel",
          "model_module_version": "1.5.0",
          "state": {
            "_dom_classes": [],
            "_model_module": "@jupyter-widgets/controls",
            "_model_module_version": "1.5.0",
            "_model_name": "FloatProgressModel",
            "_view_count": null,
            "_view_module": "@jupyter-widgets/controls",
            "_view_module_version": "1.5.0",
            "_view_name": "ProgressView",
            "bar_style": "success",
            "description": "",
            "description_tooltip": null,
            "layout": "IPY_MODEL_f7d5c538014c4573aadeeef61fa73695",
            "max": 2271071852,
            "min": 0,
            "orientation": "horizontal",
            "style": "IPY_MODEL_331970984b9747e794ceaf96898a1d0e",
            "value": 2271071852
          }
        },
        "fdc8d4581ae24354a7d57c674b3e3ec4": {
          "model_module": "@jupyter-widgets/controls",
          "model_name": "HTMLModel",
          "model_module_version": "1.5.0",
          "state": {
            "_dom_classes": [],
            "_model_module": "@jupyter-widgets/controls",
            "_model_module_version": "1.5.0",
            "_model_name": "HTMLModel",
            "_view_count": null,
            "_view_module": "@jupyter-widgets/controls",
            "_view_module_version": "1.5.0",
            "_view_name": "HTMLView",
            "description": "",
            "description_tooltip": null,
            "layout": "IPY_MODEL_5ccec18ce92d48a08d9a48add50a572c",
            "placeholder": "​",
            "style": "IPY_MODEL_9b4dc37a1ddf4c4a9af57f531de3fd74",
            "value": " 2.27G/2.27G [00:44&lt;00:00, 33.7MB/s]"
          }
        },
        "4afb3a5524bc4e42a09badb9ab8f1a57": {
          "model_module": "@jupyter-widgets/base",
          "model_name": "LayoutModel",
          "model_module_version": "1.2.0",
          "state": {
            "_model_module": "@jupyter-widgets/base",
            "_model_module_version": "1.2.0",
            "_model_name": "LayoutModel",
            "_view_count": null,
            "_view_module": "@jupyter-widgets/base",
            "_view_module_version": "1.2.0",
            "_view_name": "LayoutView",
            "align_content": null,
            "align_items": null,
            "align_self": null,
            "border": null,
            "bottom": null,
            "display": null,
            "flex": null,
            "flex_flow": null,
            "grid_area": null,
            "grid_auto_columns": null,
            "grid_auto_flow": null,
            "grid_auto_rows": null,
            "grid_column": null,
            "grid_gap": null,
            "grid_row": null,
            "grid_template_areas": null,
            "grid_template_columns": null,
            "grid_template_rows": null,
            "height": null,
            "justify_content": null,
            "justify_items": null,
            "left": null,
            "margin": null,
            "max_height": null,
            "max_width": null,
            "min_height": null,
            "min_width": null,
            "object_fit": null,
            "object_position": null,
            "order": null,
            "overflow": null,
            "overflow_x": null,
            "overflow_y": null,
            "padding": null,
            "right": null,
            "top": null,
            "visibility": null,
            "width": null
          }
        },
        "123516d5b8724ce6b9b034e0ca039268": {
          "model_module": "@jupyter-widgets/base",
          "model_name": "LayoutModel",
          "model_module_version": "1.2.0",
          "state": {
            "_model_module": "@jupyter-widgets/base",
            "_model_module_version": "1.2.0",
            "_model_name": "LayoutModel",
            "_view_count": null,
            "_view_module": "@jupyter-widgets/base",
            "_view_module_version": "1.2.0",
            "_view_name": "LayoutView",
            "align_content": null,
            "align_items": null,
            "align_self": null,
            "border": null,
            "bottom": null,
            "display": null,
            "flex": null,
            "flex_flow": null,
            "grid_area": null,
            "grid_auto_columns": null,
            "grid_auto_flow": null,
            "grid_auto_rows": null,
            "grid_column": null,
            "grid_gap": null,
            "grid_row": null,
            "grid_template_areas": null,
            "grid_template_columns": null,
            "grid_template_rows": null,
            "height": null,
            "justify_content": null,
            "justify_items": null,
            "left": null,
            "margin": null,
            "max_height": null,
            "max_width": null,
            "min_height": null,
            "min_width": null,
            "object_fit": null,
            "object_position": null,
            "order": null,
            "overflow": null,
            "overflow_x": null,
            "overflow_y": null,
            "padding": null,
            "right": null,
            "top": null,
            "visibility": null,
            "width": null
          }
        },
        "a3bc80737d314489b8b371346b317e19": {
          "model_module": "@jupyter-widgets/controls",
          "model_name": "DescriptionStyleModel",
          "model_module_version": "1.5.0",
          "state": {
            "_model_module": "@jupyter-widgets/controls",
            "_model_module_version": "1.5.0",
            "_model_name": "DescriptionStyleModel",
            "_view_count": null,
            "_view_module": "@jupyter-widgets/base",
            "_view_module_version": "1.2.0",
            "_view_name": "StyleView",
            "description_width": ""
          }
        },
        "f7d5c538014c4573aadeeef61fa73695": {
          "model_module": "@jupyter-widgets/base",
          "model_name": "LayoutModel",
          "model_module_version": "1.2.0",
          "state": {
            "_model_module": "@jupyter-widgets/base",
            "_model_module_version": "1.2.0",
            "_model_name": "LayoutModel",
            "_view_count": null,
            "_view_module": "@jupyter-widgets/base",
            "_view_module_version": "1.2.0",
            "_view_name": "LayoutView",
            "align_content": null,
            "align_items": null,
            "align_self": null,
            "border": null,
            "bottom": null,
            "display": null,
            "flex": null,
            "flex_flow": null,
            "grid_area": null,
            "grid_auto_columns": null,
            "grid_auto_flow": null,
            "grid_auto_rows": null,
            "grid_column": null,
            "grid_gap": null,
            "grid_row": null,
            "grid_template_areas": null,
            "grid_template_columns": null,
            "grid_template_rows": null,
            "height": null,
            "justify_content": null,
            "justify_items": null,
            "left": null,
            "margin": null,
            "max_height": null,
            "max_width": null,
            "min_height": null,
            "min_width": null,
            "object_fit": null,
            "object_position": null,
            "order": null,
            "overflow": null,
            "overflow_x": null,
            "overflow_y": null,
            "padding": null,
            "right": null,
            "top": null,
            "visibility": null,
            "width": null
          }
        },
        "331970984b9747e794ceaf96898a1d0e": {
          "model_module": "@jupyter-widgets/controls",
          "model_name": "ProgressStyleModel",
          "model_module_version": "1.5.0",
          "state": {
            "_model_module": "@jupyter-widgets/controls",
            "_model_module_version": "1.5.0",
            "_model_name": "ProgressStyleModel",
            "_view_count": null,
            "_view_module": "@jupyter-widgets/base",
            "_view_module_version": "1.2.0",
            "_view_name": "StyleView",
            "bar_color": null,
            "description_width": ""
          }
        },
        "5ccec18ce92d48a08d9a48add50a572c": {
          "model_module": "@jupyter-widgets/base",
          "model_name": "LayoutModel",
          "model_module_version": "1.2.0",
          "state": {
            "_model_module": "@jupyter-widgets/base",
            "_model_module_version": "1.2.0",
            "_model_name": "LayoutModel",
            "_view_count": null,
            "_view_module": "@jupyter-widgets/base",
            "_view_module_version": "1.2.0",
            "_view_name": "LayoutView",
            "align_content": null,
            "align_items": null,
            "align_self": null,
            "border": null,
            "bottom": null,
            "display": null,
            "flex": null,
            "flex_flow": null,
            "grid_area": null,
            "grid_auto_columns": null,
            "grid_auto_flow": null,
            "grid_auto_rows": null,
            "grid_column": null,
            "grid_gap": null,
            "grid_row": null,
            "grid_template_areas": null,
            "grid_template_columns": null,
            "grid_template_rows": null,
            "height": null,
            "justify_content": null,
            "justify_items": null,
            "left": null,
            "margin": null,
            "max_height": null,
            "max_width": null,
            "min_height": null,
            "min_width": null,
            "object_fit": null,
            "object_position": null,
            "order": null,
            "overflow": null,
            "overflow_x": null,
            "overflow_y": null,
            "padding": null,
            "right": null,
            "top": null,
            "visibility": null,
            "width": null
          }
        },
        "9b4dc37a1ddf4c4a9af57f531de3fd74": {
          "model_module": "@jupyter-widgets/controls",
          "model_name": "DescriptionStyleModel",
          "model_module_version": "1.5.0",
          "state": {
            "_model_module": "@jupyter-widgets/controls",
            "_model_module_version": "1.5.0",
            "_model_name": "DescriptionStyleModel",
            "_view_count": null,
            "_view_module": "@jupyter-widgets/base",
            "_view_module_version": "1.2.0",
            "_view_name": "StyleView",
            "description_width": ""
          }
        },
        "466847887c9d4881a9553beae427d178": {
          "model_module": "@jupyter-widgets/controls",
          "model_name": "HBoxModel",
          "model_module_version": "1.5.0",
          "state": {
            "_dom_classes": [],
            "_model_module": "@jupyter-widgets/controls",
            "_model_module_version": "1.5.0",
            "_model_name": "HBoxModel",
            "_view_count": null,
            "_view_module": "@jupyter-widgets/controls",
            "_view_module_version": "1.5.0",
            "_view_name": "HBoxView",
            "box_style": "",
            "children": [
              "IPY_MODEL_97029a3bb48d4d76bbf35538a684a884",
              "IPY_MODEL_6acf2fae08df42458eba48a611495862",
              "IPY_MODEL_af8260db58d74c02823aa49f7a7207b1"
            ],
            "layout": "IPY_MODEL_9bcb60350c9043cd9aa7ab6fa3388b33"
          }
        },
        "97029a3bb48d4d76bbf35538a684a884": {
          "model_module": "@jupyter-widgets/controls",
          "model_name": "HTMLModel",
          "model_module_version": "1.5.0",
          "state": {
            "_dom_classes": [],
            "_model_module": "@jupyter-widgets/controls",
            "_model_module_version": "1.5.0",
            "_model_name": "HTMLModel",
            "_view_count": null,
            "_view_module": "@jupyter-widgets/controls",
            "_view_module_version": "1.5.0",
            "_view_name": "HTMLView",
            "description": "",
            "description_tooltip": null,
            "layout": "IPY_MODEL_c1d9d2dea935436e9189be0385074360",
            "placeholder": "​",
            "style": "IPY_MODEL_85cb7f5f81fd41dcbd991cc0ca1bd24e",
            "value": "tokenizer_config.json: "
          }
        },
        "6acf2fae08df42458eba48a611495862": {
          "model_module": "@jupyter-widgets/controls",
          "model_name": "FloatProgressModel",
          "model_module_version": "1.5.0",
          "state": {
            "_dom_classes": [],
            "_model_module": "@jupyter-widgets/controls",
            "_model_module_version": "1.5.0",
            "_model_name": "FloatProgressModel",
            "_view_count": null,
            "_view_module": "@jupyter-widgets/controls",
            "_view_module_version": "1.5.0",
            "_view_name": "ProgressView",
            "bar_style": "success",
            "description": "",
            "description_tooltip": null,
            "layout": "IPY_MODEL_0bcd7f3201b349f89cfff0f2e25111f4",
            "max": 1,
            "min": 0,
            "orientation": "horizontal",
            "style": "IPY_MODEL_eabc3d1a824648c29562ca716f18a185",
            "value": 1
          }
        },
        "af8260db58d74c02823aa49f7a7207b1": {
          "model_module": "@jupyter-widgets/controls",
          "model_name": "HTMLModel",
          "model_module_version": "1.5.0",
          "state": {
            "_dom_classes": [],
            "_model_module": "@jupyter-widgets/controls",
            "_model_module_version": "1.5.0",
            "_model_name": "HTMLModel",
            "_view_count": null,
            "_view_module": "@jupyter-widgets/controls",
            "_view_module_version": "1.5.0",
            "_view_name": "HTMLView",
            "description": "",
            "description_tooltip": null,
            "layout": "IPY_MODEL_e1619e731cf64179a71d87b9bafb3aac",
            "placeholder": "​",
            "style": "IPY_MODEL_dc458182a5ea46acbb9bff2d54b864e1",
            "value": " 1.17k/? [00:00&lt;00:00, 72.4kB/s]"
          }
        },
        "9bcb60350c9043cd9aa7ab6fa3388b33": {
          "model_module": "@jupyter-widgets/base",
          "model_name": "LayoutModel",
          "model_module_version": "1.2.0",
          "state": {
            "_model_module": "@jupyter-widgets/base",
            "_model_module_version": "1.2.0",
            "_model_name": "LayoutModel",
            "_view_count": null,
            "_view_module": "@jupyter-widgets/base",
            "_view_module_version": "1.2.0",
            "_view_name": "LayoutView",
            "align_content": null,
            "align_items": null,
            "align_self": null,
            "border": null,
            "bottom": null,
            "display": null,
            "flex": null,
            "flex_flow": null,
            "grid_area": null,
            "grid_auto_columns": null,
            "grid_auto_flow": null,
            "grid_auto_rows": null,
            "grid_column": null,
            "grid_gap": null,
            "grid_row": null,
            "grid_template_areas": null,
            "grid_template_columns": null,
            "grid_template_rows": null,
            "height": null,
            "justify_content": null,
            "justify_items": null,
            "left": null,
            "margin": null,
            "max_height": null,
            "max_width": null,
            "min_height": null,
            "min_width": null,
            "object_fit": null,
            "object_position": null,
            "order": null,
            "overflow": null,
            "overflow_x": null,
            "overflow_y": null,
            "padding": null,
            "right": null,
            "top": null,
            "visibility": null,
            "width": null
          }
        },
        "c1d9d2dea935436e9189be0385074360": {
          "model_module": "@jupyter-widgets/base",
          "model_name": "LayoutModel",
          "model_module_version": "1.2.0",
          "state": {
            "_model_module": "@jupyter-widgets/base",
            "_model_module_version": "1.2.0",
            "_model_name": "LayoutModel",
            "_view_count": null,
            "_view_module": "@jupyter-widgets/base",
            "_view_module_version": "1.2.0",
            "_view_name": "LayoutView",
            "align_content": null,
            "align_items": null,
            "align_self": null,
            "border": null,
            "bottom": null,
            "display": null,
            "flex": null,
            "flex_flow": null,
            "grid_area": null,
            "grid_auto_columns": null,
            "grid_auto_flow": null,
            "grid_auto_rows": null,
            "grid_column": null,
            "grid_gap": null,
            "grid_row": null,
            "grid_template_areas": null,
            "grid_template_columns": null,
            "grid_template_rows": null,
            "height": null,
            "justify_content": null,
            "justify_items": null,
            "left": null,
            "margin": null,
            "max_height": null,
            "max_width": null,
            "min_height": null,
            "min_width": null,
            "object_fit": null,
            "object_position": null,
            "order": null,
            "overflow": null,
            "overflow_x": null,
            "overflow_y": null,
            "padding": null,
            "right": null,
            "top": null,
            "visibility": null,
            "width": null
          }
        },
        "85cb7f5f81fd41dcbd991cc0ca1bd24e": {
          "model_module": "@jupyter-widgets/controls",
          "model_name": "DescriptionStyleModel",
          "model_module_version": "1.5.0",
          "state": {
            "_model_module": "@jupyter-widgets/controls",
            "_model_module_version": "1.5.0",
            "_model_name": "DescriptionStyleModel",
            "_view_count": null,
            "_view_module": "@jupyter-widgets/base",
            "_view_module_version": "1.2.0",
            "_view_name": "StyleView",
            "description_width": ""
          }
        },
        "0bcd7f3201b349f89cfff0f2e25111f4": {
          "model_module": "@jupyter-widgets/base",
          "model_name": "LayoutModel",
          "model_module_version": "1.2.0",
          "state": {
            "_model_module": "@jupyter-widgets/base",
            "_model_module_version": "1.2.0",
            "_model_name": "LayoutModel",
            "_view_count": null,
            "_view_module": "@jupyter-widgets/base",
            "_view_module_version": "1.2.0",
            "_view_name": "LayoutView",
            "align_content": null,
            "align_items": null,
            "align_self": null,
            "border": null,
            "bottom": null,
            "display": null,
            "flex": null,
            "flex_flow": null,
            "grid_area": null,
            "grid_auto_columns": null,
            "grid_auto_flow": null,
            "grid_auto_rows": null,
            "grid_column": null,
            "grid_gap": null,
            "grid_row": null,
            "grid_template_areas": null,
            "grid_template_columns": null,
            "grid_template_rows": null,
            "height": null,
            "justify_content": null,
            "justify_items": null,
            "left": null,
            "margin": null,
            "max_height": null,
            "max_width": null,
            "min_height": null,
            "min_width": null,
            "object_fit": null,
            "object_position": null,
            "order": null,
            "overflow": null,
            "overflow_x": null,
            "overflow_y": null,
            "padding": null,
            "right": null,
            "top": null,
            "visibility": null,
            "width": "20px"
          }
        },
        "eabc3d1a824648c29562ca716f18a185": {
          "model_module": "@jupyter-widgets/controls",
          "model_name": "ProgressStyleModel",
          "model_module_version": "1.5.0",
          "state": {
            "_model_module": "@jupyter-widgets/controls",
            "_model_module_version": "1.5.0",
            "_model_name": "ProgressStyleModel",
            "_view_count": null,
            "_view_module": "@jupyter-widgets/base",
            "_view_module_version": "1.2.0",
            "_view_name": "StyleView",
            "bar_color": null,
            "description_width": ""
          }
        },
        "e1619e731cf64179a71d87b9bafb3aac": {
          "model_module": "@jupyter-widgets/base",
          "model_name": "LayoutModel",
          "model_module_version": "1.2.0",
          "state": {
            "_model_module": "@jupyter-widgets/base",
            "_model_module_version": "1.2.0",
            "_model_name": "LayoutModel",
            "_view_count": null,
            "_view_module": "@jupyter-widgets/base",
            "_view_module_version": "1.2.0",
            "_view_name": "LayoutView",
            "align_content": null,
            "align_items": null,
            "align_self": null,
            "border": null,
            "bottom": null,
            "display": null,
            "flex": null,
            "flex_flow": null,
            "grid_area": null,
            "grid_auto_columns": null,
            "grid_auto_flow": null,
            "grid_auto_rows": null,
            "grid_column": null,
            "grid_gap": null,
            "grid_row": null,
            "grid_template_areas": null,
            "grid_template_columns": null,
            "grid_template_rows": null,
            "height": null,
            "justify_content": null,
            "justify_items": null,
            "left": null,
            "margin": null,
            "max_height": null,
            "max_width": null,
            "min_height": null,
            "min_width": null,
            "object_fit": null,
            "object_position": null,
            "order": null,
            "overflow": null,
            "overflow_x": null,
            "overflow_y": null,
            "padding": null,
            "right": null,
            "top": null,
            "visibility": null,
            "width": null
          }
        },
        "dc458182a5ea46acbb9bff2d54b864e1": {
          "model_module": "@jupyter-widgets/controls",
          "model_name": "DescriptionStyleModel",
          "model_module_version": "1.5.0",
          "state": {
            "_model_module": "@jupyter-widgets/controls",
            "_model_module_version": "1.5.0",
            "_model_name": "DescriptionStyleModel",
            "_view_count": null,
            "_view_module": "@jupyter-widgets/base",
            "_view_module_version": "1.2.0",
            "_view_name": "StyleView",
            "description_width": ""
          }
        },
        "61d924cbceb243ddb1430128eb1c0634": {
          "model_module": "@jupyter-widgets/controls",
          "model_name": "HBoxModel",
          "model_module_version": "1.5.0",
          "state": {
            "_dom_classes": [],
            "_model_module": "@jupyter-widgets/controls",
            "_model_module_version": "1.5.0",
            "_model_name": "HBoxModel",
            "_view_count": null,
            "_view_module": "@jupyter-widgets/controls",
            "_view_module_version": "1.5.0",
            "_view_name": "HBoxView",
            "box_style": "",
            "children": [
              "IPY_MODEL_c6391d47d5684e14abc4fa9df700091d",
              "IPY_MODEL_9467261ffe89409aad3c35bdca8401e3",
              "IPY_MODEL_186b5a7ca2644fa09a7735e00aa823bc"
            ],
            "layout": "IPY_MODEL_8c1f1ff694da44aca6caad6399d55415"
          }
        },
        "c6391d47d5684e14abc4fa9df700091d": {
          "model_module": "@jupyter-widgets/controls",
          "model_name": "HTMLModel",
          "model_module_version": "1.5.0",
          "state": {
            "_dom_classes": [],
            "_model_module": "@jupyter-widgets/controls",
            "_model_module_version": "1.5.0",
            "_model_name": "HTMLModel",
            "_view_count": null,
            "_view_module": "@jupyter-widgets/controls",
            "_view_module_version": "1.5.0",
            "_view_name": "HTMLView",
            "description": "",
            "description_tooltip": null,
            "layout": "IPY_MODEL_527798bebb984c82bb519f03980b9339",
            "placeholder": "​",
            "style": "IPY_MODEL_42fb0d2acfbf4a8cac47a46e8ba08f5e",
            "value": "sentencepiece.bpe.model: 100%"
          }
        },
        "9467261ffe89409aad3c35bdca8401e3": {
          "model_module": "@jupyter-widgets/controls",
          "model_name": "FloatProgressModel",
          "model_module_version": "1.5.0",
          "state": {
            "_dom_classes": [],
            "_model_module": "@jupyter-widgets/controls",
            "_model_module_version": "1.5.0",
            "_model_name": "FloatProgressModel",
            "_view_count": null,
            "_view_module": "@jupyter-widgets/controls",
            "_view_module_version": "1.5.0",
            "_view_name": "ProgressView",
            "bar_style": "success",
            "description": "",
            "description_tooltip": null,
            "layout": "IPY_MODEL_de5d410b4cdb4456955b9369cf636dbf",
            "max": 5069051,
            "min": 0,
            "orientation": "horizontal",
            "style": "IPY_MODEL_91d47a916691422f8bfa675ef20cb6c9",
            "value": 5069051
          }
        },
        "186b5a7ca2644fa09a7735e00aa823bc": {
          "model_module": "@jupyter-widgets/controls",
          "model_name": "HTMLModel",
          "model_module_version": "1.5.0",
          "state": {
            "_dom_classes": [],
            "_model_module": "@jupyter-widgets/controls",
            "_model_module_version": "1.5.0",
            "_model_name": "HTMLModel",
            "_view_count": null,
            "_view_module": "@jupyter-widgets/controls",
            "_view_module_version": "1.5.0",
            "_view_name": "HTMLView",
            "description": "",
            "description_tooltip": null,
            "layout": "IPY_MODEL_2605224152bb4cbebcff9947bf63c9c3",
            "placeholder": "​",
            "style": "IPY_MODEL_3d90933d0a494056b181ca58a1e3bf42",
            "value": " 5.07M/5.07M [00:00&lt;00:00, 11.2MB/s]"
          }
        },
        "8c1f1ff694da44aca6caad6399d55415": {
          "model_module": "@jupyter-widgets/base",
          "model_name": "LayoutModel",
          "model_module_version": "1.2.0",
          "state": {
            "_model_module": "@jupyter-widgets/base",
            "_model_module_version": "1.2.0",
            "_model_name": "LayoutModel",
            "_view_count": null,
            "_view_module": "@jupyter-widgets/base",
            "_view_module_version": "1.2.0",
            "_view_name": "LayoutView",
            "align_content": null,
            "align_items": null,
            "align_self": null,
            "border": null,
            "bottom": null,
            "display": null,
            "flex": null,
            "flex_flow": null,
            "grid_area": null,
            "grid_auto_columns": null,
            "grid_auto_flow": null,
            "grid_auto_rows": null,
            "grid_column": null,
            "grid_gap": null,
            "grid_row": null,
            "grid_template_areas": null,
            "grid_template_columns": null,
            "grid_template_rows": null,
            "height": null,
            "justify_content": null,
            "justify_items": null,
            "left": null,
            "margin": null,
            "max_height": null,
            "max_width": null,
            "min_height": null,
            "min_width": null,
            "object_fit": null,
            "object_position": null,
            "order": null,
            "overflow": null,
            "overflow_x": null,
            "overflow_y": null,
            "padding": null,
            "right": null,
            "top": null,
            "visibility": null,
            "width": null
          }
        },
        "527798bebb984c82bb519f03980b9339": {
          "model_module": "@jupyter-widgets/base",
          "model_name": "LayoutModel",
          "model_module_version": "1.2.0",
          "state": {
            "_model_module": "@jupyter-widgets/base",
            "_model_module_version": "1.2.0",
            "_model_name": "LayoutModel",
            "_view_count": null,
            "_view_module": "@jupyter-widgets/base",
            "_view_module_version": "1.2.0",
            "_view_name": "LayoutView",
            "align_content": null,
            "align_items": null,
            "align_self": null,
            "border": null,
            "bottom": null,
            "display": null,
            "flex": null,
            "flex_flow": null,
            "grid_area": null,
            "grid_auto_columns": null,
            "grid_auto_flow": null,
            "grid_auto_rows": null,
            "grid_column": null,
            "grid_gap": null,
            "grid_row": null,
            "grid_template_areas": null,
            "grid_template_columns": null,
            "grid_template_rows": null,
            "height": null,
            "justify_content": null,
            "justify_items": null,
            "left": null,
            "margin": null,
            "max_height": null,
            "max_width": null,
            "min_height": null,
            "min_width": null,
            "object_fit": null,
            "object_position": null,
            "order": null,
            "overflow": null,
            "overflow_x": null,
            "overflow_y": null,
            "padding": null,
            "right": null,
            "top": null,
            "visibility": null,
            "width": null
          }
        },
        "42fb0d2acfbf4a8cac47a46e8ba08f5e": {
          "model_module": "@jupyter-widgets/controls",
          "model_name": "DescriptionStyleModel",
          "model_module_version": "1.5.0",
          "state": {
            "_model_module": "@jupyter-widgets/controls",
            "_model_module_version": "1.5.0",
            "_model_name": "DescriptionStyleModel",
            "_view_count": null,
            "_view_module": "@jupyter-widgets/base",
            "_view_module_version": "1.2.0",
            "_view_name": "StyleView",
            "description_width": ""
          }
        },
        "de5d410b4cdb4456955b9369cf636dbf": {
          "model_module": "@jupyter-widgets/base",
          "model_name": "LayoutModel",
          "model_module_version": "1.2.0",
          "state": {
            "_model_module": "@jupyter-widgets/base",
            "_model_module_version": "1.2.0",
            "_model_name": "LayoutModel",
            "_view_count": null,
            "_view_module": "@jupyter-widgets/base",
            "_view_module_version": "1.2.0",
            "_view_name": "LayoutView",
            "align_content": null,
            "align_items": null,
            "align_self": null,
            "border": null,
            "bottom": null,
            "display": null,
            "flex": null,
            "flex_flow": null,
            "grid_area": null,
            "grid_auto_columns": null,
            "grid_auto_flow": null,
            "grid_auto_rows": null,
            "grid_column": null,
            "grid_gap": null,
            "grid_row": null,
            "grid_template_areas": null,
            "grid_template_columns": null,
            "grid_template_rows": null,
            "height": null,
            "justify_content": null,
            "justify_items": null,
            "left": null,
            "margin": null,
            "max_height": null,
            "max_width": null,
            "min_height": null,
            "min_width": null,
            "object_fit": null,
            "object_position": null,
            "order": null,
            "overflow": null,
            "overflow_x": null,
            "overflow_y": null,
            "padding": null,
            "right": null,
            "top": null,
            "visibility": null,
            "width": null
          }
        },
        "91d47a916691422f8bfa675ef20cb6c9": {
          "model_module": "@jupyter-widgets/controls",
          "model_name": "ProgressStyleModel",
          "model_module_version": "1.5.0",
          "state": {
            "_model_module": "@jupyter-widgets/controls",
            "_model_module_version": "1.5.0",
            "_model_name": "ProgressStyleModel",
            "_view_count": null,
            "_view_module": "@jupyter-widgets/base",
            "_view_module_version": "1.2.0",
            "_view_name": "StyleView",
            "bar_color": null,
            "description_width": ""
          }
        },
        "2605224152bb4cbebcff9947bf63c9c3": {
          "model_module": "@jupyter-widgets/base",
          "model_name": "LayoutModel",
          "model_module_version": "1.2.0",
          "state": {
            "_model_module": "@jupyter-widgets/base",
            "_model_module_version": "1.2.0",
            "_model_name": "LayoutModel",
            "_view_count": null,
            "_view_module": "@jupyter-widgets/base",
            "_view_module_version": "1.2.0",
            "_view_name": "LayoutView",
            "align_content": null,
            "align_items": null,
            "align_self": null,
            "border": null,
            "bottom": null,
            "display": null,
            "flex": null,
            "flex_flow": null,
            "grid_area": null,
            "grid_auto_columns": null,
            "grid_auto_flow": null,
            "grid_auto_rows": null,
            "grid_column": null,
            "grid_gap": null,
            "grid_row": null,
            "grid_template_areas": null,
            "grid_template_columns": null,
            "grid_template_rows": null,
            "height": null,
            "justify_content": null,
            "justify_items": null,
            "left": null,
            "margin": null,
            "max_height": null,
            "max_width": null,
            "min_height": null,
            "min_width": null,
            "object_fit": null,
            "object_position": null,
            "order": null,
            "overflow": null,
            "overflow_x": null,
            "overflow_y": null,
            "padding": null,
            "right": null,
            "top": null,
            "visibility": null,
            "width": null
          }
        },
        "3d90933d0a494056b181ca58a1e3bf42": {
          "model_module": "@jupyter-widgets/controls",
          "model_name": "DescriptionStyleModel",
          "model_module_version": "1.5.0",
          "state": {
            "_model_module": "@jupyter-widgets/controls",
            "_model_module_version": "1.5.0",
            "_model_name": "DescriptionStyleModel",
            "_view_count": null,
            "_view_module": "@jupyter-widgets/base",
            "_view_module_version": "1.2.0",
            "_view_name": "StyleView",
            "description_width": ""
          }
        },
        "f93f36f17cda4cef90d2aa4feed618ad": {
          "model_module": "@jupyter-widgets/controls",
          "model_name": "HBoxModel",
          "model_module_version": "1.5.0",
          "state": {
            "_dom_classes": [],
            "_model_module": "@jupyter-widgets/controls",
            "_model_module_version": "1.5.0",
            "_model_name": "HBoxModel",
            "_view_count": null,
            "_view_module": "@jupyter-widgets/controls",
            "_view_module_version": "1.5.0",
            "_view_name": "HBoxView",
            "box_style": "",
            "children": [
              "IPY_MODEL_98249fe784d7448a96484192de7962c1",
              "IPY_MODEL_13cf2c2244f542949bd8b05ce8111d66",
              "IPY_MODEL_5648dd3ee5584798a20b858528e2aed8"
            ],
            "layout": "IPY_MODEL_c4bb15a568f24276849dd783fcbd992c"
          }
        },
        "98249fe784d7448a96484192de7962c1": {
          "model_module": "@jupyter-widgets/controls",
          "model_name": "HTMLModel",
          "model_module_version": "1.5.0",
          "state": {
            "_dom_classes": [],
            "_model_module": "@jupyter-widgets/controls",
            "_model_module_version": "1.5.0",
            "_model_name": "HTMLModel",
            "_view_count": null,
            "_view_module": "@jupyter-widgets/controls",
            "_view_module_version": "1.5.0",
            "_view_name": "HTMLView",
            "description": "",
            "description_tooltip": null,
            "layout": "IPY_MODEL_caf903f305cb4526ac6576e49796fe0b",
            "placeholder": "​",
            "style": "IPY_MODEL_0c6de9085a9c4221886db26c25cdc48b",
            "value": "tokenizer.json: 100%"
          }
        },
        "13cf2c2244f542949bd8b05ce8111d66": {
          "model_module": "@jupyter-widgets/controls",
          "model_name": "FloatProgressModel",
          "model_module_version": "1.5.0",
          "state": {
            "_dom_classes": [],
            "_model_module": "@jupyter-widgets/controls",
            "_model_module_version": "1.5.0",
            "_model_name": "FloatProgressModel",
            "_view_count": null,
            "_view_module": "@jupyter-widgets/controls",
            "_view_module_version": "1.5.0",
            "_view_name": "ProgressView",
            "bar_style": "success",
            "description": "",
            "description_tooltip": null,
            "layout": "IPY_MODEL_bca5e7350c6b42cf9f82089f13eb1f45",
            "max": 17098273,
            "min": 0,
            "orientation": "horizontal",
            "style": "IPY_MODEL_f74f1dd9fe834b999dda6dfc7937d08f",
            "value": 17098273
          }
        },
        "5648dd3ee5584798a20b858528e2aed8": {
          "model_module": "@jupyter-widgets/controls",
          "model_name": "HTMLModel",
          "model_module_version": "1.5.0",
          "state": {
            "_dom_classes": [],
            "_model_module": "@jupyter-widgets/controls",
            "_model_module_version": "1.5.0",
            "_model_name": "HTMLModel",
            "_view_count": null,
            "_view_module": "@jupyter-widgets/controls",
            "_view_module_version": "1.5.0",
            "_view_name": "HTMLView",
            "description": "",
            "description_tooltip": null,
            "layout": "IPY_MODEL_e02919594fea411696eb83b3bdfe7f62",
            "placeholder": "​",
            "style": "IPY_MODEL_94e2451bda1a43528edb6b3f5242e62a",
            "value": " 17.1M/17.1M [00:00&lt;00:00, 75.2MB/s]"
          }
        },
        "c4bb15a568f24276849dd783fcbd992c": {
          "model_module": "@jupyter-widgets/base",
          "model_name": "LayoutModel",
          "model_module_version": "1.2.0",
          "state": {
            "_model_module": "@jupyter-widgets/base",
            "_model_module_version": "1.2.0",
            "_model_name": "LayoutModel",
            "_view_count": null,
            "_view_module": "@jupyter-widgets/base",
            "_view_module_version": "1.2.0",
            "_view_name": "LayoutView",
            "align_content": null,
            "align_items": null,
            "align_self": null,
            "border": null,
            "bottom": null,
            "display": null,
            "flex": null,
            "flex_flow": null,
            "grid_area": null,
            "grid_auto_columns": null,
            "grid_auto_flow": null,
            "grid_auto_rows": null,
            "grid_column": null,
            "grid_gap": null,
            "grid_row": null,
            "grid_template_areas": null,
            "grid_template_columns": null,
            "grid_template_rows": null,
            "height": null,
            "justify_content": null,
            "justify_items": null,
            "left": null,
            "margin": null,
            "max_height": null,
            "max_width": null,
            "min_height": null,
            "min_width": null,
            "object_fit": null,
            "object_position": null,
            "order": null,
            "overflow": null,
            "overflow_x": null,
            "overflow_y": null,
            "padding": null,
            "right": null,
            "top": null,
            "visibility": null,
            "width": null
          }
        },
        "caf903f305cb4526ac6576e49796fe0b": {
          "model_module": "@jupyter-widgets/base",
          "model_name": "LayoutModel",
          "model_module_version": "1.2.0",
          "state": {
            "_model_module": "@jupyter-widgets/base",
            "_model_module_version": "1.2.0",
            "_model_name": "LayoutModel",
            "_view_count": null,
            "_view_module": "@jupyter-widgets/base",
            "_view_module_version": "1.2.0",
            "_view_name": "LayoutView",
            "align_content": null,
            "align_items": null,
            "align_self": null,
            "border": null,
            "bottom": null,
            "display": null,
            "flex": null,
            "flex_flow": null,
            "grid_area": null,
            "grid_auto_columns": null,
            "grid_auto_flow": null,
            "grid_auto_rows": null,
            "grid_column": null,
            "grid_gap": null,
            "grid_row": null,
            "grid_template_areas": null,
            "grid_template_columns": null,
            "grid_template_rows": null,
            "height": null,
            "justify_content": null,
            "justify_items": null,
            "left": null,
            "margin": null,
            "max_height": null,
            "max_width": null,
            "min_height": null,
            "min_width": null,
            "object_fit": null,
            "object_position": null,
            "order": null,
            "overflow": null,
            "overflow_x": null,
            "overflow_y": null,
            "padding": null,
            "right": null,
            "top": null,
            "visibility": null,
            "width": null
          }
        },
        "0c6de9085a9c4221886db26c25cdc48b": {
          "model_module": "@jupyter-widgets/controls",
          "model_name": "DescriptionStyleModel",
          "model_module_version": "1.5.0",
          "state": {
            "_model_module": "@jupyter-widgets/controls",
            "_model_module_version": "1.5.0",
            "_model_name": "DescriptionStyleModel",
            "_view_count": null,
            "_view_module": "@jupyter-widgets/base",
            "_view_module_version": "1.2.0",
            "_view_name": "StyleView",
            "description_width": ""
          }
        },
        "bca5e7350c6b42cf9f82089f13eb1f45": {
          "model_module": "@jupyter-widgets/base",
          "model_name": "LayoutModel",
          "model_module_version": "1.2.0",
          "state": {
            "_model_module": "@jupyter-widgets/base",
            "_model_module_version": "1.2.0",
            "_model_name": "LayoutModel",
            "_view_count": null,
            "_view_module": "@jupyter-widgets/base",
            "_view_module_version": "1.2.0",
            "_view_name": "LayoutView",
            "align_content": null,
            "align_items": null,
            "align_self": null,
            "border": null,
            "bottom": null,
            "display": null,
            "flex": null,
            "flex_flow": null,
            "grid_area": null,
            "grid_auto_columns": null,
            "grid_auto_flow": null,
            "grid_auto_rows": null,
            "grid_column": null,
            "grid_gap": null,
            "grid_row": null,
            "grid_template_areas": null,
            "grid_template_columns": null,
            "grid_template_rows": null,
            "height": null,
            "justify_content": null,
            "justify_items": null,
            "left": null,
            "margin": null,
            "max_height": null,
            "max_width": null,
            "min_height": null,
            "min_width": null,
            "object_fit": null,
            "object_position": null,
            "order": null,
            "overflow": null,
            "overflow_x": null,
            "overflow_y": null,
            "padding": null,
            "right": null,
            "top": null,
            "visibility": null,
            "width": null
          }
        },
        "f74f1dd9fe834b999dda6dfc7937d08f": {
          "model_module": "@jupyter-widgets/controls",
          "model_name": "ProgressStyleModel",
          "model_module_version": "1.5.0",
          "state": {
            "_model_module": "@jupyter-widgets/controls",
            "_model_module_version": "1.5.0",
            "_model_name": "ProgressStyleModel",
            "_view_count": null,
            "_view_module": "@jupyter-widgets/base",
            "_view_module_version": "1.2.0",
            "_view_name": "StyleView",
            "bar_color": null,
            "description_width": ""
          }
        },
        "e02919594fea411696eb83b3bdfe7f62": {
          "model_module": "@jupyter-widgets/base",
          "model_name": "LayoutModel",
          "model_module_version": "1.2.0",
          "state": {
            "_model_module": "@jupyter-widgets/base",
            "_model_module_version": "1.2.0",
            "_model_name": "LayoutModel",
            "_view_count": null,
            "_view_module": "@jupyter-widgets/base",
            "_view_module_version": "1.2.0",
            "_view_name": "LayoutView",
            "align_content": null,
            "align_items": null,
            "align_self": null,
            "border": null,
            "bottom": null,
            "display": null,
            "flex": null,
            "flex_flow": null,
            "grid_area": null,
            "grid_auto_columns": null,
            "grid_auto_flow": null,
            "grid_auto_rows": null,
            "grid_column": null,
            "grid_gap": null,
            "grid_row": null,
            "grid_template_areas": null,
            "grid_template_columns": null,
            "grid_template_rows": null,
            "height": null,
            "justify_content": null,
            "justify_items": null,
            "left": null,
            "margin": null,
            "max_height": null,
            "max_width": null,
            "min_height": null,
            "min_width": null,
            "object_fit": null,
            "object_position": null,
            "order": null,
            "overflow": null,
            "overflow_x": null,
            "overflow_y": null,
            "padding": null,
            "right": null,
            "top": null,
            "visibility": null,
            "width": null
          }
        },
        "94e2451bda1a43528edb6b3f5242e62a": {
          "model_module": "@jupyter-widgets/controls",
          "model_name": "DescriptionStyleModel",
          "model_module_version": "1.5.0",
          "state": {
            "_model_module": "@jupyter-widgets/controls",
            "_model_module_version": "1.5.0",
            "_model_name": "DescriptionStyleModel",
            "_view_count": null,
            "_view_module": "@jupyter-widgets/base",
            "_view_module_version": "1.2.0",
            "_view_name": "StyleView",
            "description_width": ""
          }
        },
        "81cae9f6013c4c0fb5f5fbb1c5a01fd7": {
          "model_module": "@jupyter-widgets/controls",
          "model_name": "HBoxModel",
          "model_module_version": "1.5.0",
          "state": {
            "_dom_classes": [],
            "_model_module": "@jupyter-widgets/controls",
            "_model_module_version": "1.5.0",
            "_model_name": "HBoxModel",
            "_view_count": null,
            "_view_module": "@jupyter-widgets/controls",
            "_view_module_version": "1.5.0",
            "_view_name": "HBoxView",
            "box_style": "",
            "children": [
              "IPY_MODEL_df7b22ec1700445098787f068e584abe",
              "IPY_MODEL_2a4c8645b7b242ac8845969cd8bac9fc",
              "IPY_MODEL_be7ce25e7d9240d7b1726a8f2caf4395"
            ],
            "layout": "IPY_MODEL_5bf7a562c5fa40aeab1a5dc94e02dd2d"
          }
        },
        "df7b22ec1700445098787f068e584abe": {
          "model_module": "@jupyter-widgets/controls",
          "model_name": "HTMLModel",
          "model_module_version": "1.5.0",
          "state": {
            "_dom_classes": [],
            "_model_module": "@jupyter-widgets/controls",
            "_model_module_version": "1.5.0",
            "_model_name": "HTMLModel",
            "_view_count": null,
            "_view_module": "@jupyter-widgets/controls",
            "_view_module_version": "1.5.0",
            "_view_name": "HTMLView",
            "description": "",
            "description_tooltip": null,
            "layout": "IPY_MODEL_53667606baa243c9b4c725d7bff60296",
            "placeholder": "​",
            "style": "IPY_MODEL_5b7acf49deb7473fb2829cb443da25a3",
            "value": "special_tokens_map.json: 100%"
          }
        },
        "2a4c8645b7b242ac8845969cd8bac9fc": {
          "model_module": "@jupyter-widgets/controls",
          "model_name": "FloatProgressModel",
          "model_module_version": "1.5.0",
          "state": {
            "_dom_classes": [],
            "_model_module": "@jupyter-widgets/controls",
            "_model_module_version": "1.5.0",
            "_model_name": "FloatProgressModel",
            "_view_count": null,
            "_view_module": "@jupyter-widgets/controls",
            "_view_module_version": "1.5.0",
            "_view_name": "ProgressView",
            "bar_style": "success",
            "description": "",
            "description_tooltip": null,
            "layout": "IPY_MODEL_4d9aaedba49447d19ceb49e7ae56bc77",
            "max": 964,
            "min": 0,
            "orientation": "horizontal",
            "style": "IPY_MODEL_8851f385e6974a3a97784ee8e2990c02",
            "value": 964
          }
        },
        "be7ce25e7d9240d7b1726a8f2caf4395": {
          "model_module": "@jupyter-widgets/controls",
          "model_name": "HTMLModel",
          "model_module_version": "1.5.0",
          "state": {
            "_dom_classes": [],
            "_model_module": "@jupyter-widgets/controls",
            "_model_module_version": "1.5.0",
            "_model_name": "HTMLModel",
            "_view_count": null,
            "_view_module": "@jupyter-widgets/controls",
            "_view_module_version": "1.5.0",
            "_view_name": "HTMLView",
            "description": "",
            "description_tooltip": null,
            "layout": "IPY_MODEL_b6016a04569b4a46aba7bb19324f8ac6",
            "placeholder": "​",
            "style": "IPY_MODEL_af942660334348c1b5a8cc2321b9c822",
            "value": " 964/964 [00:00&lt;00:00, 112kB/s]"
          }
        },
        "5bf7a562c5fa40aeab1a5dc94e02dd2d": {
          "model_module": "@jupyter-widgets/base",
          "model_name": "LayoutModel",
          "model_module_version": "1.2.0",
          "state": {
            "_model_module": "@jupyter-widgets/base",
            "_model_module_version": "1.2.0",
            "_model_name": "LayoutModel",
            "_view_count": null,
            "_view_module": "@jupyter-widgets/base",
            "_view_module_version": "1.2.0",
            "_view_name": "LayoutView",
            "align_content": null,
            "align_items": null,
            "align_self": null,
            "border": null,
            "bottom": null,
            "display": null,
            "flex": null,
            "flex_flow": null,
            "grid_area": null,
            "grid_auto_columns": null,
            "grid_auto_flow": null,
            "grid_auto_rows": null,
            "grid_column": null,
            "grid_gap": null,
            "grid_row": null,
            "grid_template_areas": null,
            "grid_template_columns": null,
            "grid_template_rows": null,
            "height": null,
            "justify_content": null,
            "justify_items": null,
            "left": null,
            "margin": null,
            "max_height": null,
            "max_width": null,
            "min_height": null,
            "min_width": null,
            "object_fit": null,
            "object_position": null,
            "order": null,
            "overflow": null,
            "overflow_x": null,
            "overflow_y": null,
            "padding": null,
            "right": null,
            "top": null,
            "visibility": null,
            "width": null
          }
        },
        "53667606baa243c9b4c725d7bff60296": {
          "model_module": "@jupyter-widgets/base",
          "model_name": "LayoutModel",
          "model_module_version": "1.2.0",
          "state": {
            "_model_module": "@jupyter-widgets/base",
            "_model_module_version": "1.2.0",
            "_model_name": "LayoutModel",
            "_view_count": null,
            "_view_module": "@jupyter-widgets/base",
            "_view_module_version": "1.2.0",
            "_view_name": "LayoutView",
            "align_content": null,
            "align_items": null,
            "align_self": null,
            "border": null,
            "bottom": null,
            "display": null,
            "flex": null,
            "flex_flow": null,
            "grid_area": null,
            "grid_auto_columns": null,
            "grid_auto_flow": null,
            "grid_auto_rows": null,
            "grid_column": null,
            "grid_gap": null,
            "grid_row": null,
            "grid_template_areas": null,
            "grid_template_columns": null,
            "grid_template_rows": null,
            "height": null,
            "justify_content": null,
            "justify_items": null,
            "left": null,
            "margin": null,
            "max_height": null,
            "max_width": null,
            "min_height": null,
            "min_width": null,
            "object_fit": null,
            "object_position": null,
            "order": null,
            "overflow": null,
            "overflow_x": null,
            "overflow_y": null,
            "padding": null,
            "right": null,
            "top": null,
            "visibility": null,
            "width": null
          }
        },
        "5b7acf49deb7473fb2829cb443da25a3": {
          "model_module": "@jupyter-widgets/controls",
          "model_name": "DescriptionStyleModel",
          "model_module_version": "1.5.0",
          "state": {
            "_model_module": "@jupyter-widgets/controls",
            "_model_module_version": "1.5.0",
            "_model_name": "DescriptionStyleModel",
            "_view_count": null,
            "_view_module": "@jupyter-widgets/base",
            "_view_module_version": "1.2.0",
            "_view_name": "StyleView",
            "description_width": ""
          }
        },
        "4d9aaedba49447d19ceb49e7ae56bc77": {
          "model_module": "@jupyter-widgets/base",
          "model_name": "LayoutModel",
          "model_module_version": "1.2.0",
          "state": {
            "_model_module": "@jupyter-widgets/base",
            "_model_module_version": "1.2.0",
            "_model_name": "LayoutModel",
            "_view_count": null,
            "_view_module": "@jupyter-widgets/base",
            "_view_module_version": "1.2.0",
            "_view_name": "LayoutView",
            "align_content": null,
            "align_items": null,
            "align_self": null,
            "border": null,
            "bottom": null,
            "display": null,
            "flex": null,
            "flex_flow": null,
            "grid_area": null,
            "grid_auto_columns": null,
            "grid_auto_flow": null,
            "grid_auto_rows": null,
            "grid_column": null,
            "grid_gap": null,
            "grid_row": null,
            "grid_template_areas": null,
            "grid_template_columns": null,
            "grid_template_rows": null,
            "height": null,
            "justify_content": null,
            "justify_items": null,
            "left": null,
            "margin": null,
            "max_height": null,
            "max_width": null,
            "min_height": null,
            "min_width": null,
            "object_fit": null,
            "object_position": null,
            "order": null,
            "overflow": null,
            "overflow_x": null,
            "overflow_y": null,
            "padding": null,
            "right": null,
            "top": null,
            "visibility": null,
            "width": null
          }
        },
        "8851f385e6974a3a97784ee8e2990c02": {
          "model_module": "@jupyter-widgets/controls",
          "model_name": "ProgressStyleModel",
          "model_module_version": "1.5.0",
          "state": {
            "_model_module": "@jupyter-widgets/controls",
            "_model_module_version": "1.5.0",
            "_model_name": "ProgressStyleModel",
            "_view_count": null,
            "_view_module": "@jupyter-widgets/base",
            "_view_module_version": "1.2.0",
            "_view_name": "StyleView",
            "bar_color": null,
            "description_width": ""
          }
        },
        "b6016a04569b4a46aba7bb19324f8ac6": {
          "model_module": "@jupyter-widgets/base",
          "model_name": "LayoutModel",
          "model_module_version": "1.2.0",
          "state": {
            "_model_module": "@jupyter-widgets/base",
            "_model_module_version": "1.2.0",
            "_model_name": "LayoutModel",
            "_view_count": null,
            "_view_module": "@jupyter-widgets/base",
            "_view_module_version": "1.2.0",
            "_view_name": "LayoutView",
            "align_content": null,
            "align_items": null,
            "align_self": null,
            "border": null,
            "bottom": null,
            "display": null,
            "flex": null,
            "flex_flow": null,
            "grid_area": null,
            "grid_auto_columns": null,
            "grid_auto_flow": null,
            "grid_auto_rows": null,
            "grid_column": null,
            "grid_gap": null,
            "grid_row": null,
            "grid_template_areas": null,
            "grid_template_columns": null,
            "grid_template_rows": null,
            "height": null,
            "justify_content": null,
            "justify_items": null,
            "left": null,
            "margin": null,
            "max_height": null,
            "max_width": null,
            "min_height": null,
            "min_width": null,
            "object_fit": null,
            "object_position": null,
            "order": null,
            "overflow": null,
            "overflow_x": null,
            "overflow_y": null,
            "padding": null,
            "right": null,
            "top": null,
            "visibility": null,
            "width": null
          }
        },
        "af942660334348c1b5a8cc2321b9c822": {
          "model_module": "@jupyter-widgets/controls",
          "model_name": "DescriptionStyleModel",
          "model_module_version": "1.5.0",
          "state": {
            "_model_module": "@jupyter-widgets/controls",
            "_model_module_version": "1.5.0",
            "_model_name": "DescriptionStyleModel",
            "_view_count": null,
            "_view_module": "@jupyter-widgets/base",
            "_view_module_version": "1.2.0",
            "_view_name": "StyleView",
            "description_width": ""
          }
        },
        "545c703962274851a59cc7eabff001ad": {
          "model_module": "@jupyter-widgets/controls",
          "model_name": "HBoxModel",
          "model_module_version": "1.5.0",
          "state": {
            "_dom_classes": [],
            "_model_module": "@jupyter-widgets/controls",
            "_model_module_version": "1.5.0",
            "_model_name": "HBoxModel",
            "_view_count": null,
            "_view_module": "@jupyter-widgets/controls",
            "_view_module_version": "1.5.0",
            "_view_name": "HBoxView",
            "box_style": "",
            "children": [
              "IPY_MODEL_25e1d97dae4d41f28cf69fe48207e9c4",
              "IPY_MODEL_55e757a49b3d4d43a43c589d2170138c",
              "IPY_MODEL_8b732a9dd1274839b87bd5e81601a3ca"
            ],
            "layout": "IPY_MODEL_cb0876ca700a42e09e6cec276f8eee81"
          }
        },
        "25e1d97dae4d41f28cf69fe48207e9c4": {
          "model_module": "@jupyter-widgets/controls",
          "model_name": "HTMLModel",
          "model_module_version": "1.5.0",
          "state": {
            "_dom_classes": [],
            "_model_module": "@jupyter-widgets/controls",
            "_model_module_version": "1.5.0",
            "_model_name": "HTMLModel",
            "_view_count": null,
            "_view_module": "@jupyter-widgets/controls",
            "_view_module_version": "1.5.0",
            "_view_name": "HTMLView",
            "description": "",
            "description_tooltip": null,
            "layout": "IPY_MODEL_f7d14e69be6f4e2b868c7cd5d66b2490",
            "placeholder": "​",
            "style": "IPY_MODEL_be2a99178344481b8a3407f9494c5683",
            "value": "README.md: "
          }
        },
        "55e757a49b3d4d43a43c589d2170138c": {
          "model_module": "@jupyter-widgets/controls",
          "model_name": "FloatProgressModel",
          "model_module_version": "1.5.0",
          "state": {
            "_dom_classes": [],
            "_model_module": "@jupyter-widgets/controls",
            "_model_module_version": "1.5.0",
            "_model_name": "FloatProgressModel",
            "_view_count": null,
            "_view_module": "@jupyter-widgets/controls",
            "_view_module_version": "1.5.0",
            "_view_name": "ProgressView",
            "bar_style": "success",
            "description": "",
            "description_tooltip": null,
            "layout": "IPY_MODEL_fcd1e4f27e8f416a9a1deb49298b9c15",
            "max": 1,
            "min": 0,
            "orientation": "horizontal",
            "style": "IPY_MODEL_c86bf06702634c1fa861b4337ddcacec",
            "value": 1
          }
        },
        "8b732a9dd1274839b87bd5e81601a3ca": {
          "model_module": "@jupyter-widgets/controls",
          "model_name": "HTMLModel",
          "model_module_version": "1.5.0",
          "state": {
            "_dom_classes": [],
            "_model_module": "@jupyter-widgets/controls",
            "_model_module_version": "1.5.0",
            "_model_name": "HTMLModel",
            "_view_count": null,
            "_view_module": "@jupyter-widgets/controls",
            "_view_module_version": "1.5.0",
            "_view_name": "HTMLView",
            "description": "",
            "description_tooltip": null,
            "layout": "IPY_MODEL_e28d6844ea654c5f9e52d1ad47d1292f",
            "placeholder": "​",
            "style": "IPY_MODEL_f1418f8afba141be971851a46696e4d2",
            "value": " 17.2k/? [00:00&lt;00:00, 1.19MB/s]"
          }
        },
        "cb0876ca700a42e09e6cec276f8eee81": {
          "model_module": "@jupyter-widgets/base",
          "model_name": "LayoutModel",
          "model_module_version": "1.2.0",
          "state": {
            "_model_module": "@jupyter-widgets/base",
            "_model_module_version": "1.2.0",
            "_model_name": "LayoutModel",
            "_view_count": null,
            "_view_module": "@jupyter-widgets/base",
            "_view_module_version": "1.2.0",
            "_view_name": "LayoutView",
            "align_content": null,
            "align_items": null,
            "align_self": null,
            "border": null,
            "bottom": null,
            "display": null,
            "flex": null,
            "flex_flow": null,
            "grid_area": null,
            "grid_auto_columns": null,
            "grid_auto_flow": null,
            "grid_auto_rows": null,
            "grid_column": null,
            "grid_gap": null,
            "grid_row": null,
            "grid_template_areas": null,
            "grid_template_columns": null,
            "grid_template_rows": null,
            "height": null,
            "justify_content": null,
            "justify_items": null,
            "left": null,
            "margin": null,
            "max_height": null,
            "max_width": null,
            "min_height": null,
            "min_width": null,
            "object_fit": null,
            "object_position": null,
            "order": null,
            "overflow": null,
            "overflow_x": null,
            "overflow_y": null,
            "padding": null,
            "right": null,
            "top": null,
            "visibility": null,
            "width": null
          }
        },
        "f7d14e69be6f4e2b868c7cd5d66b2490": {
          "model_module": "@jupyter-widgets/base",
          "model_name": "LayoutModel",
          "model_module_version": "1.2.0",
          "state": {
            "_model_module": "@jupyter-widgets/base",
            "_model_module_version": "1.2.0",
            "_model_name": "LayoutModel",
            "_view_count": null,
            "_view_module": "@jupyter-widgets/base",
            "_view_module_version": "1.2.0",
            "_view_name": "LayoutView",
            "align_content": null,
            "align_items": null,
            "align_self": null,
            "border": null,
            "bottom": null,
            "display": null,
            "flex": null,
            "flex_flow": null,
            "grid_area": null,
            "grid_auto_columns": null,
            "grid_auto_flow": null,
            "grid_auto_rows": null,
            "grid_column": null,
            "grid_gap": null,
            "grid_row": null,
            "grid_template_areas": null,
            "grid_template_columns": null,
            "grid_template_rows": null,
            "height": null,
            "justify_content": null,
            "justify_items": null,
            "left": null,
            "margin": null,
            "max_height": null,
            "max_width": null,
            "min_height": null,
            "min_width": null,
            "object_fit": null,
            "object_position": null,
            "order": null,
            "overflow": null,
            "overflow_x": null,
            "overflow_y": null,
            "padding": null,
            "right": null,
            "top": null,
            "visibility": null,
            "width": null
          }
        },
        "be2a99178344481b8a3407f9494c5683": {
          "model_module": "@jupyter-widgets/controls",
          "model_name": "DescriptionStyleModel",
          "model_module_version": "1.5.0",
          "state": {
            "_model_module": "@jupyter-widgets/controls",
            "_model_module_version": "1.5.0",
            "_model_name": "DescriptionStyleModel",
            "_view_count": null,
            "_view_module": "@jupyter-widgets/base",
            "_view_module_version": "1.2.0",
            "_view_name": "StyleView",
            "description_width": ""
          }
        },
        "fcd1e4f27e8f416a9a1deb49298b9c15": {
          "model_module": "@jupyter-widgets/base",
          "model_name": "LayoutModel",
          "model_module_version": "1.2.0",
          "state": {
            "_model_module": "@jupyter-widgets/base",
            "_model_module_version": "1.2.0",
            "_model_name": "LayoutModel",
            "_view_count": null,
            "_view_module": "@jupyter-widgets/base",
            "_view_module_version": "1.2.0",
            "_view_name": "LayoutView",
            "align_content": null,
            "align_items": null,
            "align_self": null,
            "border": null,
            "bottom": null,
            "display": null,
            "flex": null,
            "flex_flow": null,
            "grid_area": null,
            "grid_auto_columns": null,
            "grid_auto_flow": null,
            "grid_auto_rows": null,
            "grid_column": null,
            "grid_gap": null,
            "grid_row": null,
            "grid_template_areas": null,
            "grid_template_columns": null,
            "grid_template_rows": null,
            "height": null,
            "justify_content": null,
            "justify_items": null,
            "left": null,
            "margin": null,
            "max_height": null,
            "max_width": null,
            "min_height": null,
            "min_width": null,
            "object_fit": null,
            "object_position": null,
            "order": null,
            "overflow": null,
            "overflow_x": null,
            "overflow_y": null,
            "padding": null,
            "right": null,
            "top": null,
            "visibility": null,
            "width": "20px"
          }
        },
        "c86bf06702634c1fa861b4337ddcacec": {
          "model_module": "@jupyter-widgets/controls",
          "model_name": "ProgressStyleModel",
          "model_module_version": "1.5.0",
          "state": {
            "_model_module": "@jupyter-widgets/controls",
            "_model_module_version": "1.5.0",
            "_model_name": "ProgressStyleModel",
            "_view_count": null,
            "_view_module": "@jupyter-widgets/base",
            "_view_module_version": "1.2.0",
            "_view_name": "StyleView",
            "bar_color": null,
            "description_width": ""
          }
        },
        "e28d6844ea654c5f9e52d1ad47d1292f": {
          "model_module": "@jupyter-widgets/base",
          "model_name": "LayoutModel",
          "model_module_version": "1.2.0",
          "state": {
            "_model_module": "@jupyter-widgets/base",
            "_model_module_version": "1.2.0",
            "_model_name": "LayoutModel",
            "_view_count": null,
            "_view_module": "@jupyter-widgets/base",
            "_view_module_version": "1.2.0",
            "_view_name": "LayoutView",
            "align_content": null,
            "align_items": null,
            "align_self": null,
            "border": null,
            "bottom": null,
            "display": null,
            "flex": null,
            "flex_flow": null,
            "grid_area": null,
            "grid_auto_columns": null,
            "grid_auto_flow": null,
            "grid_auto_rows": null,
            "grid_column": null,
            "grid_gap": null,
            "grid_row": null,
            "grid_template_areas": null,
            "grid_template_columns": null,
            "grid_template_rows": null,
            "height": null,
            "justify_content": null,
            "justify_items": null,
            "left": null,
            "margin": null,
            "max_height": null,
            "max_width": null,
            "min_height": null,
            "min_width": null,
            "object_fit": null,
            "object_position": null,
            "order": null,
            "overflow": null,
            "overflow_x": null,
            "overflow_y": null,
            "padding": null,
            "right": null,
            "top": null,
            "visibility": null,
            "width": null
          }
        },
        "f1418f8afba141be971851a46696e4d2": {
          "model_module": "@jupyter-widgets/controls",
          "model_name": "DescriptionStyleModel",
          "model_module_version": "1.5.0",
          "state": {
            "_model_module": "@jupyter-widgets/controls",
            "_model_module_version": "1.5.0",
            "_model_name": "DescriptionStyleModel",
            "_view_count": null,
            "_view_module": "@jupyter-widgets/base",
            "_view_module_version": "1.2.0",
            "_view_name": "StyleView",
            "description_width": ""
          }
        }
      }
    }
  },
  "nbformat": 4,
  "nbformat_minor": 0
}