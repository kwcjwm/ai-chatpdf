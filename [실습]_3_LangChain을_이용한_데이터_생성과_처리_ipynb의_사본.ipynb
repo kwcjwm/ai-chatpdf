{
  "cells": [
    {
      "cell_type": "markdown",
      "id": "a435919b",
      "metadata": {
        "id": "a435919b"
      },
      "source": [
        "# [실습] LangChain을 이용한 데이터 생성과 처리\n",
        "\n",
        "\n",
        "LCEL의 기본 문법인 Prompt | llm | Parser 구조에 대해 배웠습니다.   \n",
        "이번 실습에서는 출력을 구조화하고, LLM을 연결하는 방법에 대해 알아봅니다.\n"
      ]
    },
    {
      "cell_type": "markdown",
      "id": "230aadd4",
      "metadata": {
        "id": "230aadd4"
      },
      "source": [
        "### 라이브러리 설치  \n",
        "\n",
        "랭체인 OpenAI와 Google 모듈을 설치합니다."
      ]
    },
    {
      "cell_type": "code",
      "execution_count": null,
      "id": "bf68e6c0",
      "metadata": {
        "id": "bf68e6c0",
        "scrolled": true,
        "colab": {
          "base_uri": "https://localhost:8080/"
        },
        "outputId": "f4bfb7cd-ba43-441b-ad6d-da7957492ac4"
      },
      "outputs": [
        {
          "output_type": "stream",
          "name": "stdout",
          "text": [
            "Requirement already satisfied: langchain in /usr/local/lib/python3.12/dist-packages (0.3.27)\n",
            "Collecting langchain_community\n",
            "  Downloading langchain_community-0.4-py3-none-any.whl.metadata (3.0 kB)\n",
            "Requirement already satisfied: google-generativeai in /usr/local/lib/python3.12/dist-packages (0.8.5)\n",
            "Collecting langchain_google_genai\n",
            "  Downloading langchain_google_genai-3.0.0-py3-none-any.whl.metadata (7.1 kB)\n",
            "Collecting langchain_openai\n",
            "  Downloading langchain_openai-1.0.0-py3-none-any.whl.metadata (1.8 kB)\n",
            "Requirement already satisfied: openai in /usr/local/lib/python3.12/dist-packages (1.109.1)\n",
            "Collecting dotenv\n",
            "  Downloading dotenv-0.9.9-py2.py3-none-any.whl.metadata (279 bytes)\n",
            "Collecting arxiv\n",
            "  Downloading arxiv-2.2.0-py3-none-any.whl.metadata (6.3 kB)\n",
            "Collecting pymupdf\n",
            "  Downloading pymupdf-1.26.5-cp39-abi3-manylinux_2_28_x86_64.whl.metadata (3.4 kB)\n",
            "Requirement already satisfied: langchain-core<1.0.0,>=0.3.72 in /usr/local/lib/python3.12/dist-packages (from langchain) (0.3.79)\n",
            "Requirement already satisfied: langchain-text-splitters<1.0.0,>=0.3.9 in /usr/local/lib/python3.12/dist-packages (from langchain) (0.3.11)\n",
            "Requirement already satisfied: langsmith>=0.1.17 in /usr/local/lib/python3.12/dist-packages (from langchain) (0.4.35)\n",
            "Requirement already satisfied: pydantic<3.0.0,>=2.7.4 in /usr/local/lib/python3.12/dist-packages (from langchain) (2.11.10)\n",
            "Requirement already satisfied: SQLAlchemy<3,>=1.4 in /usr/local/lib/python3.12/dist-packages (from langchain) (2.0.44)\n",
            "Requirement already satisfied: requests<3,>=2 in /usr/local/lib/python3.12/dist-packages (from langchain) (2.32.4)\n",
            "Requirement already satisfied: PyYAML>=5.3 in /usr/local/lib/python3.12/dist-packages (from langchain) (6.0.3)\n",
            "INFO: pip is looking at multiple versions of langchain-community to determine which version is compatible with other requirements. This could take a while.\n",
            "Collecting langchain_community\n",
            "  Downloading langchain_community-0.3.31-py3-none-any.whl.metadata (3.0 kB)\n",
            "Collecting requests<3,>=2 (from langchain)\n",
            "  Downloading requests-2.32.5-py3-none-any.whl.metadata (4.9 kB)\n",
            "Requirement already satisfied: aiohttp<4.0.0,>=3.8.3 in /usr/local/lib/python3.12/dist-packages (from langchain_community) (3.13.0)\n",
            "Requirement already satisfied: tenacity!=8.4.0,<10.0.0,>=8.1.0 in /usr/local/lib/python3.12/dist-packages (from langchain_community) (8.5.0)\n",
            "Collecting dataclasses-json<0.7.0,>=0.6.7 (from langchain_community)\n",
            "  Downloading dataclasses_json-0.6.7-py3-none-any.whl.metadata (25 kB)\n",
            "Requirement already satisfied: pydantic-settings<3.0.0,>=2.10.1 in /usr/local/lib/python3.12/dist-packages (from langchain_community) (2.11.0)\n",
            "Requirement already satisfied: httpx-sse<1.0.0,>=0.4.0 in /usr/local/lib/python3.12/dist-packages (from langchain_community) (0.4.3)\n",
            "Requirement already satisfied: numpy>=1.26.2 in /usr/local/lib/python3.12/dist-packages (from langchain_community) (2.0.2)\n",
            "Requirement already satisfied: google-ai-generativelanguage==0.6.15 in /usr/local/lib/python3.12/dist-packages (from google-generativeai) (0.6.15)\n",
            "Requirement already satisfied: google-api-core in /usr/local/lib/python3.12/dist-packages (from google-generativeai) (2.26.0)\n",
            "Requirement already satisfied: google-api-python-client in /usr/local/lib/python3.12/dist-packages (from google-generativeai) (2.184.0)\n",
            "Requirement already satisfied: google-auth>=2.15.0 in /usr/local/lib/python3.12/dist-packages (from google-generativeai) (2.38.0)\n",
            "Requirement already satisfied: protobuf in /usr/local/lib/python3.12/dist-packages (from google-generativeai) (5.29.5)\n",
            "Requirement already satisfied: tqdm in /usr/local/lib/python3.12/dist-packages (from google-generativeai) (4.67.1)\n",
            "Requirement already satisfied: typing-extensions in /usr/local/lib/python3.12/dist-packages (from google-generativeai) (4.15.0)\n",
            "Requirement already satisfied: proto-plus<2.0.0dev,>=1.22.3 in /usr/local/lib/python3.12/dist-packages (from google-ai-generativelanguage==0.6.15->google-generativeai) (1.26.1)\n",
            "INFO: pip is looking at multiple versions of langchain-google-genai to determine which version is compatible with other requirements. This could take a while.\n",
            "Collecting langchain_google_genai\n",
            "  Downloading langchain_google_genai-2.1.12-py3-none-any.whl.metadata (7.1 kB)\n",
            "  Downloading langchain_google_genai-2.1.11-py3-none-any.whl.metadata (6.7 kB)\n"
          ]
        }
      ],
      "source": [
        "!pip install langchain langchain_community google-generativeai langchain_google_genai langchain_openai openai dotenv arxiv pymupdf"
      ]
    },
    {
      "cell_type": "code",
      "execution_count": null,
      "id": "13da3542",
      "metadata": {
        "id": "13da3542",
        "colab": {
          "base_uri": "https://localhost:8080/"
        },
        "outputId": "72d03d90-240b-41ea-cae9-0634ad174416"
      },
      "outputs": [
        {
          "output_type": "stream",
          "name": "stdout",
          "text": [
            "OpenAI API 키 확인\n",
            "Google API 키 확인\n"
          ]
        }
      ],
      "source": [
        "import os\n",
        "from dotenv import load_dotenv\n",
        "load_dotenv('env', override=True)\n",
        "\n",
        "if os.environ.get('OPENAI_API_KEY'):\n",
        "    print('OpenAI API 키 확인')\n",
        "if os.environ.get('GOOGLE_API_KEY'):\n",
        "    print('Google API 키 확인')"
      ]
    },
    {
      "cell_type": "markdown",
      "id": "1556fee9",
      "metadata": {
        "id": "1556fee9"
      },
      "source": [
        "### LLM 모델 불러오기"
      ]
    },
    {
      "cell_type": "code",
      "execution_count": null,
      "id": "99c6d085",
      "metadata": {
        "id": "99c6d085",
        "colab": {
          "base_uri": "https://localhost:8080/"
        },
        "outputId": "956e6dce-e682-4cb3-d381-b5edeedfc41c"
      },
      "outputs": [
        {
          "output_type": "execute_result",
          "data": {
            "text/plain": [
              "ChatOpenAI(client=<openai.resources.chat.completions.completions.Completions object at 0x7d40af9147a0>, async_client=<openai.resources.chat.completions.completions.AsyncCompletions object at 0x7d40aea64e00>, root_client=<openai.OpenAI object at 0x7d40af09a060>, root_async_client=<openai.AsyncOpenAI object at 0x7d40aecbed20>, model_name='gpt-5-mini', model_kwargs={}, openai_api_key=SecretStr('**********'), stream_usage=True, reasoning_effort='low')"
            ]
          },
          "metadata": {},
          "execution_count": 3
        }
      ],
      "source": [
        "from langchain_core.rate_limiters import InMemoryRateLimiter\n",
        "from langchain.chat_models import init_chat_model\n",
        "\n",
        "rate_limiter = InMemoryRateLimiter(\n",
        "    requests_per_second=0.167,  # 분당 10개 요청\n",
        "    check_every_n_seconds=0.1,  # 100ms마다 체크\n",
        "    max_bucket_size=10,  # 최대 버스트 크기\n",
        ")\n",
        "\n",
        "gpt_llm = init_chat_model(\n",
        "    \"gpt-5-mini\", model_provider=\"openai\", reasoning_effort = 'low', temperature=0)\n",
        "\n",
        "gemini_llm = init_chat_model(\n",
        "    \"gemini-2.5-flash\", model_provider=\"google_genai\", temperature=0, thinking_budget=1000, rate_limiter=rate_limiter\n",
        ")\n",
        "gpt_llm"
      ]
    },
    {
      "cell_type": "markdown",
      "id": "dea64911",
      "metadata": {
        "id": "dea64911"
      },
      "source": [
        "## JsonOutputParser 로 Json 형식의 출력 만들기"
      ]
    },
    {
      "cell_type": "markdown",
      "id": "6f24e8cb",
      "metadata": {
        "id": "6f24e8cb"
      },
      "source": [
        "LLM의 출력을 구조화하면, 데이터 후처리를 하지 않고도 다른 코드와 연결할 수 있습니다.   \n",
        "JSON 형식의 출력을 구성해 보겠습니다."
      ]
    },
    {
      "cell_type": "code",
      "execution_count": null,
      "id": "88ecbe6c",
      "metadata": {
        "id": "88ecbe6c"
      },
      "outputs": [],
      "source": [
        "from langchain.prompts import ChatPromptTemplate\n",
        "from langchain_core.output_parsers import StrOutputParser\n",
        "from langchain_core.output_parsers import JsonOutputParser\n",
        "\n",
        "jsonparser = JsonOutputParser()"
      ]
    },
    {
      "cell_type": "markdown",
      "id": "f41f3594",
      "metadata": {
        "id": "f41f3594"
      },
      "source": [
        "JSON 파서의 역할은 JSON 규격에 맞는 텍스트를 Dict 형식으로 변환하는 것으로,     \n",
        "실제 형식에 대한 조건을 프롬프트로 전달해야 합니다."
      ]
    },
    {
      "cell_type": "code",
      "execution_count": null,
      "id": "833e804d",
      "metadata": {
        "id": "833e804d",
        "colab": {
          "base_uri": "https://localhost:8080/",
          "height": 35
        },
        "outputId": "7fded2d5-d750-42a0-9b5a-15f6f2b51905"
      },
      "outputs": [
        {
          "output_type": "execute_result",
          "data": {
            "text/plain": [
              "'Return a JSON object.'"
            ],
            "application/vnd.google.colaboratory.intrinsic+json": {
              "type": "string"
            }
          },
          "metadata": {},
          "execution_count": 5
        }
      ],
      "source": [
        "jsonparser.get_format_instructions()"
      ]
    },
    {
      "cell_type": "code",
      "execution_count": null,
      "id": "b19b4fad",
      "metadata": {
        "id": "b19b4fad"
      },
      "outputs": [],
      "source": [
        "recipe_template = ChatPromptTemplate([\n",
        "    ('system','당신은 전세계의 이색적인 퓨전 조리법의 전문가입니다.'),\n",
        "    ('user','''저는 다음의 재료와 조건을 이용한 환상적인 퓨전 다이닝을 만들고 싶습니다. 1가지 메뉴만 추천해주세요!\n",
        "레시피에 대한 정보를 JSON 형식으로 출력해주세요.\n",
        "\n",
        "[재료]: {ingredient}\n",
        "[조건]: {condition}\n",
        "''')\n",
        "])\n",
        "\n",
        "recipe_chain = recipe_template | gemini_llm | jsonparser"
      ]
    },
    {
      "cell_type": "code",
      "execution_count": null,
      "id": "b1ff815a",
      "metadata": {
        "id": "b1ff815a",
        "colab": {
          "base_uri": "https://localhost:8080/"
        },
        "outputId": "ecc05bc7-b8a6-4c56-e098-25c1f7d5a53b"
      },
      "outputs": [
        {
          "output_type": "execute_result",
          "data": {
            "text/plain": [
              "{'dish_name': '콜라 고수 판나코타와 라임 실란트로 시럽',\n",
              " 'description': '부드러운 콜라 판나코타에 신선한 고수와 라임의 향긋함이 더해진 시럽을 곁들인 디저트입니다. 콜라의 캐러멜 향과 고수의 상큼하고 독특한 풍미가 만나 이색적이면서도 조화로운 맛의 균형을 이룹니다. 예상치 못한 조합이 선사하는 미식의 즐거움을 경험해보세요.',\n",
              " 'ingredients': {'콜라 판나코타': [{'item': '콜라', 'quantity': '500ml'},\n",
              "   {'item': '생크림', 'quantity': '200ml'},\n",
              "   {'item': '설탕', 'quantity': '50g (콜라의 당도에 따라 조절)'},\n",
              "   {'item': '판젤라틴', 'quantity': '5g (또는 가루젤라틴 5g)'}],\n",
              "  '라임 실란트로 시럽': [{'item': '고수', 'quantity': '20g (줄기 포함)'},\n",
              "   {'item': '라임 즙', 'quantity': '30ml'},\n",
              "   {'item': '설탕', 'quantity': '30g'},\n",
              "   {'item': '물', 'quantity': '50ml'}],\n",
              "  '가니쉬': [{'item': '신선한 고수 잎', 'quantity': '약간'},\n",
              "   {'item': '라임 제스트', 'quantity': '약간'}]},\n",
              " 'instructions': [{'step': 1,\n",
              "   'description': '콜라 판나코타 준비: 콜라 500ml를 냄비에 넣고 중불에서 끓여 약 1/3 정도로 졸여줍니다 (약 150ml). 콜라의 향이 응축되고 단맛이 강해집니다. 식혀둡니다.'},\n",
              "  {'step': 2,\n",
              "   'description': '판젤라틴은 찬물에 5분간 불려 부드럽게 만듭니다. 가루젤라틴을 사용할 경우, 찬물 30ml에 젤라틴을 뿌려 5분간 불려둡니다.'},\n",
              "  {'step': 3,\n",
              "   'description': '다른 냄비에 생크림과 설탕 50g을 넣고 약불에서 설탕이 녹을 때까지 데웁니다. 끓이지 않도록 주의합니다.'},\n",
              "  {'step': 4,\n",
              "   'description': '불린 젤라틴의 물기를 짜내고 (가루젤라틴은 그대로) 따뜻한 생크림에 넣어 완전히 녹입니다. 여기에 졸여둔 콜라를 넣고 잘 섞어줍니다.'},\n",
              "  {'step': 5,\n",
              "   'description': '혼합물을 작은 디저트 컵이나 틀에 붓고 냉장고에서 최소 4시간 이상, 또는 완전히 굳을 때까지 차갑게 식힙니다.'},\n",
              "  {'step': 6,\n",
              "   'description': '라임 실란트로 시럽 준비: 고수 20g은 깨끗이 씻어 물기를 제거하고 잘게 다집니다. 냄비에 다진 고수, 라임 즙, 설탕 30g, 물 50ml를 넣고 약불에서 설탕이 녹을 때까지 끓입니다. 끓기 시작하면 불을 끄고 식혀줍니다.'},\n",
              "  {'step': 7,\n",
              "   'description': '식힌 시럽을 체에 걸러 고수 건더기를 제거하고, 투명하고 향긋한 라임 실란트로 시럽만 준비합니다. (고수 향을 더 강하게 원하면 걸러내지 않고 사용해도 좋습니다.)'},\n",
              "  {'step': 8,\n",
              "   'description': '서빙: 굳은 콜라 판나코타 위에 준비된 라임 실란트로 시럽을 넉넉히 뿌려줍니다. 신선한 고수 잎과 라임 제스트로 장식하여 마무리합니다.'}],\n",
              " 'chef_notes': '콜라를 졸일 때 너무 강한 불에서 졸이면 쓴맛이 날 수 있으니 중약불에서 천천히 졸여주세요. 고수의 향은 호불호가 갈릴 수 있으므로, 처음 시도하는 경우 시럽의 고수 양을 조절하거나, 서빙 직전에 고수 잎을 살짝만 올려 향을 더하는 방식으로 조절할 수 있습니다. 라임 대신 레몬을 사용해도 좋지만, 라임이 고수와 콜라의 풍미를 더욱 돋보이게 합니다. 판나코타의 부드러움과 시럽의 상큼함, 그리고 고수의 독특한 향이 어우러져 미각을 자극하는 특별한 디저트가 될 것입니다.'}"
            ]
          },
          "metadata": {},
          "execution_count": 7
        }
      ],
      "source": [
        "response = recipe_chain.invoke({'ingredient':'콜라, 고수', 'condition':'디저트'})\n",
        "response"
      ]
    },
    {
      "cell_type": "code",
      "execution_count": null,
      "id": "eLyMM8O_-QUg",
      "metadata": {
        "id": "eLyMM8O_-QUg",
        "colab": {
          "base_uri": "https://localhost:8080/"
        },
        "outputId": "abe6f8b1-d485-4507-e193-da2cd4234763"
      },
      "outputs": [
        {
          "output_type": "execute_result",
          "data": {
            "text/plain": [
              "{'콜라 판나코타': [{'item': '콜라', 'quantity': '500ml'},\n",
              "  {'item': '생크림', 'quantity': '200ml'},\n",
              "  {'item': '설탕', 'quantity': '50g (콜라의 당도에 따라 조절)'},\n",
              "  {'item': '판젤라틴', 'quantity': '5g (또는 가루젤라틴 5g)'}],\n",
              " '라임 실란트로 시럽': [{'item': '고수', 'quantity': '20g (줄기 포함)'},\n",
              "  {'item': '라임 즙', 'quantity': '30ml'},\n",
              "  {'item': '설탕', 'quantity': '30g'},\n",
              "  {'item': '물', 'quantity': '50ml'}],\n",
              " '가니쉬': [{'item': '신선한 고수 잎', 'quantity': '약간'},\n",
              "  {'item': '라임 제스트', 'quantity': '약간'}]}"
            ]
          },
          "metadata": {},
          "execution_count": 8
        }
      ],
      "source": [
        "# Dict 구조: 추출 가능\n",
        "response['ingredients']"
      ]
    },
    {
      "cell_type": "markdown",
      "id": "176a7aa5",
      "metadata": {
        "id": "176a7aa5"
      },
      "source": [
        "Json으로 파싱하는 방법은 활용도가 높지만, 실행할 때마다 결과뿐만 아니라 형식도 달라진다는 문제가 있습니다."
      ]
    },
    {
      "cell_type": "code",
      "execution_count": null,
      "id": "85ce4142",
      "metadata": {
        "id": "85ce4142",
        "colab": {
          "base_uri": "https://localhost:8080/"
        },
        "outputId": "14baef7e-7860-40f0-84b4-1d7faeece177"
      },
      "outputs": [
        {
          "output_type": "execute_result",
          "data": {
            "text/plain": [
              "{'dishName': '문어 땅콩 사테 구이와 고추장 코코넛 폴렌타',\n",
              " 'description': '지중해의 신선한 문어와 동남아시아의 고소한 땅콩 사테 소스, 그리고 한국의 매콤한 고추장이 만나 탄생한 환상적인 퓨전 메인 요리입니다. 부드럽게 익힌 문어를 직화로 구워 불맛을 입히고, 코코넛 밀크와 고추장으로 풍미를 더한 크리미한 폴렌타 위에 올려냅니다. 고소하고 매콤달콤한 땅콩 사테 소스가 문어의 감칠맛을 극대화하며, 이색적이면서도 익숙한 맛의 조화를 선사합니다.',\n",
              " 'cuisineType': '퓨전 (한식/동남아/지중해)',\n",
              " 'mainIngredients': ['문어', '피넛버터', '코코넛 밀크', '고추장', '폴렌타'],\n",
              " 'prepTime': '30분',\n",
              " 'cookTime': '1시간 30분 (문어 삶는 시간 포함)',\n",
              " 'servings': '2인분',\n",
              " 'difficulty': '중급',\n",
              " 'ingredients': {'문어_구이': [{'item': '자숙 문어 (또는 생문어)', 'quantity': '400g'},\n",
              "   {'item': '올리브 오일', 'quantity': '2큰술'},\n",
              "   {'item': '파프리카 가루', 'quantity': '1작은술'},\n",
              "   {'item': '소금', 'quantity': '약간'},\n",
              "   {'item': '후추', 'quantity': '약간'}],\n",
              "  '땅콩_고추장_사테_소스': [{'item': '피넛버터 (무가당)', 'quantity': '3큰술'},\n",
              "   {'item': '코코넛 밀크', 'quantity': '50ml'},\n",
              "   {'item': '고추장', 'quantity': '1큰술'},\n",
              "   {'item': '간장', 'quantity': '1큰술'},\n",
              "   {'item': '라임 즙', 'quantity': '1큰술'},\n",
              "   {'item': '다진 마늘', 'quantity': '1작은술'},\n",
              "   {'item': '다진 생강', 'quantity': '1/2작은술'},\n",
              "   {'item': '설탕 (또는 메이플 시럽)', 'quantity': '1작은술'},\n",
              "   {'item': '참기름', 'quantity': '1/2작은술'},\n",
              "   {'item': '물 (농도 조절용)', 'quantity': '2-3큰술'}],\n",
              "  '고추장_코코넛_폴렌타': [{'item': '폴렌타 (옥수수 가루)', 'quantity': '100g'},\n",
              "   {'item': '코코넛 밀크', 'quantity': '200ml'},\n",
              "   {'item': '물 또는 채소 육수', 'quantity': '200ml'},\n",
              "   {'item': '고추장', 'quantity': '1/2큰술'},\n",
              "   {'item': '버터', 'quantity': '1큰술'},\n",
              "   {'item': '파마산 치즈 (선택 사항)', 'quantity': '2큰술'},\n",
              "   {'item': '소금', 'quantity': '약간'},\n",
              "   {'item': '후추', 'quantity': '약간'}],\n",
              "  '가니쉬': [{'item': '다진 땅콩', 'quantity': '1큰술'},\n",
              "   {'item': '고수 또는 쪽파 (다진 것)', 'quantity': '약간'},\n",
              "   {'item': '라임 웨지', 'quantity': '1-2개'},\n",
              "   {'item': '홍고추 (얇게 썬 것)', 'quantity': '약간 (선택 사항)'}]},\n",
              " 'instructions': [{'step': 1,\n",
              "   'description': '문어 준비: 생문어의 경우, 굵은 소금으로 문질러 깨끗이 씻은 후, 끓는 물에 무, 양파, 통후추 등을 넣고 1시간~1시간 30분 정도 부드러워질 때까지 삶아줍니다. (자숙 문어는 이 과정 생략) 삶은 문어는 먹기 좋은 크기로 썰어 준비합니다.'},\n",
              "  {'step': 2,\n",
              "   'description': '땅콩 고추장 사테 소스 만들기: 작은 볼에 피넛버터, 코코넛 밀크, 고추장, 간장, 라임 즙, 다진 마늘, 다진 생강, 설탕, 참기름을 넣고 잘 섞어줍니다. 농도가 너무 되직하면 물을 조금씩 추가하며 원하는 농도로 맞춰줍니다.'},\n",
              "  {'step': 3,\n",
              "   'description': '고추장 코코넛 폴렌타 만들기: 냄비에 코코넛 밀크와 물(또는 채소 육수)을 넣고 끓입니다. 끓기 시작하면 폴렌타를 조금씩 뿌려가며 거품기로 저어 뭉치지 않게 합니다. 약불에서 계속 저어가며 15-20분간 익힙니다. 폴렌타가 걸쭉해지면 고추장, 버터, 파마산 치즈(선택 사항)를 넣고 소금, 후추로 간을 맞춥니다.'},\n",
              "  {'step': 4,\n",
              "   'description': '문어 구이: 손질한 문어에 올리브 오일, 파프리카 가루, 소금, 후추를 뿌려 버무립니다. 그릴 팬이나 프라이팬을 강불로 달군 후, 문어를 올려 앞뒤로 노릇하게 구워 불맛을 입힙니다. (약 2-3분)'},\n",
              "  {'step': 5,\n",
              "   'description': '플레이팅: 접시 중앙에 따뜻한 고추장 코코넛 폴렌타를 깔고, 그 위에 구운 문어를 보기 좋게 올립니다. 문어 위에 땅콩 고추장 사테 소스를 넉넉히 뿌려줍니다. 다진 땅콩, 고수(또는 쪽파), 홍고추로 장식하고 라임 웨지를 곁들여 마무리합니다.'}],\n",
              " 'chefNotes': ['문어를 삶을 때 코르크 마개를 함께 넣으면 문어가 더 부드러워진다는 속설이 있습니다. 실제로 효과가 있든 없든, 시도해 볼 만한 재미있는 팁입니다.',\n",
              "  '땅콩 사테 소스의 매운맛은 고추장 양으로 조절하고, 단맛은 설탕이나 메이플 시럽으로 조절하세요. 라임 즙은 소스의 풍미를 살리는 중요한 역할을 하니 꼭 넣어주세요.',\n",
              "  '폴렌타는 계속 저어주어야 바닥에 눌어붙지 않고 부드러운 식감을 얻을 수 있습니다. 코코넛 밀크 대신 일반 우유를 사용해도 좋지만, 코코넛 밀크가 퓨전 풍미를 더해줍니다.',\n",
              "  '문어는 너무 오래 구우면 질겨질 수 있으니, 이미 삶아서 부드러워진 상태이므로 겉만 노릇하게 불맛을 입히는 정도로 짧게 구워주세요.']}"
            ]
          },
          "metadata": {},
          "execution_count": 9
        }
      ],
      "source": [
        "response = recipe_chain.invoke({'ingredient':'문어, 피넛버터', 'condition':'메인 요리'})\n",
        "response"
      ]
    },
    {
      "cell_type": "markdown",
      "id": "2f447984",
      "metadata": {
        "id": "2f447984"
      },
      "source": [
        "## Pydantic을 이용해 출력 형식 지정하기"
      ]
    },
    {
      "cell_type": "markdown",
      "id": "442f4b64",
      "metadata": {
        "id": "442f4b64"
      },
      "source": [
        "pydantic은 데이터 형식에 제약조건을 두고 이를 준수하는지 검증하는 라이브러리입니다.\n"
      ]
    },
    {
      "cell_type": "code",
      "execution_count": null,
      "id": "0f68be94",
      "metadata": {
        "id": "0f68be94"
      },
      "outputs": [],
      "source": [
        "from pydantic import BaseModel, Field\n",
        "# pydantic 연동\n",
        "\n",
        "class Recipe(BaseModel):\n",
        "    name: str = Field(description=\"음식 이름\")\n",
        "    # name: 문자열, 설명은 \"음식 이름\"\n",
        "    difficulty: str = Field(description=\"만들기의 난이도\")\n",
        "\n",
        "    origin: str = Field(description=\"원산지\")\n",
        "    ingredients: list[str] = Field(description=\"재료\")\n",
        "    # ingredients: 문자열 리스트, 설명은 \"재료\"\n",
        "\n",
        "    instructions: list[str] = Field(description=\"조리법\")\n",
        "    tip: str = Field(description='조리 과정 팁')\n"
      ]
    },
    {
      "cell_type": "code",
      "execution_count": null,
      "id": "22f285b4",
      "metadata": {
        "id": "22f285b4"
      },
      "outputs": [],
      "source": [
        "parser = JsonOutputParser(pydantic_object=Recipe)"
      ]
    },
    {
      "cell_type": "code",
      "execution_count": null,
      "id": "952c24cb",
      "metadata": {
        "id": "952c24cb",
        "colab": {
          "base_uri": "https://localhost:8080/"
        },
        "outputId": "c8a1d1a9-8e17-4272-c5ba-8281daa9499a"
      },
      "outputs": [
        {
          "output_type": "stream",
          "name": "stdout",
          "text": [
            "The output should be formatted as a JSON instance that conforms to the JSON schema below.\n",
            "\n",
            "As an example, for the schema {\"properties\": {\"foo\": {\"title\": \"Foo\", \"description\": \"a list of strings\", \"type\": \"array\", \"items\": {\"type\": \"string\"}}}, \"required\": [\"foo\"]}\n",
            "the object {\"foo\": [\"bar\", \"baz\"]} is a well-formatted instance of the schema. The object {\"properties\": {\"foo\": [\"bar\", \"baz\"]}} is not well-formatted.\n",
            "\n",
            "Here is the output schema:\n",
            "```\n",
            "{\"properties\": {\"name\": {\"description\": \"음식 이름\", \"title\": \"Name\", \"type\": \"string\"}, \"difficulty\": {\"description\": \"만들기의 난이도\", \"title\": \"Difficulty\", \"type\": \"string\"}, \"origin\": {\"description\": \"원산지\", \"title\": \"Origin\", \"type\": \"string\"}, \"ingredients\": {\"description\": \"재료\", \"items\": {\"type\": \"string\"}, \"title\": \"Ingredients\", \"type\": \"array\"}, \"instructions\": {\"description\": \"조리법\", \"items\": {\"type\": \"string\"}, \"title\": \"Instructions\", \"type\": \"array\"}, \"tip\": {\"description\": \"조리 과정 팁\", \"title\": \"Tip\", \"type\": \"string\"}}, \"required\": [\"name\", \"difficulty\", \"origin\", \"ingredients\", \"instructions\", \"tip\"]}\n",
            "```\n"
          ]
        }
      ],
      "source": [
        "print(parser.get_format_instructions())"
      ]
    },
    {
      "cell_type": "markdown",
      "id": "b073f01a",
      "metadata": {
        "id": "b073f01a"
      },
      "source": [
        "해당 내용을 프롬프트에 포함합니다."
      ]
    },
    {
      "cell_type": "code",
      "execution_count": null,
      "id": "ec750811",
      "metadata": {
        "id": "ec750811"
      },
      "outputs": [],
      "source": [
        "recipe_template2 = ChatPromptTemplate([\n",
        "    ('system','당신은 전세계의 이색적인 퓨전 조리법의 전문가입니다.'),\n",
        "    ('user','''저는 다음의 재료를 이용한 실험적인 음식을 만들고 싶습니다. 추천해주세요!\n",
        "    레시피에 대한 정보를 JSON 형식으로 출력해주세요. 결과는 한국어로 작성하세요.\n",
        "재료: {ingredient}\n",
        "출력 형식 조건: {instruction}''')\n",
        "])\n",
        "\n",
        "recipe_chain2 = recipe_template2 | gemini_llm | parser\n"
      ]
    },
    {
      "cell_type": "code",
      "execution_count": null,
      "id": "d1262301",
      "metadata": {
        "id": "d1262301",
        "colab": {
          "base_uri": "https://localhost:8080/"
        },
        "outputId": "9c000fa9-d1c3-4e11-ae41-cacbd30c04c8"
      },
      "outputs": [
        {
          "output_type": "execute_result",
          "data": {
            "text/plain": [
              "{'name': '생강 코코넛 판나코타와 망고 살사',\n",
              " 'difficulty': '중간',\n",
              " 'origin': '이탈리아 & 동남아시아 퓨전',\n",
              " 'ingredients': ['코코넛 밀크 400ml',\n",
              "  '생크림 200ml',\n",
              "  '설탕 50g (기호에 따라 조절)',\n",
              "  '판 젤라틴 3장 (또는 가루 젤라틴 5g)',\n",
              "  '신선한 생강 30g (껍질 벗겨 얇게 저미거나 즙을 낼 것)',\n",
              "  '잘 익은 망고 1개',\n",
              "  '라임 즙 1큰술',\n",
              "  '고수 1큰술 (다진 것, 선택 사항)',\n",
              "  '작은 붉은 양파 1/4개 (아주 잘게 다진 것, 선택 사항)',\n",
              "  '붉은 고추 약간 (씨 제거 후 다진 것, 선택 사항)',\n",
              "  '민트 잎 약간 (장식용)'],\n",
              " 'instructions': ['**생강 코코넛 판나코타 준비:**',\n",
              "  '판 젤라틴은 찬물에 5-10분간 불려 부드럽게 만듭니다. 가루 젤라틴을 사용할 경우, 찬물 2-3큰술에 뿌려 5분간 불립니다.',\n",
              "  '냄비에 코코넛 밀크, 생크림, 설탕을 넣고 중약불에서 설탕이 녹을 때까지 저어줍니다. 끓이지 않도록 주의하세요.',\n",
              "  '신선한 생강은 껍질을 벗겨 얇게 저미거나 강판에 갈아 면포에 짜서 즙을 냅니다. (얇게 저민 생강을 사용할 경우, 이 단계에서 코코넛 밀크 혼합물에 넣고 함께 우려냅니다.)',\n",
              "  '따뜻해진 코코넛 밀크 혼합물에 생강 즙(또는 우려낸 생강)을 넣고 5분 정도 더 우려냅니다.',\n",
              "  '불린 젤라틴의 물기를 꼭 짜서 따뜻한 코코넛 밀크 혼합물에 넣고 완전히 녹을 때까지 잘 저어줍니다.',\n",
              "  '생강 조각을 사용했다면 건져내고, 혼합물을 고운 체에 걸러 부드러운 질감을 만듭니다.',\n",
              "  '준비된 컵이나 틀에 판나코타 혼합물을 붓고, 냉장고에서 최소 4시간 또는 밤새 굳힙니다.',\n",
              "  '**망고 살사 준비:**',\n",
              "  '망고는 껍질을 벗기고 씨를 제거한 후 작은 주사위 모양으로 썰어줍니다.',\n",
              "  '작은 볼에 썬 망고, 라임 즙을 넣고 잘 섞습니다.',\n",
              "  '기호에 따라 다진 고수, 아주 잘게 다진 붉은 양파, 씨를 제거하고 다진 붉은 고추를 추가하여 섞습니다.',\n",
              "  '**서빙:**',\n",
              "  '굳은 판나코타를 접시에 뒤집어 놓거나 컵째로 서빙합니다.',\n",
              "  '판나코타 위에 망고 살사를 넉넉히 올리고, 민트 잎으로 장식하여 차갑게 서빙합니다.'],\n",
              " 'tip': '생강의 향을 더욱 강하게 원한다면, 코코넛 밀크 혼합물에 생강을 얇게 저며 넣고 함께 끓인 후, 불을 끄고 10-15분간 우려낸 다음 건져내세요. 망고 살사에 아주 약간의 소금을 추가하면 단맛을 더욱 돋보이게 할 수 있습니다.'}"
            ]
          },
          "metadata": {},
          "execution_count": 14
        }
      ],
      "source": [
        "recipe_chain2.invoke({'ingredient':'생강', 'instruction':parser.get_format_instructions()})"
      ]
    },
    {
      "cell_type": "markdown",
      "id": "N0jZSyIrl08N",
      "metadata": {
        "id": "N0jZSyIrl08N"
      },
      "source": [
        "partial을 통해 먼저 일부를 입력할 수도 있습니다."
      ]
    },
    {
      "cell_type": "code",
      "execution_count": null,
      "id": "NlSlQTWPl3Vd",
      "metadata": {
        "id": "NlSlQTWPl3Vd",
        "colab": {
          "base_uri": "https://localhost:8080/"
        },
        "outputId": "0f2a6574-b1f6-42df-abfc-77be2c0ef3f7"
      },
      "outputs": [
        {
          "output_type": "execute_result",
          "data": {
            "text/plain": [
              "{'name': '김치-카르파초 포테이토 롤',\n",
              " 'difficulty': '중간',\n",
              " 'origin': '한국 × 이탈리아 퓨전',\n",
              " 'ingredients': ['중간 크기 감자 4개(껍질 제거)',\n",
              "  '익힌 김치 150g(물기 걷어내고 잘게 썬 것)',\n",
              "  '리코타 치즈 100g',\n",
              "  '엑스트라버진 올리브오일 2큰술',\n",
              "  '레몬즙 1큰술',\n",
              "  '간장 1작은술',\n",
              "  '참기름 1작은술',\n",
              "  '다진 쪽파 2큰술',\n",
              "  '통깨 1작은술',\n",
              "  '소금·후추 약간',\n",
              "  '올리브오일(팬용) 1큰술',\n",
              "  '루꼴라 또는 어린잎(선택)',\n",
              "  '얇게 썬 훈제 연어 또는 얇게 구운 슬라이스 비프(선택, 채식 옵션: 얇게 구운 가지)',\n",
              "  '레몬 제스트 약간(선택)'],\n",
              " 'instructions': ['감자를 얇게 슬라이스한다(두께 1~1.5mm 권장). 만돌린이 있으면 사용하면 균일하게 나온다.',\n",
              "  '슬라이스한 감자를 소금물에 2분간 데쳐 녹말을 일부 제거한 뒤 찬물에 헹구고 키친타월로 물기를 잘 닦는다.',\n",
              "  '오븐을 180°C로 예열한다. 베이킹 시트에 유산지를 깔고 감자 슬라이스를 겹치지 않게 펼쳐 올리브오일 살짝 바른 뒤 8~10분 가볍게 구워 말랑해지게 한다(너무 바삭해지면 말기 어려움).',\n",
              "  '그동안 속재료를 준비한다: 잘게 썬 김치를 체에 밭쳐 물기와 과도한 유산을 제거한 뒤 리코타 치즈와 섞는다. 여기에 레몬즙 1작은술, 간장 1작은술, 참기름 약간, 다진 쪽파, 소금·후추로 간을 맞춘다.',\n",
              "  '오븐에서 감자 슬라이스를 꺼내 살짝 식힌다. 손으로 다룰 수 있을 정도의 온도여야 한다.',\n",
              "  '감자 한 장 위에 속재료를 1~2작은술 놓고 얇게 펼친 뒤(끝 부분은 적게), 선택한 훈제 연어나 슬라이스 비프/구운 가지를 얹는다. 감자를 말듯이 단단히 롤 말아 작은 타워 모양이나 롤 형태로 만든다.',\n",
              "  '팬에 올리브오일을 두르고 약한 불에서 감자 롤 외피가 살짝 노릇해지도록 굴려 가며 1~2분간 익힌다(겉면에 색과 바삭함을 더함).',\n",
              "  '접시에 루꼴라 또는 어린잎을 깔고 포테이토 롤을 놓는다. 올리브오일 1작은술과 레몬즙 1작은술을 섞어 드레싱을 만들어 뿌리고 통깨와 레몬 제스트를 약간 올려 마무리한다.'],\n",
              " 'tip': '감자 슬라이스가 너무 얇으면 찢어지고 너무 두꺼우면 말기 어려우니 만돌린으로 1~1.5mm를 권장합니다. 김치의 물기는 반드시 제거해 리코타와 섞을 때 묽지 않게 하고, 말기 전에 감자 가장자리를 살짝 겹치게 배열하면 말 때 풀리지 않습니다. 비건 옵션은 훈제 연어 대신 구운 가지나 양파 컴포트로 대체하세요. 미리 감자를 살짝 구워두면 서빙 직전에 굽기만 해서 준비 시간을 줄일 수 있습니다.'}"
            ]
          },
          "metadata": {},
          "execution_count": 15
        }
      ],
      "source": [
        "recipe_template2 = ChatPromptTemplate([\n",
        "    ('system','당신은 전세계의 이색적인 퓨전 조리법의 전문가입니다.'),\n",
        "    ('user','''저는 {ingredient}를 이용한 실험적인 음식을 만들고 싶습니다. 추천해주세요!\n",
        "    레시피에 대한 정보를 JSON 형식으로 출력해주세요. 결과는 한국어로 작성하세요.\n",
        "     {instruction}''')\n",
        "]).partial(instruction=parser.get_format_instructions())\n",
        "\n",
        "recipe_chain2 = recipe_template2 | gpt_llm | parser\n",
        "\n",
        "recipe_chain2.invoke('감자')"
      ]
    },
    {
      "cell_type": "markdown",
      "id": "z94ZBAdPwphP",
      "metadata": {
        "id": "z94ZBAdPwphP"
      },
      "source": [
        "# LangChain Structured Output\n",
        "파서를 사용하지 않고, 구조화된 출력을 생성합니다.  "
      ]
    },
    {
      "cell_type": "code",
      "execution_count": null,
      "id": "SGvRJVPlws__",
      "metadata": {
        "id": "SGvRJVPlws__",
        "colab": {
          "base_uri": "https://localhost:8080/",
          "height": 945
        },
        "outputId": "7fccdc20-10c3-498f-ad4c-319f924bffac"
      },
      "outputs": [
        {
          "output_type": "display_data",
          "data": {
            "text/plain": [
              "\u001b[1;35mRunnableSequence\u001b[0m\u001b[1m(\u001b[0m\n",
              "    \u001b[33mfirst\u001b[0m=\u001b[1;35mRunnableBinding\u001b[0m\u001b[1m(\u001b[0m\n",
              "        \u001b[33mbound\u001b[0m=\u001b[1;35mChatOpenAI\u001b[0m\u001b[1m(\u001b[0m\n",
              "            \u001b[33mclient\u001b[0m=\u001b[1m<\u001b[0m\u001b[1;95mopenai.resources.chat.completions.completions.Completions\u001b[0m\u001b[39m object at \u001b[0m\u001b[1;36m0x7d40af9147a0\u001b[0m\u001b[39m>,\u001b[0m\n",
              "\u001b[39m            \u001b[0m\u001b[33masync_client\u001b[0m\u001b[39m=<openai.resources.chat.completions.completions.AsyncCompletions object at \u001b[0m\u001b[1;36m0x7d40aea64e00\u001b[0m\u001b[39m>,\u001b[0m\n",
              "\u001b[39m            \u001b[0m\u001b[33mroot_client\u001b[0m\u001b[39m=<openai.OpenAI object at \u001b[0m\u001b[1;36m0x7d40af09a060\u001b[0m\u001b[39m>,\u001b[0m\n",
              "\u001b[39m            \u001b[0m\u001b[33mroot_async_client\u001b[0m\u001b[39m=<openai.AsyncOpenAI object at \u001b[0m\u001b[1;36m0x7d40aecbed20\u001b[0m\u001b[39m>,\u001b[0m\n",
              "\u001b[39m            \u001b[0m\u001b[33mmodel_name\u001b[0m\u001b[39m=\u001b[0m\u001b[32m'gpt-5-mini'\u001b[0m\u001b[39m,\u001b[0m\n",
              "\u001b[39m            \u001b[0m\u001b[33mmodel_kwargs\u001b[0m\u001b[39m=\u001b[0m\u001b[1;39m{\u001b[0m\u001b[1;39m}\u001b[0m\u001b[39m,\u001b[0m\n",
              "\u001b[39m            \u001b[0m\u001b[33mopenai_api_key\u001b[0m\u001b[39m=\u001b[0m\u001b[1;35mSecretStr\u001b[0m\u001b[1;39m(\u001b[0m\u001b[32m'**********'\u001b[0m\u001b[1;39m)\u001b[0m\u001b[39m,\u001b[0m\n",
              "\u001b[39m            \u001b[0m\u001b[33mstream_usage\u001b[0m\u001b[39m=\u001b[0m\u001b[3;92mTrue\u001b[0m\u001b[39m,\u001b[0m\n",
              "\u001b[39m            \u001b[0m\u001b[33mreasoning_effort\u001b[0m\u001b[39m=\u001b[0m\u001b[32m'low'\u001b[0m\n",
              "\u001b[39m        \u001b[0m\u001b[1;39m)\u001b[0m\u001b[39m,\u001b[0m\n",
              "\u001b[39m        \u001b[0m\u001b[33mkwargs\u001b[0m\u001b[39m=\u001b[0m\u001b[1;39m{\u001b[0m\n",
              "\u001b[39m            \u001b[0m\u001b[32m'response_format'\u001b[0m\u001b[39m: <class \u001b[0m\u001b[32m'__main__.Recipe'\u001b[0m\u001b[39m>,\u001b[0m\n",
              "\u001b[39m            \u001b[0m\u001b[32m'ls_structured_output_format'\u001b[0m\u001b[39m: \u001b[0m\u001b[1;39m{\u001b[0m\n",
              "\u001b[39m                \u001b[0m\u001b[32m'kwargs'\u001b[0m\u001b[39m: \u001b[0m\u001b[1;39m{\u001b[0m\u001b[32m'method'\u001b[0m\u001b[39m: \u001b[0m\u001b[32m'json_schema'\u001b[0m\u001b[39m, \u001b[0m\u001b[32m'strict'\u001b[0m\u001b[39m: \u001b[0m\u001b[3;35mNone\u001b[0m\u001b[1;39m}\u001b[0m\u001b[39m,\u001b[0m\n",
              "\u001b[39m                \u001b[0m\u001b[32m'schema'\u001b[0m\u001b[39m: \u001b[0m\u001b[1;39m{\u001b[0m\n",
              "\u001b[39m                    \u001b[0m\u001b[32m'type'\u001b[0m\u001b[39m: \u001b[0m\u001b[32m'function'\u001b[0m\u001b[39m,\u001b[0m\n",
              "\u001b[39m                    \u001b[0m\u001b[32m'function'\u001b[0m\u001b[39m: \u001b[0m\u001b[1;39m{\u001b[0m\n",
              "\u001b[39m                        \u001b[0m\u001b[32m'name'\u001b[0m\u001b[39m: \u001b[0m\u001b[32m'Recipe'\u001b[0m\u001b[39m,\u001b[0m\n",
              "\u001b[39m                        \u001b[0m\u001b[32m'description'\u001b[0m\u001b[39m: \u001b[0m\u001b[32m''\u001b[0m\u001b[39m,\u001b[0m\n",
              "\u001b[39m                        \u001b[0m\u001b[32m'parameters'\u001b[0m\u001b[39m: \u001b[0m\u001b[1;39m{\u001b[0m\n",
              "\u001b[39m                            \u001b[0m\u001b[32m'properties'\u001b[0m\u001b[39m: \u001b[0m\u001b[1;39m{\u001b[0m\n",
              "\u001b[39m                                \u001b[0m\u001b[32m'name'\u001b[0m\u001b[39m: \u001b[0m\u001b[1;39m{\u001b[0m\u001b[32m'description'\u001b[0m\u001b[39m: \u001b[0m\u001b[32m'음식 이름'\u001b[0m\u001b[39m, \u001b[0m\u001b[32m'type'\u001b[0m\u001b[39m: \u001b[0m\u001b[32m'string'\u001b[0m\u001b[1;39m}\u001b[0m\u001b[39m,\u001b[0m\n",
              "\u001b[39m                                \u001b[0m\u001b[32m'difficulty'\u001b[0m\u001b[39m: \u001b[0m\u001b[1;39m{\u001b[0m\u001b[32m'description'\u001b[0m\u001b[39m: \u001b[0m\u001b[32m'만들기의 난이도'\u001b[0m\u001b[39m, \u001b[0m\u001b[32m'type'\u001b[0m\u001b[39m: \u001b[0m\u001b[32m'string'\u001b[0m\u001b[1;39m}\u001b[0m\u001b[39m,\u001b[0m\n",
              "\u001b[39m                                \u001b[0m\u001b[32m'origin'\u001b[0m\u001b[39m: \u001b[0m\u001b[1;39m{\u001b[0m\u001b[32m'description'\u001b[0m\u001b[39m: \u001b[0m\u001b[32m'원산지'\u001b[0m\u001b[39m, \u001b[0m\u001b[32m'type'\u001b[0m\u001b[39m: \u001b[0m\u001b[32m'string'\u001b[0m\u001b[1;39m}\u001b[0m\u001b[39m,\u001b[0m\n",
              "\u001b[39m                                \u001b[0m\u001b[32m'ingredients'\u001b[0m\u001b[39m: \u001b[0m\u001b[1;39m{\u001b[0m\n",
              "\u001b[39m                                    \u001b[0m\u001b[32m'description'\u001b[0m\u001b[39m: \u001b[0m\u001b[32m'재료'\u001b[0m\u001b[39m,\u001b[0m\n",
              "\u001b[39m                                    \u001b[0m\u001b[32m'items'\u001b[0m\u001b[39m: \u001b[0m\u001b[1;39m{\u001b[0m\u001b[32m'type'\u001b[0m\u001b[39m: \u001b[0m\u001b[32m'string'\u001b[0m\u001b[1;39m}\u001b[0m\u001b[39m,\u001b[0m\n",
              "\u001b[39m                                    \u001b[0m\u001b[32m'type'\u001b[0m\u001b[39m: \u001b[0m\u001b[32m'array'\u001b[0m\n",
              "\u001b[39m                                \u001b[0m\u001b[1;39m}\u001b[0m\u001b[39m,\u001b[0m\n",
              "\u001b[39m                                \u001b[0m\u001b[32m'instructions'\u001b[0m\u001b[39m: \u001b[0m\u001b[1;39m{\u001b[0m\n",
              "\u001b[39m                                    \u001b[0m\u001b[32m'description'\u001b[0m\u001b[39m: \u001b[0m\u001b[32m'조리법'\u001b[0m\u001b[39m,\u001b[0m\n",
              "\u001b[39m                                    \u001b[0m\u001b[32m'items'\u001b[0m\u001b[39m: \u001b[0m\u001b[1;39m{\u001b[0m\u001b[32m'type'\u001b[0m\u001b[39m: \u001b[0m\u001b[32m'string'\u001b[0m\u001b[1;39m}\u001b[0m\u001b[39m,\u001b[0m\n",
              "\u001b[39m                                    \u001b[0m\u001b[32m'type'\u001b[0m\u001b[39m: \u001b[0m\u001b[32m'array'\u001b[0m\n",
              "\u001b[39m                                \u001b[0m\u001b[1;39m}\u001b[0m\u001b[39m,\u001b[0m\n",
              "\u001b[39m                                \u001b[0m\u001b[32m'tip'\u001b[0m\u001b[39m: \u001b[0m\u001b[1;39m{\u001b[0m\u001b[32m'description'\u001b[0m\u001b[39m: \u001b[0m\u001b[32m'조리 과정 팁'\u001b[0m\u001b[39m, \u001b[0m\u001b[32m'type'\u001b[0m\u001b[39m: \u001b[0m\u001b[32m'string'\u001b[0m\u001b[1;39m}\u001b[0m\n",
              "\u001b[39m                            \u001b[0m\u001b[1;39m}\u001b[0m\u001b[39m,\u001b[0m\n",
              "\u001b[39m                            \u001b[0m\u001b[32m'required'\u001b[0m\u001b[39m: \u001b[0m\u001b[1;39m[\u001b[0m\u001b[32m'name'\u001b[0m\u001b[39m, \u001b[0m\u001b[32m'difficulty'\u001b[0m\u001b[39m, \u001b[0m\u001b[32m'origin'\u001b[0m\u001b[39m, \u001b[0m\u001b[32m'ingredients'\u001b[0m\u001b[39m, \u001b[0m\u001b[32m'instructions'\u001b[0m\u001b[39m, \u001b[0m\u001b[32m'tip'\u001b[0m\u001b[1;39m]\u001b[0m\u001b[39m,\u001b[0m\n",
              "\u001b[39m                            \u001b[0m\u001b[32m'type'\u001b[0m\u001b[39m: \u001b[0m\u001b[32m'object'\u001b[0m\n",
              "\u001b[39m                        \u001b[0m\u001b[1;39m}\u001b[0m\n",
              "\u001b[39m                    \u001b[0m\u001b[1;39m}\u001b[0m\n",
              "\u001b[39m                \u001b[0m\u001b[1;39m}\u001b[0m\n",
              "\u001b[39m            \u001b[0m\u001b[1;39m}\u001b[0m\n",
              "\u001b[39m        \u001b[0m\u001b[1;39m}\u001b[0m\u001b[39m,\u001b[0m\n",
              "\u001b[39m        \u001b[0m\u001b[33mconfig\u001b[0m\u001b[39m=\u001b[0m\u001b[1;39m{\u001b[0m\u001b[1;39m}\u001b[0m\u001b[39m,\u001b[0m\n",
              "\u001b[39m        \u001b[0m\u001b[33mconfig_factories\u001b[0m\u001b[39m=\u001b[0m\u001b[1;39m[\u001b[0m\u001b[1;39m]\u001b[0m\n",
              "\u001b[39m    \u001b[0m\u001b[1;39m)\u001b[0m\u001b[39m,\u001b[0m\n",
              "\u001b[39m    \u001b[0m\u001b[33mmiddle\u001b[0m\u001b[39m=\u001b[0m\u001b[1;39m[\u001b[0m\u001b[1;39m]\u001b[0m\u001b[39m,\u001b[0m\n",
              "\u001b[39m    \u001b[0m\u001b[33mlast\u001b[0m\u001b[39m=\u001b[0m\u001b[1;35mRunnableBinding\u001b[0m\u001b[1;39m(\u001b[0m\n",
              "\u001b[39m        \u001b[0m\u001b[33mbound\u001b[0m\u001b[39m=\u001b[0m\u001b[1;35mRunnableLambda\u001b[0m\u001b[1;39m(\u001b[0m\u001b[33m...\u001b[0m\u001b[1;39m)\u001b[0m\u001b[39m,\u001b[0m\n",
              "\u001b[39m        \u001b[0m\u001b[33mkwargs\u001b[0m\u001b[39m=\u001b[0m\u001b[1;39m{\u001b[0m\u001b[1;39m}\u001b[0m\u001b[39m,\u001b[0m\n",
              "\u001b[39m        \u001b[0m\u001b[33mconfig\u001b[0m\u001b[39m=\u001b[0m\u001b[1;39m{\u001b[0m\u001b[1;39m}\u001b[0m\u001b[39m,\u001b[0m\n",
              "\u001b[39m        \u001b[0m\u001b[33mconfig_factories\u001b[0m\u001b[39m=\u001b[0m\u001b[1;39m[\u001b[0m\u001b[1;39m]\u001b[0m\u001b[39m,\u001b[0m\n",
              "\u001b[39m        \u001b[0m\u001b[33mcustom_output_type\u001b[0m\u001b[39m=<class \u001b[0m\u001b[32m'__main__.Recipe'\u001b[0m\u001b[1m>\u001b[0m\n",
              "    \u001b[1m)\u001b[0m\n",
              "\u001b[1m)\u001b[0m\n"
            ],
            "text/html": [
              "<pre style=\"white-space:pre;overflow-x:auto;line-height:normal;font-family:Menlo,'DejaVu Sans Mono',consolas,'Courier New',monospace\"><span style=\"color: #800080; text-decoration-color: #800080; font-weight: bold\">RunnableSequence</span><span style=\"font-weight: bold\">(</span>\n",
              "    <span style=\"color: #808000; text-decoration-color: #808000\">first</span>=<span style=\"color: #800080; text-decoration-color: #800080; font-weight: bold\">RunnableBinding</span><span style=\"font-weight: bold\">(</span>\n",
              "        <span style=\"color: #808000; text-decoration-color: #808000\">bound</span>=<span style=\"color: #800080; text-decoration-color: #800080; font-weight: bold\">ChatOpenAI</span><span style=\"font-weight: bold\">(</span>\n",
              "            <span style=\"color: #808000; text-decoration-color: #808000\">client</span>=<span style=\"font-weight: bold\">&lt;</span><span style=\"color: #ff00ff; text-decoration-color: #ff00ff; font-weight: bold\">openai.resources.chat.completions.completions.Completions</span><span style=\"color: #000000; text-decoration-color: #000000\"> object at </span><span style=\"color: #008080; text-decoration-color: #008080; font-weight: bold\">0x7d40af9147a0</span><span style=\"color: #000000; text-decoration-color: #000000\">&gt;,</span>\n",
              "<span style=\"color: #000000; text-decoration-color: #000000\">            </span><span style=\"color: #808000; text-decoration-color: #808000\">async_client</span><span style=\"color: #000000; text-decoration-color: #000000\">=&lt;openai.resources.chat.completions.completions.AsyncCompletions object at </span><span style=\"color: #008080; text-decoration-color: #008080; font-weight: bold\">0x7d40aea64e00</span><span style=\"color: #000000; text-decoration-color: #000000\">&gt;,</span>\n",
              "<span style=\"color: #000000; text-decoration-color: #000000\">            </span><span style=\"color: #808000; text-decoration-color: #808000\">root_client</span><span style=\"color: #000000; text-decoration-color: #000000\">=&lt;openai.OpenAI object at </span><span style=\"color: #008080; text-decoration-color: #008080; font-weight: bold\">0x7d40af09a060</span><span style=\"color: #000000; text-decoration-color: #000000\">&gt;,</span>\n",
              "<span style=\"color: #000000; text-decoration-color: #000000\">            </span><span style=\"color: #808000; text-decoration-color: #808000\">root_async_client</span><span style=\"color: #000000; text-decoration-color: #000000\">=&lt;openai.AsyncOpenAI object at </span><span style=\"color: #008080; text-decoration-color: #008080; font-weight: bold\">0x7d40aecbed20</span><span style=\"color: #000000; text-decoration-color: #000000\">&gt;,</span>\n",
              "<span style=\"color: #000000; text-decoration-color: #000000\">            </span><span style=\"color: #808000; text-decoration-color: #808000\">model_name</span><span style=\"color: #000000; text-decoration-color: #000000\">=</span><span style=\"color: #008000; text-decoration-color: #008000\">'gpt-5-mini'</span><span style=\"color: #000000; text-decoration-color: #000000\">,</span>\n",
              "<span style=\"color: #000000; text-decoration-color: #000000\">            </span><span style=\"color: #808000; text-decoration-color: #808000\">model_kwargs</span><span style=\"color: #000000; text-decoration-color: #000000\">=</span><span style=\"color: #000000; text-decoration-color: #000000; font-weight: bold\">{}</span><span style=\"color: #000000; text-decoration-color: #000000\">,</span>\n",
              "<span style=\"color: #000000; text-decoration-color: #000000\">            </span><span style=\"color: #808000; text-decoration-color: #808000\">openai_api_key</span><span style=\"color: #000000; text-decoration-color: #000000\">=</span><span style=\"color: #800080; text-decoration-color: #800080; font-weight: bold\">SecretStr</span><span style=\"color: #000000; text-decoration-color: #000000; font-weight: bold\">(</span><span style=\"color: #008000; text-decoration-color: #008000\">'**********'</span><span style=\"color: #000000; text-decoration-color: #000000; font-weight: bold\">)</span><span style=\"color: #000000; text-decoration-color: #000000\">,</span>\n",
              "<span style=\"color: #000000; text-decoration-color: #000000\">            </span><span style=\"color: #808000; text-decoration-color: #808000\">stream_usage</span><span style=\"color: #000000; text-decoration-color: #000000\">=</span><span style=\"color: #00ff00; text-decoration-color: #00ff00; font-style: italic\">True</span><span style=\"color: #000000; text-decoration-color: #000000\">,</span>\n",
              "<span style=\"color: #000000; text-decoration-color: #000000\">            </span><span style=\"color: #808000; text-decoration-color: #808000\">reasoning_effort</span><span style=\"color: #000000; text-decoration-color: #000000\">=</span><span style=\"color: #008000; text-decoration-color: #008000\">'low'</span>\n",
              "<span style=\"color: #000000; text-decoration-color: #000000\">        </span><span style=\"color: #000000; text-decoration-color: #000000; font-weight: bold\">)</span><span style=\"color: #000000; text-decoration-color: #000000\">,</span>\n",
              "<span style=\"color: #000000; text-decoration-color: #000000\">        </span><span style=\"color: #808000; text-decoration-color: #808000\">kwargs</span><span style=\"color: #000000; text-decoration-color: #000000\">=</span><span style=\"color: #000000; text-decoration-color: #000000; font-weight: bold\">{</span>\n",
              "<span style=\"color: #000000; text-decoration-color: #000000\">            </span><span style=\"color: #008000; text-decoration-color: #008000\">'response_format'</span><span style=\"color: #000000; text-decoration-color: #000000\">: &lt;class </span><span style=\"color: #008000; text-decoration-color: #008000\">'__main__.Recipe'</span><span style=\"color: #000000; text-decoration-color: #000000\">&gt;,</span>\n",
              "<span style=\"color: #000000; text-decoration-color: #000000\">            </span><span style=\"color: #008000; text-decoration-color: #008000\">'ls_structured_output_format'</span><span style=\"color: #000000; text-decoration-color: #000000\">: </span><span style=\"color: #000000; text-decoration-color: #000000; font-weight: bold\">{</span>\n",
              "<span style=\"color: #000000; text-decoration-color: #000000\">                </span><span style=\"color: #008000; text-decoration-color: #008000\">'kwargs'</span><span style=\"color: #000000; text-decoration-color: #000000\">: </span><span style=\"color: #000000; text-decoration-color: #000000; font-weight: bold\">{</span><span style=\"color: #008000; text-decoration-color: #008000\">'method'</span><span style=\"color: #000000; text-decoration-color: #000000\">: </span><span style=\"color: #008000; text-decoration-color: #008000\">'json_schema'</span><span style=\"color: #000000; text-decoration-color: #000000\">, </span><span style=\"color: #008000; text-decoration-color: #008000\">'strict'</span><span style=\"color: #000000; text-decoration-color: #000000\">: </span><span style=\"color: #800080; text-decoration-color: #800080; font-style: italic\">None</span><span style=\"color: #000000; text-decoration-color: #000000; font-weight: bold\">}</span><span style=\"color: #000000; text-decoration-color: #000000\">,</span>\n",
              "<span style=\"color: #000000; text-decoration-color: #000000\">                </span><span style=\"color: #008000; text-decoration-color: #008000\">'schema'</span><span style=\"color: #000000; text-decoration-color: #000000\">: </span><span style=\"color: #000000; text-decoration-color: #000000; font-weight: bold\">{</span>\n",
              "<span style=\"color: #000000; text-decoration-color: #000000\">                    </span><span style=\"color: #008000; text-decoration-color: #008000\">'type'</span><span style=\"color: #000000; text-decoration-color: #000000\">: </span><span style=\"color: #008000; text-decoration-color: #008000\">'function'</span><span style=\"color: #000000; text-decoration-color: #000000\">,</span>\n",
              "<span style=\"color: #000000; text-decoration-color: #000000\">                    </span><span style=\"color: #008000; text-decoration-color: #008000\">'function'</span><span style=\"color: #000000; text-decoration-color: #000000\">: </span><span style=\"color: #000000; text-decoration-color: #000000; font-weight: bold\">{</span>\n",
              "<span style=\"color: #000000; text-decoration-color: #000000\">                        </span><span style=\"color: #008000; text-decoration-color: #008000\">'name'</span><span style=\"color: #000000; text-decoration-color: #000000\">: </span><span style=\"color: #008000; text-decoration-color: #008000\">'Recipe'</span><span style=\"color: #000000; text-decoration-color: #000000\">,</span>\n",
              "<span style=\"color: #000000; text-decoration-color: #000000\">                        </span><span style=\"color: #008000; text-decoration-color: #008000\">'description'</span><span style=\"color: #000000; text-decoration-color: #000000\">: </span><span style=\"color: #008000; text-decoration-color: #008000\">''</span><span style=\"color: #000000; text-decoration-color: #000000\">,</span>\n",
              "<span style=\"color: #000000; text-decoration-color: #000000\">                        </span><span style=\"color: #008000; text-decoration-color: #008000\">'parameters'</span><span style=\"color: #000000; text-decoration-color: #000000\">: </span><span style=\"color: #000000; text-decoration-color: #000000; font-weight: bold\">{</span>\n",
              "<span style=\"color: #000000; text-decoration-color: #000000\">                            </span><span style=\"color: #008000; text-decoration-color: #008000\">'properties'</span><span style=\"color: #000000; text-decoration-color: #000000\">: </span><span style=\"color: #000000; text-decoration-color: #000000; font-weight: bold\">{</span>\n",
              "<span style=\"color: #000000; text-decoration-color: #000000\">                                </span><span style=\"color: #008000; text-decoration-color: #008000\">'name'</span><span style=\"color: #000000; text-decoration-color: #000000\">: </span><span style=\"color: #000000; text-decoration-color: #000000; font-weight: bold\">{</span><span style=\"color: #008000; text-decoration-color: #008000\">'description'</span><span style=\"color: #000000; text-decoration-color: #000000\">: </span><span style=\"color: #008000; text-decoration-color: #008000\">'음식 이름'</span><span style=\"color: #000000; text-decoration-color: #000000\">, </span><span style=\"color: #008000; text-decoration-color: #008000\">'type'</span><span style=\"color: #000000; text-decoration-color: #000000\">: </span><span style=\"color: #008000; text-decoration-color: #008000\">'string'</span><span style=\"color: #000000; text-decoration-color: #000000; font-weight: bold\">}</span><span style=\"color: #000000; text-decoration-color: #000000\">,</span>\n",
              "<span style=\"color: #000000; text-decoration-color: #000000\">                                </span><span style=\"color: #008000; text-decoration-color: #008000\">'difficulty'</span><span style=\"color: #000000; text-decoration-color: #000000\">: </span><span style=\"color: #000000; text-decoration-color: #000000; font-weight: bold\">{</span><span style=\"color: #008000; text-decoration-color: #008000\">'description'</span><span style=\"color: #000000; text-decoration-color: #000000\">: </span><span style=\"color: #008000; text-decoration-color: #008000\">'만들기의 난이도'</span><span style=\"color: #000000; text-decoration-color: #000000\">, </span><span style=\"color: #008000; text-decoration-color: #008000\">'type'</span><span style=\"color: #000000; text-decoration-color: #000000\">: </span><span style=\"color: #008000; text-decoration-color: #008000\">'string'</span><span style=\"color: #000000; text-decoration-color: #000000; font-weight: bold\">}</span><span style=\"color: #000000; text-decoration-color: #000000\">,</span>\n",
              "<span style=\"color: #000000; text-decoration-color: #000000\">                                </span><span style=\"color: #008000; text-decoration-color: #008000\">'origin'</span><span style=\"color: #000000; text-decoration-color: #000000\">: </span><span style=\"color: #000000; text-decoration-color: #000000; font-weight: bold\">{</span><span style=\"color: #008000; text-decoration-color: #008000\">'description'</span><span style=\"color: #000000; text-decoration-color: #000000\">: </span><span style=\"color: #008000; text-decoration-color: #008000\">'원산지'</span><span style=\"color: #000000; text-decoration-color: #000000\">, </span><span style=\"color: #008000; text-decoration-color: #008000\">'type'</span><span style=\"color: #000000; text-decoration-color: #000000\">: </span><span style=\"color: #008000; text-decoration-color: #008000\">'string'</span><span style=\"color: #000000; text-decoration-color: #000000; font-weight: bold\">}</span><span style=\"color: #000000; text-decoration-color: #000000\">,</span>\n",
              "<span style=\"color: #000000; text-decoration-color: #000000\">                                </span><span style=\"color: #008000; text-decoration-color: #008000\">'ingredients'</span><span style=\"color: #000000; text-decoration-color: #000000\">: </span><span style=\"color: #000000; text-decoration-color: #000000; font-weight: bold\">{</span>\n",
              "<span style=\"color: #000000; text-decoration-color: #000000\">                                    </span><span style=\"color: #008000; text-decoration-color: #008000\">'description'</span><span style=\"color: #000000; text-decoration-color: #000000\">: </span><span style=\"color: #008000; text-decoration-color: #008000\">'재료'</span><span style=\"color: #000000; text-decoration-color: #000000\">,</span>\n",
              "<span style=\"color: #000000; text-decoration-color: #000000\">                                    </span><span style=\"color: #008000; text-decoration-color: #008000\">'items'</span><span style=\"color: #000000; text-decoration-color: #000000\">: </span><span style=\"color: #000000; text-decoration-color: #000000; font-weight: bold\">{</span><span style=\"color: #008000; text-decoration-color: #008000\">'type'</span><span style=\"color: #000000; text-decoration-color: #000000\">: </span><span style=\"color: #008000; text-decoration-color: #008000\">'string'</span><span style=\"color: #000000; text-decoration-color: #000000; font-weight: bold\">}</span><span style=\"color: #000000; text-decoration-color: #000000\">,</span>\n",
              "<span style=\"color: #000000; text-decoration-color: #000000\">                                    </span><span style=\"color: #008000; text-decoration-color: #008000\">'type'</span><span style=\"color: #000000; text-decoration-color: #000000\">: </span><span style=\"color: #008000; text-decoration-color: #008000\">'array'</span>\n",
              "<span style=\"color: #000000; text-decoration-color: #000000\">                                </span><span style=\"color: #000000; text-decoration-color: #000000; font-weight: bold\">}</span><span style=\"color: #000000; text-decoration-color: #000000\">,</span>\n",
              "<span style=\"color: #000000; text-decoration-color: #000000\">                                </span><span style=\"color: #008000; text-decoration-color: #008000\">'instructions'</span><span style=\"color: #000000; text-decoration-color: #000000\">: </span><span style=\"color: #000000; text-decoration-color: #000000; font-weight: bold\">{</span>\n",
              "<span style=\"color: #000000; text-decoration-color: #000000\">                                    </span><span style=\"color: #008000; text-decoration-color: #008000\">'description'</span><span style=\"color: #000000; text-decoration-color: #000000\">: </span><span style=\"color: #008000; text-decoration-color: #008000\">'조리법'</span><span style=\"color: #000000; text-decoration-color: #000000\">,</span>\n",
              "<span style=\"color: #000000; text-decoration-color: #000000\">                                    </span><span style=\"color: #008000; text-decoration-color: #008000\">'items'</span><span style=\"color: #000000; text-decoration-color: #000000\">: </span><span style=\"color: #000000; text-decoration-color: #000000; font-weight: bold\">{</span><span style=\"color: #008000; text-decoration-color: #008000\">'type'</span><span style=\"color: #000000; text-decoration-color: #000000\">: </span><span style=\"color: #008000; text-decoration-color: #008000\">'string'</span><span style=\"color: #000000; text-decoration-color: #000000; font-weight: bold\">}</span><span style=\"color: #000000; text-decoration-color: #000000\">,</span>\n",
              "<span style=\"color: #000000; text-decoration-color: #000000\">                                    </span><span style=\"color: #008000; text-decoration-color: #008000\">'type'</span><span style=\"color: #000000; text-decoration-color: #000000\">: </span><span style=\"color: #008000; text-decoration-color: #008000\">'array'</span>\n",
              "<span style=\"color: #000000; text-decoration-color: #000000\">                                </span><span style=\"color: #000000; text-decoration-color: #000000; font-weight: bold\">}</span><span style=\"color: #000000; text-decoration-color: #000000\">,</span>\n",
              "<span style=\"color: #000000; text-decoration-color: #000000\">                                </span><span style=\"color: #008000; text-decoration-color: #008000\">'tip'</span><span style=\"color: #000000; text-decoration-color: #000000\">: </span><span style=\"color: #000000; text-decoration-color: #000000; font-weight: bold\">{</span><span style=\"color: #008000; text-decoration-color: #008000\">'description'</span><span style=\"color: #000000; text-decoration-color: #000000\">: </span><span style=\"color: #008000; text-decoration-color: #008000\">'조리 과정 팁'</span><span style=\"color: #000000; text-decoration-color: #000000\">, </span><span style=\"color: #008000; text-decoration-color: #008000\">'type'</span><span style=\"color: #000000; text-decoration-color: #000000\">: </span><span style=\"color: #008000; text-decoration-color: #008000\">'string'</span><span style=\"color: #000000; text-decoration-color: #000000; font-weight: bold\">}</span>\n",
              "<span style=\"color: #000000; text-decoration-color: #000000\">                            </span><span style=\"color: #000000; text-decoration-color: #000000; font-weight: bold\">}</span><span style=\"color: #000000; text-decoration-color: #000000\">,</span>\n",
              "<span style=\"color: #000000; text-decoration-color: #000000\">                            </span><span style=\"color: #008000; text-decoration-color: #008000\">'required'</span><span style=\"color: #000000; text-decoration-color: #000000\">: </span><span style=\"color: #000000; text-decoration-color: #000000; font-weight: bold\">[</span><span style=\"color: #008000; text-decoration-color: #008000\">'name'</span><span style=\"color: #000000; text-decoration-color: #000000\">, </span><span style=\"color: #008000; text-decoration-color: #008000\">'difficulty'</span><span style=\"color: #000000; text-decoration-color: #000000\">, </span><span style=\"color: #008000; text-decoration-color: #008000\">'origin'</span><span style=\"color: #000000; text-decoration-color: #000000\">, </span><span style=\"color: #008000; text-decoration-color: #008000\">'ingredients'</span><span style=\"color: #000000; text-decoration-color: #000000\">, </span><span style=\"color: #008000; text-decoration-color: #008000\">'instructions'</span><span style=\"color: #000000; text-decoration-color: #000000\">, </span><span style=\"color: #008000; text-decoration-color: #008000\">'tip'</span><span style=\"color: #000000; text-decoration-color: #000000; font-weight: bold\">]</span><span style=\"color: #000000; text-decoration-color: #000000\">,</span>\n",
              "<span style=\"color: #000000; text-decoration-color: #000000\">                            </span><span style=\"color: #008000; text-decoration-color: #008000\">'type'</span><span style=\"color: #000000; text-decoration-color: #000000\">: </span><span style=\"color: #008000; text-decoration-color: #008000\">'object'</span>\n",
              "<span style=\"color: #000000; text-decoration-color: #000000\">                        </span><span style=\"color: #000000; text-decoration-color: #000000; font-weight: bold\">}</span>\n",
              "<span style=\"color: #000000; text-decoration-color: #000000\">                    </span><span style=\"color: #000000; text-decoration-color: #000000; font-weight: bold\">}</span>\n",
              "<span style=\"color: #000000; text-decoration-color: #000000\">                </span><span style=\"color: #000000; text-decoration-color: #000000; font-weight: bold\">}</span>\n",
              "<span style=\"color: #000000; text-decoration-color: #000000\">            </span><span style=\"color: #000000; text-decoration-color: #000000; font-weight: bold\">}</span>\n",
              "<span style=\"color: #000000; text-decoration-color: #000000\">        </span><span style=\"color: #000000; text-decoration-color: #000000; font-weight: bold\">}</span><span style=\"color: #000000; text-decoration-color: #000000\">,</span>\n",
              "<span style=\"color: #000000; text-decoration-color: #000000\">        </span><span style=\"color: #808000; text-decoration-color: #808000\">config</span><span style=\"color: #000000; text-decoration-color: #000000\">=</span><span style=\"color: #000000; text-decoration-color: #000000; font-weight: bold\">{}</span><span style=\"color: #000000; text-decoration-color: #000000\">,</span>\n",
              "<span style=\"color: #000000; text-decoration-color: #000000\">        </span><span style=\"color: #808000; text-decoration-color: #808000\">config_factories</span><span style=\"color: #000000; text-decoration-color: #000000\">=</span><span style=\"color: #000000; text-decoration-color: #000000; font-weight: bold\">[]</span>\n",
              "<span style=\"color: #000000; text-decoration-color: #000000\">    </span><span style=\"color: #000000; text-decoration-color: #000000; font-weight: bold\">)</span><span style=\"color: #000000; text-decoration-color: #000000\">,</span>\n",
              "<span style=\"color: #000000; text-decoration-color: #000000\">    </span><span style=\"color: #808000; text-decoration-color: #808000\">middle</span><span style=\"color: #000000; text-decoration-color: #000000\">=</span><span style=\"color: #000000; text-decoration-color: #000000; font-weight: bold\">[]</span><span style=\"color: #000000; text-decoration-color: #000000\">,</span>\n",
              "<span style=\"color: #000000; text-decoration-color: #000000\">    </span><span style=\"color: #808000; text-decoration-color: #808000\">last</span><span style=\"color: #000000; text-decoration-color: #000000\">=</span><span style=\"color: #800080; text-decoration-color: #800080; font-weight: bold\">RunnableBinding</span><span style=\"color: #000000; text-decoration-color: #000000; font-weight: bold\">(</span>\n",
              "<span style=\"color: #000000; text-decoration-color: #000000\">        </span><span style=\"color: #808000; text-decoration-color: #808000\">bound</span><span style=\"color: #000000; text-decoration-color: #000000\">=</span><span style=\"color: #800080; text-decoration-color: #800080; font-weight: bold\">RunnableLambda</span><span style=\"color: #000000; text-decoration-color: #000000; font-weight: bold\">(</span><span style=\"color: #808000; text-decoration-color: #808000\">...</span><span style=\"color: #000000; text-decoration-color: #000000; font-weight: bold\">)</span><span style=\"color: #000000; text-decoration-color: #000000\">,</span>\n",
              "<span style=\"color: #000000; text-decoration-color: #000000\">        </span><span style=\"color: #808000; text-decoration-color: #808000\">kwargs</span><span style=\"color: #000000; text-decoration-color: #000000\">=</span><span style=\"color: #000000; text-decoration-color: #000000; font-weight: bold\">{}</span><span style=\"color: #000000; text-decoration-color: #000000\">,</span>\n",
              "<span style=\"color: #000000; text-decoration-color: #000000\">        </span><span style=\"color: #808000; text-decoration-color: #808000\">config</span><span style=\"color: #000000; text-decoration-color: #000000\">=</span><span style=\"color: #000000; text-decoration-color: #000000; font-weight: bold\">{}</span><span style=\"color: #000000; text-decoration-color: #000000\">,</span>\n",
              "<span style=\"color: #000000; text-decoration-color: #000000\">        </span><span style=\"color: #808000; text-decoration-color: #808000\">config_factories</span><span style=\"color: #000000; text-decoration-color: #000000\">=</span><span style=\"color: #000000; text-decoration-color: #000000; font-weight: bold\">[]</span><span style=\"color: #000000; text-decoration-color: #000000\">,</span>\n",
              "<span style=\"color: #000000; text-decoration-color: #000000\">        </span><span style=\"color: #808000; text-decoration-color: #808000\">custom_output_type</span><span style=\"color: #000000; text-decoration-color: #000000\">=&lt;class </span><span style=\"color: #008000; text-decoration-color: #008000\">'__main__.Recipe'</span><span style=\"font-weight: bold\">&gt;</span>\n",
              "    <span style=\"font-weight: bold\">)</span>\n",
              "<span style=\"font-weight: bold\">)</span>\n",
              "</pre>\n"
            ]
          },
          "metadata": {}
        }
      ],
      "source": [
        "from rich import print as rprint\n",
        "structured_llm = gpt_llm.with_structured_output(Recipe)\n",
        "\n",
        "rprint(structured_llm)"
      ]
    },
    {
      "cell_type": "code",
      "execution_count": null,
      "id": "2ef74227",
      "metadata": {
        "id": "2ef74227",
        "colab": {
          "base_uri": "https://localhost:8080/",
          "height": 305
        },
        "outputId": "40bb88f3-204c-4cb1-fbbb-dc64d7be4a3f"
      },
      "outputs": [
        {
          "output_type": "display_data",
          "data": {
            "text/plain": [
              "\u001b[1;35mRecipe\u001b[0m\u001b[1m(\u001b[0m\n",
              "    \u001b[33mname\u001b[0m=\u001b[32m'생강차 \u001b[0m\u001b[32m(\u001b[0m\u001b[32m진저 티\u001b[0m\u001b[32m)\u001b[0m\u001b[32m'\u001b[0m,\n",
              "    \u001b[33mdifficulty\u001b[0m=\u001b[32m'쉬움'\u001b[0m,\n",
              "    \u001b[33morigin\u001b[0m=\u001b[32m'한국'\u001b[0m,\n",
              "    \u001b[33mingredients\u001b[0m=\u001b[1m[\u001b[0m\u001b[32m'생강 30g'\u001b[0m, \u001b[32m'물 500ml'\u001b[0m, \u001b[32m'꿀 또는 설탕 1-2 큰술\u001b[0m\u001b[32m(\u001b[0m\u001b[32m기호에 따라\u001b[0m\u001b[32m)\u001b[0m\u001b[32m'\u001b[0m, \u001b[32m'레몬 슬라이스\u001b[0m\u001b[32m(\u001b[0m\u001b[32m선택\u001b[0m\u001b[32m)\u001b[0m\u001b[32m'\u001b[0m\u001b[1m]\u001b[0m,\n",
              "    \u001b[33minstructions\u001b[0m=\u001b[1m[\u001b[0m\n",
              "        \u001b[32m'생강은 껍질을 솔로 깨끗이 문지르거나 필요하면 얇게 껍질을 벗긴다.'\u001b[0m,\n",
              "        \u001b[32m'생강을 얇게 편으로 썰거나 강판에 곱게 갈아 준비한다.'\u001b[0m,\n",
              "        \u001b[32m'냄비에 물 500ml를 붓고 준비한 생강을 넣는다.'\u001b[0m,\n",
              "        \u001b[32m'중불에서 끓이다가 끓기 시작하면 불을 약하게 줄이고 10~15분간 은근히 더 끓여 생강 향을 우려낸다.'\u001b[0m,\n",
              "        \u001b[32m'불을 끄고 체로 걸러 생강 조각을 제거한다.'\u001b[0m,\n",
              "        \u001b[32m'기호에 따라 꿀 또는 설탕을 넣어 단맛을 맞추고, 레몬 슬라이스를 추가하면 상큼한 풍미가 난다.'\u001b[0m,\n",
              "        \u001b[32m'따뜻하게 혹은 얼음과 함께 시원하게 즐긴다.'\u001b[0m\n",
              "    \u001b[1m]\u001b[0m,\n",
              "    \u001b[33mtip\u001b[0m=\u001b[32m'생강을 오래 우릴수록 매운맛은 줄고 은은한 단맛과 향이 강해진다. 더 진한 맛을 원하면 생강 양을 늘리거나 \u001b[0m\n",
              "\u001b[32m우림 시간을 20분까지 늘려보세요. 꿀은 너무 뜨거울 때 넣으면 효능이 떨어질 수 있으니 불을 끈 뒤 약간 식힌 뒤 넣는 \u001b[0m\n",
              "\u001b[32m것이 좋습니다.'\u001b[0m\n",
              "\u001b[1m)\u001b[0m\n"
            ],
            "text/html": [
              "<pre style=\"white-space:pre;overflow-x:auto;line-height:normal;font-family:Menlo,'DejaVu Sans Mono',consolas,'Courier New',monospace\"><span style=\"color: #800080; text-decoration-color: #800080; font-weight: bold\">Recipe</span><span style=\"font-weight: bold\">(</span>\n",
              "    <span style=\"color: #808000; text-decoration-color: #808000\">name</span>=<span style=\"color: #008000; text-decoration-color: #008000\">'생강차 (진저 티)'</span>,\n",
              "    <span style=\"color: #808000; text-decoration-color: #808000\">difficulty</span>=<span style=\"color: #008000; text-decoration-color: #008000\">'쉬움'</span>,\n",
              "    <span style=\"color: #808000; text-decoration-color: #808000\">origin</span>=<span style=\"color: #008000; text-decoration-color: #008000\">'한국'</span>,\n",
              "    <span style=\"color: #808000; text-decoration-color: #808000\">ingredients</span>=<span style=\"font-weight: bold\">[</span><span style=\"color: #008000; text-decoration-color: #008000\">'생강 30g'</span>, <span style=\"color: #008000; text-decoration-color: #008000\">'물 500ml'</span>, <span style=\"color: #008000; text-decoration-color: #008000\">'꿀 또는 설탕 1-2 큰술(기호에 따라)'</span>, <span style=\"color: #008000; text-decoration-color: #008000\">'레몬 슬라이스(선택)'</span><span style=\"font-weight: bold\">]</span>,\n",
              "    <span style=\"color: #808000; text-decoration-color: #808000\">instructions</span>=<span style=\"font-weight: bold\">[</span>\n",
              "        <span style=\"color: #008000; text-decoration-color: #008000\">'생강은 껍질을 솔로 깨끗이 문지르거나 필요하면 얇게 껍질을 벗긴다.'</span>,\n",
              "        <span style=\"color: #008000; text-decoration-color: #008000\">'생강을 얇게 편으로 썰거나 강판에 곱게 갈아 준비한다.'</span>,\n",
              "        <span style=\"color: #008000; text-decoration-color: #008000\">'냄비에 물 500ml를 붓고 준비한 생강을 넣는다.'</span>,\n",
              "        <span style=\"color: #008000; text-decoration-color: #008000\">'중불에서 끓이다가 끓기 시작하면 불을 약하게 줄이고 10~15분간 은근히 더 끓여 생강 향을 우려낸다.'</span>,\n",
              "        <span style=\"color: #008000; text-decoration-color: #008000\">'불을 끄고 체로 걸러 생강 조각을 제거한다.'</span>,\n",
              "        <span style=\"color: #008000; text-decoration-color: #008000\">'기호에 따라 꿀 또는 설탕을 넣어 단맛을 맞추고, 레몬 슬라이스를 추가하면 상큼한 풍미가 난다.'</span>,\n",
              "        <span style=\"color: #008000; text-decoration-color: #008000\">'따뜻하게 혹은 얼음과 함께 시원하게 즐긴다.'</span>\n",
              "    <span style=\"font-weight: bold\">]</span>,\n",
              "    <span style=\"color: #808000; text-decoration-color: #808000\">tip</span>=<span style=\"color: #008000; text-decoration-color: #008000\">'생강을 오래 우릴수록 매운맛은 줄고 은은한 단맛과 향이 강해진다. 더 진한 맛을 원하면 생강 양을 늘리거나 </span>\n",
              "<span style=\"color: #008000; text-decoration-color: #008000\">우림 시간을 20분까지 늘려보세요. 꿀은 너무 뜨거울 때 넣으면 효능이 떨어질 수 있으니 불을 끈 뒤 약간 식힌 뒤 넣는 </span>\n",
              "<span style=\"color: #008000; text-decoration-color: #008000\">것이 좋습니다.'</span>\n",
              "<span style=\"font-weight: bold\">)</span>\n",
              "</pre>\n"
            ]
          },
          "metadata": {}
        }
      ],
      "source": [
        "response = structured_llm.invoke(\"생강으로 만들 수 있는 요리 레시피 알려주세요.\")\n",
        "rprint(response)"
      ]
    },
    {
      "cell_type": "markdown",
      "id": "0971ac03",
      "metadata": {
        "id": "0971ac03"
      },
      "source": [
        "해당 출력은 Pydantic 클래스 형식으로 생성됩니다.   \n",
        "with_structured_output 기능은 HuggingFace 계열의 오픈 모델에서는 지원되지 않으므로,    \n",
        "이 때는 PydanticOutputParser를 사용해야 합니다."
      ]
    },
    {
      "cell_type": "code",
      "execution_count": null,
      "id": "AqDCAsofkakR",
      "metadata": {
        "id": "AqDCAsofkakR",
        "colab": {
          "base_uri": "https://localhost:8080/"
        },
        "outputId": "5d490ae6-7865-4c46-b59f-1ed63bd5e5f8"
      },
      "outputs": [
        {
          "output_type": "execute_result",
          "data": {
            "text/plain": [
              "Recipe(name='에스프레소 흑임자 파르페 (Espresso + Black Sesame Parfait)', difficulty='중간', origin='한국 × 프랑스 퓨전', ingredients=['에스프레소 샷 60ml (진한 에스프레소 2샷)', '우유 150ml (또는 바닐라 오트밀크)', '생크림 150ml', '연유 40g', '플레인 요거트 80g', '흑임자 페이스트 50g', '크런치 (미숫가루 또는 설탕에 구운 아몬드) 60g', '바닐라 시럽 10g (선택)', '카카오 닙스 또는 다크초콜릿 칩 20g', '젤라틴 파우더 2g (또는 아가아가 1g, 선택)', '물 10ml (젤라틴용)', '소금 한 꼬집', '코코아 파우더 약간 (장식용)', '신선한 민트잎 1-2장 (장식)'], instructions=['에스프레소를 추출해 식혀둔다. 에스프레소가 너무 뜨거우면 크림이 분리될 수 있으니 완전히 식혀야 한다.', '젤라틴을 사용할 경우, 차가운 물 10ml에 젤라틴 파우더를 뿌려 5분 불린 뒤 중탕 또는 전자레인지(10초 간격)로 녹여 준비한다. 아가아가 사용 시 포장지 지침에 따라 불리고 녹인다.', '생크림과 연유, 소금 한 꼬집을 볼에 넣고 부드러운 단단함이 남을 정도로 6~7부 거품으로 휘핑한다(너무 단단히 휘핑하지 않음).', '그릇에 플레인 요거트와 흑임자 페이스트를 섞어 크리미한 흑임자 베이스를 만든다. 필요하면 바닐라 시럽을 소량 넣어 단맛을 조절한다.', '휘핑한 크림의 1/3을 흑임자 베이스에 넣고 부드럽게 섞어 질감을 맞춘다. (이렇게 하면 베이스가 묽어지지 않음)', '식힌 에스프레소에 녹인 젤라틴을 빠르게 섞어 에스프레소 젤 레이어를 만든다. 젤라틴을 사용하지 않으면 이 단계는 생략 가능하나 레이어가 흐를 수 있음.', '투명한 유리 파르페 잔에 순서대로: (1) 흑임자 크림 레이어 2큰술, (2) 크런치 1큰술, (3) 에스프레소 젤 또는 에스프레소 1큰술, (4) 휘핑크림 1큰술, 이 과정을 2-3층 반복해 잔을 채운다.', '각 층 사이에 카카오 닙스 또는 다크초콜릿 칩을 소량 뿌려 쌉싸름한 맛과 식감 대비를 준다.', '마지막으로 위에 남은 휘핑크림을 얹고 코코아 파우더를 체에 내려 가볍게 장식한 뒤 민트잎으로 마무리한다.', '완성된 파르페를 냉장고에서 20~30분 정도 차게 한 뒤 제공한다. 젤라틴을 사용하면 레이어가 더 단단하게 유지된다.'], tip='에스프레소는 진하고 농축된 맛이 중요합니다. 흑임자 페이스트의 고소함과 에스프레소의 쌉싸름함, 그리고 연유의 단맛이 균형을 이루도록 각 재료의 양을 기호에 맞게 소량씩 조절하세요. 젤라틴을 사용할 때는 에스프레소가 너무 뜨거우면 젤라틴 성분이 상할 수 있으니 반드시 식힌 뒤 섞으세요. 글루텐 프리 옵션을 원하면 크런치를 쌀가루로 구운 크런치나 토스트한 곡물로 대체할 수 있습니다.')"
            ]
          },
          "metadata": {},
          "execution_count": 18
        }
      ],
      "source": [
        "from langchain_core.output_parsers import PydanticOutputParser\n",
        "\n",
        "parser = PydanticOutputParser(pydantic_object = Recipe)\n",
        "\n",
        "recipe_template =ChatPromptTemplate([\n",
        "    ('system','당신은 전세계의 이색적인 퓨전 조리법의 전문가입니다.'),\n",
        "    ('user','''저는 {ingredient}를 이용한 실험적인 음식을 만들고 싶습니다. 추천해주세요!\n",
        "    레시피에 대한 정보를 JSON 형식으로 출력해주세요. 결과는 한국어로 작성하세요.\n",
        "     {instruction}''')\n",
        "])\n",
        "\n",
        "structured_llm2 = recipe_template.partial(instruction = parser.get_format_instructions()) | gpt_llm | parser\n",
        "\n",
        "response = structured_llm2.invoke('커피')\n",
        "response"
      ]
    },
    {
      "cell_type": "markdown",
      "id": "PhQN22NRvGl4",
      "metadata": {
        "id": "PhQN22NRvGl4"
      },
      "source": [
        "## [실습] LLM으로 보고서 개요 생성 후 섹션별 글 작성하기\n",
        "\n",
        "Structured Output 구조를 활용해, LLM이 주제에 대한 구획을 먼저 구성하고    \n",
        "해당 구획을 반복문이나 Batch로 각각 입력하여 긴 글을 쓰도록 만들어 보세요.\n",
        "\n",
        "1. with_structured_output을 통해 주제에 대한 구획 작성하는 체인 `outliner` 만들기\n",
        "2. 섹션별 글 작성 체인 `writer` 만들기\n",
        "3. 반복문이나 batch()를 통해 `outliner`의 결과물을 `writer`에 전달하기\n",
        "4. 최종 결과물 합치기"
      ]
    },
    {
      "cell_type": "code",
      "execution_count": null,
      "id": "db869ae5",
      "metadata": {
        "id": "db869ae5",
        "colab": {
          "base_uri": "https://localhost:8080/"
        },
        "outputId": "69ffe120-317e-4a13-e82c-857055821f56"
      },
      "outputs": [
        {
          "output_type": "execute_result",
          "data": {
            "text/plain": [
              "ChatOpenAI(client=<openai.resources.chat.completions.completions.Completions object at 0x7d40af9147a0>, async_client=<openai.resources.chat.completions.completions.AsyncCompletions object at 0x7d40aea64e00>, root_client=<openai.OpenAI object at 0x7d40af09a060>, root_async_client=<openai.AsyncOpenAI object at 0x7d40aecbed20>, model_name='gpt-5-mini', model_kwargs={}, openai_api_key=SecretStr('**********'), stream_usage=True, reasoning_effort='low')"
            ]
          },
          "metadata": {},
          "execution_count": 19
        }
      ],
      "source": [
        "# 이 모델을 사용하세요!\n",
        "gpt_llm"
      ]
    },
    {
      "cell_type": "code",
      "execution_count": null,
      "id": "-CxAP2eWvXTN",
      "metadata": {
        "id": "-CxAP2eWvXTN"
      },
      "outputs": [],
      "source": [
        "class Sections(BaseModel):\n",
        "    topic: str = Field(description=\"글쓰기 주제\")\n",
        "    sections: list[str] = Field(description=\"주제에 대한 세부 섹션 개요 리스트 (최대 5개 섹션)\")"
      ]
    },
    {
      "cell_type": "code",
      "source": [
        "outliner = gpt_llm.with_structured_output(Sections)\n",
        "outline = outliner.invoke(\"\"\"\n",
        "멀티모달 LLM의 발전 과정에 대한 보고서 개요를 써줘.\n",
        "각각의 개요는 병렬적 작성이 가능하도록 독립적인 내용을 담아야 하고.\n",
        "개요만 보고도 내용이 구체적으로 드러나야 해.\n",
        "\"\"\")\n",
        "outline"
      ],
      "metadata": {
        "id": "iqo_TIiyVeSr",
        "colab": {
          "base_uri": "https://localhost:8080/"
        },
        "outputId": "43edadad-9861-4613-db4f-936860b1aae5"
      },
      "id": "iqo_TIiyVeSr",
      "execution_count": null,
      "outputs": [
        {
          "output_type": "execute_result",
          "data": {
            "text/plain": [
              "Sections(topic='멀티모달 대형언어모델(LLM)의 발전 과정', sections=['역사적 타임라인 및 주요 전환점: (1) 초기 연구 배경 — 멀티모달 처리의 필요성, 멀티채널 신호(음성·이미지·텍스트) 통합 시도; (2) 고전적 방법들 — 특징 기반 결합(fusion)과 분리 처리(pipeline)의 한계; (3) 딥러닝 전환 — CNN/RNN 기반 멀티모달 모델의 등장과 성능 향상; (4) 트랜스포머 도입 — 단일 아키텍처로의 통합 시도(예: ViT+Transformer, CLIP 등); (5) 대형사전학습 시기 — 대규모 멀티모달 코퍼스와 자기지도학습으로 능력 비약; (6) 멀티모달 LLM의 상용화·생태계 확산 — API, 파인튜닝·파라메터 효율화 기법의 확대; (7) 규제·윤리·안전성 이슈가 부각된 전개. 각 단계별 대표 논문·모델(연도, 핵심 기여)과 기술적 한계 및 해결책을 연대기 순으로 정리한다.', '아키텍처 혁신과 설계 패턴: (1) 모달리티별 인코더/브릿지 구조 — 독립 인코더(이미지·오디오·텍스트)와 공통 표현 공간으로의 투영 방식 설명; (2) 조인트 트랜스포머 설계 — 단일 시퀀스로 결합하는 방법, cross-attention/adapter/late fusion의 비교; (3) 멀티스케일·계층적 표현 — 로컬/글로벌 특징을 통합하는 구조적 기법; (4) 파라미터 효율화 — LoRA, Adapter, Prompt tuning 같은 기법의 멀티모달 적용과 장단점; (5) 모달 결손·동적 입력 처리 — 일부 모달 부재 시 동작원리와 학습 기법; (6) 실시간·저지연 요구를 위한 경량화·하드웨어 친화적 설계. 각 항목은 아키텍처 다이어그램 요소, 입력·출력 흐름, 학습 신호(손실 함수) 예시까지 포함하여 독립적으로 기술한다.', '데이터셋·학습전략 및 대규모 사전학습: (1) 멀티모달 코퍼스 구성 — 이미지-캡션, 비디오-자막, 오디오-텍스트, 멀티턴 대화 데이터 등 유형별 수집·정제·라벨링 방법; (2) 자기지도학습 목표들 — 마스킹 복원, 대조학습(contrastive), 멀티모달 예측(예: 이미지->텍스트), 멀티태스크 혼합 전략; (3) 데이터 스케일과 품질 관리 — 노이즈·편향 완화, 필터링·중복 제거 방법; (4) 계산 자원과 분산학습 고려사항 — 샤딩, mixed-precision, 체크포인팅; (5) 데이터 증강·합성 — 합성 이미지·음성 생성, 합성 캡션의 활용과 위험성; (6) 라벨 최소화 학습과 효율적 파인튜닝 사례. 각 항목은 구체적 실험 설정(배치크기, 학습률 스케줄, 손실 가중치) 예시를 포함해 독립적으로 이해 가능하도록 기술한다.', '평가방법·벤치마크·안전성 지표: (1) 멀티모달 성능 지표 — 정확도·BLEU·ROUGE·CIDEr 외에 retrieval, grounding, VQA, captioning, video QA 등 태스크별 메트릭 설명; (2) 통합 능력 측정 — 멀티태스크 벤치마크 설계, 제로샷·파인튜닝 성능 비교법; (3) 견고성·일반화 평가 — 모달 노이즈, 변형, 도메인 이동 테스트 케이스 및 스트레스 테스트 설계; (4) 공정성·편향·안전성 평가 — 해로운 생성물, 프라이버시 유출, 편향 지표와 테스트셋 구성법; (5) 인간평가 및 사용자 중심 지표 — 유용성, 이해도, 신뢰성 측정 절차; (6) 표준화 제안 — 비교 가능한 벤치마크와 리더보드 운영 원칙. 각 평가지표는 실험 프로토콜(데이터 분할, 반복수, 통계적 유의성)까지 명시하여 독립적으로 실행 가능하게 서술한다.', '응용 사례·사회적 영향·미래 연구 방향: (1) 실제 응용 분야 — 멀티모달 검색·비서, 의료영상 진단 보조, 교육·콘텐츠 제작, 로봇 인식·제어, 접근성 도구(시각장애인 보조) 등 사례별 요구사항과 성공 요소; (2) 상업화 과제 — 비용, 지연, 개인정보·저작권 문제, 도메인 적응 비용; (3) 윤리·규제·거버넌스 이슈 — 책임소재, 투명성, 검증 가능성, 안전 규제 제언; (4) 기술적 개방 문제 — 인터페이스 표준, 데이터·모델 공유 정책, 재현성 개선 방안; (5) 연구개발 로드맵 — 대화형 멀티모달 이해·생성 통합, 자기지도 학습 고도화, 멀티모달 추론의 인과성·설명 가능성 확보, 효율성·친환경 학습; (6) 사회적 영향 시나리오와 대응전략 — 일자리 영향, 교육 격차, 악용 방지 정책 제안. 각 항목은 구현 체크리스트와 리스크 완화 전략을 제시하여 독립적으로 활용 가능하다.'])"
            ]
          },
          "metadata": {},
          "execution_count": 21
        }
      ]
    },
    {
      "cell_type": "code",
      "source": [
        "writer_prompt = ChatPromptTemplate([\n",
        "    ('human','''보고서 주제에 대해, 하나의 섹션에 대한 전문적인 글을 작성하세요.\n",
        "내용은 최대한 자세하게 쓰고, '입니다' 와 같은 말투로 작성하세요.\n",
        "\n",
        "---\n",
        "보고서 전체 주제: {topic}\n",
        "세부 섹션 주제: {section}\n",
        "''')\n",
        "])\n",
        "writer = writer_prompt | gpt_llm | StrOutputParser()\n",
        "writer.invoke({'topic':outline.topic, 'section':outline.sections[0]})"
      ],
      "metadata": {
        "id": "7lYov2tBVgoy",
        "colab": {
          "base_uri": "https://localhost:8080/",
          "height": 218
        },
        "outputId": "c6d47b5b-928b-4585-d9e4-f1451e065a8c"
      },
      "id": "7lYov2tBVgoy",
      "execution_count": null,
      "outputs": [
        {
          "output_type": "execute_result",
          "data": {
            "text/plain": [
              "'역사적 타임라인 및 주요 전환점\\n\\n아래 내용은 멀티모달 대형언어모델(LLM)의 발전 과정을 연대기 순으로 정리한 섹션입니다. 각 단계마다 대표 논문·모델(발표연도), 핵심 기여, 당시의 기술적 한계와 이후 해결 시도(또는 제안된 해결책)를 포함합니다.\\n\\n1) 초기 연구 배경 — 멀티모달 처리의 필요성(1990s–2009)\\n- 대표 연구 및 연도\\n  - 오디오-비주얼 연동 연구 (예: 오디오-비디오 음성인식, 1990s–2000s)\\n  - HMM 기반 멀티채널 음성인식 및 간단한 음성-영상 융합 시도\\n  - 텍스트·이미지 결합을 위한 초창기 연구(멀티미디어 정보검색, 2000s)\\n- 핵심 기여\\n  - 인간의 의사소통은 본질적으로 다중 신호(음성·이미지·텍스트)를 포함한다는 인식이 형성됨.\\n  - 서로 다른 센서/모달리티에서 얻는 정보의 상보성(complementarity)을 이용하면 인식 성능을 개선할 수 있다는 실증적 근거 제시.\\n  - 멀티채널 특징을 각각 추출해 결합하는 방식(예: 음성의 스펙트럼, 영상의 특징)을 통한 초기 통합 방법들이 등장.\\n- 기술적 한계\\n  - 모달 간 표현 불일치(heterogeneity): 서로 다른 형태·시간해상도의 신호를 결합하기 어려움.\\n  - 데이터 부족: 동기화된 대규모 멀티모달 코퍼스가 부족함.\\n  - 기계 학습 모델의 표현력 한계: 당시 모델(예: HMM, GMM, 간단한 신경망)은 복잡한 고차 상호작용을 포착하기 어려움.\\n- 해결 시도\\n  - 모달리티별 전처리·정규화, 수동적 특징 공학(feature engineering).\\n  - 간단한 동기화 및 정렬 알고리즘 개발.\\n  - 멀티미디어 데이터셋 수집 노력이 점차 증가.\\n\\n2) 고전적 방법들 — 특징 기반 결합(fusion)과 분리 처리(pipeline)의 한계(2000s–early 2010s)\\n- 대표 연구 및 연도\\n  - early fusion vs late fusion 분석(2000s)\\n  - 멀티모달 정보검색 및 분류에서의 특징 결합 연구\\n- 핵심 기여\\n  - 두 가지 주요 설계 패턴이 정립됨: early fusion(모달별 특징을 결합하여 단일 모델 입력으로 사용)과 late fusion(각 모달별 예측을 결합).\\n  - 실용적 파이프라인(예: 영상 전처리 → 객체 검출 → 텍스트 기반 후처리) 구조가 널리 채택됨.\\n- 기술적 한계\\n  - 조합의 비효율성: early fusion은 모달 특성 차이로 비효율적이고, late fusion은 모달 간 상호작용을 깊이 반영하지 못함.\\n  - 오류 전파 문제: 분리된 파이프라인은 앞단 오류가 뒷단 성능을 치명적으로 저하시킴.\\n  - 확장성 부족: 새로운 모달 추가 시 큰 구조 변경 필요.\\n- 해결 시도\\n  - 계층적·모듈러 설계 제안.\\n  - 멀티스케일 특징 결합, 가중치 기반 융합, 공동 학습 기법 시도.\\n\\n3) 딥러닝 전환 — CNN/RNN 기반 멀티모달 모델의 등장과 성능 향상(2012–2017)\\n- 대표 논문·모델 및 연도\\n  - AlexNet(2012): 시각 표현 학습의 도약(간접적 영향).\\n  - Image Captioning: Vinyals et al., \"Show and Tell\" (2015) — CNN+RNN 기반 이미지 캡션 생성.\\n  - Xu et al., \"Show, Attend and Tell\" (2015) — 시각적 주의(attention)를 도입하여 캡션 질 향상.\\n  - Karpathy & Fei-Fei (2015) — 이미지-텍스트 정렬(지역-문장 매핑) 연구.\\n  - 음성·비디오 융합에서의 CNN/RNN 활용 사례(2010s 중후반).\\n- 핵심 기여\\n  - 대규모 비전 표현학습(CNN)과 시퀀스 모델(RNN/LSTM)의 결합으로 이미지→텍스트 생성, 비디오 설명, 시청각 음성인식 등에서 성능 급상승.\\n  - attention 메커니즘을 통해 입력의 특정 영역에 집중할 수 있게 되어 모달 간 정렬(alignment)이 개선됨.\\n  - end-to-end 학습이 가능해지며 파이프라인 접근의 단점을 일부 극복.\\n- 기술적 한계\\n  - 구조적 분리: CNN(영상)과 RNN(언어)은 여전히 서로 다른 아키텍처로 구성되어 통합성이 제한됨.\\n  - 장거리 의존성 처리의 한계: RNN은 긴 컨텍스트를 다루기 어려움.\\n  - 멀티모달 스케일업 한계: 파라미터·연산량이 크게 증가하면 학습이 어려움.\\n- 해결 시도\\n  - attention 기반 구성 요소 도입을 통한 더 나은 정렬.\\n  - 딥 모델의 대형화와 더 큰 데이터셋으로 일반화 성능 개선.\\n  - 병렬화가 쉬운 아키텍처에 대한 요구 증대 → 트랜스포머 등장으로 이어짐.\\n\\n4) 트랜스포머 도입 — 단일 아키텍처로의 통합 시도(2017–2021)\\n- 대표 논문·모델 및 연도\\n  - Vaswani et al., \"Attention is All You Need\" (2017) — 트랜스포머 제안(언어에서 출발하였으나 멀티모달에 큰 영향).\\n  - Visual Transformer (ViT, Dosovitskiy et al., 2020) — 이미지를 패치로 분할해 트랜스포머 적용.\\n  - LXMERT (2019), ViLBERT (2019) — 비전·언어를 위한 병렬 트랜스포머(쌍방향 모달 융합 구조).\\n  - CLIP (Radford et al., OpenAI, 2021) — 대규모 이미지-텍스트 대조학습(contrastive learning)으로 강건한 멀티모달 표현 획득.\\n  - ALIGN (2021) — CLIP과 유사한 대규모 비전-언어 매칭.\\n- 핵심 기여\\n  - 트랜스포머의 자기주의(self-attention)는 서로 다른 모달리티 간의 상호작용을 한 아키텍처 내에서 자연스럽게 모델링 가능하게 함.\\n  - ViT로 이미지 처리까지 트랜스포머로 통합되며, 텍스트·이미지에 동일한 연산 블록을 적용하는 “단일 아키텍처” 접근이 현실화됨.\\n  - CLIP/ALIGN는 자기감독·대조학습으로 대규모 웹 크롤링 데이터에서 시각·언어 연관을 학습, zero-shot 성능을 크게 향상시킴.\\n- 기술적 한계\\n  - 데이터 편향성: 웹 기반 대규모 데이터는 편향·노이즈 포함.\\n  - 계산비용: 트랜스포머 기반 대형 모델의 학습·추론 비용이 큼.\\n  - 정교한 멀티모달 추론(장기적 맥락, 복합 질문 응답)에서는 여전히 한계 존재.\\n- 해결 시도\\n  - 대규모 자기지도 학습, 잡음 대비 학습기법(robust learning).\\n  - 파라미터·연산 효율 개선 연구(예: 효율적 어텐션, 패치 처리).\\n  - 데이터 정제·증강, 레이블링 자동화 방법 개발.\\n\\n5) 대형사전학습 시기 — 대규모 멀티모달 코퍼스와 자기지도학습으로 능력 비약(2020–2023)\\n- 대표 논문·모델 및 연도\\n  - SimVLM (2021) — 단일한 텍스트-우선(self-supervised) 생성 프레임워크로 멀티모달 사전학습.\\n  - Flamingo (DeepMind, 2022) — 소수 샷으로도 이미지-언어 태스크 수행 가능한 멀티모달 LLM.\\n  - PaLI (Google, 2022), BLIP/BLIP-2 (2022) — 대규모 비전-언어 사전학습 및 파인튜닝 전략.\\n  - Gato(DeepMind, 2021) 및 이후 멀티태스크 멀티모달 모델 사례.\\n- 핵심 기여\\n  - 대규모 멀티모달 코퍼스(이미지-캡션, 비디오-자막, 오디오-텍스트 등)를 활용한 자기지도(pretraining)로 일반화 능력 비약.\\n  - 멀티모달 모델이 소수 샘플 환경에서도 강건한 수행능력을 가지게 되며, 추론·생성 능력이 향상됨.\\n  - 비전·언어의 결합 뿐 아니라 비디오, 오디오, 센서 데이터 등 다양한 모달의 통합을 통한 범용 모델화 시도.\\n- 기술적 한계\\n  - 데이터·연산 자원 요구량의 폭증: 학습을 위한 GPU/TPU 자원 및 에너지 비용 문제 심화.\\n  - 멀티모달 정합성 유지 문제: 복잡한 멀티턴 멀티모달 대화에서 일관성 보장 어려움.\\n  - 학습 데이터의 저작권·프라이버시·편향 문제 심화.\\n- 해결 시도\\n  - 파라미터 효율화 및 지식 증류(knowledge distillation)로 모델 경량화.\\n  - 멀티모달 전용 정합(grounding) 손실과 정교한 데이터 정제 파이프라인 도입.\\n  - 합성데이터, 시뮬레이터 및 증강기법 활용.\\n\\n6) 멀티모달 LLM의 상용화·생태계 확산 — API, 파인튜닝·파라메터 효율화 기법의 확대(2022–현재)\\n- 대표 사례 및 연도\\n  - GPT-4 (OpenAI, 2023) — 멀티모달 입력(이미지+텍스트) 처리를 통한 상업적 서비스화.\\n  - MiniGPT-4, LLaVA (2023) — 대형 LLM에 시각 입력을 연결해 응용성을 확대한 오픈·연구 프로젝트.\\n  - 파라메터 효율 기술: Adapters, Prompt Tuning, LoRA (2021 이후 광범위 적용).\\n  - 상용 API·플랫폼의 등장(클라우드 서비스, 앱 통합 허브).\\n- 핵심 기여\\n  - 멀티모달 모델이 실제 제품·서비스(챗봇, 문서 분석, 시각 검색 등)에 적용되어 상용화가 가속화됨.\\n  - 파인튜닝 없이도 prompt 또는 소수 샷으로 커스터마이즈 가능한 방식이 보급되어 개발 진입장벽 감소.\\n  - LoRA·Adapter 등으로 비용과 저장공간을 줄이며 실무 적용 가능성 향상.\\n- 기술적 한계\\n  - 서비스 신뢰성 문제(오류·환각 hallucination), 입력 민감성, 보안 취약점.\\n  - 파인튜닝·도메인 적응 과정에서 성능·안전성 균형 문제.\\n  - 상용화된 모델의 폐쇄성·독점적 제공으로 연구 재현성 저하.\\n- 해결 시도\\n  - 파라미터 효율화 기술의 표준화 및 오픈소스 생태계 확장.\\n  - 멀티모달 전용 평가셋과 벤치마크 개발로 성능·안전성 검증 체계화.\\n  - 서비스 레벨에서의 모니터링·로그·리스크 완화 전략 적용.\\n\\n7) 규제·윤리·안전성 이슈가 부각된 전개(2020s 후반–현재)\\n- 주요 사건·연도\\n  - 2022–2024: 대화형 모델의 남용(허위정보·딥페이크·저작권침해) 관련 사회적 논쟁과 규제 논의 증가.\\n  - 개인정보·저작권 이슈로 인한 데이터 출처 투명성 요구 확산.\\n- 핵심 이슈\\n  - 편향·차별 재생산: 멀티모달 데이터의 편향이 모델 출력에 반영되어 사회적 해악 초래 가능.\\n  - 프라이버시·저작권: 웹에서 수집한 이미지·텍스트의 법적·윤리적 취급 문제.\\n  - 안전성·통제: 환각(hallucination), 악의적 응용(가짜 뉴스, 사회공학) 방지 필요.\\n  - 설명가능성(interpretability): 멀티모달 모델의 내부 결정을 해석하기 어려움.\\n- 기술적·제도적 해결책\\n  - 데이터 거버넌스와 출처 표기, 데이터셋 라벨링·필터링 기준 마련.\\n  - 기술적 안전장치: 콘텐츠 필터, 사실 검증 모듈, 샌드박스·정책 레이어.\\n  - 모델 정렬(alignment) 기법: RLHF(강화학습 기반 인간 피드백), 보상 모델의 멀티모달 확장.\\n  - 법적·윤리적 규제 프레임워크 수립: 투명성·책임성 요구·감시 메커니즘 도입.\\n  - 워터마킹 및 생성물 추적 기술 개발로 생성 콘텐츠 출처 확인 시도.\\n\\n연대기별 핵심 논문·모델 요약(간추림)\\n- 1990s–2009: HMM/GMM 기반 음성·영상 결합 연구 — 멀티모달 필요성 인식, 데이터 부족 문제 대두.\\n- 2000s–early 2010s: early/late fusion 및 파이프라인 연구 — 단순 결합 전략의 한계 노출.\\n- 2012–2017: CNN+RNN 기반 멀티모달 모델(Show & Tell, Show Attend and Tell 등) — 캡션, 비디오 설명 분야 발전, attention 도입.\\n- 2017–2021: 트랜스포머의 도입(Transformer, ViT, LXMERT, ViLBERT, CLIP, ALIGN) — 단일 아키텍처·대조학습으로 표현 능력 강화.\\n- 2021–2023: 대규모 멀티모달 사전학습(Flamingo, BLIP, SimVLM, PaLI 등) — 소수 샷 일반화, 멀티태스크 능력 향상.\\n- 2023–현재: 멀티모달 LLM의 상용화·생태계 확산(GPT-4, LLaVA, MiniGPT-4 등) 및 파라메터 효율화(LoRA/Adapters) 보급.\\n- 2020s 후반–현재: 규제·윤리·안전성 중심의 대응 강화, 데이터 거버넌스·정책 수립 요구 증대.\\n\\n기술적 한계의 공통 주제와 해결 방향\\n- 데이터 품질 및 편향 문제: 고품질·라벨링된 멀티모달 데이터셋 확보, 데이터 증강, 편향 측정 및 보정 기법 필요합니다.\\n- 연산·에너지 비용: 효율적 모델 설계(효율적 어텐션, 저비용 인코더-디코더), 지식 증류·모델 압축 적용이 요구됩니다.\\n- 멀티모달 정합성(grounding)과 일관성 문제: 강화학습, 대조학습, 멀티스텝 추론·검증 루프, 외부 지식·도메인 지식을 결합하는 하이브리드 방법론 필요합니다.\\n- 안전성·설명가능성: 멀티모달 특화의 설명 가능성 도구(시각적 주의 맵, 의사결정 경로 추적), 워터마킹·출처표시, 대인간 평가(Human-in-the-loop)가 필수적입니다.\\n- 규제·윤리: 연구·상용화 전반에 법적·윤리적 검토, 투명성 보고와 사용자 동의 정책, 피해 대응 체계의 제도화가 요구됩니다.\\n\\n결론적 관점\\n멀티모달 LLM의 발전은 초기의 단순 결합 시도에서 시작하여, 딥러닝과 attention의 도입을 거쳐 트랜스포머 기반의 단일 아키텍처화, 그리고 대규모 사전학습으로 능력의 비약을 이뤄냈습니다. 현재는 상용화와 함께 규제·윤리 이슈가 본격적으로 대두되는 단계에 있으며, 앞으로는 데이터 거버넌스, 비용 효율화, 안전성·정합성 확보를 병행하는 방향으로 기술적·제도적 진화가 요구됩니다.'"
            ],
            "application/vnd.google.colaboratory.intrinsic+json": {
              "type": "string"
            }
          },
          "metadata": {},
          "execution_count": 22
        }
      ]
    },
    {
      "cell_type": "code",
      "source": [
        "from langchain_openai import ChatOpenAI\n",
        "search_llm = ChatOpenAI(model='gpt-4o-search-preview')\n",
        "\n",
        "writer = writer_prompt.partial(topic=outline.topic) | search_llm | StrOutputParser()\n",
        "# topic을 미리 채워 매개변수 1개\n",
        "result = writer.batch(outline.sections)\n",
        "result"
      ],
      "metadata": {
        "id": "sxuLQdVpVkUs",
        "colab": {
          "base_uri": "https://localhost:8080/"
        },
        "outputId": "7eabb533-11d6-4576-c2ae-740fa258d2b8"
      },
      "id": "sxuLQdVpVkUs",
      "execution_count": null,
      "outputs": [
        {
          "output_type": "execute_result",
          "data": {
            "text/plain": [
              "['멀티모달 대형언어모델(LLM)의 발전 과정은 여러 주요 전환점을 거치며 진화해 왔습니다. 각 단계별로 대표적인 논문과 모델, 기술적 한계 및 해결책을 연대기 순으로 정리하겠습니다.\\n\\n**1. 초기 연구 배경: 멀티모달 처리의 필요성 및 멀티채널 신호 통합 시도**\\n\\n인간은 시각, 청각, 촉각 등 다양한 감각을 통해 정보를 수집하고 처리합니다. 이러한 멀티모달 정보 처리는 자연스러운 인지 과정의 일부로, 인공지능 시스템에서도 이러한 능력을 모방하려는 시도가 있었습니다. 초기 연구에서는 음성, 이미지, 텍스트 등 여러 채널의 신호를 통합하여 보다 풍부한 표현과 이해를 가능하게 하는 방법들이 탐구되었습니다.\\n\\n**2. 고전적 방법들: 특징 기반 결합(fusion)과 분리 처리(pipeline)의 한계**\\n\\n초기 멀티모달 처리 방법은 주로 특징 기반 결합과 분리 처리 방식을 채택했습니다. 특징 기반 결합은 각 모달리티에서 추출된 특징을 결합하여 모델에 입력하는 방식이며, 분리 처리는 각 모달리티를 개별적으로 처리한 후 결과를 통합하는 방식입니다. 그러나 이러한 방법들은 모달리티 간의 상호작용을 충분히 반영하지 못하고, 정보 손실이나 처리 효율성의 문제를 야기했습니다.\\n\\n**3. 딥러닝 전환: CNN/RNN 기반 멀티모달 모델의 등장과 성능 향상**\\n\\n딥러닝의 발전으로 컨볼루션 신경망(CNN)과 순차적 신경망(RNN)을 활용한 멀티모달 모델이 등장했습니다. 이러한 모델들은 이미지와 텍스트, 음성 등의 데이터를 효과적으로 처리하고 통합하여 성능을 향상시켰습니다. 예를 들어, 이미지 캡셔닝 모델은 CNN을 통해 이미지 특징을 추출하고, RNN을 통해 텍스트 설명을 생성하는 방식으로 동작했습니다.\\n\\n**4. 트랜스포머 도입: 단일 아키텍처로의 통합 시도**\\n\\n트랜스포머 아키텍처의 도입은 멀티모달 처리에 새로운 전환점을 마련했습니다. 트랜스포머는 자기 주의 메커니즘을 통해 장기 의존성을 효과적으로 학습할 수 있어, 다양한 모달리티의 정보를 통합하는 데 적합했습니다. 예를 들어, OpenAI의 CLIP 모델은 이미지와 텍스트를 동일한 임베딩 공간에 매핑하여, 이미지-텍스트 매칭 및 검색에서 우수한 성능을 보였습니다.\\n\\n**5. 대형 사전학습 시기: 대규모 멀티모달 코퍼스와 자기지도학습으로 능력 비약**\\n\\n대규모 데이터와 연산 자원의 활용으로, 멀티모달 모델은 대형 사전학습을 통해 능력의 비약적인 향상을 이루었습니다. 자기지도학습 기법을 통해 레이블이 없는 방대한 데이터를 활용하여 모델을 학습시킴으로써, 다양한 태스크에 대한 일반화 능력을 갖추게 되었습니다. 이러한 접근은 모델의 성능과 범용성을 크게 향상시켰습니다.\\n\\n**6. 멀티모달 LLM의 상용화 및 생태계 확산: API, 파인튜닝 및 파라미터 효율화 기법의 확대**\\n\\n멀티모달 LLM의 상용화는 API 제공, 파인튜닝 기법의 발전, 파라미터 효율화 등의 측면에서 이루어졌습니다. 기업들은 멀티모달 모델을 활용한 다양한 애플리케이션을 개발하고, 이를 통해 사용자 경험을 향상시켰습니다. 또한, 파인튜닝 기법의 발전으로 특정 도메인이나 태스크에 맞게 모델을 효율적으로 조정할 수 있게 되었으며, 파라미터 효율화 기법을 통해 연산 자원과 메모리 사용을 최적화하여 실용성을 높였습니다.\\n\\n**7. 규제, 윤리 및 안전성 이슈의 부각**\\n\\n멀티모달 LLM의 발전과 확산에 따라, 규제, 윤리, 안전성 등의 이슈가 부각되었습니다. 모델의 편향성, 프라이버시 침해, 악용 가능성 등의 문제들이 제기되었으며, 이를 해결하기 위한 연구와 논의가 활발히 진행되고 있습니다. 또한, 각국의 규제 기관들은 인공지능 기술의 발전에 따른 법적, 윤리적 기준을 마련하고자 노력하고 있습니다.\\n\\n이러한 발전 과정은 멀티모달 대형언어모델이 인간의 복잡한 인지 능력을 모방하고, 다양한 응용 분야에서 혁신을 이끌어내는 데 중요한 역할을 하고 있음을 보여줍니다. ',\n",
              " '멀티모달 대형언어모델(LLM)의 발전 과정에서 아키텍처 혁신과 설계 패턴은 모델의 성능과 효율성을 결정짓는 핵심 요소입니다. 본 섹션에서는 다음의 여섯 가지 주요 아키텍처 설계 패턴을 상세히 분석하겠습니다:\\n\\n1. **모달리티별 인코더/브릿지 구조**: 각 모달리티(이미지, 오디오, 텍스트 등)에 대해 독립적인 인코더를 사용하고, 이를 공통 표현 공간으로 투영하는 방식입니다.\\n\\n2. **조인트 트랜스포머 설계**: 다양한 모달리티의 입력을 단일 시퀀스로 결합하여 처리하는 방법으로, cross-attention, adapter, late fusion 등의 기법을 비교합니다.\\n\\n3. **멀티스케일·계층적 표현**: 로컬 및 글로벌 특징을 통합하는 구조적 기법을 통해 다양한 스케일의 정보를 효과적으로 처리합니다.\\n\\n4. **파라미터 효율화**: LoRA, Adapter, Prompt tuning 등의 기법을 멀티모달 모델에 적용하여 파라미터 효율성을 높이는 방법과 그 장단점을 분석합니다.\\n\\n5. **모달 결손·동적 입력 처리**: 일부 모달리티가 부재한 상황에서 모델의 동작 원리와 학습 기법을 탐구합니다.\\n\\n6. **실시간·저지연 요구를 위한 경량화·하드웨어 친화적 설계**: 실시간 처리와 저지연 요구를 충족시키기 위한 모델의 경량화 및 하드웨어 친화적 설계 방안을 논의합니다.\\n\\n각 항목에 대해 아키텍처 다이어그램 요소, 입력·출력 흐름, 학습 신호(손실 함수) 예시를 포함하여 독립적으로 기술하겠습니다.\\n\\n---\\n\\n**1. 모달리티별 인코더/브릿지 구조**\\n\\n이 접근법에서는 각 모달리티에 대해 독립적인 인코더를 사용하여 입력 데이터를 처리한 후, 이를 공통 표현 공간으로 투영합니다.\\n\\n- **아키텍처 다이어그램 요소**: 각 모달리티별 인코더(예: 이미지 인코더, 오디오 인코더, 텍스트 인코더)와 이들의 출력을 통합하는 브릿지 모듈로 구성됩니다.\\n\\n- **입력·출력 흐름**: 각 모달리티의 입력 데이터는 해당 인코더를 통해 처리되어 개별적인 표현 벡터로 변환됩니다. 이러한 벡터들은 브릿지 모듈을 통해 공통 표현 공간으로 매핑되어 최종적으로 통합된 표현을 생성합니다.\\n\\n- **학습 신호(손실 함수) 예시**: 각 모달리티별 인코더는 자체적인 손실 함수를 통해 개별적으로 학습되며, 브릿지 모듈은 통합된 표현의 품질을 향상시키기 위한 손실 함수를 사용합니다. 예를 들어, 대조 학습(contrastive learning)을 통해 모달리티 간 표현의 일관성을 유지할 수 있습니다.\\n\\n**2. 조인트 트랜스포머 설계**\\n\\n이 설계에서는 다양한 모달리티의 입력을 단일 시퀀스로 결합하여 하나의 트랜스포머 모델로 처리합니다.\\n\\n- **아키텍처 다이어그램 요소**: 각 모달리티의 입력을 순차적으로 결합한 후, 이를 처리하는 단일 트랜스포머 모델로 구성됩니다.\\n\\n- **입력·출력 흐름**: 각 모달리티의 입력은 토큰화되어 단일 시퀀스로 결합되며, 이 시퀀스는 트랜스포머 모델을 통해 처리되어 통합된 출력을 생성합니다.\\n\\n- **학습 신호(손실 함수) 예시**: 모달리티 간 상호작용을 촉진하기 위해 cross-attention 메커니즘을 활용하며, 이를 통해 모달리티 간의 연관성을 학습합니다. 손실 함수로는 다중 모달리티의 일관성을 유지하기 위한 다중 태스크 학습 손실을 사용할 수 있습니다.\\n\\n**3. 멀티스케일·계층적 표현**\\n\\n이 기법은 로컬 및 글로벌 특징을 통합하여 다양한 스케일의 정보를 효과적으로 처리합니다.\\n\\n- **아키텍처 다이어그램 요소**: 다양한 스케일의 특징을 추출하는 다중 계층 구조와 이를 통합하는 모듈로 구성됩니다.\\n\\n- **입력·출력 흐름**: 입력 데이터는 여러 계층을 통해 처리되며, 각 계층에서 로컬 및 글로벌 특징이 추출됩니다. 이러한 특징들은 최종적으로 통합되어 출력으로 제공됩니다.\\n\\n- **학습 신호(손실 함수) 예시**: 각 계층에서 추출된 특징들의 품질을 향상시키기 위해 다중 스케일 손실 함수를 사용할 수 있습니다. 예를 들어, 로컬 특징과 글로벌 특징의 일관성을 유지하기 위한 손실 함수를 적용할 수 있습니다.\\n\\n**4. 파라미터 효율화**\\n\\nLoRA, Adapter, Prompt tuning 등의 기법을 멀티모달 모델에 적용하여 파라미터 효율성을 높입니다.\\n\\n- **아키텍처 다이어그램 요소**: 기존 모델에 추가되는 경량 모듈(예: LoRA 모듈, Adapter 모듈, Prompt 모듈)로 구성됩니다.\\n\\n- **입력·출력 흐름**: 입력 데이터는 기존 모델과 추가된 모듈을 통해 처리되며, 이를 통해 파라미터 수를 최소화하면서도 성능을 유지합니다.\\n\\n- **학습 신호(손실 함수) 예시**: 추가된 모듈의 학습을 위해 기존 손실 함수에 정규화 항을 추가하여 과적합을 방지하고 일반화 성능을 향상시킵니다.\\n\\n**5. 모달 결손·동적 입력 처리**\\n\\n일부 모달리티가 부재한 상황에서 모델의 동작 원리와 학습 기법을 탐구합니다.\\n\\n- **아키텍처 다이어그램 요소**: 모달리티의 존재 여부를 감지하는 모듈과 결손 모달리티를 보완하는 모듈로 구성됩니다.\\n\\n- **입력·출력 흐름**: 입력 데이터에서 모달리티의 존재 여부를 확인하고, 결손된 모달리티에 대해 대체 정보를 생성하거나 다른 모달리티의 정보를 활용하여 보완합니다.\\n\\n- **학습 신호(손실 함수) 예시**: 결손 모달리티에 대한 복원 손실 함수를 사용하여 모델이 결손된 정보를 효과적으로 보완할 수 있도록 학습합니다.\\n\\n**6. 실시간·저지연 요구를 위한 경량화·하드웨어 친화적 설계**\\n\\n실시간 처리와 저지연 요구를 충족시키기 위한 모델의 경량화 및 하드웨어 친화적 설계 방안을 논의합니다.\\n\\n- **아키텍처 다이어그램 요소**: 경량화된 모델 구조와 하드웨어 가속을 위한 최적화 모듈로 구성됩니다.\\n\\n- **입력·출력 흐름**: 입력 데이터는 경량화된 모델을 통해 빠르게 처리되며, 하드웨어 가속을 통해 지연 시간을 최소화합니다.\\n\\n- **학습 신호(손실 함수) 예시**: 모델의 경량화로 인한 성능 저하를 방지하기 위해 지연 시간과 성능 간의 균형을 유지하는 손실 함수를 사용합니다.\\n\\n---\\n\\n이러한 아키텍처 혁신과 설계 패턴은 멀티모달 대형언어모델의 성능과 효율성을 향상시키는 데 중요한 역할을 합니다. ',\n",
              " '멀티모달 대형언어모델(LLM)의 발전 과정에서 데이터셋 구축과 학습 전략은 핵심적인 역할을 합니다. 이 섹션에서는 다음과 같은 주제들을 상세히 다루겠습니다:\\n\\n1. **멀티모달 코퍼스 구성**: 이미지-캡션, 비디오-자막, 오디오-텍스트, 멀티턴 대화 데이터 등 다양한 유형의 데이터 수집, 정제, 라벨링 방법\\n2. **자기지도학습 목표들**: 마스킹 복원, 대조학습(contrastive), 멀티모달 예측(예: 이미지→텍스트), 멀티태스크 혼합 전략\\n3. **데이터 스케일과 품질 관리**: 노이즈·편향 완화, 필터링·중복 제거 방법\\n4. **계산 자원과 분산학습 고려사항**: 샤딩, mixed-precision, 체크포인팅\\n5. **데이터 증강·합성**: 합성 이미지·음성 생성, 합성 캡션의 활용과 위험성\\n6. **라벨 최소화 학습과 효율적 파인튜닝 사례**\\n\\n각 항목은 구체적인 실험 설정(배치 크기, 학습률 스케줄, 손실 가중치) 예시를 포함하여 독립적으로 이해할 수 있도록 기술하겠습니다.\\n\\n---\\n\\n### 1. 멀티모달 코퍼스 구성\\n\\n멀티모달 LLM의 성능은 다양한 모달리티의 데이터를 얼마나 효과적으로 수집하고 정제하느냐에 달려 있습니다. 주요 데이터 유형별 수집 및 처리 방법은 다음과 같습니다:\\n\\n- **이미지-캡션 데이터**: 웹 크롤링을 통해 이미지와 그에 대응하는 캡션을 수집합니다. 수집된 데이터는 자동화된 스크립트로 노이즈를 제거하고, 자연어 처리 기법을 활용하여 캡션의 품질을 평가합니다. 예를 들어, 이미지와 캡션 간의 의미적 일치도를 측정하여 부적절한 쌍을 필터링합니다.\\n\\n- **비디오-자막 데이터**: 공개된 비디오 플랫폼에서 자막이 포함된 비디오를 수집합니다. 비디오의 오디오 트랙과 자막 간의 동기화를 확인하고, 자동 자막 생성 도구를 활용하여 누락된 자막을 보완합니다.\\n\\n- **오디오-텍스트 데이터**: 팟캐스트, 오디오북 등에서 오디오와 해당 텍스트를 수집합니다. 음성 인식 기술을 활용하여 오디오를 텍스트로 변환하고, 변환된 텍스트의 정확도를 수동 검수하여 품질을 보장합니다.\\n\\n- **멀티턴 대화 데이터**: 챗봇 로그, 고객 서비스 대화 등에서 다중 턴의 대화 데이터를 수집합니다. 대화의 흐름과 문맥을 유지하기 위해 각 턴의 발화자 정보를 명확히 라벨링하고, 불필요한 중복이나 오류를 제거합니다.\\n\\n### 2. 자기지도학습 목표들\\n\\n자기지도학습은 레이블이 없는 대량의 데이터를 활용하여 모델을 사전 학습하고, 이후 특정 과업에 맞게 미세 조정하는 방법론입니다. 주요 학습 목표는 다음과 같습니다:\\n\\n- **마스킹 복원**: 입력 데이터의 일부를 마스킹하고, 모델이 이를 복원하도록 학습합니다. 예를 들어, 문장에서 특정 단어를 마스킹하고 이를 예측하게 합니다.\\n\\n- **대조학습(Contrastive Learning)**: 유사한 데이터 쌍은 가깝게, 비유사한 쌍은 멀게 임베딩되도록 학습합니다. 이미지와 캡션의 쌍을 활용하여 서로의 표현을 정렬하는 데 사용됩니다.\\n\\n- **멀티모달 예측**: 한 모달리티의 데이터를 입력으로 받아 다른 모달리티의 출력을 예측합니다. 예를 들어, 이미지를 입력으로 받아 해당하는 캡션을 생성합니다.\\n\\n- **멀티태스크 혼합 전략**: 여러 학습 목표를 동시에 학습하여 모델의 일반화 능력을 향상시킵니다. 각 과업의 손실 가중치를 조절하여 균형 잡힌 학습을 유도합니다.\\n\\n### 3. 데이터 스케일과 품질 관리\\n\\n대규모 데이터셋의 품질 관리는 모델의 성능에 직접적인 영향을 미칩니다. 주요 고려사항은 다음과 같습니다:\\n\\n- **노이즈·편향 완화**: 자동화된 필터링 규칙을 설정하여 부적절한 데이터를 제거합니다. 예를 들어, 부정확한 캡션이나 왜곡된 이미지를 감지하여 제외합니다.\\n\\n- **필터링·중복 제거 방법**: 유사한 데이터가 반복적으로 포함되지 않도록 중복 제거 알고리즘을 적용합니다. 텍스트의 경우, 해시 함수를 활용하여 중복된 문장을 식별하고 제거합니다.\\n\\n### 4. 계산 자원과 분산학습 고려사항\\n\\n대규모 모델의 학습에는 막대한 계산 자원이 필요하며, 효율적인 분산학습 전략이 필수적입니다:\\n\\n- **샤딩(Sharding)**: 모델의 파라미터나 데이터를 여러 장치에 분산하여 저장하고 처리합니다. 이를 통해 메모리 사용량을 분산시키고 병렬 처리를 촉진합니다.\\n\\n- **Mixed-Precision**: 16비트와 32비트 부동소수점 연산을 혼합하여 사용함으로써 메모리 사용량을 줄이고 연산 속도를 향상시킵니다.\\n\\n- **체크포인팅(Checkpointing)**: 학습 중간에 모델의 상태를 저장하여, 중단 시점에서 재개할 수 있도록 합니다. 이를 통해 장시간 학습 시 발생할 수 있는 데이터 손실을 방지합니다.\\n\\n### 5. 데이터 증강·합성\\n\\n데이터 증강과 합성은 모델의 일반화 능력을 향상시키는 데 도움이 됩니다:\\n\\n- **합성 이미지·음성 생성**: GAN(Generative Adversarial Networks)이나 TTS(Text-to-Speech) 기술을 활용하여 새로운 이미지를 생성하거나 음성을 합성합니다. 이를 통해 데이터 다양성을 확보합니다.\\n\\n- **합성 캡션의 활용과 위험성**: 이미지에 대한 캡션을 자동 생성하여 데이터셋을 확장할 수 있습니다. 그러나 합성된 캡션의 품질이 낮을 경우 모델의 성능에 부정적인 영향을 미칠 수 있으므로 주의가 필요합니다.\\n\\n### 6. 라벨 최소화 학습과 효율적 파인튜닝 사례\\n\\n라벨이 제한된 상황에서의 학습과 효율적인 파인튜닝은 다음과 같이 진행됩니다:\\n\\n- **라벨 최소화 학습**: 자기지도학습을 통해 대량의 비라벨 데이터로 사전 학습을 수행한 후, 소량의 라벨 데이터로 미세 조정합니다. 이를 통해 라벨 데이터의 필요성을 최소화합니다.\\n\\n- **효율적 파인튜닝 사례**: 예를 들어, 사전 학습된 모델을 특정 도메인에 맞게 파인튜닝할 때, 학습률 스케줄을 조절하여 초기에는 높은 학습률로 빠르게 수렴시키고, 이후에는 낮은 학습률로 안정적인 학습을 진행합니다.\\n\\n---\\n\\n이러한 전략들을 통해 멀티모달 대형언어모델의 성능을 극대화할 수 있습니다. ',\n",
              " '멀티모달 대형언어모델(LLM)의 발전 과정에서 평가방법, 벤치마크, 안전성 지표는 모델의 성능과 신뢰성을 객관적으로 측정하는 데 필수적인 요소입니다. 이 섹션에서는 각 평가 지표와 벤치마크의 중요성, 측정 방법, 그리고 실험 프로토콜에 대해 상세히 설명하겠습니다.\\n\\n**1. 멀티모달 성능 지표**\\n\\n멀티모달 LLM의 성능을 평가하기 위해 다양한 태스크별 메트릭이 사용됩니다. 주요 지표와 그 설명은 다음과 같습니다:\\n\\n- **정확도(Accuracy)**: 모델이 입력에 대해 올바른 출력을 생성한 비율을 나타냅니다.\\n\\n- **BLEU(Bilingual Evaluation Understudy)**: 기계 번역의 품질을 평가하는 지표로, 생성된 텍스트와 참조 텍스트 간의 n-그램 일치를 기반으로 합니다.\\n\\n- **ROUGE(Recall-Oriented Understudy for Gisting Evaluation)**: 텍스트 요약의 품질을 평가하는 지표로, 생성된 요약과 참조 요약 간의 중복된 n-그램 수를 측정합니다.\\n\\n- **CIDEr(Consensus-based Image Description Evaluation)**: 이미지 캡셔닝의 품질을 평가하는 지표로, 생성된 설명과 참조 설명 간의 TF-IDF 가중치를 고려한 n-그램 유사도를 측정합니다.\\n\\n- **Retrieval 평가**: 주어진 쿼리에 대해 관련된 문서나 이미지를 검색하는 능력을 평가합니다. 일반적으로 정밀도(Precision), 재현율(Recall), F1 점수 등이 사용됩니다.\\n\\n- **Grounding 평가**: 텍스트와 이미지 간의 정합성을 평가하며, 모델이 텍스트에서 언급된 객체를 이미지에서 정확히 식별하는 능력을 측정합니다.\\n\\n- **VQA(Visual Question Answering) 평가**: 이미지에 대한 질문에 정확히 답변하는 능력을 평가하며, 정확도와 개방형 질문에 대한 BLEU 점수 등이 사용됩니다.\\n\\n- **Captioning 평가**: 이미지나 비디오에 대한 설명을 생성하는 능력을 평가하며, BLEU, ROUGE, CIDEr 등의 지표가 활용됩니다.\\n\\n- **Video QA 평가**: 비디오 콘텐츠에 대한 질문에 답변하는 능력을 평가하며, VQA와 유사한 지표가 사용됩니다.\\n\\n**2. 통합 능력 측정**\\n\\n멀티모달 LLM의 전반적인 능력을 평가하기 위해 멀티태스크 벤치마크가 설계됩니다. 이러한 벤치마크는 다양한 태스크를 포함하여 모델의 다재다능함을 측정합니다. 또한, 제로샷 학습과 파인튜닝된 모델 간의 성능을 비교하여 모델의 일반화 능력을 평가합니다.\\n\\n**3. 견고성 및 일반화 평가**\\n\\n모델의 견고성과 일반화 능력을 평가하기 위해 다음과 같은 테스트 케이스가 설계됩니다:\\n\\n- **모달 노이즈 테스트**: 입력 데이터에 노이즈를 추가하여 모델의 성능 변화를 관찰합니다.\\n\\n- **변형 테스트**: 입력 데이터의 다양한 변형(예: 회전, 스케일링 등)에 대한 모델의 반응을 평가합니다.\\n\\n- **도메인 이동 테스트**: 훈련 데이터와 다른 도메인의 데이터를 사용하여 모델의 일반화 능력을 측정합니다.\\n\\n- **스트레스 테스트**: 극단적인 상황에서 모델의 성능을 평가하여 한계를 파악합니다.\\n\\n**4. 공정성, 편향 및 안전성 평가**\\n\\n모델의 윤리적 측면을 평가하기 위해 다음과 같은 지표와 테스트셋이 활용됩니다:\\n\\n- **해로운 생성물 평가**: 모델이 생성한 출력이 유해하거나 부적절한 내용을 포함하는지 확인합니다.\\n\\n- **프라이버시 유출 평가**: 모델이 개인 정보를 부적절하게 노출하는지 검사합니다.\\n\\n- **편향 지표 및 테스트셋 구성**: 모델의 출력이 특정 그룹에 대해 편향적이지 않은지 평가하기 위해 다양한 인구 통계학적 요소를 고려한 테스트셋을 구성합니다.\\n\\n**5. 인간 평가 및 사용자 중심 지표**\\n\\n모델의 실제 활용도를 평가하기 위해 인간 평가가 수행됩니다:\\n\\n- **유용성 평가**: 사용자가 모델의 출력을 얼마나 유용하게 느끼는지 측정합니다.\\n\\n- **이해도 평가**: 출력의 명확성과 이해도를 평가합니다.\\n\\n- **신뢰성 평가**: 사용자가 모델의 출력을 얼마나 신뢰하는지 조사합니다.\\n\\n**6. 표준화 제안**\\n\\n비교 가능한 벤치마크와 리더보드를 운영하기 위해 다음과 같은 원칙이 제안됩니다:\\n\\n- **일관된 데이터 분할**: 훈련, 검증, 테스트 데이터의 분할 기준을 명확히 정의합니다.\\n\\n- **충분한 반복수**: 실험의 통계적 유의성을 확보하기 위해 충분한 반복 실험을 수행합니다.\\n\\n- **통계적 유의성 검증**: 결과의 신뢰성을 보장하기 위해 통계적 검증을 실시합니다.\\n\\n각 평가지표와 벤치마크는 독립적으로 실행 가능하도록 상세한 실험 프로토콜을 포함하여 설계되어야 합니다. 이를 통해 멀티모달 LLM의 성능과 안전성을 객관적으로 평가하고, 지속적인 발전을 도모할 수 있습니다. ',\n",
              " '멀티모달 대형언어모델(LLM)은 텍스트, 이미지, 음성 등 다양한 형태의 데이터를 동시에 처리하고 이해할 수 있는 인공지능 모델로, 최근 다양한 분야에서 혁신적인 응용 사례를 보여주고 있습니다. 이 섹션에서는 이러한 응용 사례와 그에 따른 사회적 영향, 그리고 미래 연구 방향에 대해 상세히 논의하겠습니다.\\n\\n**1. 실제 응용 분야**\\n\\n- **멀티모달 검색 및 비서**: 사용자가 텍스트와 이미지를 함께 입력하여 원하는 정보를 더욱 정확하게 검색할 수 있는 시스템이 개발되고 있습니다. 예를 들어, 사용자가 특정 제품의 사진과 함께 관련 정보를 입력하면, 해당 제품에 대한 상세한 정보를 제공하는 검색 엔진이 있습니다.\\n\\n- **의료영상 진단 보조**: 의료 분야에서는 멀티모달 LLM을 활용하여 의료 영상을 분석하고, 환자의 전자 건강 기록과 결합하여 정확한 진단을 지원하는 시스템이 도입되고 있습니다. 이는 의료진의 진단 정확도를 높이고, 환자 치료의 효율성을 향상시키는 데 기여합니다.\\n\\n- **교육 및 콘텐츠 제작**: 교육 분야에서는 텍스트와 이미지를 동시에 이해하는 AI를 활용하여 맞춤형 학습 자료를 생성하거나, 학생들의 학습 패턴을 분석하여 개인화된 교육 콘텐츠를 제공하는 시스템이 개발되고 있습니다.\\n\\n- **로봇 인식 및 제어**: 로봇 공학에서는 멀티모달 LLM을 통해 로봇이 시각, 청각 등의 다양한 센서를 통해 수집한 정보를 통합적으로 처리하여 주변 환경을 이해하고, 보다 정교한 동작을 수행할 수 있도록 지원하고 있습니다.\\n\\n- **접근성 도구**: 시각장애인을 위한 보조 도구로서, 텍스트와 이미지를 동시에 처리하여 주변 환경을 음성으로 설명해주는 시스템이 개발되고 있습니다. 이는 시각장애인의 일상생활을 더욱 편리하게 만들어줍니다.\\n\\n**2. 상업화 과제**\\n\\n- **비용 및 지연**: 멀티모달 LLM의 학습과 운영에는 막대한 계산 자원과 시간이 필요합니다. 이는 상업화 과정에서 큰 비용 부담으로 작용하며, 실시간 응용에서는 지연 문제가 발생할 수 있습니다.\\n\\n- **개인정보 및 저작권 문제**: 다양한 형태의 데이터를 수집하고 처리하는 과정에서 개인정보 보호와 저작권 침해에 대한 우려가 제기됩니다. 따라서 데이터 수집과 활용에 대한 명확한 규정과 윤리적 기준이 필요합니다.\\n\\n- **도메인 적응 비용**: 특정 분야에 특화된 멀티모달 LLM을 개발하려면 해당 분야의 전문 지식과 데이터가 필요하며, 이는 추가적인 비용과 시간이 소요됩니다.\\n\\n**3. 윤리, 규제 및 거버넌스 이슈**\\n\\n- **책임소재**: 멀티모달 LLM이 생성한 결과물에 대한 책임 소재를 명확히 하는 것이 중요합니다. 특히, 잘못된 정보나 편향된 결과물이 발생했을 때, 그 책임을 누구에게 물을 것인지에 대한 논의가 필요합니다.\\n\\n- **투명성 및 검증 가능성**: 모델의 결정 과정이 투명하게 공개되어야 하며, 외부에서 그 결과를 검증할 수 있는 체계가 마련되어야 합니다.\\n\\n- **안전 규제 제언**: 멀티모달 LLM의 오용을 방지하기 위해 안전 규제와 가이드라인을 수립하고, 이를 준수하도록 하는 제도가 필요합니다.\\n\\n**4. 기술적 개방 문제**\\n\\n- **인터페이스 표준**: 다양한 멀티모달 LLM 간의 호환성을 높이기 위해 인터페이스 표준을 마련하는 것이 중요합니다.\\n\\n- **데이터 및 모델 공유 정책**: 연구자들 간의 협업을 촉진하기 위해 데이터와 모델을 공유하는 정책을 수립하고, 이를 통해 연구의 재현성을 높여야 합니다.\\n\\n- **재현성 개선 방안**: 연구 결과의 신뢰성을 높이기 위해 실험의 재현성을 보장하는 방법론과 도구를 개발해야 합니다.\\n\\n**5. 연구개발 로드맵**\\n\\n- **대화형 멀티모달 이해 및 생성 통합**: 자연스러운 대화를 통해 다양한 형태의 정보를 이해하고 생성할 수 있는 모델의 개발이 필요합니다.\\n\\n- **자기지도 학습 고도화**: 라벨링된 데이터 없이도 효과적으로 학습할 수 있는 자기지도 학습 기법의 발전이 요구됩니다.\\n\\n- **멀티모달 추론의 인과성 및 설명 가능성 확보**: 모델의 추론 과정에서 인과관계를 명확히 하고, 그 결과를 설명할 수 있는 능력을 강화해야 합니다.\\n\\n- **효율성 및 친환경 학습**: 학습 과정에서의 에너지 소비를 줄이고, 보다 효율적인 알고리즘을 개발하여 친환경적인 AI 시스템을 구축해야 합니다.\\n\\n**6. 사회적 영향 시나리오와 대응전략**\\n\\n- **일자리 영향**: 멀티모달 LLM의 도입으로 일부 직업이 대체될 수 있으며, 이에 대한 사회적 대응 전략이 필요합니다.\\n\\n- **교육 격차**: 기술의 발전이 교육 격차를 심화시킬 수 있으므로, 모든 계층이 기술의 혜택을 누릴 수 있도록 교육 시스템을 개선해야 합니다.\\n\\n- **악용 방지 정책 제안**: 멀티모달 LLM의 오용을 방지하기 위해 법적, 윤리적 가이드라인을 마련하고, 이를 준수하도록 하는 정책을 수립해야 합니다.\\n\\n각 항목에 대한 구현 체크리스트와 리스크 완화 전략을 제시함으로써, 멀티모달 대형언어모델의 발전과 활용에 대한 종합적인 이해와 대응 방안을 마련할 수 있습니다. ']"
            ]
          },
          "metadata": {},
          "execution_count": 23
        }
      ]
    },
    {
      "cell_type": "code",
      "source": [
        "draft = '\\n\\n'.join(result)\n",
        "with open('result.md', 'w', encoding='utf-8') as f:\n",
        "    f.write(draft)\n",
        "\n",
        "print(draft[0:100])"
      ],
      "metadata": {
        "id": "IdObp5O0Vl7f",
        "colab": {
          "base_uri": "https://localhost:8080/"
        },
        "outputId": "9a28eca8-b6ef-47e8-d168-22868af6033c"
      },
      "id": "IdObp5O0Vl7f",
      "execution_count": null,
      "outputs": [
        {
          "output_type": "stream",
          "name": "stdout",
          "text": [
            "멀티모달 대형언어모델(LLM)의 발전 과정은 여러 주요 전환점을 거치며 진화해 왔습니다. 각 단계별로 대표적인 논문과 모델, 기술적 한계 및 해결책을 연대기 순으로 정리하겠습니다.\n"
          ]
        }
      ]
    },
    {
      "cell_type": "code",
      "source": [],
      "metadata": {
        "id": "j8lr7ke4Ez90"
      },
      "id": "j8lr7ke4Ez90",
      "execution_count": null,
      "outputs": []
    },
    {
      "cell_type": "markdown",
      "id": "W8fyKsLXebWS",
      "metadata": {
        "id": "W8fyKsLXebWS"
      },
      "source": [
        "<br><br>\n",
        "## Runnables\n",
        "\n",
        "LangChain 체인의 기본 구조는 `RunnableSequence` 클래스로 구성됩니다.   \n",
        "\n",
        "이 때, 시퀀스를 구성한 llm, prompt, chain 각 모듈은 Runnables에 해당합니다.   \n",
        "Runnables은 자유롭게 체인에 포함되어 결과를 연결할 수 있습니다.\n",
        "\n",
        "\n",
        "\n",
        "이번에는, 데이터 흐름을 제어하는 특별한 Runnable인   \n",
        "RunnablePassthrough와 RunnableParallel을 이용해 체인을 구성해 보겠습니다.\n"
      ]
    },
    {
      "cell_type": "markdown",
      "id": "0PgbPFMJevgi",
      "metadata": {
        "id": "0PgbPFMJevgi"
      },
      "source": [
        "<br><br>\n",
        "### RunnablePassthrough\n",
        "RunnablePassthrough는 체인의 직전 출력을 그대로 가져옵니다."
      ]
    },
    {
      "cell_type": "code",
      "execution_count": null,
      "id": "qZVecD8veakX",
      "metadata": {
        "id": "qZVecD8veakX",
        "colab": {
          "base_uri": "https://localhost:8080/"
        },
        "outputId": "28b02339-da81-4ec4-da4e-f52b405c9e1c"
      },
      "outputs": [
        {
          "output_type": "execute_result",
          "data": {
            "text/plain": [
              "{'answer': '선택 작품: 쉰들러 리스트\\n설명 (20자 이내): 홀로코스트 실화 감동'}"
            ]
          },
          "metadata": {},
          "execution_count": 34
        }
      ],
      "source": [
        "from langchain.schema.runnable import RunnablePassthrough\n",
        "\n",
        "prompt1 = ChatPromptTemplate([\"{director}의 대표 작품은 무엇입니까? 하나의 작품만 선택하고, 해당 작품에 대해 20자 이내로 설명하세요.\"])\n",
        "chain1 = (\n",
        "    prompt1\n",
        "    | gpt_llm\n",
        "    | StrOutputParser()\n",
        "    | {'answer': RunnablePassthrough()})\n",
        "\n",
        "response = chain1.invoke(\"스티븐 스필버그\")\n",
        "response"
      ]
    },
    {
      "cell_type": "markdown",
      "id": "vi5eb2d3e0MA",
      "metadata": {
        "id": "vi5eb2d3e0MA"
      },
      "source": [
        "<br><br>\n",
        "### RunnableParallel\n",
        "\n",
        "RunnableParallel은 서로 다른 체인을 병렬적으로 실행하여 dict 구조로 전달합니다."
      ]
    },
    {
      "cell_type": "code",
      "execution_count": null,
      "id": "064d6697",
      "metadata": {
        "id": "064d6697",
        "colab": {
          "base_uri": "https://localhost:8080/"
        },
        "outputId": "10171253-e8b0-41e2-f846-898eef0dc264"
      },
      "outputs": [
        {
          "output_type": "execute_result",
          "data": {
            "text/plain": [
              "{\n",
              "  \n",
              "}"
            ]
          },
          "metadata": {},
          "execution_count": 27
        }
      ],
      "source": [
        "from langchain_core.runnables import RunnableParallel\n",
        "\n",
        "RunnableParallel()"
      ]
    },
    {
      "cell_type": "code",
      "execution_count": null,
      "id": "I7j1SNCSeyNr",
      "metadata": {
        "id": "I7j1SNCSeyNr",
        "colab": {
          "base_uri": "https://localhost:8080/"
        },
        "outputId": "0dda427f-4755-4429-91d8-ef1cf978ad67"
      },
      "outputs": [
        {
          "output_type": "execute_result",
          "data": {
            "text/plain": [
              "{'color': '빨강\\n파랑\\n초록\\n노랑\\n보라', 'food': '김치찌개\\n비빔밥\\n불고기'}"
            ]
          },
          "metadata": {},
          "execution_count": 29
        }
      ],
      "source": [
        "prompt1 = ChatPromptTemplate([\"색깔을 {n} 알려주세요, 색깔만 출력하세요.\"])\n",
        "prompt2 = ChatPromptTemplate([\"음식을 {m} 알려주세요, 음식만 출력하세요.\"])\n",
        "\n",
        "chain1 = prompt1 | gpt_llm | StrOutputParser()\n",
        "chain2 = prompt2 | gpt_llm | StrOutputParser()\n",
        "\n",
        "chain3 = RunnableParallel(color = chain1, food = chain2)\n",
        "# 딕셔너리에 붙인다\n",
        "\n",
        "chain3.invoke({'n':5, 'm':3})"
      ]
    },
    {
      "cell_type": "markdown",
      "id": "b06ba59a",
      "metadata": {
        "id": "b06ba59a"
      },
      "source": [
        "## Assign()\n",
        "\n",
        "RunnableParallel을 사용하면 중간 체인의 결과를 전달하여, 다음 체인의 결과를 함께 얻을 수 있습니다.   "
      ]
    },
    {
      "cell_type": "code",
      "execution_count": null,
      "id": "m0i1R3GpfDM5",
      "metadata": {
        "id": "m0i1R3GpfDM5",
        "colab": {
          "base_uri": "https://localhost:8080/"
        },
        "outputId": "6906bf63-8c80-4c6d-cbe2-11ba5ee678be"
      },
      "outputs": [
        {
          "output_type": "execute_result",
          "data": {
            "text/plain": [
              "{'country': '미국', 'people': '조지 워싱턴\\n에이브러햄 링컨\\n마틴 루서 킹 주니어'}"
            ]
          },
          "metadata": {},
          "execution_count": 31
        }
      ],
      "source": [
        "prompt1 = ChatPromptTemplate([\"잭슨빌은 어느 나라의 도시입니까? 나라 이름만 출력\"])\n",
        "prompt2 = ChatPromptTemplate(\n",
        "    [\"{country}의 대표적인 인물 3명을 나열하세요. 인물의 이름만 출력하세요.\"]\n",
        ")\n",
        "\n",
        "chain1 = prompt1 | gpt_llm | StrOutputParser()\n",
        "chain2 = prompt2 | gpt_llm | StrOutputParser()\n",
        "\n",
        "chain3 = RunnableParallel(country = chain1).assign(people = chain2)\n",
        "#                         {country:'미국}    +      {people:''}\n",
        "# assign : 직전 체인 결과 (dict)를 뒷 체인에 전달하고 결과를 합침\n",
        "\n",
        "chain3.invoke({})"
      ]
    },
    {
      "cell_type": "markdown",
      "id": "p-7loBF5fLzB",
      "metadata": {
        "id": "p-7loBF5fLzB"
      },
      "source": [
        "<br><br><br><br><br><br><br><br>\n",
        "chain2에서 새로운 매개변수가 추가되는 경우는 어떻게 해야 할까요?"
      ]
    },
    {
      "cell_type": "code",
      "execution_count": null,
      "id": "9mSFt-ZqfPWh",
      "metadata": {
        "id": "9mSFt-ZqfPWh",
        "colab": {
          "base_uri": "https://localhost:8080/"
        },
        "outputId": "92fe2eef-b83f-4757-841e-a248370b556c"
      },
      "outputs": [
        {
          "output_type": "stream",
          "name": "stdout",
          "text": [
            "Abraham Lincoln, Martin Luther King Jr., Beyoncé Knowles\n"
          ]
        }
      ],
      "source": [
        "prompt1 = ChatPromptTemplate([\"{city}는 어느 나라의 도시인가요? 나라 이름만 출력하세요.\"])\n",
        "prompt2 = ChatPromptTemplate([\"{country}의 유명한 인물은 누가 있나요? {num} 명의 이름을 나열하세요. 사람 이름만 ,로 구분하여 나열하세요.\"])\n",
        "\n",
        "chain1 = prompt1 | gpt_llm | StrOutputParser()\n",
        "# city ---> country\n",
        "\n",
        "chain2 = (\n",
        "    RunnablePassthrough.assign(country = chain1)\n",
        "    # city, num         +      country\n",
        "    # 입력받은 city, num에 country를 추가하여 전달\n",
        "    | prompt2\n",
        "    # country, num을 받아 실행\n",
        "    | gpt_llm\n",
        "    | StrOutputParser()\n",
        ")\n",
        "\n",
        "print(chain2.invoke({\"city\": \"잭슨빌\", \"num\": \"3\"}))"
      ]
    },
    {
      "cell_type": "markdown",
      "id": "LugI0dFrfbzn",
      "metadata": {
        "id": "LugI0dFrfbzn"
      },
      "source": [
        "<br><br>\n",
        "assign을 여러 개 연결할 수 있습니다."
      ]
    },
    {
      "cell_type": "code",
      "execution_count": null,
      "id": "a2bv38f1fcFN",
      "metadata": {
        "id": "a2bv38f1fcFN",
        "colab": {
          "base_uri": "https://localhost:8080/"
        },
        "outputId": "33fd28ba-afcb-43af-e5c8-bcf11d911905"
      },
      "outputs": [
        {
          "output_type": "execute_result",
          "data": {
            "text/plain": [
              "{'city': '부에노스 아이레스',\n",
              " 'num': '3',\n",
              " 'country': '아르헨티나',\n",
              " 'res': 'Lionel Messi, Eva Perón, Jorge Luis Borges'}"
            ]
          },
          "metadata": {},
          "execution_count": 36
        }
      ],
      "source": [
        "chain4 = (prompt2\n",
        "    | gpt_llm\n",
        "    | StrOutputParser())\n",
        "\n",
        "chain3 = RunnablePassthrough.assign(country = chain1).assign(res = chain4)\n",
        "\n",
        "chain3.invoke({\"city\": \"부에노스 아이레스\", \"num\": \"3\"})"
      ]
    },
    {
      "cell_type": "markdown",
      "id": "SAEA6qeAfft6",
      "metadata": {
        "id": "SAEA6qeAfft6"
      },
      "source": [
        "<br><br><br>JsonOutputParser를 쓴다면 아래와 같이 만들 수도 있습니다."
      ]
    },
    {
      "cell_type": "code",
      "execution_count": null,
      "id": "xO_-zGuHfhEn",
      "metadata": {
        "id": "xO_-zGuHfhEn",
        "colab": {
          "base_uri": "https://localhost:8080/",
          "height": 72
        },
        "outputId": "2ed2aeaf-1d74-425a-b005-9e2daf51fb92"
      },
      "outputs": [
        {
          "output_type": "execute_result",
          "data": {
            "text/plain": [
              "'송강호는 영화 《기생충》(감독 봉준호)에서 김기택 역을 맡았습니다.  \\n김기택은 김가(家)의 가장으로, 실직 상태이지만 온화하고 상황판단이 빠른 인물입니다. 아들 기우의 소개로 박사장 가문의 운전기사로 들어가면서 가족 전체가 박 가문에 침투하는 이야기가 전개되고, 영화 후반부에는 갈등과 비극적 결말로 이어지는 중심 인물 중 하나입니다.\\n\\n더 자세한 캐릭터 분석이나 명장면/명대사를 원하시면 말해 주세요.'"
            ],
            "application/vnd.google.colaboratory.intrinsic+json": {
              "type": "string"
            }
          },
          "metadata": {},
          "execution_count": 37
        }
      ],
      "source": [
        "from langchain_core.output_parsers import JsonOutputParser\n",
        "\n",
        "prompt1 = ChatPromptTemplate(\n",
        "    [\"영화 배우 한명과 대표작 하나를 출력하세요. json 형식으로 출력하고, 각 항목은 actor, movie로 표시하세요.\"])\n",
        "prompt2 = ChatPromptTemplate([\"{actor}는 {movie}에서 어떤 역할을 했습니까?\"])\n",
        "\n",
        "chain1 = prompt1 | gpt_llm | JsonOutputParser()\n",
        "chain2 =(\n",
        "     chain1 | prompt2 | gpt_llm | StrOutputParser()\n",
        ")\n",
        "chain2.invoke({})"
      ]
    }
  ],
  "metadata": {
    "colab": {
      "provenance": []
    },
    "kernelspec": {
      "display_name": "multicampus",
      "language": "python",
      "name": "python3"
    },
    "language_info": {
      "codemirror_mode": {
        "name": "ipython",
        "version": 3
      },
      "file_extension": ".py",
      "mimetype": "text/x-python",
      "name": "python",
      "nbconvert_exporter": "python",
      "pygments_lexer": "ipython3",
      "version": "3.11.7"
    }
  },
  "nbformat": 4,
  "nbformat_minor": 5
}