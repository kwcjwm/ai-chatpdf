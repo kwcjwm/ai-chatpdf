{
  "cells": [
    {
      "cell_type": "markdown",
      "metadata": {
        "id": "uHQzg8LlBPiX"
      },
      "source": [
        "# [실습] RAG 파이프라인 성능 평가하기   \n",
        "\n",
        "지금까지 RAG의 성능을 높이기 위한 다양한 방법에 대해 알아봤는데요.   \n",
        "실제 RAG의 성능은 어떻게 측정해야 할까요?"
      ]
    },
    {
      "cell_type": "markdown",
      "metadata": {
        "id": "yD8cevFKBPia"
      },
      "source": [
        "이번 실습에서는 정답이 존재하는 RAG 데이터를 이용해, 성능을 평가하는 과정에 대해 알아보겠습니다."
      ]
    },
    {
      "cell_type": "markdown",
      "metadata": {
        "id": "NN-eQ45rvai7"
      },
      "source": [
        "### 라이브러리 설치  \n",
        "\n",
        "랭체인 관련 라이브러리와 벡터 데이터베이스 라이브러리를 설치합니다.   "
      ]
    },
    {
      "cell_type": "code",
      "execution_count": null,
      "metadata": {
        "id": "GHgrhVbLnM6I",
        "collapsed": true,
        "colab": {
          "base_uri": "https://localhost:8080/"
        },
        "outputId": "ed23b484-ad86-4782-8d2b-d0ff0e179e92"
      },
      "outputs": [
        {
          "output_type": "stream",
          "name": "stdout",
          "text": [
            "Collecting sacrebleu\n",
            "  Downloading sacrebleu-2.5.1-py3-none-any.whl.metadata (51 kB)\n",
            "\u001b[?25l     \u001b[90m━━━━━━━━━━━━━━━━━━━━━━━━━━━━━━━━━━━━━━━━\u001b[0m \u001b[32m0.0/51.8 kB\u001b[0m \u001b[31m?\u001b[0m eta \u001b[36m-:--:--\u001b[0m\r\u001b[2K     \u001b[90m━━━━━━━━━━━━━━━━━━━━━━━━━━━━━━━━━━━━━━━━\u001b[0m \u001b[32m51.8/51.8 kB\u001b[0m \u001b[31m1.6 MB/s\u001b[0m eta \u001b[36m0:00:00\u001b[0m\n",
            "\u001b[?25hCollecting ragas\n",
            "  Downloading ragas-0.3.7-py3-none-any.whl.metadata (21 kB)\n",
            "Collecting dotenv\n",
            "  Downloading dotenv-0.9.9-py2.py3-none-any.whl.metadata (279 bytes)\n",
            "Collecting jsonlines\n",
            "  Downloading jsonlines-4.0.0-py3-none-any.whl.metadata (1.6 kB)\n",
            "Requirement already satisfied: langchain in /usr/local/lib/python3.12/dist-packages (0.3.27)\n",
            "Collecting langchain-openai\n",
            "  Downloading langchain_openai-1.0.0-py3-none-any.whl.metadata (1.8 kB)\n",
            "Collecting langchain-community\n",
            "  Downloading langchain_community-0.4-py3-none-any.whl.metadata (3.0 kB)\n",
            "Requirement already satisfied: beautifulsoup4 in /usr/local/lib/python3.12/dist-packages (4.13.5)\n",
            "Collecting langchain_chroma\n",
            "  Downloading langchain_chroma-1.0.0-py3-none-any.whl.metadata (1.9 kB)\n",
            "Collecting chromadb\n",
            "  Downloading chromadb-1.2.1-cp39-abi3-manylinux_2_17_x86_64.manylinux2014_x86_64.whl.metadata (7.2 kB)\n",
            "Collecting portalocker (from sacrebleu)\n",
            "  Downloading portalocker-3.2.0-py3-none-any.whl.metadata (8.7 kB)\n",
            "Requirement already satisfied: regex in /usr/local/lib/python3.12/dist-packages (from sacrebleu) (2024.11.6)\n",
            "Requirement already satisfied: tabulate>=0.8.9 in /usr/local/lib/python3.12/dist-packages (from sacrebleu) (0.9.0)\n",
            "Requirement already satisfied: numpy>=1.17 in /usr/local/lib/python3.12/dist-packages (from sacrebleu) (2.0.2)\n",
            "Collecting colorama (from sacrebleu)\n",
            "  Downloading colorama-0.4.6-py2.py3-none-any.whl.metadata (17 kB)\n",
            "Requirement already satisfied: lxml in /usr/local/lib/python3.12/dist-packages (from sacrebleu) (5.4.0)\n",
            "Requirement already satisfied: datasets>=4.0.0 in /usr/local/lib/python3.12/dist-packages (from ragas) (4.0.0)\n",
            "Requirement already satisfied: tiktoken in /usr/local/lib/python3.12/dist-packages (from ragas) (0.12.0)\n",
            "Requirement already satisfied: pydantic>=2.0.0 in /usr/local/lib/python3.12/dist-packages (from ragas) (2.11.10)\n",
            "Requirement already satisfied: nest-asyncio in /usr/local/lib/python3.12/dist-packages (from ragas) (1.6.0)\n",
            "Collecting appdirs (from ragas)\n",
            "  Downloading appdirs-1.4.4-py2.py3-none-any.whl.metadata (9.0 kB)\n",
            "Collecting diskcache>=5.6.3 (from ragas)\n",
            "  Downloading diskcache-5.6.3-py3-none-any.whl.metadata (20 kB)\n",
            "Requirement already satisfied: typer in /usr/local/lib/python3.12/dist-packages (from ragas) (0.19.2)\n",
            "Requirement already satisfied: rich in /usr/local/lib/python3.12/dist-packages (from ragas) (13.9.4)\n",
            "Requirement already satisfied: openai>=1.0.0 in /usr/local/lib/python3.12/dist-packages (from ragas) (1.109.1)\n",
            "Requirement already satisfied: tqdm in /usr/local/lib/python3.12/dist-packages (from ragas) (4.67.1)\n",
            "Collecting instructor (from ragas)\n",
            "  Downloading instructor-1.11.3-py3-none-any.whl.metadata (11 kB)\n",
            "Requirement already satisfied: gitpython in /usr/local/lib/python3.12/dist-packages (from ragas) (3.1.45)\n",
            "Requirement already satisfied: pillow>=10.4.0 in /usr/local/lib/python3.12/dist-packages (from ragas) (11.3.0)\n",
            "Requirement already satisfied: networkx in /usr/local/lib/python3.12/dist-packages (from ragas) (3.5)\n",
            "Collecting scikit-network (from ragas)\n",
            "  Downloading scikit_network-0.33.3-cp312-cp312-manylinux_2_17_x86_64.manylinux2014_x86_64.whl.metadata (4.5 kB)\n",
            "Requirement already satisfied: langchain-core in /usr/local/lib/python3.12/dist-packages (from ragas) (0.3.79)\n",
            "Requirement already satisfied: python-dotenv in /usr/local/lib/python3.12/dist-packages (from dotenv) (1.1.1)\n",
            "Requirement already satisfied: attrs>=19.2.0 in /usr/local/lib/python3.12/dist-packages (from jsonlines) (25.4.0)\n",
            "Requirement already satisfied: langchain-text-splitters<1.0.0,>=0.3.9 in /usr/local/lib/python3.12/dist-packages (from langchain) (0.3.11)\n",
            "Requirement already satisfied: langsmith>=0.1.17 in /usr/local/lib/python3.12/dist-packages (from langchain) (0.4.35)\n",
            "Requirement already satisfied: SQLAlchemy<3,>=1.4 in /usr/local/lib/python3.12/dist-packages (from langchain) (2.0.44)\n",
            "Requirement already satisfied: requests<3,>=2 in /usr/local/lib/python3.12/dist-packages (from langchain) (2.32.4)\n",
            "Requirement already satisfied: PyYAML>=5.3 in /usr/local/lib/python3.12/dist-packages (from langchain) (6.0.3)\n",
            "INFO: pip is looking at multiple versions of langchain-openai to determine which version is compatible with other requirements. This could take a while.\n",
            "Collecting langchain-openai\n",
            "  Downloading langchain_openai-0.3.35-py3-none-any.whl.metadata (2.4 kB)\n",
            "INFO: pip is looking at multiple versions of langchain-community to determine which version is compatible with other requirements. This could take a while.\n",
            "Collecting langchain-community\n",
            "  Downloading langchain_community-0.3.31-py3-none-any.whl.metadata (3.0 kB)\n",
            "Collecting requests<3,>=2 (from langchain)\n",
            "  Downloading requests-2.32.5-py3-none-any.whl.metadata (4.9 kB)\n",
            "Requirement already satisfied: aiohttp<4.0.0,>=3.8.3 in /usr/local/lib/python3.12/dist-packages (from langchain-community) (3.13.0)\n",
            "Requirement already satisfied: tenacity!=8.4.0,<10.0.0,>=8.1.0 in /usr/local/lib/python3.12/dist-packages (from langchain-community) (8.5.0)\n",
            "Collecting dataclasses-json<0.7.0,>=0.6.7 (from langchain-community)\n",
            "  Downloading dataclasses_json-0.6.7-py3-none-any.whl.metadata (25 kB)\n",
            "Requirement already satisfied: pydantic-settings<3.0.0,>=2.10.1 in /usr/local/lib/python3.12/dist-packages (from langchain-community) (2.11.0)\n",
            "Requirement already satisfied: httpx-sse<1.0.0,>=0.4.0 in /usr/local/lib/python3.12/dist-packages (from langchain-community) (0.4.3)\n",
            "Requirement already satisfied: soupsieve>1.2 in /usr/local/lib/python3.12/dist-packages (from beautifulsoup4) (2.8)\n",
            "Requirement already satisfied: typing-extensions>=4.0.0 in /usr/local/lib/python3.12/dist-packages (from beautifulsoup4) (4.15.0)\n",
            "INFO: pip is looking at multiple versions of langchain-chroma to determine which version is compatible with other requirements. This could take a while.\n",
            "Collecting langchain_chroma\n",
            "  Downloading langchain_chroma-0.2.6-py3-none-any.whl.metadata (1.1 kB)\n",
            "Requirement already satisfied: build>=1.0.3 in /usr/local/lib/python3.12/dist-packages (from chromadb) (1.3.0)\n",
            "Collecting pybase64>=1.4.1 (from chromadb)\n",
            "  Downloading pybase64-1.4.2-cp312-cp312-manylinux1_x86_64.manylinux2014_x86_64.manylinux_2_17_x86_64.manylinux_2_5_x86_64.whl.metadata (8.7 kB)\n",
            "Requirement already satisfied: uvicorn>=0.18.3 in /usr/local/lib/python3.12/dist-packages (from uvicorn[standard]>=0.18.3->chromadb) (0.37.0)\n",
            "Collecting posthog<6.0.0,>=2.4.0 (from chromadb)\n",
            "  Downloading posthog-5.4.0-py3-none-any.whl.metadata (5.7 kB)\n",
            "Collecting onnxruntime>=1.14.1 (from chromadb)\n",
            "  Downloading onnxruntime-1.23.1-cp312-cp312-manylinux_2_27_x86_64.manylinux_2_28_x86_64.whl.metadata (5.0 kB)\n",
            "Requirement already satisfied: opentelemetry-api>=1.2.0 in /usr/local/lib/python3.12/dist-packages (from chromadb) (1.37.0)\n",
            "Collecting opentelemetry-exporter-otlp-proto-grpc>=1.2.0 (from chromadb)\n",
            "  Downloading opentelemetry_exporter_otlp_proto_grpc-1.38.0-py3-none-any.whl.metadata (2.4 kB)\n",
            "Requirement already satisfied: opentelemetry-sdk>=1.2.0 in /usr/local/lib/python3.12/dist-packages (from chromadb) (1.37.0)\n",
            "Requirement already satisfied: tokenizers>=0.13.2 in /usr/local/lib/python3.12/dist-packages (from chromadb) (0.22.1)\n",
            "Collecting pypika>=0.48.9 (from chromadb)\n",
            "  Downloading PyPika-0.48.9.tar.gz (67 kB)\n",
            "\u001b[2K     \u001b[90m━━━━━━━━━━━━━━━━━━━━━━━━━━━━━━━━━━━━━━━━\u001b[0m \u001b[32m67.3/67.3 kB\u001b[0m \u001b[31m2.7 MB/s\u001b[0m eta \u001b[36m0:00:00\u001b[0m\n",
            "\u001b[?25h  Installing build dependencies ... \u001b[?25l\u001b[?25hdone\n",
            "  Getting requirements to build wheel ... \u001b[?25l\u001b[?25hdone\n",
            "  Preparing metadata (pyproject.toml) ... \u001b[?25l\u001b[?25hdone\n",
            "Requirement already satisfied: overrides>=7.3.1 in /usr/local/lib/python3.12/dist-packages (from chromadb) (7.7.0)\n",
            "Requirement already satisfied: importlib-resources in /usr/local/lib/python3.12/dist-packages (from chromadb) (6.5.2)\n",
            "Requirement already satisfied: grpcio>=1.58.0 in /usr/local/lib/python3.12/dist-packages (from chromadb) (1.75.1)\n",
            "Collecting bcrypt>=4.0.1 (from chromadb)\n",
            "  Downloading bcrypt-5.0.0-cp39-abi3-manylinux_2_34_x86_64.whl.metadata (10 kB)\n",
            "Collecting kubernetes>=28.1.0 (from chromadb)\n",
            "  Downloading kubernetes-34.1.0-py2.py3-none-any.whl.metadata (1.7 kB)\n",
            "Collecting mmh3>=4.0.1 (from chromadb)\n",
            "  Downloading mmh3-5.2.0-cp312-cp312-manylinux1_x86_64.manylinux_2_28_x86_64.manylinux_2_5_x86_64.whl.metadata (14 kB)\n",
            "Requirement already satisfied: orjson>=3.9.12 in /usr/local/lib/python3.12/dist-packages (from chromadb) (3.11.3)\n",
            "Requirement already satisfied: httpx>=0.27.0 in /usr/local/lib/python3.12/dist-packages (from chromadb) (0.28.1)\n",
            "Requirement already satisfied: jsonschema>=4.19.0 in /usr/local/lib/python3.12/dist-packages (from chromadb) (4.25.1)\n",
            "Requirement already satisfied: aiohappyeyeballs>=2.5.0 in /usr/local/lib/python3.12/dist-packages (from aiohttp<4.0.0,>=3.8.3->langchain-community) (2.6.1)\n",
            "Requirement already satisfied: aiosignal>=1.4.0 in /usr/local/lib/python3.12/dist-packages (from aiohttp<4.0.0,>=3.8.3->langchain-community) (1.4.0)\n",
            "Requirement already satisfied: frozenlist>=1.1.1 in /usr/local/lib/python3.12/dist-packages (from aiohttp<4.0.0,>=3.8.3->langchain-community) (1.8.0)\n",
            "Requirement already satisfied: multidict<7.0,>=4.5 in /usr/local/lib/python3.12/dist-packages (from aiohttp<4.0.0,>=3.8.3->langchain-community) (6.7.0)\n",
            "Requirement already satisfied: propcache>=0.2.0 in /usr/local/lib/python3.12/dist-packages (from aiohttp<4.0.0,>=3.8.3->langchain-community) (0.4.1)\n",
            "Requirement already satisfied: yarl<2.0,>=1.17.0 in /usr/local/lib/python3.12/dist-packages (from aiohttp<4.0.0,>=3.8.3->langchain-community) (1.22.0)\n",
            "Requirement already satisfied: packaging>=19.1 in /usr/local/lib/python3.12/dist-packages (from build>=1.0.3->chromadb) (25.0)\n",
            "Requirement already satisfied: pyproject_hooks in /usr/local/lib/python3.12/dist-packages (from build>=1.0.3->chromadb) (1.2.0)\n",
            "Collecting marshmallow<4.0.0,>=3.18.0 (from dataclasses-json<0.7.0,>=0.6.7->langchain-community)\n",
            "  Downloading marshmallow-3.26.1-py3-none-any.whl.metadata (7.3 kB)\n",
            "Collecting typing-inspect<1,>=0.4.0 (from dataclasses-json<0.7.0,>=0.6.7->langchain-community)\n",
            "  Downloading typing_inspect-0.9.0-py3-none-any.whl.metadata (1.5 kB)\n",
            "Requirement already satisfied: filelock in /usr/local/lib/python3.12/dist-packages (from datasets>=4.0.0->ragas) (3.20.0)\n",
            "Requirement already satisfied: pyarrow>=15.0.0 in /usr/local/lib/python3.12/dist-packages (from datasets>=4.0.0->ragas) (18.1.0)\n",
            "Requirement already satisfied: dill<0.3.9,>=0.3.0 in /usr/local/lib/python3.12/dist-packages (from datasets>=4.0.0->ragas) (0.3.8)\n",
            "Requirement already satisfied: pandas in /usr/local/lib/python3.12/dist-packages (from datasets>=4.0.0->ragas) (2.2.2)\n",
            "Requirement already satisfied: xxhash in /usr/local/lib/python3.12/dist-packages (from datasets>=4.0.0->ragas) (3.6.0)\n",
            "Requirement already satisfied: multiprocess<0.70.17 in /usr/local/lib/python3.12/dist-packages (from datasets>=4.0.0->ragas) (0.70.16)\n",
            "Requirement already satisfied: fsspec<=2025.3.0,>=2023.1.0 in /usr/local/lib/python3.12/dist-packages (from fsspec[http]<=2025.3.0,>=2023.1.0->datasets>=4.0.0->ragas) (2025.3.0)\n",
            "Requirement already satisfied: huggingface-hub>=0.24.0 in /usr/local/lib/python3.12/dist-packages (from datasets>=4.0.0->ragas) (0.35.3)\n",
            "Requirement already satisfied: anyio in /usr/local/lib/python3.12/dist-packages (from httpx>=0.27.0->chromadb) (4.11.0)\n",
            "Requirement already satisfied: certifi in /usr/local/lib/python3.12/dist-packages (from httpx>=0.27.0->chromadb) (2025.10.5)\n",
            "Requirement already satisfied: httpcore==1.* in /usr/local/lib/python3.12/dist-packages (from httpx>=0.27.0->chromadb) (1.0.9)\n",
            "Requirement already satisfied: idna in /usr/local/lib/python3.12/dist-packages (from httpx>=0.27.0->chromadb) (3.11)\n",
            "Requirement already satisfied: h11>=0.16 in /usr/local/lib/python3.12/dist-packages (from httpcore==1.*->httpx>=0.27.0->chromadb) (0.16.0)\n",
            "Requirement already satisfied: jsonschema-specifications>=2023.03.6 in /usr/local/lib/python3.12/dist-packages (from jsonschema>=4.19.0->chromadb) (2025.9.1)\n",
            "Requirement already satisfied: referencing>=0.28.4 in /usr/local/lib/python3.12/dist-packages (from jsonschema>=4.19.0->chromadb) (0.37.0)\n",
            "Requirement already satisfied: rpds-py>=0.7.1 in /usr/local/lib/python3.12/dist-packages (from jsonschema>=4.19.0->chromadb) (0.27.1)\n",
            "Requirement already satisfied: six>=1.9.0 in /usr/local/lib/python3.12/dist-packages (from kubernetes>=28.1.0->chromadb) (1.17.0)\n",
            "Requirement already satisfied: python-dateutil>=2.5.3 in /usr/local/lib/python3.12/dist-packages (from kubernetes>=28.1.0->chromadb) (2.9.0.post0)\n",
            "Requirement already satisfied: google-auth>=1.0.1 in /usr/local/lib/python3.12/dist-packages (from kubernetes>=28.1.0->chromadb) (2.38.0)\n",
            "Requirement already satisfied: websocket-client!=0.40.0,!=0.41.*,!=0.42.*,>=0.32.0 in /usr/local/lib/python3.12/dist-packages (from kubernetes>=28.1.0->chromadb) (1.9.0)\n",
            "Requirement already satisfied: requests-oauthlib in /usr/local/lib/python3.12/dist-packages (from kubernetes>=28.1.0->chromadb) (2.0.0)\n",
            "Collecting urllib3<2.4.0,>=1.24.2 (from kubernetes>=28.1.0->chromadb)\n",
            "  Downloading urllib3-2.3.0-py3-none-any.whl.metadata (6.5 kB)\n",
            "Collecting durationpy>=0.7 (from kubernetes>=28.1.0->chromadb)\n",
            "  Downloading durationpy-0.10-py3-none-any.whl.metadata (340 bytes)\n",
            "Requirement already satisfied: jsonpatch<2.0.0,>=1.33.0 in /usr/local/lib/python3.12/dist-packages (from langchain-core->ragas) (1.33)\n",
            "Requirement already satisfied: requests-toolbelt>=1.0.0 in /usr/local/lib/python3.12/dist-packages (from langsmith>=0.1.17->langchain) (1.0.0)\n",
            "Requirement already satisfied: zstandard>=0.23.0 in /usr/local/lib/python3.12/dist-packages (from langsmith>=0.1.17->langchain) (0.25.0)\n",
            "Collecting coloredlogs (from onnxruntime>=1.14.1->chromadb)\n",
            "  Downloading coloredlogs-15.0.1-py2.py3-none-any.whl.metadata (12 kB)\n",
            "Requirement already satisfied: flatbuffers in /usr/local/lib/python3.12/dist-packages (from onnxruntime>=1.14.1->chromadb) (25.9.23)\n",
            "Requirement already satisfied: protobuf in /usr/local/lib/python3.12/dist-packages (from onnxruntime>=1.14.1->chromadb) (5.29.5)\n",
            "Requirement already satisfied: sympy in /usr/local/lib/python3.12/dist-packages (from onnxruntime>=1.14.1->chromadb) (1.13.3)\n",
            "Requirement already satisfied: distro<2,>=1.7.0 in /usr/local/lib/python3.12/dist-packages (from openai>=1.0.0->ragas) (1.9.0)\n",
            "Requirement already satisfied: jiter<1,>=0.4.0 in /usr/local/lib/python3.12/dist-packages (from openai>=1.0.0->ragas) (0.11.0)\n",
            "Requirement already satisfied: sniffio in /usr/local/lib/python3.12/dist-packages (from openai>=1.0.0->ragas) (1.3.1)\n",
            "Requirement already satisfied: importlib-metadata<8.8.0,>=6.0 in /usr/local/lib/python3.12/dist-packages (from opentelemetry-api>=1.2.0->chromadb) (8.7.0)\n",
            "Requirement already satisfied: googleapis-common-protos~=1.57 in /usr/local/lib/python3.12/dist-packages (from opentelemetry-exporter-otlp-proto-grpc>=1.2.0->chromadb) (1.70.0)\n",
            "Collecting opentelemetry-exporter-otlp-proto-common==1.38.0 (from opentelemetry-exporter-otlp-proto-grpc>=1.2.0->chromadb)\n",
            "  Downloading opentelemetry_exporter_otlp_proto_common-1.38.0-py3-none-any.whl.metadata (1.8 kB)\n",
            "Collecting opentelemetry-proto==1.38.0 (from opentelemetry-exporter-otlp-proto-grpc>=1.2.0->chromadb)\n",
            "  Downloading opentelemetry_proto-1.38.0-py3-none-any.whl.metadata (2.3 kB)\n",
            "Collecting opentelemetry-sdk>=1.2.0 (from chromadb)\n",
            "  Downloading opentelemetry_sdk-1.38.0-py3-none-any.whl.metadata (1.5 kB)\n",
            "Collecting opentelemetry-api>=1.2.0 (from chromadb)\n",
            "  Downloading opentelemetry_api-1.38.0-py3-none-any.whl.metadata (1.5 kB)\n",
            "Collecting opentelemetry-semantic-conventions==0.59b0 (from opentelemetry-sdk>=1.2.0->chromadb)\n",
            "  Downloading opentelemetry_semantic_conventions-0.59b0-py3-none-any.whl.metadata (2.4 kB)\n",
            "Collecting backoff>=1.10.0 (from posthog<6.0.0,>=2.4.0->chromadb)\n",
            "  Downloading backoff-2.2.1-py3-none-any.whl.metadata (14 kB)\n",
            "Requirement already satisfied: annotated-types>=0.6.0 in /usr/local/lib/python3.12/dist-packages (from pydantic>=2.0.0->ragas) (0.7.0)\n",
            "Requirement already satisfied: pydantic-core==2.33.2 in /usr/local/lib/python3.12/dist-packages (from pydantic>=2.0.0->ragas) (2.33.2)\n",
            "Requirement already satisfied: typing-inspection>=0.4.0 in /usr/local/lib/python3.12/dist-packages (from pydantic>=2.0.0->ragas) (0.4.2)\n",
            "Requirement already satisfied: charset_normalizer<4,>=2 in /usr/local/lib/python3.12/dist-packages (from requests<3,>=2->langchain) (3.4.4)\n",
            "Requirement already satisfied: markdown-it-py>=2.2.0 in /usr/local/lib/python3.12/dist-packages (from rich->ragas) (4.0.0)\n",
            "Requirement already satisfied: pygments<3.0.0,>=2.13.0 in /usr/local/lib/python3.12/dist-packages (from rich->ragas) (2.19.2)\n",
            "Requirement already satisfied: greenlet>=1 in /usr/local/lib/python3.12/dist-packages (from SQLAlchemy<3,>=1.4->langchain) (3.2.4)\n",
            "Requirement already satisfied: click>=8.0.0 in /usr/local/lib/python3.12/dist-packages (from typer->ragas) (8.3.0)\n",
            "Requirement already satisfied: shellingham>=1.3.0 in /usr/local/lib/python3.12/dist-packages (from typer->ragas) (1.5.4)\n",
            "Collecting httptools>=0.6.3 (from uvicorn[standard]>=0.18.3->chromadb)\n",
            "  Downloading httptools-0.7.1-cp312-cp312-manylinux1_x86_64.manylinux_2_28_x86_64.manylinux_2_5_x86_64.whl.metadata (3.5 kB)\n",
            "Collecting uvloop>=0.15.1 (from uvicorn[standard]>=0.18.3->chromadb)\n",
            "  Downloading uvloop-0.22.1-cp312-cp312-manylinux2014_x86_64.manylinux_2_17_x86_64.manylinux_2_28_x86_64.whl.metadata (4.9 kB)\n",
            "Collecting watchfiles>=0.13 (from uvicorn[standard]>=0.18.3->chromadb)\n",
            "  Downloading watchfiles-1.1.1-cp312-cp312-manylinux_2_17_x86_64.manylinux2014_x86_64.whl.metadata (4.9 kB)\n",
            "Requirement already satisfied: websockets>=10.4 in /usr/local/lib/python3.12/dist-packages (from uvicorn[standard]>=0.18.3->chromadb) (15.0.1)\n",
            "Requirement already satisfied: gitdb<5,>=4.0.1 in /usr/local/lib/python3.12/dist-packages (from gitpython->ragas) (4.0.12)\n",
            "Requirement already satisfied: docstring-parser<1.0,>=0.16 in /usr/local/lib/python3.12/dist-packages (from instructor->ragas) (0.17.0)\n",
            "Requirement already satisfied: jinja2<4.0.0,>=3.1.4 in /usr/local/lib/python3.12/dist-packages (from instructor->ragas) (3.1.6)\n",
            "Collecting jiter<1,>=0.4.0 (from openai>=1.0.0->ragas)\n",
            "  Downloading jiter-0.10.0-cp312-cp312-manylinux_2_17_x86_64.manylinux2014_x86_64.whl.metadata (5.2 kB)\n",
            "Requirement already satisfied: scipy>=1.7.3 in /usr/local/lib/python3.12/dist-packages (from scikit-network->ragas) (1.16.2)\n",
            "Requirement already satisfied: smmap<6,>=3.0.1 in /usr/local/lib/python3.12/dist-packages (from gitdb<5,>=4.0.1->gitpython->ragas) (5.0.2)\n",
            "Requirement already satisfied: cachetools<6.0,>=2.0.0 in /usr/local/lib/python3.12/dist-packages (from google-auth>=1.0.1->kubernetes>=28.1.0->chromadb) (5.5.2)\n",
            "Requirement already satisfied: pyasn1-modules>=0.2.1 in /usr/local/lib/python3.12/dist-packages (from google-auth>=1.0.1->kubernetes>=28.1.0->chromadb) (0.4.2)\n",
            "Requirement already satisfied: rsa<5,>=3.1.4 in /usr/local/lib/python3.12/dist-packages (from google-auth>=1.0.1->kubernetes>=28.1.0->chromadb) (4.9.1)\n",
            "Requirement already satisfied: hf-xet<2.0.0,>=1.1.3 in /usr/local/lib/python3.12/dist-packages (from huggingface-hub>=0.24.0->datasets>=4.0.0->ragas) (1.1.10)\n",
            "Requirement already satisfied: zipp>=3.20 in /usr/local/lib/python3.12/dist-packages (from importlib-metadata<8.8.0,>=6.0->opentelemetry-api>=1.2.0->chromadb) (3.23.0)\n",
            "Requirement already satisfied: MarkupSafe>=2.0 in /usr/local/lib/python3.12/dist-packages (from jinja2<4.0.0,>=3.1.4->instructor->ragas) (3.0.3)\n",
            "Requirement already satisfied: jsonpointer>=1.9 in /usr/local/lib/python3.12/dist-packages (from jsonpatch<2.0.0,>=1.33.0->langchain-core->ragas) (3.0.0)\n",
            "Requirement already satisfied: mdurl~=0.1 in /usr/local/lib/python3.12/dist-packages (from markdown-it-py>=2.2.0->rich->ragas) (0.1.2)\n",
            "Collecting mypy-extensions>=0.3.0 (from typing-inspect<1,>=0.4.0->dataclasses-json<0.7.0,>=0.6.7->langchain-community)\n",
            "  Downloading mypy_extensions-1.1.0-py3-none-any.whl.metadata (1.1 kB)\n",
            "Collecting humanfriendly>=9.1 (from coloredlogs->onnxruntime>=1.14.1->chromadb)\n",
            "  Downloading humanfriendly-10.0-py2.py3-none-any.whl.metadata (9.2 kB)\n",
            "Requirement already satisfied: pytz>=2020.1 in /usr/local/lib/python3.12/dist-packages (from pandas->datasets>=4.0.0->ragas) (2025.2)\n",
            "Requirement already satisfied: tzdata>=2022.7 in /usr/local/lib/python3.12/dist-packages (from pandas->datasets>=4.0.0->ragas) (2025.2)\n",
            "Requirement already satisfied: oauthlib>=3.0.0 in /usr/local/lib/python3.12/dist-packages (from requests-oauthlib->kubernetes>=28.1.0->chromadb) (3.3.1)\n",
            "Requirement already satisfied: mpmath<1.4,>=1.1.0 in /usr/local/lib/python3.12/dist-packages (from sympy->onnxruntime>=1.14.1->chromadb) (1.3.0)\n",
            "Requirement already satisfied: pyasn1<0.7.0,>=0.6.1 in /usr/local/lib/python3.12/dist-packages (from pyasn1-modules>=0.2.1->google-auth>=1.0.1->kubernetes>=28.1.0->chromadb) (0.6.1)\n",
            "Downloading sacrebleu-2.5.1-py3-none-any.whl (104 kB)\n",
            "\u001b[2K   \u001b[90m━━━━━━━━━━━━━━━━━━━━━━━━━━━━━━━━━━━━━━━━\u001b[0m \u001b[32m104.1/104.1 kB\u001b[0m \u001b[31m7.1 MB/s\u001b[0m eta \u001b[36m0:00:00\u001b[0m\n",
            "\u001b[?25hDownloading ragas-0.3.7-py3-none-any.whl (317 kB)\n",
            "\u001b[2K   \u001b[90m━━━━━━━━━━━━━━━━━━━━━━━━━━━━━━━━━━━━━━━━\u001b[0m \u001b[32m317.6/317.6 kB\u001b[0m \u001b[31m15.5 MB/s\u001b[0m eta \u001b[36m0:00:00\u001b[0m\n",
            "\u001b[?25hDownloading dotenv-0.9.9-py2.py3-none-any.whl (1.9 kB)\n",
            "Downloading jsonlines-4.0.0-py3-none-any.whl (8.7 kB)\n",
            "Downloading langchain_openai-0.3.35-py3-none-any.whl (75 kB)\n",
            "\u001b[2K   \u001b[90m━━━━━━━━━━━━━━━━━━━━━━━━━━━━━━━━━━━━━━━━\u001b[0m \u001b[32m76.0/76.0 kB\u001b[0m \u001b[31m4.8 MB/s\u001b[0m eta \u001b[36m0:00:00\u001b[0m\n",
            "\u001b[?25hDownloading langchain_community-0.3.31-py3-none-any.whl (2.5 MB)\n",
            "\u001b[2K   \u001b[90m━━━━━━━━━━━━━━━━━━━━━━━━━━━━━━━━━━━━━━━━\u001b[0m \u001b[32m2.5/2.5 MB\u001b[0m \u001b[31m51.8 MB/s\u001b[0m eta \u001b[36m0:00:00\u001b[0m\n",
            "\u001b[?25hDownloading langchain_chroma-0.2.6-py3-none-any.whl (12 kB)\n",
            "Downloading chromadb-1.2.1-cp39-abi3-manylinux_2_17_x86_64.manylinux2014_x86_64.whl (20.7 MB)\n",
            "\u001b[2K   \u001b[90m━━━━━━━━━━━━━━━━━━━━━━━━━━━━━━━━━━━━━━━━\u001b[0m \u001b[32m20.7/20.7 MB\u001b[0m \u001b[31m92.2 MB/s\u001b[0m eta \u001b[36m0:00:00\u001b[0m\n",
            "\u001b[?25hDownloading bcrypt-5.0.0-cp39-abi3-manylinux_2_34_x86_64.whl (278 kB)\n",
            "\u001b[2K   \u001b[90m━━━━━━━━━━━━━━━━━━━━━━━━━━━━━━━━━━━━━━━━\u001b[0m \u001b[32m278.2/278.2 kB\u001b[0m \u001b[31m18.6 MB/s\u001b[0m eta \u001b[36m0:00:00\u001b[0m\n",
            "\u001b[?25hDownloading dataclasses_json-0.6.7-py3-none-any.whl (28 kB)\n",
            "Downloading diskcache-5.6.3-py3-none-any.whl (45 kB)\n",
            "\u001b[2K   \u001b[90m━━━━━━━━━━━━━━━━━━━━━━━━━━━━━━━━━━━━━━━━\u001b[0m \u001b[32m45.5/45.5 kB\u001b[0m \u001b[31m3.2 MB/s\u001b[0m eta \u001b[36m0:00:00\u001b[0m\n",
            "\u001b[?25hDownloading kubernetes-34.1.0-py2.py3-none-any.whl (2.0 MB)\n",
            "\u001b[2K   \u001b[90m━━━━━━━━━━━━━━━━━━━━━━━━━━━━━━━━━━━━━━━━\u001b[0m \u001b[32m2.0/2.0 MB\u001b[0m \u001b[31m72.6 MB/s\u001b[0m eta \u001b[36m0:00:00\u001b[0m\n",
            "\u001b[?25hDownloading mmh3-5.2.0-cp312-cp312-manylinux1_x86_64.manylinux_2_28_x86_64.manylinux_2_5_x86_64.whl (103 kB)\n",
            "\u001b[2K   \u001b[90m━━━━━━━━━━━━━━━━━━━━━━━━━━━━━━━━━━━━━━━━\u001b[0m \u001b[32m103.3/103.3 kB\u001b[0m \u001b[31m8.5 MB/s\u001b[0m eta \u001b[36m0:00:00\u001b[0m\n",
            "\u001b[?25hDownloading onnxruntime-1.23.1-cp312-cp312-manylinux_2_27_x86_64.manylinux_2_28_x86_64.whl (17.4 MB)\n",
            "\u001b[2K   \u001b[90m━━━━━━━━━━━━━━━━━━━━━━━━━━━━━━━━━━━━━━━━\u001b[0m \u001b[32m17.4/17.4 MB\u001b[0m \u001b[31m83.9 MB/s\u001b[0m eta \u001b[36m0:00:00\u001b[0m\n",
            "\u001b[?25hDownloading opentelemetry_exporter_otlp_proto_grpc-1.38.0-py3-none-any.whl (19 kB)\n",
            "Downloading opentelemetry_exporter_otlp_proto_common-1.38.0-py3-none-any.whl (18 kB)\n",
            "Downloading opentelemetry_proto-1.38.0-py3-none-any.whl (72 kB)\n",
            "\u001b[2K   \u001b[90m━━━━━━━━━━━━━━━━━━━━━━━━━━━━━━━━━━━━━━━━\u001b[0m \u001b[32m72.5/72.5 kB\u001b[0m \u001b[31m6.0 MB/s\u001b[0m eta \u001b[36m0:00:00\u001b[0m\n",
            "\u001b[?25hDownloading opentelemetry_sdk-1.38.0-py3-none-any.whl (132 kB)\n",
            "\u001b[2K   \u001b[90m━━━━━━━━━━━━━━━━━━━━━━━━━━━━━━━━━━━━━━━━\u001b[0m \u001b[32m132.3/132.3 kB\u001b[0m \u001b[31m10.6 MB/s\u001b[0m eta \u001b[36m0:00:00\u001b[0m\n",
            "\u001b[?25hDownloading opentelemetry_api-1.38.0-py3-none-any.whl (65 kB)\n",
            "\u001b[2K   \u001b[90m━━━━━━━━━━━━━━━━━━━━━━━━━━━━━━━━━━━━━━━━\u001b[0m \u001b[32m65.9/65.9 kB\u001b[0m \u001b[31m5.0 MB/s\u001b[0m eta \u001b[36m0:00:00\u001b[0m\n",
            "\u001b[?25hDownloading opentelemetry_semantic_conventions-0.59b0-py3-none-any.whl (207 kB)\n",
            "\u001b[2K   \u001b[90m━━━━━━━━━━━━━━━━━━━━━━━━━━━━━━━━━━━━━━━━\u001b[0m \u001b[32m208.0/208.0 kB\u001b[0m \u001b[31m16.3 MB/s\u001b[0m eta \u001b[36m0:00:00\u001b[0m\n",
            "\u001b[?25hDownloading posthog-5.4.0-py3-none-any.whl (105 kB)\n",
            "\u001b[2K   \u001b[90m━━━━━━━━━━━━━━━━━━━━━━━━━━━━━━━━━━━━━━━━\u001b[0m \u001b[32m105.4/105.4 kB\u001b[0m \u001b[31m8.7 MB/s\u001b[0m eta \u001b[36m0:00:00\u001b[0m\n",
            "\u001b[?25hDownloading pybase64-1.4.2-cp312-cp312-manylinux1_x86_64.manylinux2014_x86_64.manylinux_2_17_x86_64.manylinux_2_5_x86_64.whl (71 kB)\n",
            "\u001b[2K   \u001b[90m━━━━━━━━━━━━━━━━━━━━━━━━━━━━━━━━━━━━━━━━\u001b[0m \u001b[32m71.6/71.6 kB\u001b[0m \u001b[31m5.6 MB/s\u001b[0m eta \u001b[36m0:00:00\u001b[0m\n",
            "\u001b[?25hDownloading requests-2.32.5-py3-none-any.whl (64 kB)\n",
            "\u001b[2K   \u001b[90m━━━━━━━━━━━━━━━━━━━━━━━━━━━━━━━━━━━━━━━━\u001b[0m \u001b[32m64.7/64.7 kB\u001b[0m \u001b[31m5.1 MB/s\u001b[0m eta \u001b[36m0:00:00\u001b[0m\n",
            "\u001b[?25hDownloading appdirs-1.4.4-py2.py3-none-any.whl (9.6 kB)\n",
            "Downloading colorama-0.4.6-py2.py3-none-any.whl (25 kB)\n",
            "Downloading instructor-1.11.3-py3-none-any.whl (155 kB)\n",
            "\u001b[2K   \u001b[90m━━━━━━━━━━━━━━━━━━━━━━━━━━━━━━━━━━━━━━━━\u001b[0m \u001b[32m155.5/155.5 kB\u001b[0m \u001b[31m11.5 MB/s\u001b[0m eta \u001b[36m0:00:00\u001b[0m\n",
            "\u001b[?25hDownloading portalocker-3.2.0-py3-none-any.whl (22 kB)\n",
            "Downloading scikit_network-0.33.3-cp312-cp312-manylinux_2_17_x86_64.manylinux2014_x86_64.whl (8.0 MB)\n",
            "\u001b[2K   \u001b[90m━━━━━━━━━━━━━━━━━━━━━━━━━━━━━━━━━━━━━━━━\u001b[0m \u001b[32m8.0/8.0 MB\u001b[0m \u001b[31m97.1 MB/s\u001b[0m eta \u001b[36m0:00:00\u001b[0m\n",
            "\u001b[?25hDownloading backoff-2.2.1-py3-none-any.whl (15 kB)\n",
            "Downloading durationpy-0.10-py3-none-any.whl (3.9 kB)\n",
            "Downloading httptools-0.7.1-cp312-cp312-manylinux1_x86_64.manylinux_2_28_x86_64.manylinux_2_5_x86_64.whl (517 kB)\n",
            "\u001b[2K   \u001b[90m━━━━━━━━━━━━━━━━━━━━━━━━━━━━━━━━━━━━━━━━\u001b[0m \u001b[32m517.7/517.7 kB\u001b[0m \u001b[31m32.2 MB/s\u001b[0m eta \u001b[36m0:00:00\u001b[0m\n",
            "\u001b[?25hDownloading jiter-0.10.0-cp312-cp312-manylinux_2_17_x86_64.manylinux2014_x86_64.whl (352 kB)\n",
            "\u001b[2K   \u001b[90m━━━━━━━━━━━━━━━━━━━━━━━━━━━━━━━━━━━━━━━━\u001b[0m \u001b[32m352.0/352.0 kB\u001b[0m \u001b[31m25.4 MB/s\u001b[0m eta \u001b[36m0:00:00\u001b[0m\n",
            "\u001b[?25hDownloading marshmallow-3.26.1-py3-none-any.whl (50 kB)\n",
            "\u001b[2K   \u001b[90m━━━━━━━━━━━━━━━━━━━━━━━━━━━━━━━━━━━━━━━━\u001b[0m \u001b[32m50.9/50.9 kB\u001b[0m \u001b[31m3.7 MB/s\u001b[0m eta \u001b[36m0:00:00\u001b[0m\n",
            "\u001b[?25hDownloading typing_inspect-0.9.0-py3-none-any.whl (8.8 kB)\n",
            "Downloading urllib3-2.3.0-py3-none-any.whl (128 kB)\n",
            "\u001b[2K   \u001b[90m━━━━━━━━━━━━━━━━━━━━━━━━━━━━━━━━━━━━━━━━\u001b[0m \u001b[32m128.4/128.4 kB\u001b[0m \u001b[31m8.4 MB/s\u001b[0m eta \u001b[36m0:00:00\u001b[0m\n",
            "\u001b[?25hDownloading uvloop-0.22.1-cp312-cp312-manylinux2014_x86_64.manylinux_2_17_x86_64.manylinux_2_28_x86_64.whl (4.4 MB)\n",
            "\u001b[2K   \u001b[90m━━━━━━━━━━━━━━━━━━━━━━━━━━━━━━━━━━━━━━━━\u001b[0m \u001b[32m4.4/4.4 MB\u001b[0m \u001b[31m72.0 MB/s\u001b[0m eta \u001b[36m0:00:00\u001b[0m\n",
            "\u001b[?25hDownloading watchfiles-1.1.1-cp312-cp312-manylinux_2_17_x86_64.manylinux2014_x86_64.whl (456 kB)\n",
            "\u001b[2K   \u001b[90m━━━━━━━━━━━━━━━━━━━━━━━━━━━━━━━━━━━━━━━━\u001b[0m \u001b[32m456.8/456.8 kB\u001b[0m \u001b[31m30.4 MB/s\u001b[0m eta \u001b[36m0:00:00\u001b[0m\n",
            "\u001b[?25hDownloading coloredlogs-15.0.1-py2.py3-none-any.whl (46 kB)\n",
            "\u001b[2K   \u001b[90m━━━━━━━━━━━━━━━━━━━━━━━━━━━━━━━━━━━━━━━━\u001b[0m \u001b[32m46.0/46.0 kB\u001b[0m \u001b[31m3.3 MB/s\u001b[0m eta \u001b[36m0:00:00\u001b[0m\n",
            "\u001b[?25hDownloading humanfriendly-10.0-py2.py3-none-any.whl (86 kB)\n",
            "\u001b[2K   \u001b[90m━━━━━━━━━━━━━━━━━━━━━━━━━━━━━━━━━━━━━━━━\u001b[0m \u001b[32m86.8/86.8 kB\u001b[0m \u001b[31m5.9 MB/s\u001b[0m eta \u001b[36m0:00:00\u001b[0m\n",
            "\u001b[?25hDownloading mypy_extensions-1.1.0-py3-none-any.whl (5.0 kB)\n",
            "Building wheels for collected packages: pypika\n",
            "  Building wheel for pypika (pyproject.toml) ... \u001b[?25l\u001b[?25hdone\n",
            "  Created wheel for pypika: filename=pypika-0.48.9-py2.py3-none-any.whl size=53803 sha256=64252c0ebec425b241557a67fb9e530e5fceb3c122457d7eaf595887a55fcca6\n",
            "  Stored in directory: /root/.cache/pip/wheels/d5/3d/69/8d68d249cd3de2584f226e27fd431d6344f7d70fd856ebd01b\n",
            "Successfully built pypika\n",
            "Installing collected packages: pypika, durationpy, appdirs, uvloop, urllib3, pybase64, portalocker, opentelemetry-proto, mypy-extensions, mmh3, marshmallow, jsonlines, jiter, humanfriendly, httptools, dotenv, diskcache, colorama, bcrypt, backoff, watchfiles, typing-inspect, scikit-network, sacrebleu, requests, opentelemetry-exporter-otlp-proto-common, opentelemetry-api, coloredlogs, posthog, opentelemetry-semantic-conventions, onnxruntime, dataclasses-json, opentelemetry-sdk, kubernetes, instructor, opentelemetry-exporter-otlp-proto-grpc, langchain-openai, chromadb, langchain_chroma, langchain-community, ragas\n",
            "  Attempting uninstall: urllib3\n",
            "    Found existing installation: urllib3 2.5.0\n",
            "    Uninstalling urllib3-2.5.0:\n",
            "      Successfully uninstalled urllib3-2.5.0\n",
            "  Attempting uninstall: opentelemetry-proto\n",
            "    Found existing installation: opentelemetry-proto 1.37.0\n",
            "    Uninstalling opentelemetry-proto-1.37.0:\n",
            "      Successfully uninstalled opentelemetry-proto-1.37.0\n",
            "  Attempting uninstall: jiter\n",
            "    Found existing installation: jiter 0.11.0\n",
            "    Uninstalling jiter-0.11.0:\n",
            "      Successfully uninstalled jiter-0.11.0\n",
            "  Attempting uninstall: requests\n",
            "    Found existing installation: requests 2.32.4\n",
            "    Uninstalling requests-2.32.4:\n",
            "      Successfully uninstalled requests-2.32.4\n",
            "  Attempting uninstall: opentelemetry-exporter-otlp-proto-common\n",
            "    Found existing installation: opentelemetry-exporter-otlp-proto-common 1.37.0\n",
            "    Uninstalling opentelemetry-exporter-otlp-proto-common-1.37.0:\n",
            "      Successfully uninstalled opentelemetry-exporter-otlp-proto-common-1.37.0\n",
            "  Attempting uninstall: opentelemetry-api\n",
            "    Found existing installation: opentelemetry-api 1.37.0\n",
            "    Uninstalling opentelemetry-api-1.37.0:\n",
            "      Successfully uninstalled opentelemetry-api-1.37.0\n",
            "  Attempting uninstall: opentelemetry-semantic-conventions\n",
            "    Found existing installation: opentelemetry-semantic-conventions 0.58b0\n",
            "    Uninstalling opentelemetry-semantic-conventions-0.58b0:\n",
            "      Successfully uninstalled opentelemetry-semantic-conventions-0.58b0\n",
            "  Attempting uninstall: opentelemetry-sdk\n",
            "    Found existing installation: opentelemetry-sdk 1.37.0\n",
            "    Uninstalling opentelemetry-sdk-1.37.0:\n",
            "      Successfully uninstalled opentelemetry-sdk-1.37.0\n",
            "\u001b[31mERROR: pip's dependency resolver does not currently take into account all the packages that are installed. This behaviour is the source of the following dependency conflicts.\n",
            "google-colab 1.0.0 requires requests==2.32.4, but you have requests 2.32.5 which is incompatible.\n",
            "google-adk 1.16.0 requires opentelemetry-api<=1.37.0,>=1.37.0, but you have opentelemetry-api 1.38.0 which is incompatible.\n",
            "google-adk 1.16.0 requires opentelemetry-sdk<=1.37.0,>=1.37.0, but you have opentelemetry-sdk 1.38.0 which is incompatible.\n",
            "opentelemetry-exporter-otlp-proto-http 1.37.0 requires opentelemetry-exporter-otlp-proto-common==1.37.0, but you have opentelemetry-exporter-otlp-proto-common 1.38.0 which is incompatible.\n",
            "opentelemetry-exporter-otlp-proto-http 1.37.0 requires opentelemetry-proto==1.37.0, but you have opentelemetry-proto 1.38.0 which is incompatible.\n",
            "opentelemetry-exporter-otlp-proto-http 1.37.0 requires opentelemetry-sdk~=1.37.0, but you have opentelemetry-sdk 1.38.0 which is incompatible.\u001b[0m\u001b[31m\n",
            "\u001b[0mSuccessfully installed appdirs-1.4.4 backoff-2.2.1 bcrypt-5.0.0 chromadb-1.2.1 colorama-0.4.6 coloredlogs-15.0.1 dataclasses-json-0.6.7 diskcache-5.6.3 dotenv-0.9.9 durationpy-0.10 httptools-0.7.1 humanfriendly-10.0 instructor-1.11.3 jiter-0.10.0 jsonlines-4.0.0 kubernetes-34.1.0 langchain-community-0.3.31 langchain-openai-0.3.35 langchain_chroma-0.2.6 marshmallow-3.26.1 mmh3-5.2.0 mypy-extensions-1.1.0 onnxruntime-1.23.1 opentelemetry-api-1.38.0 opentelemetry-exporter-otlp-proto-common-1.38.0 opentelemetry-exporter-otlp-proto-grpc-1.38.0 opentelemetry-proto-1.38.0 opentelemetry-sdk-1.38.0 opentelemetry-semantic-conventions-0.59b0 portalocker-3.2.0 posthog-5.4.0 pybase64-1.4.2 pypika-0.48.9 ragas-0.3.7 requests-2.32.5 sacrebleu-2.5.1 scikit-network-0.33.3 typing-inspect-0.9.0 urllib3-2.3.0 uvloop-0.22.1 watchfiles-1.1.1\n"
          ]
        }
      ],
      "source": [
        "!pip install sacrebleu ragas dotenv jsonlines langchain langchain-openai langchain-community beautifulsoup4 langchain_chroma chromadb"
      ]
    },
    {
      "cell_type": "markdown",
      "source": [
        "세션 재시작이 필요합니다."
      ],
      "metadata": {
        "id": "eovqeob90js-"
      }
    },
    {
      "cell_type": "code",
      "execution_count": null,
      "metadata": {
        "id": "C5uYZQknXLDM",
        "colab": {
          "base_uri": "https://localhost:8080/"
        },
        "outputId": "95a499ca-91e5-4a04-91f5-b7563c1049e7"
      },
      "outputs": [
        {
          "output_type": "stream",
          "name": "stdout",
          "text": [
            "OpenAI API 키 확인\n"
          ]
        }
      ],
      "source": [
        "import os\n",
        "from dotenv import load_dotenv\n",
        "load_dotenv('env', override=True)\n",
        "\n",
        "if os.environ.get('OPENAI_API_KEY'):\n",
        "    print('OpenAI API 키 확인')"
      ]
    },
    {
      "cell_type": "code",
      "execution_count": null,
      "metadata": {
        "id": "LFBuPupW3zze"
      },
      "outputs": [],
      "source": [
        "from langchain_openai import ChatOpenAI\n",
        "\n",
        "llm = ChatOpenAI(model=\"gpt-4.1-mini\", temperature = 0.7, max_tokens = 4096)"
      ]
    },
    {
      "cell_type": "markdown",
      "source": [
        "RAG의 평가를 위해서는 정답이 있는 Q/A 데이터가 필요합니다.   \n",
        "실습 시트에서 eval.jsonl을 다운로드하여 불러옵니다."
      ],
      "metadata": {
        "id": "Ryed0_nuMk4z"
      }
    },
    {
      "cell_type": "code",
      "source": [
        "# jsonl 파일 불러오기\n",
        "import jsonlines\n",
        "from langchain.schema import Document\n",
        "\n",
        "def load_docs_from_jsonl(file_path):\n",
        "    documents = []\n",
        "    with jsonlines.open(file_path, mode=\"r\") as reader:\n",
        "        for doc in reader:\n",
        "            documents.append(Document(**doc))\n",
        "    return documents\n",
        "\n",
        "preprocessed_docs = load_docs_from_jsonl(\"eval.jsonl\")"
      ],
      "metadata": {
        "id": "ErVcGqmNMzdK"
      },
      "execution_count": null,
      "outputs": []
    },
    {
      "cell_type": "markdown",
      "source": [
        "Chunking을 수행합니다."
      ],
      "metadata": {
        "id": "uguCQEE9NP4b"
      }
    },
    {
      "cell_type": "code",
      "source": [
        "from langchain_text_splitters import RecursiveCharacterTextSplitter\n",
        "\n",
        "text_splitter = RecursiveCharacterTextSplitter(\n",
        "    chunk_size=1000, chunk_overlap=200)\n",
        "\n",
        "chunks = text_splitter.split_documents(preprocessed_docs)\n",
        "print(len(chunks))"
      ],
      "metadata": {
        "id": "3pBjHUy0NJES",
        "colab": {
          "base_uri": "https://localhost:8080/"
        },
        "outputId": "28aba432-1bf8-47b2-a801-782b5a661007"
      },
      "execution_count": null,
      "outputs": [
        {
          "output_type": "stream",
          "name": "stdout",
          "text": [
            "643\n"
          ]
        }
      ]
    },
    {
      "cell_type": "markdown",
      "source": [
        "Embedding 모델을 구성합니다."
      ],
      "metadata": {
        "id": "Ki7SO3t6L5bz"
      }
    },
    {
      "cell_type": "code",
      "execution_count": null,
      "metadata": {
        "id": "Z5yvAWvnIfM5"
      },
      "outputs": [],
      "source": [
        "from langchain_openai import OpenAIEmbeddings\n",
        "openai_embeddings = OpenAIEmbeddings(model='text-embedding-3-large')"
      ]
    },
    {
      "cell_type": "markdown",
      "metadata": {
        "id": "KC17JYNNvai_"
      },
      "source": [
        "ChromaDB를 구성합니다."
      ]
    },
    {
      "cell_type": "code",
      "execution_count": null,
      "metadata": {
        "id": "cAAhmf2GBPif"
      },
      "outputs": [],
      "source": [
        "from langchain_chroma import Chroma\n",
        "\n",
        "Chroma().delete_collection() # (메모리에 저장하는 경우) 기존 데이터 삭제\n",
        "\n",
        "# DB 구성하기\n",
        "db = Chroma(embedding_function=openai_embeddings,\n",
        "            persist_directory=\"./chroma_OpenAI\",\n",
        "            collection_metadata={'hnsw:space':'l2'},\n",
        "            )"
      ]
    },
    {
      "cell_type": "markdown",
      "metadata": {
        "id": "z4nWgcq4vai_"
      },
      "source": [
        "DB에 document를 추가합니다."
      ]
    },
    {
      "cell_type": "code",
      "execution_count": null,
      "metadata": {
        "id": "VXObsTlovai_",
        "colab": {
          "base_uri": "https://localhost:8080/"
        },
        "outputId": "47d6d3d7-227b-417f-f00f-a6631a896040"
      },
      "outputs": [
        {
          "output_type": "stream",
          "name": "stdout",
          "text": [
            "643\n"
          ]
        }
      ],
      "source": [
        "print(len(chunks))\n",
        "# 300,000 토큰 제한\n",
        "\n",
        "# 100개씩 추가\n",
        "for i in range(0, len(chunks), 100):\n",
        "    db.add_documents(chunks[i:min(i+100, len(chunks))])"
      ]
    },
    {
      "cell_type": "markdown",
      "metadata": {
        "id": "lIuEJaToBPif"
      },
      "source": [
        "db로부터 retriever를 구성합니다."
      ]
    },
    {
      "cell_type": "code",
      "execution_count": null,
      "metadata": {
        "id": "u4AhVSXLBPif"
      },
      "outputs": [],
      "source": [
        "retriever = db.as_retriever(search_kwargs={'k':5})\n",
        "# Chunk Size * K = Context 글자"
      ]
    },
    {
      "cell_type": "markdown",
      "metadata": {
        "id": "v5QpFAyVMYpV"
      },
      "source": [
        "RAG를 위한 간단한 프롬프트를 작성합니다."
      ]
    },
    {
      "cell_type": "code",
      "execution_count": null,
      "metadata": {
        "id": "7BiDkZRlBPig",
        "colab": {
          "base_uri": "https://localhost:8080/"
        },
        "outputId": "624a1ac3-6a25-4004-9f96-5121aa998b28"
      },
      "outputs": [
        {
          "output_type": "stream",
          "name": "stdout",
          "text": [
            "================================\u001b[1m Human Message \u001b[0m=================================\n",
            "\n",
            "당신은 QA(Question-Answering)을 수행하는 Assistant입니다.\n",
            "다음의 Context를 이용하여 Question에 답변하세요.\n",
            "정확한 답변을 제공하세요.\n",
            "만약 모든 Context를 다 확인해도 정보가 없다면,\n",
            "\"정보가 부족하여 답변할 수 없습니다.\"를 출력하세요.\n",
            "---\n",
            "Context: \u001b[33;1m\u001b[1;3m{context}\u001b[0m\n",
            "---\n",
            "Question: \u001b[33;1m\u001b[1;3m{question}\u001b[0m\n"
          ]
        }
      ],
      "source": [
        "from langchain.prompts import ChatPromptTemplate\n",
        "prompt = ChatPromptTemplate([\n",
        "    (\"user\", '''당신은 QA(Question-Answering)을 수행하는 Assistant입니다.\n",
        "다음의 Context를 이용하여 Question에 답변하세요.\n",
        "정확한 답변을 제공하세요.\n",
        "만약 모든 Context를 다 확인해도 정보가 없다면,\n",
        "\"정보가 부족하여 답변할 수 없습니다.\"를 출력하세요.\n",
        "---\n",
        "Context: {context}\n",
        "---\n",
        "Question: {question}''')])\n",
        "\n",
        "prompt.pretty_print()"
      ]
    },
    {
      "cell_type": "markdown",
      "metadata": {
        "id": "H98LGZRVBPig"
      },
      "source": [
        "RAG를 수행하기 위한 Chain을 만듭니다."
      ]
    },
    {
      "cell_type": "code",
      "execution_count": null,
      "metadata": {
        "id": "GEr1E0zbBPig"
      },
      "outputs": [],
      "source": [
        "from langchain.schema.runnable import RunnablePassthrough\n",
        "from langchain.schema.output_parser import StrOutputParser\n",
        "\n",
        "def format_docs(docs):\n",
        "    return \" \\n---\\n \".join(['URL: '+ doc.metadata['source'] + '\\nContent: '+ doc.page_content+ '\\n' for doc in docs])\n",
        "\n",
        "rag_chain = (\n",
        "    {\"context\": retriever | format_docs, \"question\": RunnablePassthrough()}\n",
        "    | prompt\n",
        "    | llm\n",
        "    | StrOutputParser()\n",
        ")"
      ]
    },
    {
      "cell_type": "markdown",
      "source": [
        "# RAGAS 사용하기\n",
        "\n",
        "\n",
        "RAGAS 는 다양한 메트릭을 통한 RAG의 성능 평가를 지원합니다.\n",
        "\n",
        "\n",
        "각각의 메트릭은 아래의 링크에서 확인할 수 있습니다.\n",
        "\n",
        "https://docs.ragas.io/en/stable/concepts/metrics/available_metrics/"
      ],
      "metadata": {
        "id": "nlz38oCVvsmd"
      }
    },
    {
      "cell_type": "markdown",
      "source": [
        "시트에서 평가 데이터셋을 불러옵니다.   \n",
        "Question/Ground Truth의 구성입니다."
      ],
      "metadata": {
        "id": "UpVRLXoRvvnp"
      }
    },
    {
      "cell_type": "code",
      "source": [
        "# Best: Retrieval의 Ground Truth, Generation의 Ground Truth가 모두 존재\n",
        "\n",
        "import pandas as pd\n",
        "df = pd.read_csv('./eval.csv')\n",
        "eval_dataset = df.to_dict('list')\n",
        "eval_dataset"
      ],
      "metadata": {
        "id": "OxECwQ4Qvtfg",
        "colab": {
          "base_uri": "https://localhost:8080/"
        },
        "outputId": "36812856-371e-45c5-8f6b-5740b1e455e4"
      },
      "execution_count": null,
      "outputs": [
        {
          "output_type": "execute_result",
          "data": {
            "text/plain": [
              "{'questions': ['도메인 특화 언어 모델이란 무엇입니까? 어떤 예시가 있나요?',\n",
              "  '인공지능의 최근 발전 방식은? 관련 링크도 보여주세요',\n",
              "  '제미나이 2.5 버전의 장점은 무엇입니까?',\n",
              "  '고니 모델의 파라미터 수는 몇 개입니까?',\n",
              "  '업스테이지의 대표는 누구입니까?',\n",
              "  'AI 가전의 3가지 핵심가치는?',\n",
              "  '지브리 풍의 그림을 그려주는 AI는 무엇입니까?',\n",
              "  'ChatGPT가 처한 저작권 위기는 무엇입니까?'],\n",
              " 'ground_truths': ['도메인 특화 언어 모델은 특정 산업·전문 분야의 지식, 데이터, 용어를 집중적으로 학습해 그 분야 업무에 최적화된 AI 언어 모델입니다. 범용 LLM보다 해당 분야에서 더 전문적인 답변을 내고, 학습 비용·시간을 줄일 수 있는 것이 특징입니다.\\n\\n예시\\n- 의료 특화 모델: 환자 의료데이터와 임상시험 결과로 학습해 암 진단·치료 보조\\n- 법률 특화 모델: 판례·계약서·법규를 학습해 법률가의 연구 시간 단축\\n- S2W 다크버트(DarkBERT): 다크웹 특화 모델(세계 최초). 온톨로지+RAG 결합해 정확도 향상, 기술을 제조(현대제철)·유통(롯데멤버스) 등으로 확장\\n- MathGPT(업스테이지·콴다·KT): 수학 도메인 특화 LLM. MATH, GSM8K 벤치마크에서 동급 모델 및 GPT-4/ChatGPT 대비 우수 성능을 주장\\n- 딥서치 ‘챗딥서치’: 기업 도메인 특화 대화형 LLM. 재무·실적·뉴스·공시·특허 등 약 20억건 기업 데이터 기반으로 Q&A 제공, 검색 결합으로 환각 최소화\\n- KISTI ‘고니’: 한국 과학기술 특화 생성형 LLM. RAG 기능으로 환각 최소화\\n- 포티투마루 도메인 특화 설치형 LLM/DocuAgent42: 산업별 요구에 맞춘 설치형 특화 LLM과 생성형 AI 솔루션',\n",
              "  '최근 AI는 추론을 먼저 수행하는 ‘사고형(thinking) 아키텍처’, 멀티모달과 초장문맥 통합, 특정 분야에 최적화된 도메인 특화(sLLM)+RAG 결합, 그리고 연구·업무 자동화를 지향하는 방향으로 발전하고 있습니다.\\n\\n주요 흐름\\n- 사고형(추론 중심) 모델: 응답 전 내부 사고 과정을 거쳐 논리적 결론을 내리도록 설계해 정확도와 안정성을 높임. 구글 제미나이 2.5가 대표적 사례로, 여러 벤치마크에서 경쟁 모델을 상회하고 추론 능력을 모든 모델군에 통합하겠다고 밝힘. 또한 100만 토큰(추후 200만) 대규모 컨텍스트를 지원.\\n- 멀티모달+초장문맥: 텍스트·이미지·오디오·영상·코드 등 다양한 입력을 통합 처리하고, 긴 문맥을 한 번에 다루며 복잡한 작업을 수행.\\n- 도메인 특화(sLLM)와 RAG/온톨로지 결합: 한국어·과학기술 등 특정 분야에 특화된 소형 LLM(sLLM)을 개발하고, RAG와 온톨로지를 붙여 환각을 줄이고 정확도를 높임. KISTI의 과학기술 특화 LLM ‘고니’가 대표적 사례.\\n- 연구·업무 자동화(Agentic AI): LLM이 참고문헌 탐색·실험 설계·로봇 실행 등 R&D 파이프라인을 자동화하는 시도가 확산.\\n\\n관련 링크\\n- 구글 제미나이 2.5(사고형·대규모 컨텍스트·벤치마크): https://n.news.naver.com/mnews/article/056/0011918903?sid=104\\n- 구글 제미나이 2.5(추론 능력 통합 계획·100만→200만 토큰): https://n.news.naver.com/mnews/article/001/0015289685?sid=104\\n- KISTI 과학기술 특화 LLM ‘고니’(RAG로 환각 최소화·한국어 LogicKor 상위): https://n.news.naver.com/mnews/article/029/0002896514?sid=105\\n- 도메인 특화 AI 전략(온톨로지+RAG로 정확도 향상): https://n.news.naver.com/mnews/article/031/0000916729?sid=105\\n- 멀티모달 생성 강화(GPT-4o 기반 이미지 생성기 고도화): https://n.news.naver.com/mnews/article/092/0002368642?sid=105',\n",
              "  '다음이 제미나이 2.5의 주요 장점입니다.\\n\\n- 고도화된 추론(사고) 능력: 응답 전 ‘생각’을 통해 정보를 분석·논리적 결론 도출·맥락/뉘앙스 반영까지 수행, 정확도와 성능 향상.\\n- 벤치마크 최상위 성능:\\n  - 챗봇 아레나 LLM 리더보드 1위(실험 버전, 1443점).\\n  - 코드 편집 테스트 74%로 OpenAI(60.4%), Anthropic Claude 3.7 Sonnet(64.9%), DeepSeek R1(56.9%) 상회.\\n  - 수학·과학·인문 기반 멀티모달, 소프트웨어 개발 테스트 등에서 주요 경쟁 모델(o3-mini, R1 등) 대비 우수.\\n  - ‘인류의 마지막 시험’ 벤치마크 18.8%로 경쟁 모델 대비 높은 점수.\\n- 대용량 콘텍스트 윈도: 출시 시 100만 토큰(약 75만 단어, ‘반지의 제왕’ 전권보다 김) 지원, 곧 200만 토큰으로 확대 예정.\\n- 통합 멀티모달·사고형 아키텍처: 텍스트·이미지·영상·오디오·코드까지 맥락을 결합해 일관된 추론과 생성.\\n- 접근성: 제미나이 2.5 프로(실험 버전)를 Google AI Studio와 Gemini Advanced(월 20달러)에서 즉시 이용 가능(기업용 Vertex AI는 추후 탑재 예정).',\n",
              "  '고니 모델은 8B(매개변수 80억개) 모델 크기입니다.',\n",
              "  '업스테이지의 대표는 김성훈입니다.',\n",
              "  '- 누구나 쉽게 사용할 수 있음(Easy to Use)\\n- 사용자를 돌봄(Care)\\n- 시간과 에너지를 절약함(Saving)',\n",
              "  '챗GPT-4o 이미지 생성 모델이 지브리풍 그림을 그려주는 AI입니다.',\n",
              "  '- 발단: 챗GPT-4o의 이미지 생성 기능이 사용자 사진을 ‘지브리·디즈니·심슨’ 등 특정 스튜디오 화풍으로 변환하면서, 저작권 침해 논란이 급증했습니다.\\n\\n- 핵심 쟁점\\n  - 학습 단계: 오픈AI가 지브리·미야자키 등의 저작물을 라이선스 없이 학습에 사용했다면 저작권 침해 소지가 있다는 법조계 지적이 있습니다.\\n  - 산출물 단계: ‘스타일’ 자체는 보통 저작권 보호 대상이 아니지만, 기존 저작물에 대한 의거성과 실질적 유사성이 인정되면 침해가 될 수 있습니다(한국저작권위·문체부 안내서 기준).\\n  - 책임 주체: 침해 주체를 오픈AI(개발사)·이용자·AI 중 누구로 볼지, 저작권법 외 부정경쟁방지법 적용 가능성 등이 논점입니다.\\n\\n- 현황\\n  - 오픈AI는 지브리 등과의 저작권 계약 여부를 명확히 밝히지 않았고, 스튜디오 지브리가 오픈AI를 고소할 수 있다는 관측 보도도 나왔습니다.\\n  - 동종 사안으로 언론사·작가들의 소송이 진행 중이며(예: 뉴욕타임스 소송 계속 진행, 작가·매체들의 무단 학습 주장), 전반적 법적 리스크가 커지고 있습니다.']}"
            ]
          },
          "metadata": {},
          "execution_count": 11
        }
      ]
    },
    {
      "cell_type": "markdown",
      "source": [
        "구성된 RAG 체인을 이용해, RAGAS의 Evaluate 형태로 변환합니다."
      ],
      "metadata": {
        "id": "oxHba-52vzEV"
      }
    },
    {
      "cell_type": "code",
      "source": [
        "questions, ground_truths = eval_dataset['questions'], eval_dataset['ground_truths']"
      ],
      "metadata": {
        "id": "JY56gv4jvtWR"
      },
      "execution_count": null,
      "outputs": []
    },
    {
      "cell_type": "code",
      "source": [
        "for i in range(len(questions)):\n",
        "    print(f'#{i}')\n",
        "    print(f'Question: {questions[i]}\\n')\n",
        "    print(f'Ground Truth: {ground_truths[i]}\\n')\n",
        "    print('-----------')"
      ],
      "metadata": {
        "id": "DNsnAvz1OU68",
        "colab": {
          "base_uri": "https://localhost:8080/"
        },
        "outputId": "bc83a2d7-5fe1-425b-9658-35d23155dcbc"
      },
      "execution_count": null,
      "outputs": [
        {
          "output_type": "stream",
          "name": "stdout",
          "text": [
            "#0\n",
            "Question: 도메인 특화 언어 모델이란 무엇입니까? 어떤 예시가 있나요?\n",
            "\n",
            "Ground Truth: 도메인 특화 언어 모델은 특정 산업·전문 분야의 지식, 데이터, 용어를 집중적으로 학습해 그 분야 업무에 최적화된 AI 언어 모델입니다. 범용 LLM보다 해당 분야에서 더 전문적인 답변을 내고, 학습 비용·시간을 줄일 수 있는 것이 특징입니다.\n",
            "\n",
            "예시\n",
            "- 의료 특화 모델: 환자 의료데이터와 임상시험 결과로 학습해 암 진단·치료 보조\n",
            "- 법률 특화 모델: 판례·계약서·법규를 학습해 법률가의 연구 시간 단축\n",
            "- S2W 다크버트(DarkBERT): 다크웹 특화 모델(세계 최초). 온톨로지+RAG 결합해 정확도 향상, 기술을 제조(현대제철)·유통(롯데멤버스) 등으로 확장\n",
            "- MathGPT(업스테이지·콴다·KT): 수학 도메인 특화 LLM. MATH, GSM8K 벤치마크에서 동급 모델 및 GPT-4/ChatGPT 대비 우수 성능을 주장\n",
            "- 딥서치 ‘챗딥서치’: 기업 도메인 특화 대화형 LLM. 재무·실적·뉴스·공시·특허 등 약 20억건 기업 데이터 기반으로 Q&A 제공, 검색 결합으로 환각 최소화\n",
            "- KISTI ‘고니’: 한국 과학기술 특화 생성형 LLM. RAG 기능으로 환각 최소화\n",
            "- 포티투마루 도메인 특화 설치형 LLM/DocuAgent42: 산업별 요구에 맞춘 설치형 특화 LLM과 생성형 AI 솔루션\n",
            "\n",
            "-----------\n",
            "#1\n",
            "Question: 인공지능의 최근 발전 방식은? 관련 링크도 보여주세요\n",
            "\n",
            "Ground Truth: 최근 AI는 추론을 먼저 수행하는 ‘사고형(thinking) 아키텍처’, 멀티모달과 초장문맥 통합, 특정 분야에 최적화된 도메인 특화(sLLM)+RAG 결합, 그리고 연구·업무 자동화를 지향하는 방향으로 발전하고 있습니다.\n",
            "\n",
            "주요 흐름\n",
            "- 사고형(추론 중심) 모델: 응답 전 내부 사고 과정을 거쳐 논리적 결론을 내리도록 설계해 정확도와 안정성을 높임. 구글 제미나이 2.5가 대표적 사례로, 여러 벤치마크에서 경쟁 모델을 상회하고 추론 능력을 모든 모델군에 통합하겠다고 밝힘. 또한 100만 토큰(추후 200만) 대규모 컨텍스트를 지원.\n",
            "- 멀티모달+초장문맥: 텍스트·이미지·오디오·영상·코드 등 다양한 입력을 통합 처리하고, 긴 문맥을 한 번에 다루며 복잡한 작업을 수행.\n",
            "- 도메인 특화(sLLM)와 RAG/온톨로지 결합: 한국어·과학기술 등 특정 분야에 특화된 소형 LLM(sLLM)을 개발하고, RAG와 온톨로지를 붙여 환각을 줄이고 정확도를 높임. KISTI의 과학기술 특화 LLM ‘고니’가 대표적 사례.\n",
            "- 연구·업무 자동화(Agentic AI): LLM이 참고문헌 탐색·실험 설계·로봇 실행 등 R&D 파이프라인을 자동화하는 시도가 확산.\n",
            "\n",
            "관련 링크\n",
            "- 구글 제미나이 2.5(사고형·대규모 컨텍스트·벤치마크): https://n.news.naver.com/mnews/article/056/0011918903?sid=104\n",
            "- 구글 제미나이 2.5(추론 능력 통합 계획·100만→200만 토큰): https://n.news.naver.com/mnews/article/001/0015289685?sid=104\n",
            "- KISTI 과학기술 특화 LLM ‘고니’(RAG로 환각 최소화·한국어 LogicKor 상위): https://n.news.naver.com/mnews/article/029/0002896514?sid=105\n",
            "- 도메인 특화 AI 전략(온톨로지+RAG로 정확도 향상): https://n.news.naver.com/mnews/article/031/0000916729?sid=105\n",
            "- 멀티모달 생성 강화(GPT-4o 기반 이미지 생성기 고도화): https://n.news.naver.com/mnews/article/092/0002368642?sid=105\n",
            "\n",
            "-----------\n",
            "#2\n",
            "Question: 제미나이 2.5 버전의 장점은 무엇입니까?\n",
            "\n",
            "Ground Truth: 다음이 제미나이 2.5의 주요 장점입니다.\n",
            "\n",
            "- 고도화된 추론(사고) 능력: 응답 전 ‘생각’을 통해 정보를 분석·논리적 결론 도출·맥락/뉘앙스 반영까지 수행, 정확도와 성능 향상.\n",
            "- 벤치마크 최상위 성능:\n",
            "  - 챗봇 아레나 LLM 리더보드 1위(실험 버전, 1443점).\n",
            "  - 코드 편집 테스트 74%로 OpenAI(60.4%), Anthropic Claude 3.7 Sonnet(64.9%), DeepSeek R1(56.9%) 상회.\n",
            "  - 수학·과학·인문 기반 멀티모달, 소프트웨어 개발 테스트 등에서 주요 경쟁 모델(o3-mini, R1 등) 대비 우수.\n",
            "  - ‘인류의 마지막 시험’ 벤치마크 18.8%로 경쟁 모델 대비 높은 점수.\n",
            "- 대용량 콘텍스트 윈도: 출시 시 100만 토큰(약 75만 단어, ‘반지의 제왕’ 전권보다 김) 지원, 곧 200만 토큰으로 확대 예정.\n",
            "- 통합 멀티모달·사고형 아키텍처: 텍스트·이미지·영상·오디오·코드까지 맥락을 결합해 일관된 추론과 생성.\n",
            "- 접근성: 제미나이 2.5 프로(실험 버전)를 Google AI Studio와 Gemini Advanced(월 20달러)에서 즉시 이용 가능(기업용 Vertex AI는 추후 탑재 예정).\n",
            "\n",
            "-----------\n",
            "#3\n",
            "Question: 고니 모델의 파라미터 수는 몇 개입니까?\n",
            "\n",
            "Ground Truth: 고니 모델은 8B(매개변수 80억개) 모델 크기입니다.\n",
            "\n",
            "-----------\n",
            "#4\n",
            "Question: 업스테이지의 대표는 누구입니까?\n",
            "\n",
            "Ground Truth: 업스테이지의 대표는 김성훈입니다.\n",
            "\n",
            "-----------\n",
            "#5\n",
            "Question: AI 가전의 3가지 핵심가치는?\n",
            "\n",
            "Ground Truth: - 누구나 쉽게 사용할 수 있음(Easy to Use)\n",
            "- 사용자를 돌봄(Care)\n",
            "- 시간과 에너지를 절약함(Saving)\n",
            "\n",
            "-----------\n",
            "#6\n",
            "Question: 지브리 풍의 그림을 그려주는 AI는 무엇입니까?\n",
            "\n",
            "Ground Truth: 챗GPT-4o 이미지 생성 모델이 지브리풍 그림을 그려주는 AI입니다.\n",
            "\n",
            "-----------\n",
            "#7\n",
            "Question: ChatGPT가 처한 저작권 위기는 무엇입니까?\n",
            "\n",
            "Ground Truth: - 발단: 챗GPT-4o의 이미지 생성 기능이 사용자 사진을 ‘지브리·디즈니·심슨’ 등 특정 스튜디오 화풍으로 변환하면서, 저작권 침해 논란이 급증했습니다.\n",
            "\n",
            "- 핵심 쟁점\n",
            "  - 학습 단계: 오픈AI가 지브리·미야자키 등의 저작물을 라이선스 없이 학습에 사용했다면 저작권 침해 소지가 있다는 법조계 지적이 있습니다.\n",
            "  - 산출물 단계: ‘스타일’ 자체는 보통 저작권 보호 대상이 아니지만, 기존 저작물에 대한 의거성과 실질적 유사성이 인정되면 침해가 될 수 있습니다(한국저작권위·문체부 안내서 기준).\n",
            "  - 책임 주체: 침해 주체를 오픈AI(개발사)·이용자·AI 중 누구로 볼지, 저작권법 외 부정경쟁방지법 적용 가능성 등이 논점입니다.\n",
            "\n",
            "- 현황\n",
            "  - 오픈AI는 지브리 등과의 저작권 계약 여부를 명확히 밝히지 않았고, 스튜디오 지브리가 오픈AI를 고소할 수 있다는 관측 보도도 나왔습니다.\n",
            "  - 동종 사안으로 언론사·작가들의 소송이 진행 중이며(예: 뉴욕타임스 소송 계속 진행, 작가·매체들의 무단 학습 주장), 전반적 법적 리스크가 커지고 있습니다.\n",
            "\n",
            "-----------\n"
          ]
        }
      ]
    },
    {
      "cell_type": "markdown",
      "source": [
        "RAG 체인을 실행해, 테스트 문제에 대한 답변을 생성합니다."
      ],
      "metadata": {
        "id": "_xVUjYVpOQdB"
      }
    },
    {
      "cell_type": "code",
      "source": [
        "from tqdm import tqdm\n",
        "\n",
        "dataset = []\n",
        "\n",
        "for query,reference in tqdm(zip(questions,ground_truths)):\n",
        "\n",
        "    relevant_docs = [doc.page_content for doc in retriever.invoke(query)]\n",
        "    response = rag_chain.invoke(query)\n",
        "    dataset.append(\n",
        "        {\n",
        "            \"user_input\":query,\n",
        "            \"retrieved_contexts\":relevant_docs,\n",
        "            \"response\":response,\n",
        "            \"reference\":reference\n",
        "        }\n",
        "    )\n",
        "    # 질문 / 검색 결과 / RAG의 답변 / 정답"
      ],
      "metadata": {
        "id": "Iy-M-7dHvs6g",
        "colab": {
          "base_uri": "https://localhost:8080/"
        },
        "outputId": "e874db8d-9f31-45ed-a22b-6dc9c1283c5c"
      },
      "execution_count": null,
      "outputs": [
        {
          "output_type": "stream",
          "name": "stderr",
          "text": [
            "8it [00:29,  3.73s/it]\n"
          ]
        }
      ]
    },
    {
      "cell_type": "code",
      "source": [
        "from ragas import EvaluationDataset\n",
        "evaluation_dataset = EvaluationDataset.from_list(dataset)\n",
        "evaluation_dataset"
      ],
      "metadata": {
        "id": "rjAWzHJyv2e6",
        "colab": {
          "base_uri": "https://localhost:8080/"
        },
        "outputId": "e0514f7a-496f-408b-c010-575da2506951"
      },
      "execution_count": null,
      "outputs": [
        {
          "output_type": "execute_result",
          "data": {
            "text/plain": [
              "EvaluationDataset(features=['user_input', 'retrieved_contexts', 'response', 'reference'], len=8)"
            ]
          },
          "metadata": {},
          "execution_count": 17
        }
      ]
    },
    {
      "cell_type": "markdown",
      "source": [
        "RAGAS는 LLM을 이용해 정답과 답변을 개별 Claim(주장)으로 분할합니다.\n",
        "\n",
        "이후, `LLMContextRecall`, `Faitufulness`, `FactualCorrectness` 등의 다양한 메트릭을 통해 RAG 파이프라인의 성능을 평가합니다.   \n",
        "LLM 기반의 방법이므로 평가 LLM의 선정이 중요하며, 절대 수치보다는 상대적 비교가 효과적입니다.\n",
        "\n",
        "\n",
        "- Context Recall: 정답의 Claim들이 모두 검색됐는가\n",
        "- Faithfulness : 답변의 Claim이 얼마나 검색 결과에 근거했는가\n",
        "- Factual Correctness : 정답과 답변의 Claim이 얼마나 일치하는가\n",
        "- Bleu Score : 정답과 답변 키워드가 얼마나 일치하는가\n",
        "- Semantic Sim : 정답 답변 임베딩이 얼마나 가까운가   \n"
      ],
      "metadata": {
        "id": "ljMh4Imxv4d6"
      }
    },
    {
      "cell_type": "code",
      "source": [
        "from ragas import evaluate\n",
        "from ragas.llms.base import llm_factory\n",
        "from ragas.metrics import LLMContextRecall, Faithfulness, FactualCorrectness\n",
        "from ragas.embeddings import OpenAIEmbeddings as ragas_OpenAIEmbeddings\n",
        "\n",
        "from ragas.metrics import BleuScore, SemanticSimilarity\n",
        "from openai import AsyncOpenAI\n",
        "\n",
        "client = AsyncOpenAI()\n",
        "\n",
        "# https://docs.ragas.io/en/stable/concepts/metrics/available_metrics/\n",
        "\n",
        "# 평가자 LLM\n",
        "evaluator_llm =  llm_factory('gpt-4.1')\n",
        "\n",
        "# 평가자 Embedding\n",
        "evaluator_embeddings = ragas_OpenAIEmbeddings(model = 'text-embedding-3-large', client = client)\n",
        "semantic_scorer = SemanticSimilarity(embeddings = evaluator_embeddings)\n",
        "\n",
        "\n",
        "result = evaluate(dataset=evaluation_dataset,\n",
        "                  metrics=[BleuScore(), LLMContextRecall(), semantic_scorer, Faithfulness(), FactualCorrectness()],\n",
        "                  llm=evaluator_llm,\n",
        "                  embeddings = evaluator_embeddings\n",
        "                  )\n",
        "result"
      ],
      "metadata": {
        "id": "i9mjg11Mv223",
        "colab": {
          "base_uri": "https://localhost:8080/",
          "height": 67,
          "referenced_widgets": [
            "ad777a07805249c281253468dc3f9e4a",
            "7d110cd7d37d4f379f873d3e36beda04",
            "32c7934e35044d149169aeada0163fac",
            "05a2124257fe4579bc03af8ef9fc0695",
            "c18cf1b09c13479cb123b6cc5a63a514",
            "533ee9b8f40b470782e9770e0b819f07",
            "05920d7757ab447fafd2da7bf10adbc0",
            "670143476cdb4bbfb6de9c003b8bcf9c",
            "5d2ebc0c6bd34108bacd11b98d4eb4ae",
            "90cdbe5cbdfe4dc08034f993777b8b4e",
            "598ac016838048288880c397442e05d7"
          ]
        },
        "outputId": "702877ee-650d-4401-cef3-98cae00e0561"
      },
      "execution_count": null,
      "outputs": [
        {
          "output_type": "display_data",
          "data": {
            "text/plain": [
              "Evaluating:   0%|          | 0/40 [00:00<?, ?it/s]"
            ],
            "application/vnd.jupyter.widget-view+json": {
              "version_major": 2,
              "version_minor": 0,
              "model_id": "ad777a07805249c281253468dc3f9e4a"
            }
          },
          "metadata": {}
        },
        {
          "output_type": "execute_result",
          "data": {
            "text/plain": [
              "{'bleu_score': 0.2173, 'context_recall': 0.9031, 'semantic_similarity': 0.8369, 'faithfulness': 0.9817, 'factual_correctness(mode=f1)': 0.7975}"
            ]
          },
          "metadata": {},
          "execution_count": 18
        }
      ]
    },
    {
      "cell_type": "code",
      "source": [
        "result.scores"
      ],
      "metadata": {
        "id": "8GYUeXhiXoNU",
        "colab": {
          "base_uri": "https://localhost:8080/"
        },
        "outputId": "bf8c2a8e-126b-4cc6-dbf8-e810457ed0f2"
      },
      "execution_count": null,
      "outputs": [
        {
          "output_type": "execute_result",
          "data": {
            "text/plain": [
              "[{'bleu_score': 0.32282138800401855,\n",
              "  'context_recall': 0.5555555555555556,\n",
              "  'semantic_similarity': 0.8693153439421648,\n",
              "  'faithfulness': 1.0,\n",
              "  'factual_correctness(mode=f1)': np.float64(0.54)},\n",
              " {'bleu_score': 0.02132081946882163,\n",
              "  'context_recall': 0.7692307692307693,\n",
              "  'semantic_similarity': 0.8012324071208237,\n",
              "  'faithfulness': 0.9090909090909091,\n",
              "  'factual_correctness(mode=f1)': np.float64(0.56)},\n",
              " {'bleu_score': 2.0680196149407996e-11,\n",
              "  'context_recall': 0.9,\n",
              "  'semantic_similarity': 0.8308452242306487,\n",
              "  'faithfulness': 0.9444444444444444,\n",
              "  'factual_correctness(mode=f1)': np.float64(0.69)},\n",
              " {'bleu_score': 0.05604233375480574,\n",
              "  'context_recall': 1.0,\n",
              "  'semantic_similarity': 0.8303648247053748,\n",
              "  'faithfulness': 1.0,\n",
              "  'factual_correctness(mode=f1)': np.float64(1.0)},\n",
              " {'bleu_score': 1.0000000000000004,\n",
              "  'context_recall': 1.0,\n",
              "  'semantic_similarity': 0.9999981718079983,\n",
              "  'faithfulness': 1.0,\n",
              "  'factual_correctness(mode=f1)': np.float64(1.0)},\n",
              " {'bleu_score': 0.24601372576927535,\n",
              "  'context_recall': 1.0,\n",
              "  'semantic_similarity': 0.7240796094608305,\n",
              "  'faithfulness': 1.0,\n",
              "  'factual_correctness(mode=f1)': np.float64(1.0)},\n",
              " {'bleu_score': 0.08913765521398126,\n",
              "  'context_recall': 1.0,\n",
              "  'semantic_similarity': 0.8283850483178818,\n",
              "  'faithfulness': 1.0,\n",
              "  'factual_correctness(mode=f1)': np.float64(1.0)},\n",
              " {'bleu_score': 0.0030065405122919825,\n",
              "  'context_recall': 1.0,\n",
              "  'semantic_similarity': 0.8110392640440489,\n",
              "  'faithfulness': 1.0,\n",
              "  'factual_correctness(mode=f1)': np.float64(0.59)}]"
            ]
          },
          "metadata": {},
          "execution_count": 19
        }
      ]
    },
    {
      "cell_type": "code",
      "source": [
        "result.to_pandas()"
      ],
      "metadata": {
        "id": "Y5JSYAbMXDfs",
        "colab": {
          "base_uri": "https://localhost:8080/",
          "height": 1000
        },
        "outputId": "19457506-7a6c-42a4-f3c2-9acb5087bbbe"
      },
      "execution_count": null,
      "outputs": [
        {
          "output_type": "execute_result",
          "data": {
            "text/plain": [
              "                          user_input  \\\n",
              "0  도메인 특화 언어 모델이란 무엇입니까? 어떤 예시가 있나요?   \n",
              "1      인공지능의 최근 발전 방식은? 관련 링크도 보여주세요   \n",
              "2            제미나이 2.5 버전의 장점은 무엇입니까?   \n",
              "3             고니 모델의 파라미터 수는 몇 개입니까?   \n",
              "4                  업스테이지의 대표는 누구입니까?   \n",
              "5                  AI 가전의 3가지 핵심가치는?   \n",
              "6         지브리 풍의 그림을 그려주는 AI는 무엇입니까?   \n",
              "7         ChatGPT가 처한 저작권 위기는 무엇입니까?   \n",
              "\n",
              "                                  retrieved_contexts  \\\n",
              "0  [오히려 공개된 모델을 활용해 특정 서비스를 개발하는 것이 가능성이 높다는 설명이다...   \n",
              "1  [[AI시대, 가치 네트워크에 주목하라] 한국 과학기술 특화 `고니` 공개… 확장되...   \n",
              "2  [구글 제미나이 2.5프로 공개.. “가장 지능적인 모델” 입력2025.03.26....   \n",
              "3  [AI models with fewer parameters and graphic p...   \n",
              "4  [언어 모델 '솔라(SOLAR)'로 세계 1위의 거대언어모델(LLM)을 만든 업스테...   \n",
              "5  [사용자를 이해하고 돌보며 문제를 해결해주는 AI 홈 경험을 제공하겠다\"고 강조했다...   \n",
              "6  [화제의 챗GPT-4o ‘지브리풍 그림’ 생성 기능, 지브리 저작권 침해 논란 입력...   \n",
              "7  [PICK 안내 언론사가 심층기획 기사로선정한 기사입니다. 언론사별 바로가기 닫기 ...   \n",
              "\n",
              "                                            response  \\\n",
              "0  도메인 특화 언어 모델이란 특정 산업이나 전문 분야의 지식, 데이터, 용어를 AI에...   \n",
              "1  인공지능의 최근 발전 방식은 다음과 같습니다.\\n\\n1. **도메인 특화 대규모언어...   \n",
              "2  제미나이 2.5 버전의 장점은 다음과 같습니다.\\n\\n1. **가장 지능적인 모델*...   \n",
              "3                       고니 모델의 파라미터 수는 80억 개(8B)입니다.   \n",
              "4                                 업스테이지의 대표는 김성훈입니다.   \n",
              "5  AI 가전의 3가지 핵심 가치는 △누구나 쉽게 사용할 수 있고(Easy to Use...   \n",
              "6  지브리 풍의 그림을 그려주는 AI는 오픈AI의 ‘챗GPT-4o 이미지 생성’ 모델입니다.   \n",
              "7  ChatGPT가 처한 저작권 위기는 다음과 같습니다.\\n\\n챗GPT의 이미지 생성 ...   \n",
              "\n",
              "                                           reference    bleu_score  \\\n",
              "0  도메인 특화 언어 모델은 특정 산업·전문 분야의 지식, 데이터, 용어를 집중적으로 ...  3.228214e-01   \n",
              "1  최근 AI는 추론을 먼저 수행하는 ‘사고형(thinking) 아키텍처’, 멀티모달과...  2.132082e-02   \n",
              "2  다음이 제미나이 2.5의 주요 장점입니다.\\n\\n- 고도화된 추론(사고) 능력: 응...  2.068020e-11   \n",
              "3                     고니 모델은 8B(매개변수 80억개) 모델 크기입니다.  5.604233e-02   \n",
              "4                                 업스테이지의 대표는 김성훈입니다.  1.000000e+00   \n",
              "5  - 누구나 쉽게 사용할 수 있음(Easy to Use)\\n- 사용자를 돌봄(Care...  2.460137e-01   \n",
              "6            챗GPT-4o 이미지 생성 모델이 지브리풍 그림을 그려주는 AI입니다.  8.913766e-02   \n",
              "7  - 발단: 챗GPT-4o의 이미지 생성 기능이 사용자 사진을 ‘지브리·디즈니·심슨’...  3.006541e-03   \n",
              "\n",
              "   context_recall  semantic_similarity  faithfulness  \\\n",
              "0        0.555556             0.869315      1.000000   \n",
              "1        0.769231             0.801232      0.909091   \n",
              "2        0.900000             0.830845      0.944444   \n",
              "3        1.000000             0.830365      1.000000   \n",
              "4        1.000000             0.999998      1.000000   \n",
              "5        1.000000             0.724080      1.000000   \n",
              "6        1.000000             0.828385      1.000000   \n",
              "7        1.000000             0.811039      1.000000   \n",
              "\n",
              "   factual_correctness(mode=f1)  \n",
              "0                          0.54  \n",
              "1                          0.56  \n",
              "2                          0.69  \n",
              "3                          1.00  \n",
              "4                          1.00  \n",
              "5                          1.00  \n",
              "6                          1.00  \n",
              "7                          0.59  "
            ],
            "text/html": [
              "\n",
              "  <div id=\"df-4eecdb7a-abd0-4a5e-a27e-8eb4ba256cf7\" class=\"colab-df-container\">\n",
              "    <div>\n",
              "<style scoped>\n",
              "    .dataframe tbody tr th:only-of-type {\n",
              "        vertical-align: middle;\n",
              "    }\n",
              "\n",
              "    .dataframe tbody tr th {\n",
              "        vertical-align: top;\n",
              "    }\n",
              "\n",
              "    .dataframe thead th {\n",
              "        text-align: right;\n",
              "    }\n",
              "</style>\n",
              "<table border=\"1\" class=\"dataframe\">\n",
              "  <thead>\n",
              "    <tr style=\"text-align: right;\">\n",
              "      <th></th>\n",
              "      <th>user_input</th>\n",
              "      <th>retrieved_contexts</th>\n",
              "      <th>response</th>\n",
              "      <th>reference</th>\n",
              "      <th>bleu_score</th>\n",
              "      <th>context_recall</th>\n",
              "      <th>semantic_similarity</th>\n",
              "      <th>faithfulness</th>\n",
              "      <th>factual_correctness(mode=f1)</th>\n",
              "    </tr>\n",
              "  </thead>\n",
              "  <tbody>\n",
              "    <tr>\n",
              "      <th>0</th>\n",
              "      <td>도메인 특화 언어 모델이란 무엇입니까? 어떤 예시가 있나요?</td>\n",
              "      <td>[오히려 공개된 모델을 활용해 특정 서비스를 개발하는 것이 가능성이 높다는 설명이다...</td>\n",
              "      <td>도메인 특화 언어 모델이란 특정 산업이나 전문 분야의 지식, 데이터, 용어를 AI에...</td>\n",
              "      <td>도메인 특화 언어 모델은 특정 산업·전문 분야의 지식, 데이터, 용어를 집중적으로 ...</td>\n",
              "      <td>3.228214e-01</td>\n",
              "      <td>0.555556</td>\n",
              "      <td>0.869315</td>\n",
              "      <td>1.000000</td>\n",
              "      <td>0.54</td>\n",
              "    </tr>\n",
              "    <tr>\n",
              "      <th>1</th>\n",
              "      <td>인공지능의 최근 발전 방식은? 관련 링크도 보여주세요</td>\n",
              "      <td>[[AI시대, 가치 네트워크에 주목하라] 한국 과학기술 특화 `고니` 공개… 확장되...</td>\n",
              "      <td>인공지능의 최근 발전 방식은 다음과 같습니다.\\n\\n1. **도메인 특화 대규모언어...</td>\n",
              "      <td>최근 AI는 추론을 먼저 수행하는 ‘사고형(thinking) 아키텍처’, 멀티모달과...</td>\n",
              "      <td>2.132082e-02</td>\n",
              "      <td>0.769231</td>\n",
              "      <td>0.801232</td>\n",
              "      <td>0.909091</td>\n",
              "      <td>0.56</td>\n",
              "    </tr>\n",
              "    <tr>\n",
              "      <th>2</th>\n",
              "      <td>제미나이 2.5 버전의 장점은 무엇입니까?</td>\n",
              "      <td>[구글 제미나이 2.5프로 공개.. “가장 지능적인 모델” 입력2025.03.26....</td>\n",
              "      <td>제미나이 2.5 버전의 장점은 다음과 같습니다.\\n\\n1. **가장 지능적인 모델*...</td>\n",
              "      <td>다음이 제미나이 2.5의 주요 장점입니다.\\n\\n- 고도화된 추론(사고) 능력: 응...</td>\n",
              "      <td>2.068020e-11</td>\n",
              "      <td>0.900000</td>\n",
              "      <td>0.830845</td>\n",
              "      <td>0.944444</td>\n",
              "      <td>0.69</td>\n",
              "    </tr>\n",
              "    <tr>\n",
              "      <th>3</th>\n",
              "      <td>고니 모델의 파라미터 수는 몇 개입니까?</td>\n",
              "      <td>[AI models with fewer parameters and graphic p...</td>\n",
              "      <td>고니 모델의 파라미터 수는 80억 개(8B)입니다.</td>\n",
              "      <td>고니 모델은 8B(매개변수 80억개) 모델 크기입니다.</td>\n",
              "      <td>5.604233e-02</td>\n",
              "      <td>1.000000</td>\n",
              "      <td>0.830365</td>\n",
              "      <td>1.000000</td>\n",
              "      <td>1.00</td>\n",
              "    </tr>\n",
              "    <tr>\n",
              "      <th>4</th>\n",
              "      <td>업스테이지의 대표는 누구입니까?</td>\n",
              "      <td>[언어 모델 '솔라(SOLAR)'로 세계 1위의 거대언어모델(LLM)을 만든 업스테...</td>\n",
              "      <td>업스테이지의 대표는 김성훈입니다.</td>\n",
              "      <td>업스테이지의 대표는 김성훈입니다.</td>\n",
              "      <td>1.000000e+00</td>\n",
              "      <td>1.000000</td>\n",
              "      <td>0.999998</td>\n",
              "      <td>1.000000</td>\n",
              "      <td>1.00</td>\n",
              "    </tr>\n",
              "    <tr>\n",
              "      <th>5</th>\n",
              "      <td>AI 가전의 3가지 핵심가치는?</td>\n",
              "      <td>[사용자를 이해하고 돌보며 문제를 해결해주는 AI 홈 경험을 제공하겠다\"고 강조했다...</td>\n",
              "      <td>AI 가전의 3가지 핵심 가치는 △누구나 쉽게 사용할 수 있고(Easy to Use...</td>\n",
              "      <td>- 누구나 쉽게 사용할 수 있음(Easy to Use)\\n- 사용자를 돌봄(Care...</td>\n",
              "      <td>2.460137e-01</td>\n",
              "      <td>1.000000</td>\n",
              "      <td>0.724080</td>\n",
              "      <td>1.000000</td>\n",
              "      <td>1.00</td>\n",
              "    </tr>\n",
              "    <tr>\n",
              "      <th>6</th>\n",
              "      <td>지브리 풍의 그림을 그려주는 AI는 무엇입니까?</td>\n",
              "      <td>[화제의 챗GPT-4o ‘지브리풍 그림’ 생성 기능, 지브리 저작권 침해 논란 입력...</td>\n",
              "      <td>지브리 풍의 그림을 그려주는 AI는 오픈AI의 ‘챗GPT-4o 이미지 생성’ 모델입니다.</td>\n",
              "      <td>챗GPT-4o 이미지 생성 모델이 지브리풍 그림을 그려주는 AI입니다.</td>\n",
              "      <td>8.913766e-02</td>\n",
              "      <td>1.000000</td>\n",
              "      <td>0.828385</td>\n",
              "      <td>1.000000</td>\n",
              "      <td>1.00</td>\n",
              "    </tr>\n",
              "    <tr>\n",
              "      <th>7</th>\n",
              "      <td>ChatGPT가 처한 저작권 위기는 무엇입니까?</td>\n",
              "      <td>[PICK 안내 언론사가 심층기획 기사로선정한 기사입니다. 언론사별 바로가기 닫기 ...</td>\n",
              "      <td>ChatGPT가 처한 저작권 위기는 다음과 같습니다.\\n\\n챗GPT의 이미지 생성 ...</td>\n",
              "      <td>- 발단: 챗GPT-4o의 이미지 생성 기능이 사용자 사진을 ‘지브리·디즈니·심슨’...</td>\n",
              "      <td>3.006541e-03</td>\n",
              "      <td>1.000000</td>\n",
              "      <td>0.811039</td>\n",
              "      <td>1.000000</td>\n",
              "      <td>0.59</td>\n",
              "    </tr>\n",
              "  </tbody>\n",
              "</table>\n",
              "</div>\n",
              "    <div class=\"colab-df-buttons\">\n",
              "\n",
              "  <div class=\"colab-df-container\">\n",
              "    <button class=\"colab-df-convert\" onclick=\"convertToInteractive('df-4eecdb7a-abd0-4a5e-a27e-8eb4ba256cf7')\"\n",
              "            title=\"Convert this dataframe to an interactive table.\"\n",
              "            style=\"display:none;\">\n",
              "\n",
              "  <svg xmlns=\"http://www.w3.org/2000/svg\" height=\"24px\" viewBox=\"0 -960 960 960\">\n",
              "    <path d=\"M120-120v-720h720v720H120Zm60-500h600v-160H180v160Zm220 220h160v-160H400v160Zm0 220h160v-160H400v160ZM180-400h160v-160H180v160Zm440 0h160v-160H620v160ZM180-180h160v-160H180v160Zm440 0h160v-160H620v160Z\"/>\n",
              "  </svg>\n",
              "    </button>\n",
              "\n",
              "  <style>\n",
              "    .colab-df-container {\n",
              "      display:flex;\n",
              "      gap: 12px;\n",
              "    }\n",
              "\n",
              "    .colab-df-convert {\n",
              "      background-color: #E8F0FE;\n",
              "      border: none;\n",
              "      border-radius: 50%;\n",
              "      cursor: pointer;\n",
              "      display: none;\n",
              "      fill: #1967D2;\n",
              "      height: 32px;\n",
              "      padding: 0 0 0 0;\n",
              "      width: 32px;\n",
              "    }\n",
              "\n",
              "    .colab-df-convert:hover {\n",
              "      background-color: #E2EBFA;\n",
              "      box-shadow: 0px 1px 2px rgba(60, 64, 67, 0.3), 0px 1px 3px 1px rgba(60, 64, 67, 0.15);\n",
              "      fill: #174EA6;\n",
              "    }\n",
              "\n",
              "    .colab-df-buttons div {\n",
              "      margin-bottom: 4px;\n",
              "    }\n",
              "\n",
              "    [theme=dark] .colab-df-convert {\n",
              "      background-color: #3B4455;\n",
              "      fill: #D2E3FC;\n",
              "    }\n",
              "\n",
              "    [theme=dark] .colab-df-convert:hover {\n",
              "      background-color: #434B5C;\n",
              "      box-shadow: 0px 1px 3px 1px rgba(0, 0, 0, 0.15);\n",
              "      filter: drop-shadow(0px 1px 2px rgba(0, 0, 0, 0.3));\n",
              "      fill: #FFFFFF;\n",
              "    }\n",
              "  </style>\n",
              "\n",
              "    <script>\n",
              "      const buttonEl =\n",
              "        document.querySelector('#df-4eecdb7a-abd0-4a5e-a27e-8eb4ba256cf7 button.colab-df-convert');\n",
              "      buttonEl.style.display =\n",
              "        google.colab.kernel.accessAllowed ? 'block' : 'none';\n",
              "\n",
              "      async function convertToInteractive(key) {\n",
              "        const element = document.querySelector('#df-4eecdb7a-abd0-4a5e-a27e-8eb4ba256cf7');\n",
              "        const dataTable =\n",
              "          await google.colab.kernel.invokeFunction('convertToInteractive',\n",
              "                                                    [key], {});\n",
              "        if (!dataTable) return;\n",
              "\n",
              "        const docLinkHtml = 'Like what you see? Visit the ' +\n",
              "          '<a target=\"_blank\" href=https://colab.research.google.com/notebooks/data_table.ipynb>data table notebook</a>'\n",
              "          + ' to learn more about interactive tables.';\n",
              "        element.innerHTML = '';\n",
              "        dataTable['output_type'] = 'display_data';\n",
              "        await google.colab.output.renderOutput(dataTable, element);\n",
              "        const docLink = document.createElement('div');\n",
              "        docLink.innerHTML = docLinkHtml;\n",
              "        element.appendChild(docLink);\n",
              "      }\n",
              "    </script>\n",
              "  </div>\n",
              "\n",
              "\n",
              "    <div id=\"df-faedf5f3-3d3c-4193-b641-e35e8018f899\">\n",
              "      <button class=\"colab-df-quickchart\" onclick=\"quickchart('df-faedf5f3-3d3c-4193-b641-e35e8018f899')\"\n",
              "                title=\"Suggest charts\"\n",
              "                style=\"display:none;\">\n",
              "\n",
              "<svg xmlns=\"http://www.w3.org/2000/svg\" height=\"24px\"viewBox=\"0 0 24 24\"\n",
              "     width=\"24px\">\n",
              "    <g>\n",
              "        <path d=\"M19 3H5c-1.1 0-2 .9-2 2v14c0 1.1.9 2 2 2h14c1.1 0 2-.9 2-2V5c0-1.1-.9-2-2-2zM9 17H7v-7h2v7zm4 0h-2V7h2v10zm4 0h-2v-4h2v4z\"/>\n",
              "    </g>\n",
              "</svg>\n",
              "      </button>\n",
              "\n",
              "<style>\n",
              "  .colab-df-quickchart {\n",
              "      --bg-color: #E8F0FE;\n",
              "      --fill-color: #1967D2;\n",
              "      --hover-bg-color: #E2EBFA;\n",
              "      --hover-fill-color: #174EA6;\n",
              "      --disabled-fill-color: #AAA;\n",
              "      --disabled-bg-color: #DDD;\n",
              "  }\n",
              "\n",
              "  [theme=dark] .colab-df-quickchart {\n",
              "      --bg-color: #3B4455;\n",
              "      --fill-color: #D2E3FC;\n",
              "      --hover-bg-color: #434B5C;\n",
              "      --hover-fill-color: #FFFFFF;\n",
              "      --disabled-bg-color: #3B4455;\n",
              "      --disabled-fill-color: #666;\n",
              "  }\n",
              "\n",
              "  .colab-df-quickchart {\n",
              "    background-color: var(--bg-color);\n",
              "    border: none;\n",
              "    border-radius: 50%;\n",
              "    cursor: pointer;\n",
              "    display: none;\n",
              "    fill: var(--fill-color);\n",
              "    height: 32px;\n",
              "    padding: 0;\n",
              "    width: 32px;\n",
              "  }\n",
              "\n",
              "  .colab-df-quickchart:hover {\n",
              "    background-color: var(--hover-bg-color);\n",
              "    box-shadow: 0 1px 2px rgba(60, 64, 67, 0.3), 0 1px 3px 1px rgba(60, 64, 67, 0.15);\n",
              "    fill: var(--button-hover-fill-color);\n",
              "  }\n",
              "\n",
              "  .colab-df-quickchart-complete:disabled,\n",
              "  .colab-df-quickchart-complete:disabled:hover {\n",
              "    background-color: var(--disabled-bg-color);\n",
              "    fill: var(--disabled-fill-color);\n",
              "    box-shadow: none;\n",
              "  }\n",
              "\n",
              "  .colab-df-spinner {\n",
              "    border: 2px solid var(--fill-color);\n",
              "    border-color: transparent;\n",
              "    border-bottom-color: var(--fill-color);\n",
              "    animation:\n",
              "      spin 1s steps(1) infinite;\n",
              "  }\n",
              "\n",
              "  @keyframes spin {\n",
              "    0% {\n",
              "      border-color: transparent;\n",
              "      border-bottom-color: var(--fill-color);\n",
              "      border-left-color: var(--fill-color);\n",
              "    }\n",
              "    20% {\n",
              "      border-color: transparent;\n",
              "      border-left-color: var(--fill-color);\n",
              "      border-top-color: var(--fill-color);\n",
              "    }\n",
              "    30% {\n",
              "      border-color: transparent;\n",
              "      border-left-color: var(--fill-color);\n",
              "      border-top-color: var(--fill-color);\n",
              "      border-right-color: var(--fill-color);\n",
              "    }\n",
              "    40% {\n",
              "      border-color: transparent;\n",
              "      border-right-color: var(--fill-color);\n",
              "      border-top-color: var(--fill-color);\n",
              "    }\n",
              "    60% {\n",
              "      border-color: transparent;\n",
              "      border-right-color: var(--fill-color);\n",
              "    }\n",
              "    80% {\n",
              "      border-color: transparent;\n",
              "      border-right-color: var(--fill-color);\n",
              "      border-bottom-color: var(--fill-color);\n",
              "    }\n",
              "    90% {\n",
              "      border-color: transparent;\n",
              "      border-bottom-color: var(--fill-color);\n",
              "    }\n",
              "  }\n",
              "</style>\n",
              "\n",
              "      <script>\n",
              "        async function quickchart(key) {\n",
              "          const quickchartButtonEl =\n",
              "            document.querySelector('#' + key + ' button');\n",
              "          quickchartButtonEl.disabled = true;  // To prevent multiple clicks.\n",
              "          quickchartButtonEl.classList.add('colab-df-spinner');\n",
              "          try {\n",
              "            const charts = await google.colab.kernel.invokeFunction(\n",
              "                'suggestCharts', [key], {});\n",
              "          } catch (error) {\n",
              "            console.error('Error during call to suggestCharts:', error);\n",
              "          }\n",
              "          quickchartButtonEl.classList.remove('colab-df-spinner');\n",
              "          quickchartButtonEl.classList.add('colab-df-quickchart-complete');\n",
              "        }\n",
              "        (() => {\n",
              "          let quickchartButtonEl =\n",
              "            document.querySelector('#df-faedf5f3-3d3c-4193-b641-e35e8018f899 button');\n",
              "          quickchartButtonEl.style.display =\n",
              "            google.colab.kernel.accessAllowed ? 'block' : 'none';\n",
              "        })();\n",
              "      </script>\n",
              "    </div>\n",
              "\n",
              "    </div>\n",
              "  </div>\n"
            ],
            "application/vnd.google.colaboratory.intrinsic+json": {
              "type": "dataframe",
              "summary": "{\n  \"name\": \"result\",\n  \"rows\": 8,\n  \"fields\": [\n    {\n      \"column\": \"user_input\",\n      \"properties\": {\n        \"dtype\": \"string\",\n        \"num_unique_values\": 8,\n        \"samples\": [\n          \"\\uc778\\uacf5\\uc9c0\\ub2a5\\uc758 \\ucd5c\\uadfc \\ubc1c\\uc804 \\ubc29\\uc2dd\\uc740? \\uad00\\ub828 \\ub9c1\\ud06c\\ub3c4 \\ubcf4\\uc5ec\\uc8fc\\uc138\\uc694\",\n          \"AI \\uac00\\uc804\\uc758 3\\uac00\\uc9c0 \\ud575\\uc2ec\\uac00\\uce58\\ub294?\",\n          \"\\ub3c4\\uba54\\uc778 \\ud2b9\\ud654 \\uc5b8\\uc5b4 \\ubaa8\\ub378\\uc774\\ub780 \\ubb34\\uc5c7\\uc785\\ub2c8\\uae4c? \\uc5b4\\ub5a4 \\uc608\\uc2dc\\uac00 \\uc788\\ub098\\uc694?\"\n        ],\n        \"semantic_type\": \"\",\n        \"description\": \"\"\n      }\n    },\n    {\n      \"column\": \"retrieved_contexts\",\n      \"properties\": {\n        \"dtype\": \"object\",\n        \"semantic_type\": \"\",\n        \"description\": \"\"\n      }\n    },\n    {\n      \"column\": \"response\",\n      \"properties\": {\n        \"dtype\": \"string\",\n        \"num_unique_values\": 8,\n        \"samples\": [\n          \"\\uc778\\uacf5\\uc9c0\\ub2a5\\uc758 \\ucd5c\\uadfc \\ubc1c\\uc804 \\ubc29\\uc2dd\\uc740 \\ub2e4\\uc74c\\uacfc \\uac19\\uc2b5\\ub2c8\\ub2e4.\\n\\n1. **\\ub3c4\\uba54\\uc778 \\ud2b9\\ud654 \\ub300\\uaddc\\ubaa8\\uc5b8\\uc5b4\\ubaa8\\ub378(LLM) \\uac1c\\ubc1c**  \\n   - \\uacfc\\ud559\\uae30\\uc220, \\ubc95\\ub960, \\uc138\\ubb34, \\uae08\\uc735 \\ub4f1 \\ud2b9\\uc815 \\ubd84\\uc57c\\uc5d0 \\ud2b9\\ud654\\ub41c LLM\\ub4e4\\uc774 \\uc787\\ub530\\ub77c \\ucd9c\\uc2dc\\ub418\\uace0 \\uc788\\uc2b5\\ub2c8\\ub2e4.  \\n   - \\ud55c\\uad6d\\uc5b4 \\ube44\\uc911\\uc774 \\ub0ae\\uc740 \\uae30\\uc874 \\ub2e4\\uad6d\\uc5b4 \\ubaa8\\ub378\\uacfc \\ub2ec\\ub9ac, \\ud55c\\uad6d\\uc5b4 \\ubc0f \\uacfc\\ud559\\uae30\\uc220 \\ubd84\\uc57c\\uc5d0 \\ud2b9\\ud654\\ub41c \\uc18c\\ud615\\uac70\\ub300\\uc5b8\\uc5b4\\ubaa8\\ub378(sLLM) \\uac1c\\ubc1c\\uc774 \\ud65c\\ubc1c\\ud574\\uc9c0\\uace0 \\uc788\\uc2b5\\ub2c8\\ub2e4.  \\n   - \\uc608: KISTI\\uc758 \\uacfc\\ud559\\uae30\\uc220 \\ud2b9\\ud654 \\uc0dd\\uc131\\ud615 \\uc5b8\\uc5b4\\ubaa8\\ub378 '\\uace0\\ub2c8'\\ub294 \\ud55c\\uad6d\\uc5b4 LLM \\uc911 \\ucd5c\\uace0 \\uc131\\ub2a5\\uc744 \\uae30\\ub85d\\ud558\\uba70, \\ud658\\uac01\\ud604\\uc0c1(\\ud560\\ub8e8\\uc2dc\\ub124\\uc774\\uc158)\\uc744 \\ucd5c\\uc18c\\ud654\\ud558\\ub294 \\uac80\\uc0c9\\uc99d\\uac15\\uc0dd\\uc131\\uae30\\uc220(RAG)\\uc744 \\uc801\\uc6a9\\ud588\\uc2b5\\ub2c8\\ub2e4.\\n\\n2. **\\uba40\\ud2f0\\ubaa8\\ub2ec AI \\ubaa8\\ub378\\ub85c\\uc758 \\uc9c4\\ud654**  \\n   - \\ub2e8\\uc21c \\ud14d\\uc2a4\\ud2b8 \\ucc98\\ub9ac\\uc5d0\\uc11c \\ubc97\\uc5b4\\ub098 \\uc74c\\uc131, \\uc774\\ubbf8\\uc9c0, \\uc601\\uc0c1\\uae4c\\uc9c0 \\ucc98\\ub9ac\\u00b7\\ubd84\\uc11d\\ud558\\ub294 \\uace0\\uc131\\ub2a5 \\uba40\\ud2f0\\ubaa8\\ub2ec AI\\ub85c \\ubc1c\\uc804\\ud558\\uace0 \\uc788\\uc2b5\\ub2c8\\ub2e4.\\n\\n3. **\\ucd94\\ub860\\ud615 AI\\uc758 \\uace0\\ub3c4\\ud654**  \\n   - \\uad6c\\uae00\\uc758 \\u2018\\uc81c\\ubbf8\\ub098\\uc774 2.5\\u2019\\uc640 \\uac19\\uc740 \\uc0ac\\uace0\\ud615(thinking) AI \\ubaa8\\ub378\\uc774 \\uacf5\\uac1c\\ub418\\uc5b4, \\ubcf5\\uc7a1\\ud55c \\ubb38\\uc81c \\ud574\\uacb0\\uacfc \\ub17c\\ub9ac\\uc801 \\uacb0\\ub860 \\ub3c4\\ucd9c \\ub2a5\\ub825\\uc744 \\ub300\\ud3ed \\ud5a5\\uc0c1\\uc2dc\\ud0a4\\uace0 \\uc788\\uc2b5\\ub2c8\\ub2e4.  \\n   - \\ud070 \\ucf58\\ud14d\\uc2a4\\ud2b8 \\uc708\\ub3c4\\uc6b0 \\uc9c0\\uc6d0\\uc73c\\ub85c \\ubc29\\ub300\\ud55c \\ubd84\\ub7c9\\uc744 \\ud55c \\ubc88\\uc5d0 \\ucc98\\ub9ac\\ud560 \\uc218 \\uc788\\uc73c\\uba70, AI \\uc790\\uccb4\\uc5d0 \\ucd94\\ub860 \\ub2a5\\ub825\\uc744 \\ud1b5\\ud569\\ud558\\ub294 \\ubc29\\ud5a5\\uc73c\\ub85c \\ubc1c\\uc804 \\uc911\\uc785\\ub2c8\\ub2e4.\\n\\n4. **AI\\ub97c \\ud65c\\uc6a9\\ud55c \\uc5f0\\uad6c \\uc790\\ub3d9\\ud654\\uc640 \\ud601\\uc2e0 \\uac00\\uc18d\\ud654**  \\n   - AI\\uac00 \\uc2e4\\ud5d8 \\uc124\\uacc4\\ubd80\\ud130 \\uc218\\ud589\\uae4c\\uc9c0 \\uc790\\uc728\\uc801\\uc73c\\ub85c \\uc9c4\\ud589\\ud558\\ub294 \\uc2dc\\uc2a4\\ud15c(\\uc608: \\uce74\\ub124\\uae30\\uba5c\\ub860\\ub300\\uc758 \\u2018\\ucf54\\uc0ac\\uc774\\uc5b8\\ud2f0\\uc2a4\\ud2b8\\u2019)\\uc774 \\uac1c\\ubc1c\\ub418\\uace0 \\uc788\\uc73c\\uba70, AI \\uae30\\ubc18\\uc758 5\\uc138\\ub300 \\uc5f0\\uad6c \\ud328\\ub7ec\\ub2e4\\uc784\\uc73c\\ub85c \\uc804\\ud658 \\uc911\\uc785\\ub2c8\\ub2e4.  \\n   - AI\\ub294 \\uc2e0\\uc57d \\uac1c\\ubc1c, \\ud654\\ud559\\ubb3c\\uc9c8 \\uc81c\\uc870 \\ub4f1 \\uacfc\\ud559\\uae30\\uc220 \\uc804\\ubc18\\uc5d0 \\uac78\\uccd0 \\uc5f0\\uad6c \\uc0dd\\uc0b0\\uc131\\uacfc \\ud6a8\\uc728\\uc131\\uc744 \\ud06c\\uac8c \\ub192\\uc774\\uace0 \\uc788\\uc2b5\\ub2c8\\ub2e4.\\n\\n---\\n\\n**\\uad00\\ub828 \\ub9c1\\ud06c**  \\n- \\uacfc\\ud559\\uae30\\uc220 \\ud2b9\\ud654 LLM '\\uace0\\ub2c8' \\uad00\\ub828:  \\n  https://n.news.naver.com/mnews/article/029/0002896514?sid=105  \\n- \\uad6c\\uae00 \\ucd94\\ub860\\ud615 AI \\u2018\\uc81c\\ubbf8\\ub098\\uc774 2.5\\u2019 \\uacf5\\uac1c \\uad00\\ub828:  \\n  https://n.news.naver.com/mnews/article/366/0001064042?sid=105\\n\\n\\uc694\\uc57d\\ud558\\uc790\\uba74, \\ucd5c\\uadfc AI \\ubc1c\\uc804\\uc740 \\ub3c4\\uba54\\uc778 \\ud2b9\\ud654 \\ubaa8\\ub378 \\uac1c\\ubc1c, \\uba40\\ud2f0\\ubaa8\\ub2ec \\ucc98\\ub9ac, \\ucd94\\ub860\\ud615 \\uc0ac\\uace0 \\ub2a5\\ub825 \\uac15\\ud654, \\uadf8\\ub9ac\\uace0 AI\\ub97c \\ud65c\\uc6a9\\ud55c \\uc5f0\\uad6c \\uc790\\ub3d9\\ud654 \\ubc0f \\ud601\\uc2e0 \\uac00\\uc18d\\ud654\\uc5d0 \\uc9d1\\uc911\\ub418\\uace0 \\uc788\\uc2b5\\ub2c8\\ub2e4.\",\n          \"AI \\uac00\\uc804\\uc758 3\\uac00\\uc9c0 \\ud575\\uc2ec \\uac00\\uce58\\ub294 \\u25b3\\ub204\\uad6c\\ub098 \\uc27d\\uac8c \\uc0ac\\uc6a9\\ud560 \\uc218 \\uc788\\uace0(Easy to Use) \\u25b3\\uc0ac\\uc6a9\\uc790\\ub97c \\ub3cc\\ubcf4\\uba70(Care) \\u25b3\\uc2dc\\uac04\\uacfc \\uc5d0\\ub108\\uc9c0\\ub97c \\uc808\\uc57d\\ud558\\ub294(Saving) \\uac83\\uc785\\ub2c8\\ub2e4.\",\n          \"\\ub3c4\\uba54\\uc778 \\ud2b9\\ud654 \\uc5b8\\uc5b4 \\ubaa8\\ub378\\uc774\\ub780 \\ud2b9\\uc815 \\uc0b0\\uc5c5\\uc774\\ub098 \\uc804\\ubb38 \\ubd84\\uc57c\\uc758 \\uc9c0\\uc2dd, \\ub370\\uc774\\ud130, \\uc6a9\\uc5b4\\ub97c AI\\uc5d0 \\ud559\\uc2b5\\uc2dc\\ucf1c \\ud574\\ub2f9 \\uc601\\uc5ed\\uc5d0 \\ucd5c\\uc801\\ud654\\ub41c AI \\ubaa8\\ub378\\uc744 \\ub9d0\\ud569\\ub2c8\\ub2e4. \\ubc94\\uc6a9 \\ubaa8\\ub378\\uacfc \\ub2ec\\ub9ac \\uc804\\ubb38\\uc131\\uc744 \\uac16\\ucd94\\uc5b4 \\ud574\\ub2f9 \\ubd84\\uc57c\\uc758 \\uc9c8\\ubb38\\uc5d0 \\ub354 \\uc815\\ud655\\ud558\\uace0 \\uc804\\ubb38\\uc801\\uc778 \\ub2f5\\ubcc0\\uc744 \\uc81c\\uacf5\\ud558\\uba70, \\ud559\\uc2b5 \\uc2dc\\uac04\\uacfc \\ube44\\uc6a9\\ub3c4 \\uc808\\uac10\\ud560 \\uc218 \\uc788\\uc2b5\\ub2c8\\ub2e4.\\n\\n\\uc608\\uc2dc\\ub85c\\ub294 \\ub2e4\\uc74c\\uacfc \\uac19\\uc740 \\ub3c4\\uba54\\uc778 \\ud2b9\\ud654 \\ubaa8\\ub378\\uc774 \\uc788\\uc2b5\\ub2c8\\ub2e4:\\n- \\uc758\\ub8cc \\ub3c4\\uba54\\uc778 \\ud2b9\\ud654 \\ubaa8\\ub378: \\uc554 \\uc9c4\\ub2e8\\uacfc \\uce58\\ub8cc\\ub97c \\ub3d5\\uae30 \\uc704\\ud574 \\ud658\\uc790\\uc758 \\uc758\\ub8cc \\ub370\\uc774\\ud130\\uc640 \\uc784\\uc0c1 \\uc2dc\\ud5d8 \\uacb0\\uacfc\\ub97c \\ud559\\uc2b5\\ud55c \\ubaa8\\ub378\\n- \\ubc95\\ub960 \\ub3c4\\uba54\\uc778 \\ud2b9\\ud654 \\ubaa8\\ub378: \\ud310\\ub840, \\ubc95\\ub960 \\uacc4\\uc57d, \\ubc95 \\uaddc\\uc815\\uc744 \\ud559\\uc2b5\\ud574 \\ubc95\\ub960\\uac00\\uc758 \\uc5f0\\uad6c \\uc2dc\\uac04\\uc744 \\uc808\\uc57d\\ud574 \\uc8fc\\ub294 \\ubaa8\\ub378\\n- \\ub2e4\\ud06c\\uc6f9 \\ud2b9\\ud654 \\ubaa8\\ub378 '\\ub2e4\\ud06c\\ubc84\\ud2b8': \\ub2e4\\ud06c\\uc6f9 \\ub0b4 \\ubd88\\ubc95 \\ud65c\\ub3d9 \\uc815\\ubcf4\\ub97c \\ubd84\\uc11d\\ud558\\uae30 \\uc704\\ud574 \\uac1c\\ubc1c\\ub41c \\uc138\\uacc4 \\ucd5c\\ucd08 \\ub2e4\\ud06c\\uc6f9 \\ud2b9\\ud654 \\ubaa8\\ub378\\n\\n\\uc774 \\uc678\\uc5d0\\ub3c4 \\uc81c\\uc870, \\uc720\\ud1b5, \\uae08\\uc735, \\uacf5\\uacf5 \\ub4f1 \\ub2e4\\uc591\\ud55c \\uc0b0\\uc5c5 \\ubd84\\uc57c\\ub85c \\ub3c4\\uba54\\uc778 \\ud2b9\\ud654 \\ubaa8\\ub378 \\uac1c\\ubc1c\\uc774 \\ud655\\uc7a5\\ub418\\uace0 \\uc788\\uc2b5\\ub2c8\\ub2e4.\"\n        ],\n        \"semantic_type\": \"\",\n        \"description\": \"\"\n      }\n    },\n    {\n      \"column\": \"reference\",\n      \"properties\": {\n        \"dtype\": \"string\",\n        \"num_unique_values\": 8,\n        \"samples\": [\n          \"\\ucd5c\\uadfc AI\\ub294 \\ucd94\\ub860\\uc744 \\uba3c\\uc800 \\uc218\\ud589\\ud558\\ub294 \\u2018\\uc0ac\\uace0\\ud615(thinking) \\uc544\\ud0a4\\ud14d\\ucc98\\u2019, \\uba40\\ud2f0\\ubaa8\\ub2ec\\uacfc \\ucd08\\uc7a5\\ubb38\\ub9e5 \\ud1b5\\ud569, \\ud2b9\\uc815 \\ubd84\\uc57c\\uc5d0 \\ucd5c\\uc801\\ud654\\ub41c \\ub3c4\\uba54\\uc778 \\ud2b9\\ud654(sLLM)+RAG \\uacb0\\ud569, \\uadf8\\ub9ac\\uace0 \\uc5f0\\uad6c\\u00b7\\uc5c5\\ubb34 \\uc790\\ub3d9\\ud654\\ub97c \\uc9c0\\ud5a5\\ud558\\ub294 \\ubc29\\ud5a5\\uc73c\\ub85c \\ubc1c\\uc804\\ud558\\uace0 \\uc788\\uc2b5\\ub2c8\\ub2e4.\\n\\n\\uc8fc\\uc694 \\ud750\\ub984\\n- \\uc0ac\\uace0\\ud615(\\ucd94\\ub860 \\uc911\\uc2ec) \\ubaa8\\ub378: \\uc751\\ub2f5 \\uc804 \\ub0b4\\ubd80 \\uc0ac\\uace0 \\uacfc\\uc815\\uc744 \\uac70\\uccd0 \\ub17c\\ub9ac\\uc801 \\uacb0\\ub860\\uc744 \\ub0b4\\ub9ac\\ub3c4\\ub85d \\uc124\\uacc4\\ud574 \\uc815\\ud655\\ub3c4\\uc640 \\uc548\\uc815\\uc131\\uc744 \\ub192\\uc784. \\uad6c\\uae00 \\uc81c\\ubbf8\\ub098\\uc774 2.5\\uac00 \\ub300\\ud45c\\uc801 \\uc0ac\\ub840\\ub85c, \\uc5ec\\ub7ec \\ubca4\\uce58\\ub9c8\\ud06c\\uc5d0\\uc11c \\uacbd\\uc7c1 \\ubaa8\\ub378\\uc744 \\uc0c1\\ud68c\\ud558\\uace0 \\ucd94\\ub860 \\ub2a5\\ub825\\uc744 \\ubaa8\\ub4e0 \\ubaa8\\ub378\\uad70\\uc5d0 \\ud1b5\\ud569\\ud558\\uaca0\\ub2e4\\uace0 \\ubc1d\\ud798. \\ub610\\ud55c 100\\ub9cc \\ud1a0\\ud070(\\ucd94\\ud6c4 200\\ub9cc) \\ub300\\uaddc\\ubaa8 \\ucee8\\ud14d\\uc2a4\\ud2b8\\ub97c \\uc9c0\\uc6d0.\\n- \\uba40\\ud2f0\\ubaa8\\ub2ec+\\ucd08\\uc7a5\\ubb38\\ub9e5: \\ud14d\\uc2a4\\ud2b8\\u00b7\\uc774\\ubbf8\\uc9c0\\u00b7\\uc624\\ub514\\uc624\\u00b7\\uc601\\uc0c1\\u00b7\\ucf54\\ub4dc \\ub4f1 \\ub2e4\\uc591\\ud55c \\uc785\\ub825\\uc744 \\ud1b5\\ud569 \\ucc98\\ub9ac\\ud558\\uace0, \\uae34 \\ubb38\\ub9e5\\uc744 \\ud55c \\ubc88\\uc5d0 \\ub2e4\\ub8e8\\uba70 \\ubcf5\\uc7a1\\ud55c \\uc791\\uc5c5\\uc744 \\uc218\\ud589.\\n- \\ub3c4\\uba54\\uc778 \\ud2b9\\ud654(sLLM)\\uc640 RAG/\\uc628\\ud1a8\\ub85c\\uc9c0 \\uacb0\\ud569: \\ud55c\\uad6d\\uc5b4\\u00b7\\uacfc\\ud559\\uae30\\uc220 \\ub4f1 \\ud2b9\\uc815 \\ubd84\\uc57c\\uc5d0 \\ud2b9\\ud654\\ub41c \\uc18c\\ud615 LLM(sLLM)\\uc744 \\uac1c\\ubc1c\\ud558\\uace0, RAG\\uc640 \\uc628\\ud1a8\\ub85c\\uc9c0\\ub97c \\ubd99\\uc5ec \\ud658\\uac01\\uc744 \\uc904\\uc774\\uace0 \\uc815\\ud655\\ub3c4\\ub97c \\ub192\\uc784. KISTI\\uc758 \\uacfc\\ud559\\uae30\\uc220 \\ud2b9\\ud654 LLM \\u2018\\uace0\\ub2c8\\u2019\\uac00 \\ub300\\ud45c\\uc801 \\uc0ac\\ub840.\\n- \\uc5f0\\uad6c\\u00b7\\uc5c5\\ubb34 \\uc790\\ub3d9\\ud654(Agentic AI): LLM\\uc774 \\ucc38\\uace0\\ubb38\\ud5cc \\ud0d0\\uc0c9\\u00b7\\uc2e4\\ud5d8 \\uc124\\uacc4\\u00b7\\ub85c\\ubd07 \\uc2e4\\ud589 \\ub4f1 R&D \\ud30c\\uc774\\ud504\\ub77c\\uc778\\uc744 \\uc790\\ub3d9\\ud654\\ud558\\ub294 \\uc2dc\\ub3c4\\uac00 \\ud655\\uc0b0.\\n\\n\\uad00\\ub828 \\ub9c1\\ud06c\\n- \\uad6c\\uae00 \\uc81c\\ubbf8\\ub098\\uc774 2.5(\\uc0ac\\uace0\\ud615\\u00b7\\ub300\\uaddc\\ubaa8 \\ucee8\\ud14d\\uc2a4\\ud2b8\\u00b7\\ubca4\\uce58\\ub9c8\\ud06c): https://n.news.naver.com/mnews/article/056/0011918903?sid=104\\n- \\uad6c\\uae00 \\uc81c\\ubbf8\\ub098\\uc774 2.5(\\ucd94\\ub860 \\ub2a5\\ub825 \\ud1b5\\ud569 \\uacc4\\ud68d\\u00b7100\\ub9cc\\u2192200\\ub9cc \\ud1a0\\ud070): https://n.news.naver.com/mnews/article/001/0015289685?sid=104\\n- KISTI \\uacfc\\ud559\\uae30\\uc220 \\ud2b9\\ud654 LLM \\u2018\\uace0\\ub2c8\\u2019(RAG\\ub85c \\ud658\\uac01 \\ucd5c\\uc18c\\ud654\\u00b7\\ud55c\\uad6d\\uc5b4 LogicKor \\uc0c1\\uc704): https://n.news.naver.com/mnews/article/029/0002896514?sid=105\\n- \\ub3c4\\uba54\\uc778 \\ud2b9\\ud654 AI \\uc804\\ub7b5(\\uc628\\ud1a8\\ub85c\\uc9c0+RAG\\ub85c \\uc815\\ud655\\ub3c4 \\ud5a5\\uc0c1): https://n.news.naver.com/mnews/article/031/0000916729?sid=105\\n- \\uba40\\ud2f0\\ubaa8\\ub2ec \\uc0dd\\uc131 \\uac15\\ud654(GPT-4o \\uae30\\ubc18 \\uc774\\ubbf8\\uc9c0 \\uc0dd\\uc131\\uae30 \\uace0\\ub3c4\\ud654): https://n.news.naver.com/mnews/article/092/0002368642?sid=105\",\n          \"- \\ub204\\uad6c\\ub098 \\uc27d\\uac8c \\uc0ac\\uc6a9\\ud560 \\uc218 \\uc788\\uc74c(Easy to Use)\\n- \\uc0ac\\uc6a9\\uc790\\ub97c \\ub3cc\\ubd04(Care)\\n- \\uc2dc\\uac04\\uacfc \\uc5d0\\ub108\\uc9c0\\ub97c \\uc808\\uc57d\\ud568(Saving)\",\n          \"\\ub3c4\\uba54\\uc778 \\ud2b9\\ud654 \\uc5b8\\uc5b4 \\ubaa8\\ub378\\uc740 \\ud2b9\\uc815 \\uc0b0\\uc5c5\\u00b7\\uc804\\ubb38 \\ubd84\\uc57c\\uc758 \\uc9c0\\uc2dd, \\ub370\\uc774\\ud130, \\uc6a9\\uc5b4\\ub97c \\uc9d1\\uc911\\uc801\\uc73c\\ub85c \\ud559\\uc2b5\\ud574 \\uadf8 \\ubd84\\uc57c \\uc5c5\\ubb34\\uc5d0 \\ucd5c\\uc801\\ud654\\ub41c AI \\uc5b8\\uc5b4 \\ubaa8\\ub378\\uc785\\ub2c8\\ub2e4. \\ubc94\\uc6a9 LLM\\ubcf4\\ub2e4 \\ud574\\ub2f9 \\ubd84\\uc57c\\uc5d0\\uc11c \\ub354 \\uc804\\ubb38\\uc801\\uc778 \\ub2f5\\ubcc0\\uc744 \\ub0b4\\uace0, \\ud559\\uc2b5 \\ube44\\uc6a9\\u00b7\\uc2dc\\uac04\\uc744 \\uc904\\uc77c \\uc218 \\uc788\\ub294 \\uac83\\uc774 \\ud2b9\\uc9d5\\uc785\\ub2c8\\ub2e4.\\n\\n\\uc608\\uc2dc\\n- \\uc758\\ub8cc \\ud2b9\\ud654 \\ubaa8\\ub378: \\ud658\\uc790 \\uc758\\ub8cc\\ub370\\uc774\\ud130\\uc640 \\uc784\\uc0c1\\uc2dc\\ud5d8 \\uacb0\\uacfc\\ub85c \\ud559\\uc2b5\\ud574 \\uc554 \\uc9c4\\ub2e8\\u00b7\\uce58\\ub8cc \\ubcf4\\uc870\\n- \\ubc95\\ub960 \\ud2b9\\ud654 \\ubaa8\\ub378: \\ud310\\ub840\\u00b7\\uacc4\\uc57d\\uc11c\\u00b7\\ubc95\\uaddc\\ub97c \\ud559\\uc2b5\\ud574 \\ubc95\\ub960\\uac00\\uc758 \\uc5f0\\uad6c \\uc2dc\\uac04 \\ub2e8\\ucd95\\n- S2W \\ub2e4\\ud06c\\ubc84\\ud2b8(DarkBERT): \\ub2e4\\ud06c\\uc6f9 \\ud2b9\\ud654 \\ubaa8\\ub378(\\uc138\\uacc4 \\ucd5c\\ucd08). \\uc628\\ud1a8\\ub85c\\uc9c0+RAG \\uacb0\\ud569\\ud574 \\uc815\\ud655\\ub3c4 \\ud5a5\\uc0c1, \\uae30\\uc220\\uc744 \\uc81c\\uc870(\\ud604\\ub300\\uc81c\\ucca0)\\u00b7\\uc720\\ud1b5(\\ub86f\\ub370\\uba64\\ubc84\\uc2a4) \\ub4f1\\uc73c\\ub85c \\ud655\\uc7a5\\n- MathGPT(\\uc5c5\\uc2a4\\ud14c\\uc774\\uc9c0\\u00b7\\ucf74\\ub2e4\\u00b7KT): \\uc218\\ud559 \\ub3c4\\uba54\\uc778 \\ud2b9\\ud654 LLM. MATH, GSM8K \\ubca4\\uce58\\ub9c8\\ud06c\\uc5d0\\uc11c \\ub3d9\\uae09 \\ubaa8\\ub378 \\ubc0f GPT-4/ChatGPT \\ub300\\ube44 \\uc6b0\\uc218 \\uc131\\ub2a5\\uc744 \\uc8fc\\uc7a5\\n- \\ub525\\uc11c\\uce58 \\u2018\\ucc57\\ub525\\uc11c\\uce58\\u2019: \\uae30\\uc5c5 \\ub3c4\\uba54\\uc778 \\ud2b9\\ud654 \\ub300\\ud654\\ud615 LLM. \\uc7ac\\ubb34\\u00b7\\uc2e4\\uc801\\u00b7\\ub274\\uc2a4\\u00b7\\uacf5\\uc2dc\\u00b7\\ud2b9\\ud5c8 \\ub4f1 \\uc57d 20\\uc5b5\\uac74 \\uae30\\uc5c5 \\ub370\\uc774\\ud130 \\uae30\\ubc18\\uc73c\\ub85c Q&A \\uc81c\\uacf5, \\uac80\\uc0c9 \\uacb0\\ud569\\uc73c\\ub85c \\ud658\\uac01 \\ucd5c\\uc18c\\ud654\\n- KISTI \\u2018\\uace0\\ub2c8\\u2019: \\ud55c\\uad6d \\uacfc\\ud559\\uae30\\uc220 \\ud2b9\\ud654 \\uc0dd\\uc131\\ud615 LLM. RAG \\uae30\\ub2a5\\uc73c\\ub85c \\ud658\\uac01 \\ucd5c\\uc18c\\ud654\\n- \\ud3ec\\ud2f0\\ud22c\\ub9c8\\ub8e8 \\ub3c4\\uba54\\uc778 \\ud2b9\\ud654 \\uc124\\uce58\\ud615 LLM/DocuAgent42: \\uc0b0\\uc5c5\\ubcc4 \\uc694\\uad6c\\uc5d0 \\ub9de\\ucd98 \\uc124\\uce58\\ud615 \\ud2b9\\ud654 LLM\\uacfc \\uc0dd\\uc131\\ud615 AI \\uc194\\ub8e8\\uc158\"\n        ],\n        \"semantic_type\": \"\",\n        \"description\": \"\"\n      }\n    },\n    {\n      \"column\": \"bleu_score\",\n      \"properties\": {\n        \"dtype\": \"number\",\n        \"std\": 0.33775666821710204,\n        \"min\": 2.0680196149407996e-11,\n        \"max\": 1.0000000000000004,\n        \"num_unique_values\": 8,\n        \"samples\": [\n          0.02132081946882163,\n          0.24601372576927535,\n          0.32282138800401855\n        ],\n        \"semantic_type\": \"\",\n        \"description\": \"\"\n      }\n    },\n    {\n      \"column\": \"context_recall\",\n      \"properties\": {\n        \"dtype\": \"number\",\n        \"std\": 0.16286092743177566,\n        \"min\": 0.5555555555555556,\n        \"max\": 1.0,\n        \"num_unique_values\": 4,\n        \"samples\": [\n          0.7692307692307693,\n          1.0,\n          0.5555555555555556\n        ],\n        \"semantic_type\": \"\",\n        \"description\": \"\"\n      }\n    },\n    {\n      \"column\": \"semantic_similarity\",\n      \"properties\": {\n        \"dtype\": \"number\",\n        \"std\": 0.0778946507579129,\n        \"min\": 0.7240796094608305,\n        \"max\": 0.9999981718079983,\n        \"num_unique_values\": 8,\n        \"samples\": [\n          0.8012324071208237,\n          0.7240796094608305,\n          0.8693153439421648\n        ],\n        \"semantic_type\": \"\",\n        \"description\": \"\"\n      }\n    },\n    {\n      \"column\": \"faithfulness\",\n      \"properties\": {\n        \"dtype\": \"number\",\n        \"std\": 0.03519211758334943,\n        \"min\": 0.9090909090909091,\n        \"max\": 1.0,\n        \"num_unique_values\": 3,\n        \"samples\": [\n          1.0,\n          0.9090909090909091,\n          0.9444444444444444\n        ],\n        \"semantic_type\": \"\",\n        \"description\": \"\"\n      }\n    },\n    {\n      \"column\": \"factual_correctness(mode=f1)\",\n      \"properties\": {\n        \"dtype\": \"number\",\n        \"std\": 0.22082637006092753,\n        \"min\": 0.54,\n        \"max\": 1.0,\n        \"num_unique_values\": 5,\n        \"samples\": [\n          0.56,\n          0.59,\n          0.69\n        ],\n        \"semantic_type\": \"\",\n        \"description\": \"\"\n      }\n    }\n  ]\n}"
            }
          },
          "metadata": {},
          "execution_count": 20
        }
      ]
    },
    {
      "cell_type": "code",
      "source": [
        "# dict로 변경하기(복잡..)\n",
        "import ast\n",
        "\n",
        "result_str = str(result)\n",
        "result_dict = ast.literal_eval(result_str)\n",
        "result_dict"
      ],
      "metadata": {
        "id": "-zk-12CqYftX",
        "colab": {
          "base_uri": "https://localhost:8080/"
        },
        "outputId": "5cc1e982-1db3-4744-91b6-182e43c232f4"
      },
      "execution_count": null,
      "outputs": [
        {
          "output_type": "execute_result",
          "data": {
            "text/plain": [
              "{'bleu_score': 0.2173,\n",
              " 'context_recall': 0.9031,\n",
              " 'semantic_similarity': 0.8369,\n",
              " 'faithfulness': 0.9817,\n",
              " 'factual_correctness(mode=f1)': 0.7975}"
            ]
          },
          "metadata": {},
          "execution_count": 21
        }
      ]
    },
    {
      "cell_type": "markdown",
      "source": [
        "# [실습] 다양한 파이프라인 파라미터 수정하기\n",
        "\n",
        "현재 파이프라인에는 매우 다양한 조절 가능한 파라미터가 있습니다.   \n",
        "\n",
        "각각의 파라미터를 수정하여, 성능 변화를 확인해 보세요.\n",
        "\n",
        "Ex)\n",
        "- Chunk의 크기/개수 늘리기   \n",
        "- 모델 바꾸기   \n",
        "- ..."
      ],
      "metadata": {
        "id": "F31-YmDkv9bQ"
      }
    },
    {
      "cell_type": "code",
      "source": [
        "MODEL_NAME='gpt-4.1-mini'\n",
        "TEMPERATURE=0\n",
        "CHUNK_SIZE = 2000\n",
        "CHUNK_OVERLAP = 400\n",
        "TOP_K = 5\n",
        "\n",
        "# CSV 파일 경로 설정\n",
        "csv_path = \"experiments/experiment_log.csv\"\n",
        "os.makedirs(\"experiments\", exist_ok=True)\n",
        "\n",
        "def RAG_pipeline():\n",
        "\n",
        "    dataset = []\n",
        "\n",
        "    llm = ChatOpenAI(model=MODEL_NAME, temperature = TEMPERATURE, max_tokens = 4096)\n",
        "\n",
        "    # 하이퍼파라미터별 고유 폴더명 생성\n",
        "    DB_DIR = f\"db_T{TEMPERATURE}_C{CHUNK_SIZE}_O{CHUNK_OVERLAP}_K{TOP_K}\"\n",
        "    try:\n",
        "        os.listdir(DB_DIR)\n",
        "        print('## 기존 DB 확인됨! 그대로 사용')\n",
        "        db = Chroma(\n",
        "            embedding_function=openai_embeddings,\n",
        "            persist_directory=DB_DIR,\n",
        "            collection_metadata={'hnsw:space': 'l2'},\n",
        "        )\n",
        "    except:\n",
        "        print(\"## 기존 DB 없음, DB 새로 생성중...\")\n",
        "\n",
        "        preprocessed_docs = load_docs_from_jsonl(\"eval.jsonl\")\n",
        "\n",
        "        text_splitter = RecursiveCharacterTextSplitter(\n",
        "            chunk_size=CHUNK_SIZE, chunk_overlap=CHUNK_OVERLAP)\n",
        "        print('## DB 구성 중...')\n",
        "\n",
        "        chunks = text_splitter.split_documents(preprocessed_docs)\n",
        "        print(f'## Chunks 생성 완료... 총 {len(chunks)} 개 청크')\n",
        "        db = Chroma(\n",
        "            embedding_function=openai_embeddings,\n",
        "            persist_directory=DB_DIR,\n",
        "            collection_metadata={'hnsw:space': 'l2'},\n",
        "        )\n",
        "        for i in tqdm(range(0, len(chunks), 100)):\n",
        "            db.add_documents(chunks[i:min(i+100, len(chunks))])\n",
        "    print('## DB 구성 완료...')\n",
        "\n",
        "    retriever = db.as_retriever(search_kwargs={'k':TOP_K})\n",
        "\n",
        "    rag_chain = (\n",
        "    {\"context\": retriever | format_docs, \"question\": RunnablePassthrough()}\n",
        "    | prompt\n",
        "    | llm\n",
        "    | StrOutputParser())\n",
        "\n",
        "    for query,reference in tqdm(zip(questions,ground_truths)):\n",
        "\n",
        "        relevant_docs = [doc.page_content for doc in retriever.invoke(query)]\n",
        "        response = rag_chain.invoke(query)\n",
        "        dataset.append(\n",
        "            {\n",
        "                \"user_input\":query,\n",
        "                \"retrieved_contexts\":relevant_docs,\n",
        "                \"response\":response,\n",
        "                \"reference\":reference\n",
        "            }\n",
        "        )\n",
        "\n",
        "    print('## 답변 생성 완료...')\n",
        "    evaluation_dataset = EvaluationDataset.from_list(dataset)\n",
        "\n",
        "    result = evaluate(dataset=evaluation_dataset,\n",
        "                    metrics=[BleuScore(), LLMContextRecall(), semantic_scorer, Faithfulness(), FactualCorrectness()],\n",
        "                    llm=evaluator_llm,\n",
        "                    embeddings = evaluator_embeddings\n",
        "                    )\n",
        "\n",
        "    result_str = str(result)\n",
        "    result_dict = ast.literal_eval(result_str)\n",
        "    return result_dict\n"
      ],
      "metadata": {
        "id": "bLseTAyJaZ59"
      },
      "execution_count": null,
      "outputs": []
    },
    {
      "cell_type": "markdown",
      "source": [
        "실험 시작 시간과 정보를 저장할 수 있습니다."
      ],
      "metadata": {
        "id": "M8R0s9WuU3-q"
      }
    },
    {
      "cell_type": "code",
      "source": [
        "import csv\n",
        "import datetime\n",
        "import os\n",
        "\n",
        "result = RAG_pipeline()\n",
        "\n",
        "timestamp = datetime.datetime.now().isoformat()\n",
        "row = {\n",
        "    \"timestamp\": timestamp,\n",
        "    \"model_name\": MODEL_NAME,\n",
        "    \"temperature\": TEMPERATURE,\n",
        "    \"chunk_size\": CHUNK_SIZE,\n",
        "    \"chunk_overlap\": CHUNK_OVERLAP,\n",
        "    \"top_k\": TOP_K,\n",
        "    **result\n",
        "}\n",
        "\n",
        "# 파일이 없으면 헤더 추가\n",
        "write_header = not os.path.exists(csv_path)\n",
        "\n",
        "with open(csv_path, \"a\", newline=\"\", encoding=\"utf-8\") as f:\n",
        "    writer = csv.DictWriter(f, fieldnames=row.keys())\n",
        "    if write_header:\n",
        "        writer.writeheader()\n",
        "    writer.writerow(row)\n",
        "\n",
        "print(f\"[{timestamp}] {MODEL_NAME} | temp={TEMPERATURE}, chunk={CHUNK_SIZE}/{CHUNK_OVERLAP}, top_k={TOP_K} | results={result}\")\n"
      ],
      "metadata": {
        "id": "ainup63wUul4",
        "colab": {
          "base_uri": "https://localhost:8080/",
          "height": 214,
          "referenced_widgets": [
            "e72f2d200a5847f3a7a1ae5d9418e9da",
            "f67613fd66c245e4b1d67b9ebb948ead",
            "5e2e6d9f1b0945aa9f7b45a046156587",
            "12cc9a305ff1443ea1e2eddcebfa5da7",
            "41a49b3f9a4c412c92efea10ae98c042",
            "73ae96e29e0743aca6fc10d78b1c4504",
            "9f7793bc5c704eaab4c28833aed20859",
            "e99c76e231db4aac96acc2313bcd33cf",
            "4f20fef2d7854e939199192cc5b2aeb7",
            "ff571bab3dce4c0a9d773a2dbd1f9bfb",
            "1fa22b1687c642c382a90e204a250e20"
          ]
        },
        "outputId": "d44e77f6-446b-4eb5-f5f6-5e0ddc95565e"
      },
      "execution_count": null,
      "outputs": [
        {
          "output_type": "stream",
          "name": "stdout",
          "text": [
            "## 기존 DB 없음, DB 새로 생성중...\n",
            "## DB 구성 중...\n",
            "## Chunks 생성 완료... 총 338 개 청크\n"
          ]
        },
        {
          "output_type": "stream",
          "name": "stderr",
          "text": [
            "100%|██████████| 4/4 [00:11<00:00,  2.91s/it]\n"
          ]
        },
        {
          "output_type": "stream",
          "name": "stdout",
          "text": [
            "## DB 구성 완료...\n"
          ]
        },
        {
          "output_type": "stream",
          "name": "stderr",
          "text": [
            "8it [00:41,  5.24s/it]\n"
          ]
        },
        {
          "output_type": "stream",
          "name": "stdout",
          "text": [
            "## 답변 생성 완료...\n"
          ]
        },
        {
          "output_type": "display_data",
          "data": {
            "text/plain": [
              "Evaluating:   0%|          | 0/40 [00:00<?, ?it/s]"
            ],
            "application/vnd.jupyter.widget-view+json": {
              "version_major": 2,
              "version_minor": 0,
              "model_id": "e72f2d200a5847f3a7a1ae5d9418e9da"
            }
          },
          "metadata": {}
        },
        {
          "output_type": "stream",
          "name": "stdout",
          "text": [
            "[2025-10-21T02:36:06.707540] gpt-4.1-mini | temp=0, chunk=2000/400, top_k=5 | results={'bleu_score': 0.0564, 'context_recall': 0.8376, 'semantic_similarity': 0.7795, 'faithfulness': 0.9889, 'factual_correctness(mode=f1)': 0.62}\n"
          ]
        }
      ]
    },
    {
      "cell_type": "markdown",
      "source": [
        "다양한 기법을 위 코드에서 적용하여 성능을 높일 수 있습니다."
      ],
      "metadata": {
        "id": "VxGMm3S6aA2D"
      }
    }
  ],
  "metadata": {
    "colab": {
      "provenance": []
    },
    "kernelspec": {
      "display_name": "Python 3",
      "name": "python3"
    },
    "language_info": {
      "codemirror_mode": {
        "name": "ipython",
        "version": 3
      },
      "file_extension": ".py",
      "mimetype": "text/x-python",
      "name": "python",
      "nbconvert_exporter": "python",
      "pygments_lexer": "ipython3",
      "version": "3.11.7"
    },
    "widgets": {
      "application/vnd.jupyter.widget-state+json": {
        "ad777a07805249c281253468dc3f9e4a": {
          "model_module": "@jupyter-widgets/controls",
          "model_name": "HBoxModel",
          "model_module_version": "1.5.0",
          "state": {
            "_dom_classes": [],
            "_model_module": "@jupyter-widgets/controls",
            "_model_module_version": "1.5.0",
            "_model_name": "HBoxModel",
            "_view_count": null,
            "_view_module": "@jupyter-widgets/controls",
            "_view_module_version": "1.5.0",
            "_view_name": "HBoxView",
            "box_style": "",
            "children": [
              "IPY_MODEL_7d110cd7d37d4f379f873d3e36beda04",
              "IPY_MODEL_32c7934e35044d149169aeada0163fac",
              "IPY_MODEL_05a2124257fe4579bc03af8ef9fc0695"
            ],
            "layout": "IPY_MODEL_c18cf1b09c13479cb123b6cc5a63a514"
          }
        },
        "7d110cd7d37d4f379f873d3e36beda04": {
          "model_module": "@jupyter-widgets/controls",
          "model_name": "HTMLModel",
          "model_module_version": "1.5.0",
          "state": {
            "_dom_classes": [],
            "_model_module": "@jupyter-widgets/controls",
            "_model_module_version": "1.5.0",
            "_model_name": "HTMLModel",
            "_view_count": null,
            "_view_module": "@jupyter-widgets/controls",
            "_view_module_version": "1.5.0",
            "_view_name": "HTMLView",
            "description": "",
            "description_tooltip": null,
            "layout": "IPY_MODEL_533ee9b8f40b470782e9770e0b819f07",
            "placeholder": "​",
            "style": "IPY_MODEL_05920d7757ab447fafd2da7bf10adbc0",
            "value": "Evaluating: 100%"
          }
        },
        "32c7934e35044d149169aeada0163fac": {
          "model_module": "@jupyter-widgets/controls",
          "model_name": "FloatProgressModel",
          "model_module_version": "1.5.0",
          "state": {
            "_dom_classes": [],
            "_model_module": "@jupyter-widgets/controls",
            "_model_module_version": "1.5.0",
            "_model_name": "FloatProgressModel",
            "_view_count": null,
            "_view_module": "@jupyter-widgets/controls",
            "_view_module_version": "1.5.0",
            "_view_name": "ProgressView",
            "bar_style": "success",
            "description": "",
            "description_tooltip": null,
            "layout": "IPY_MODEL_670143476cdb4bbfb6de9c003b8bcf9c",
            "max": 40,
            "min": 0,
            "orientation": "horizontal",
            "style": "IPY_MODEL_5d2ebc0c6bd34108bacd11b98d4eb4ae",
            "value": 40
          }
        },
        "05a2124257fe4579bc03af8ef9fc0695": {
          "model_module": "@jupyter-widgets/controls",
          "model_name": "HTMLModel",
          "model_module_version": "1.5.0",
          "state": {
            "_dom_classes": [],
            "_model_module": "@jupyter-widgets/controls",
            "_model_module_version": "1.5.0",
            "_model_name": "HTMLModel",
            "_view_count": null,
            "_view_module": "@jupyter-widgets/controls",
            "_view_module_version": "1.5.0",
            "_view_name": "HTMLView",
            "description": "",
            "description_tooltip": null,
            "layout": "IPY_MODEL_90cdbe5cbdfe4dc08034f993777b8b4e",
            "placeholder": "​",
            "style": "IPY_MODEL_598ac016838048288880c397442e05d7",
            "value": " 40/40 [00:40&lt;00:00,  2.94s/it]"
          }
        },
        "c18cf1b09c13479cb123b6cc5a63a514": {
          "model_module": "@jupyter-widgets/base",
          "model_name": "LayoutModel",
          "model_module_version": "1.2.0",
          "state": {
            "_model_module": "@jupyter-widgets/base",
            "_model_module_version": "1.2.0",
            "_model_name": "LayoutModel",
            "_view_count": null,
            "_view_module": "@jupyter-widgets/base",
            "_view_module_version": "1.2.0",
            "_view_name": "LayoutView",
            "align_content": null,
            "align_items": null,
            "align_self": null,
            "border": null,
            "bottom": null,
            "display": null,
            "flex": null,
            "flex_flow": null,
            "grid_area": null,
            "grid_auto_columns": null,
            "grid_auto_flow": null,
            "grid_auto_rows": null,
            "grid_column": null,
            "grid_gap": null,
            "grid_row": null,
            "grid_template_areas": null,
            "grid_template_columns": null,
            "grid_template_rows": null,
            "height": null,
            "justify_content": null,
            "justify_items": null,
            "left": null,
            "margin": null,
            "max_height": null,
            "max_width": null,
            "min_height": null,
            "min_width": null,
            "object_fit": null,
            "object_position": null,
            "order": null,
            "overflow": null,
            "overflow_x": null,
            "overflow_y": null,
            "padding": null,
            "right": null,
            "top": null,
            "visibility": null,
            "width": null
          }
        },
        "533ee9b8f40b470782e9770e0b819f07": {
          "model_module": "@jupyter-widgets/base",
          "model_name": "LayoutModel",
          "model_module_version": "1.2.0",
          "state": {
            "_model_module": "@jupyter-widgets/base",
            "_model_module_version": "1.2.0",
            "_model_name": "LayoutModel",
            "_view_count": null,
            "_view_module": "@jupyter-widgets/base",
            "_view_module_version": "1.2.0",
            "_view_name": "LayoutView",
            "align_content": null,
            "align_items": null,
            "align_self": null,
            "border": null,
            "bottom": null,
            "display": null,
            "flex": null,
            "flex_flow": null,
            "grid_area": null,
            "grid_auto_columns": null,
            "grid_auto_flow": null,
            "grid_auto_rows": null,
            "grid_column": null,
            "grid_gap": null,
            "grid_row": null,
            "grid_template_areas": null,
            "grid_template_columns": null,
            "grid_template_rows": null,
            "height": null,
            "justify_content": null,
            "justify_items": null,
            "left": null,
            "margin": null,
            "max_height": null,
            "max_width": null,
            "min_height": null,
            "min_width": null,
            "object_fit": null,
            "object_position": null,
            "order": null,
            "overflow": null,
            "overflow_x": null,
            "overflow_y": null,
            "padding": null,
            "right": null,
            "top": null,
            "visibility": null,
            "width": null
          }
        },
        "05920d7757ab447fafd2da7bf10adbc0": {
          "model_module": "@jupyter-widgets/controls",
          "model_name": "DescriptionStyleModel",
          "model_module_version": "1.5.0",
          "state": {
            "_model_module": "@jupyter-widgets/controls",
            "_model_module_version": "1.5.0",
            "_model_name": "DescriptionStyleModel",
            "_view_count": null,
            "_view_module": "@jupyter-widgets/base",
            "_view_module_version": "1.2.0",
            "_view_name": "StyleView",
            "description_width": ""
          }
        },
        "670143476cdb4bbfb6de9c003b8bcf9c": {
          "model_module": "@jupyter-widgets/base",
          "model_name": "LayoutModel",
          "model_module_version": "1.2.0",
          "state": {
            "_model_module": "@jupyter-widgets/base",
            "_model_module_version": "1.2.0",
            "_model_name": "LayoutModel",
            "_view_count": null,
            "_view_module": "@jupyter-widgets/base",
            "_view_module_version": "1.2.0",
            "_view_name": "LayoutView",
            "align_content": null,
            "align_items": null,
            "align_self": null,
            "border": null,
            "bottom": null,
            "display": null,
            "flex": null,
            "flex_flow": null,
            "grid_area": null,
            "grid_auto_columns": null,
            "grid_auto_flow": null,
            "grid_auto_rows": null,
            "grid_column": null,
            "grid_gap": null,
            "grid_row": null,
            "grid_template_areas": null,
            "grid_template_columns": null,
            "grid_template_rows": null,
            "height": null,
            "justify_content": null,
            "justify_items": null,
            "left": null,
            "margin": null,
            "max_height": null,
            "max_width": null,
            "min_height": null,
            "min_width": null,
            "object_fit": null,
            "object_position": null,
            "order": null,
            "overflow": null,
            "overflow_x": null,
            "overflow_y": null,
            "padding": null,
            "right": null,
            "top": null,
            "visibility": null,
            "width": null
          }
        },
        "5d2ebc0c6bd34108bacd11b98d4eb4ae": {
          "model_module": "@jupyter-widgets/controls",
          "model_name": "ProgressStyleModel",
          "model_module_version": "1.5.0",
          "state": {
            "_model_module": "@jupyter-widgets/controls",
            "_model_module_version": "1.5.0",
            "_model_name": "ProgressStyleModel",
            "_view_count": null,
            "_view_module": "@jupyter-widgets/base",
            "_view_module_version": "1.2.0",
            "_view_name": "StyleView",
            "bar_color": null,
            "description_width": ""
          }
        },
        "90cdbe5cbdfe4dc08034f993777b8b4e": {
          "model_module": "@jupyter-widgets/base",
          "model_name": "LayoutModel",
          "model_module_version": "1.2.0",
          "state": {
            "_model_module": "@jupyter-widgets/base",
            "_model_module_version": "1.2.0",
            "_model_name": "LayoutModel",
            "_view_count": null,
            "_view_module": "@jupyter-widgets/base",
            "_view_module_version": "1.2.0",
            "_view_name": "LayoutView",
            "align_content": null,
            "align_items": null,
            "align_self": null,
            "border": null,
            "bottom": null,
            "display": null,
            "flex": null,
            "flex_flow": null,
            "grid_area": null,
            "grid_auto_columns": null,
            "grid_auto_flow": null,
            "grid_auto_rows": null,
            "grid_column": null,
            "grid_gap": null,
            "grid_row": null,
            "grid_template_areas": null,
            "grid_template_columns": null,
            "grid_template_rows": null,
            "height": null,
            "justify_content": null,
            "justify_items": null,
            "left": null,
            "margin": null,
            "max_height": null,
            "max_width": null,
            "min_height": null,
            "min_width": null,
            "object_fit": null,
            "object_position": null,
            "order": null,
            "overflow": null,
            "overflow_x": null,
            "overflow_y": null,
            "padding": null,
            "right": null,
            "top": null,
            "visibility": null,
            "width": null
          }
        },
        "598ac016838048288880c397442e05d7": {
          "model_module": "@jupyter-widgets/controls",
          "model_name": "DescriptionStyleModel",
          "model_module_version": "1.5.0",
          "state": {
            "_model_module": "@jupyter-widgets/controls",
            "_model_module_version": "1.5.0",
            "_model_name": "DescriptionStyleModel",
            "_view_count": null,
            "_view_module": "@jupyter-widgets/base",
            "_view_module_version": "1.2.0",
            "_view_name": "StyleView",
            "description_width": ""
          }
        },
        "e72f2d200a5847f3a7a1ae5d9418e9da": {
          "model_module": "@jupyter-widgets/controls",
          "model_name": "HBoxModel",
          "model_module_version": "1.5.0",
          "state": {
            "_dom_classes": [],
            "_model_module": "@jupyter-widgets/controls",
            "_model_module_version": "1.5.0",
            "_model_name": "HBoxModel",
            "_view_count": null,
            "_view_module": "@jupyter-widgets/controls",
            "_view_module_version": "1.5.0",
            "_view_name": "HBoxView",
            "box_style": "",
            "children": [
              "IPY_MODEL_f67613fd66c245e4b1d67b9ebb948ead",
              "IPY_MODEL_5e2e6d9f1b0945aa9f7b45a046156587",
              "IPY_MODEL_12cc9a305ff1443ea1e2eddcebfa5da7"
            ],
            "layout": "IPY_MODEL_41a49b3f9a4c412c92efea10ae98c042"
          }
        },
        "f67613fd66c245e4b1d67b9ebb948ead": {
          "model_module": "@jupyter-widgets/controls",
          "model_name": "HTMLModel",
          "model_module_version": "1.5.0",
          "state": {
            "_dom_classes": [],
            "_model_module": "@jupyter-widgets/controls",
            "_model_module_version": "1.5.0",
            "_model_name": "HTMLModel",
            "_view_count": null,
            "_view_module": "@jupyter-widgets/controls",
            "_view_module_version": "1.5.0",
            "_view_name": "HTMLView",
            "description": "",
            "description_tooltip": null,
            "layout": "IPY_MODEL_73ae96e29e0743aca6fc10d78b1c4504",
            "placeholder": "​",
            "style": "IPY_MODEL_9f7793bc5c704eaab4c28833aed20859",
            "value": "Evaluating: 100%"
          }
        },
        "5e2e6d9f1b0945aa9f7b45a046156587": {
          "model_module": "@jupyter-widgets/controls",
          "model_name": "FloatProgressModel",
          "model_module_version": "1.5.0",
          "state": {
            "_dom_classes": [],
            "_model_module": "@jupyter-widgets/controls",
            "_model_module_version": "1.5.0",
            "_model_name": "FloatProgressModel",
            "_view_count": null,
            "_view_module": "@jupyter-widgets/controls",
            "_view_module_version": "1.5.0",
            "_view_name": "ProgressView",
            "bar_style": "success",
            "description": "",
            "description_tooltip": null,
            "layout": "IPY_MODEL_e99c76e231db4aac96acc2313bcd33cf",
            "max": 40,
            "min": 0,
            "orientation": "horizontal",
            "style": "IPY_MODEL_4f20fef2d7854e939199192cc5b2aeb7",
            "value": 40
          }
        },
        "12cc9a305ff1443ea1e2eddcebfa5da7": {
          "model_module": "@jupyter-widgets/controls",
          "model_name": "HTMLModel",
          "model_module_version": "1.5.0",
          "state": {
            "_dom_classes": [],
            "_model_module": "@jupyter-widgets/controls",
            "_model_module_version": "1.5.0",
            "_model_name": "HTMLModel",
            "_view_count": null,
            "_view_module": "@jupyter-widgets/controls",
            "_view_module_version": "1.5.0",
            "_view_name": "HTMLView",
            "description": "",
            "description_tooltip": null,
            "layout": "IPY_MODEL_ff571bab3dce4c0a9d773a2dbd1f9bfb",
            "placeholder": "​",
            "style": "IPY_MODEL_1fa22b1687c642c382a90e204a250e20",
            "value": " 40/40 [01:00&lt;00:00,  6.11s/it]"
          }
        },
        "41a49b3f9a4c412c92efea10ae98c042": {
          "model_module": "@jupyter-widgets/base",
          "model_name": "LayoutModel",
          "model_module_version": "1.2.0",
          "state": {
            "_model_module": "@jupyter-widgets/base",
            "_model_module_version": "1.2.0",
            "_model_name": "LayoutModel",
            "_view_count": null,
            "_view_module": "@jupyter-widgets/base",
            "_view_module_version": "1.2.0",
            "_view_name": "LayoutView",
            "align_content": null,
            "align_items": null,
            "align_self": null,
            "border": null,
            "bottom": null,
            "display": null,
            "flex": null,
            "flex_flow": null,
            "grid_area": null,
            "grid_auto_columns": null,
            "grid_auto_flow": null,
            "grid_auto_rows": null,
            "grid_column": null,
            "grid_gap": null,
            "grid_row": null,
            "grid_template_areas": null,
            "grid_template_columns": null,
            "grid_template_rows": null,
            "height": null,
            "justify_content": null,
            "justify_items": null,
            "left": null,
            "margin": null,
            "max_height": null,
            "max_width": null,
            "min_height": null,
            "min_width": null,
            "object_fit": null,
            "object_position": null,
            "order": null,
            "overflow": null,
            "overflow_x": null,
            "overflow_y": null,
            "padding": null,
            "right": null,
            "top": null,
            "visibility": null,
            "width": null
          }
        },
        "73ae96e29e0743aca6fc10d78b1c4504": {
          "model_module": "@jupyter-widgets/base",
          "model_name": "LayoutModel",
          "model_module_version": "1.2.0",
          "state": {
            "_model_module": "@jupyter-widgets/base",
            "_model_module_version": "1.2.0",
            "_model_name": "LayoutModel",
            "_view_count": null,
            "_view_module": "@jupyter-widgets/base",
            "_view_module_version": "1.2.0",
            "_view_name": "LayoutView",
            "align_content": null,
            "align_items": null,
            "align_self": null,
            "border": null,
            "bottom": null,
            "display": null,
            "flex": null,
            "flex_flow": null,
            "grid_area": null,
            "grid_auto_columns": null,
            "grid_auto_flow": null,
            "grid_auto_rows": null,
            "grid_column": null,
            "grid_gap": null,
            "grid_row": null,
            "grid_template_areas": null,
            "grid_template_columns": null,
            "grid_template_rows": null,
            "height": null,
            "justify_content": null,
            "justify_items": null,
            "left": null,
            "margin": null,
            "max_height": null,
            "max_width": null,
            "min_height": null,
            "min_width": null,
            "object_fit": null,
            "object_position": null,
            "order": null,
            "overflow": null,
            "overflow_x": null,
            "overflow_y": null,
            "padding": null,
            "right": null,
            "top": null,
            "visibility": null,
            "width": null
          }
        },
        "9f7793bc5c704eaab4c28833aed20859": {
          "model_module": "@jupyter-widgets/controls",
          "model_name": "DescriptionStyleModel",
          "model_module_version": "1.5.0",
          "state": {
            "_model_module": "@jupyter-widgets/controls",
            "_model_module_version": "1.5.0",
            "_model_name": "DescriptionStyleModel",
            "_view_count": null,
            "_view_module": "@jupyter-widgets/base",
            "_view_module_version": "1.2.0",
            "_view_name": "StyleView",
            "description_width": ""
          }
        },
        "e99c76e231db4aac96acc2313bcd33cf": {
          "model_module": "@jupyter-widgets/base",
          "model_name": "LayoutModel",
          "model_module_version": "1.2.0",
          "state": {
            "_model_module": "@jupyter-widgets/base",
            "_model_module_version": "1.2.0",
            "_model_name": "LayoutModel",
            "_view_count": null,
            "_view_module": "@jupyter-widgets/base",
            "_view_module_version": "1.2.0",
            "_view_name": "LayoutView",
            "align_content": null,
            "align_items": null,
            "align_self": null,
            "border": null,
            "bottom": null,
            "display": null,
            "flex": null,
            "flex_flow": null,
            "grid_area": null,
            "grid_auto_columns": null,
            "grid_auto_flow": null,
            "grid_auto_rows": null,
            "grid_column": null,
            "grid_gap": null,
            "grid_row": null,
            "grid_template_areas": null,
            "grid_template_columns": null,
            "grid_template_rows": null,
            "height": null,
            "justify_content": null,
            "justify_items": null,
            "left": null,
            "margin": null,
            "max_height": null,
            "max_width": null,
            "min_height": null,
            "min_width": null,
            "object_fit": null,
            "object_position": null,
            "order": null,
            "overflow": null,
            "overflow_x": null,
            "overflow_y": null,
            "padding": null,
            "right": null,
            "top": null,
            "visibility": null,
            "width": null
          }
        },
        "4f20fef2d7854e939199192cc5b2aeb7": {
          "model_module": "@jupyter-widgets/controls",
          "model_name": "ProgressStyleModel",
          "model_module_version": "1.5.0",
          "state": {
            "_model_module": "@jupyter-widgets/controls",
            "_model_module_version": "1.5.0",
            "_model_name": "ProgressStyleModel",
            "_view_count": null,
            "_view_module": "@jupyter-widgets/base",
            "_view_module_version": "1.2.0",
            "_view_name": "StyleView",
            "bar_color": null,
            "description_width": ""
          }
        },
        "ff571bab3dce4c0a9d773a2dbd1f9bfb": {
          "model_module": "@jupyter-widgets/base",
          "model_name": "LayoutModel",
          "model_module_version": "1.2.0",
          "state": {
            "_model_module": "@jupyter-widgets/base",
            "_model_module_version": "1.2.0",
            "_model_name": "LayoutModel",
            "_view_count": null,
            "_view_module": "@jupyter-widgets/base",
            "_view_module_version": "1.2.0",
            "_view_name": "LayoutView",
            "align_content": null,
            "align_items": null,
            "align_self": null,
            "border": null,
            "bottom": null,
            "display": null,
            "flex": null,
            "flex_flow": null,
            "grid_area": null,
            "grid_auto_columns": null,
            "grid_auto_flow": null,
            "grid_auto_rows": null,
            "grid_column": null,
            "grid_gap": null,
            "grid_row": null,
            "grid_template_areas": null,
            "grid_template_columns": null,
            "grid_template_rows": null,
            "height": null,
            "justify_content": null,
            "justify_items": null,
            "left": null,
            "margin": null,
            "max_height": null,
            "max_width": null,
            "min_height": null,
            "min_width": null,
            "object_fit": null,
            "object_position": null,
            "order": null,
            "overflow": null,
            "overflow_x": null,
            "overflow_y": null,
            "padding": null,
            "right": null,
            "top": null,
            "visibility": null,
            "width": null
          }
        },
        "1fa22b1687c642c382a90e204a250e20": {
          "model_module": "@jupyter-widgets/controls",
          "model_name": "DescriptionStyleModel",
          "model_module_version": "1.5.0",
          "state": {
            "_model_module": "@jupyter-widgets/controls",
            "_model_module_version": "1.5.0",
            "_model_name": "DescriptionStyleModel",
            "_view_count": null,
            "_view_module": "@jupyter-widgets/base",
            "_view_module_version": "1.2.0",
            "_view_name": "StyleView",
            "description_width": ""
          }
        }
      }
    }
  },
  "nbformat": 4,
  "nbformat_minor": 0
}