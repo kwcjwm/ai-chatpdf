{
  "cells": [
    {
      "cell_type": "markdown",
      "metadata": {
        "id": "sHpnj4E-B-4x"
      },
      "source": [
        "# [실습] LangChain을 이용한 SQL 데이터베이스 분석"
      ]
    },
    {
      "cell_type": "markdown",
      "metadata": {
        "id": "OrcM7fj-B-4z"
      },
      "source": [
        "LangChain은 다양한 데이터 형식과 연동됩니다.    \n",
        "이번 실습에서는 SQL 데이터베이스와 연동하기 위해, SQL 쿼리를 생성하고 실제로 실행하는 방법을 활용해 보겠습니다."
      ]
    },
    {
      "cell_type": "code",
      "execution_count": null,
      "metadata": {
        "id": "pQSPoM_HB-4z",
        "collapsed": true,
        "colab": {
          "base_uri": "https://localhost:8080/"
        },
        "outputId": "818a6808-27fc-4b79-f00e-ccb5b34396d3"
      },
      "outputs": [
        {
          "output_type": "stream",
          "name": "stdout",
          "text": [
            "Requirement already satisfied: openai in /usr/local/lib/python3.12/dist-packages (1.109.1)\n",
            "Requirement already satisfied: langchain in /usr/local/lib/python3.12/dist-packages (0.3.27)\n",
            "Collecting langchain-community\n",
            "  Downloading langchain_community-0.4-py3-none-any.whl.metadata (3.0 kB)\n",
            "Collecting langchain-openai\n",
            "  Downloading langchain_openai-1.0.0-py3-none-any.whl.metadata (1.8 kB)\n",
            "Requirement already satisfied: matplotlib in /usr/local/lib/python3.12/dist-packages (3.10.0)\n",
            "Collecting dotenv\n",
            "  Downloading dotenv-0.9.9-py2.py3-none-any.whl.metadata (279 bytes)\n",
            "Requirement already satisfied: anyio<5,>=3.5.0 in /usr/local/lib/python3.12/dist-packages (from openai) (4.11.0)\n",
            "Requirement already satisfied: distro<2,>=1.7.0 in /usr/local/lib/python3.12/dist-packages (from openai) (1.9.0)\n",
            "Requirement already satisfied: httpx<1,>=0.23.0 in /usr/local/lib/python3.12/dist-packages (from openai) (0.28.1)\n",
            "Requirement already satisfied: jiter<1,>=0.4.0 in /usr/local/lib/python3.12/dist-packages (from openai) (0.11.0)\n",
            "Requirement already satisfied: pydantic<3,>=1.9.0 in /usr/local/lib/python3.12/dist-packages (from openai) (2.11.10)\n",
            "Requirement already satisfied: sniffio in /usr/local/lib/python3.12/dist-packages (from openai) (1.3.1)\n",
            "Requirement already satisfied: tqdm>4 in /usr/local/lib/python3.12/dist-packages (from openai) (4.67.1)\n",
            "Requirement already satisfied: typing-extensions<5,>=4.11 in /usr/local/lib/python3.12/dist-packages (from openai) (4.15.0)\n",
            "Requirement already satisfied: langchain-core<1.0.0,>=0.3.72 in /usr/local/lib/python3.12/dist-packages (from langchain) (0.3.79)\n",
            "Requirement already satisfied: langchain-text-splitters<1.0.0,>=0.3.9 in /usr/local/lib/python3.12/dist-packages (from langchain) (0.3.11)\n",
            "Requirement already satisfied: langsmith>=0.1.17 in /usr/local/lib/python3.12/dist-packages (from langchain) (0.4.35)\n",
            "Requirement already satisfied: SQLAlchemy<3,>=1.4 in /usr/local/lib/python3.12/dist-packages (from langchain) (2.0.44)\n",
            "Requirement already satisfied: requests<3,>=2 in /usr/local/lib/python3.12/dist-packages (from langchain) (2.32.4)\n",
            "Requirement already satisfied: PyYAML>=5.3 in /usr/local/lib/python3.12/dist-packages (from langchain) (6.0.3)\n",
            "INFO: pip is looking at multiple versions of langchain-community to determine which version is compatible with other requirements. This could take a while.\n",
            "Collecting langchain-community\n",
            "  Downloading langchain_community-0.3.31-py3-none-any.whl.metadata (3.0 kB)\n",
            "Collecting requests<3,>=2 (from langchain)\n",
            "  Downloading requests-2.32.5-py3-none-any.whl.metadata (4.9 kB)\n",
            "Requirement already satisfied: aiohttp<4.0.0,>=3.8.3 in /usr/local/lib/python3.12/dist-packages (from langchain-community) (3.13.0)\n",
            "Requirement already satisfied: tenacity!=8.4.0,<10.0.0,>=8.1.0 in /usr/local/lib/python3.12/dist-packages (from langchain-community) (8.5.0)\n",
            "Collecting dataclasses-json<0.7.0,>=0.6.7 (from langchain-community)\n",
            "  Downloading dataclasses_json-0.6.7-py3-none-any.whl.metadata (25 kB)\n",
            "Requirement already satisfied: pydantic-settings<3.0.0,>=2.10.1 in /usr/local/lib/python3.12/dist-packages (from langchain-community) (2.11.0)\n",
            "Requirement already satisfied: httpx-sse<1.0.0,>=0.4.0 in /usr/local/lib/python3.12/dist-packages (from langchain-community) (0.4.3)\n",
            "Requirement already satisfied: numpy>=1.26.2 in /usr/local/lib/python3.12/dist-packages (from langchain-community) (2.0.2)\n",
            "INFO: pip is looking at multiple versions of langchain-openai to determine which version is compatible with other requirements. This could take a while.\n",
            "Collecting langchain-openai\n",
            "  Downloading langchain_openai-0.3.35-py3-none-any.whl.metadata (2.4 kB)\n",
            "Requirement already satisfied: tiktoken<1.0.0,>=0.7.0 in /usr/local/lib/python3.12/dist-packages (from langchain-openai) (0.12.0)\n",
            "Requirement already satisfied: contourpy>=1.0.1 in /usr/local/lib/python3.12/dist-packages (from matplotlib) (1.3.3)\n",
            "Requirement already satisfied: cycler>=0.10 in /usr/local/lib/python3.12/dist-packages (from matplotlib) (0.12.1)\n",
            "Requirement already satisfied: fonttools>=4.22.0 in /usr/local/lib/python3.12/dist-packages (from matplotlib) (4.60.1)\n",
            "Requirement already satisfied: kiwisolver>=1.3.1 in /usr/local/lib/python3.12/dist-packages (from matplotlib) (1.4.9)\n",
            "Requirement already satisfied: packaging>=20.0 in /usr/local/lib/python3.12/dist-packages (from matplotlib) (25.0)\n",
            "Requirement already satisfied: pillow>=8 in /usr/local/lib/python3.12/dist-packages (from matplotlib) (11.3.0)\n",
            "Requirement already satisfied: pyparsing>=2.3.1 in /usr/local/lib/python3.12/dist-packages (from matplotlib) (3.2.5)\n",
            "Requirement already satisfied: python-dateutil>=2.7 in /usr/local/lib/python3.12/dist-packages (from matplotlib) (2.9.0.post0)\n",
            "Requirement already satisfied: python-dotenv in /usr/local/lib/python3.12/dist-packages (from dotenv) (1.1.1)\n",
            "Requirement already satisfied: aiohappyeyeballs>=2.5.0 in /usr/local/lib/python3.12/dist-packages (from aiohttp<4.0.0,>=3.8.3->langchain-community) (2.6.1)\n",
            "Requirement already satisfied: aiosignal>=1.4.0 in /usr/local/lib/python3.12/dist-packages (from aiohttp<4.0.0,>=3.8.3->langchain-community) (1.4.0)\n",
            "Requirement already satisfied: attrs>=17.3.0 in /usr/local/lib/python3.12/dist-packages (from aiohttp<4.0.0,>=3.8.3->langchain-community) (25.4.0)\n",
            "Requirement already satisfied: frozenlist>=1.1.1 in /usr/local/lib/python3.12/dist-packages (from aiohttp<4.0.0,>=3.8.3->langchain-community) (1.8.0)\n",
            "Requirement already satisfied: multidict<7.0,>=4.5 in /usr/local/lib/python3.12/dist-packages (from aiohttp<4.0.0,>=3.8.3->langchain-community) (6.7.0)\n",
            "Requirement already satisfied: propcache>=0.2.0 in /usr/local/lib/python3.12/dist-packages (from aiohttp<4.0.0,>=3.8.3->langchain-community) (0.4.1)\n",
            "Requirement already satisfied: yarl<2.0,>=1.17.0 in /usr/local/lib/python3.12/dist-packages (from aiohttp<4.0.0,>=3.8.3->langchain-community) (1.22.0)\n",
            "Requirement already satisfied: idna>=2.8 in /usr/local/lib/python3.12/dist-packages (from anyio<5,>=3.5.0->openai) (3.11)\n",
            "Collecting marshmallow<4.0.0,>=3.18.0 (from dataclasses-json<0.7.0,>=0.6.7->langchain-community)\n",
            "  Downloading marshmallow-3.26.1-py3-none-any.whl.metadata (7.3 kB)\n",
            "Collecting typing-inspect<1,>=0.4.0 (from dataclasses-json<0.7.0,>=0.6.7->langchain-community)\n",
            "  Downloading typing_inspect-0.9.0-py3-none-any.whl.metadata (1.5 kB)\n",
            "Requirement already satisfied: certifi in /usr/local/lib/python3.12/dist-packages (from httpx<1,>=0.23.0->openai) (2025.10.5)\n",
            "Requirement already satisfied: httpcore==1.* in /usr/local/lib/python3.12/dist-packages (from httpx<1,>=0.23.0->openai) (1.0.9)\n",
            "Requirement already satisfied: h11>=0.16 in /usr/local/lib/python3.12/dist-packages (from httpcore==1.*->httpx<1,>=0.23.0->openai) (0.16.0)\n",
            "Requirement already satisfied: jsonpatch<2.0.0,>=1.33.0 in /usr/local/lib/python3.12/dist-packages (from langchain-core<1.0.0,>=0.3.72->langchain) (1.33)\n",
            "Requirement already satisfied: orjson>=3.9.14 in /usr/local/lib/python3.12/dist-packages (from langsmith>=0.1.17->langchain) (3.11.3)\n",
            "Requirement already satisfied: requests-toolbelt>=1.0.0 in /usr/local/lib/python3.12/dist-packages (from langsmith>=0.1.17->langchain) (1.0.0)\n",
            "Requirement already satisfied: zstandard>=0.23.0 in /usr/local/lib/python3.12/dist-packages (from langsmith>=0.1.17->langchain) (0.25.0)\n",
            "Requirement already satisfied: annotated-types>=0.6.0 in /usr/local/lib/python3.12/dist-packages (from pydantic<3,>=1.9.0->openai) (0.7.0)\n",
            "Requirement already satisfied: pydantic-core==2.33.2 in /usr/local/lib/python3.12/dist-packages (from pydantic<3,>=1.9.0->openai) (2.33.2)\n",
            "Requirement already satisfied: typing-inspection>=0.4.0 in /usr/local/lib/python3.12/dist-packages (from pydantic<3,>=1.9.0->openai) (0.4.2)\n",
            "Requirement already satisfied: six>=1.5 in /usr/local/lib/python3.12/dist-packages (from python-dateutil>=2.7->matplotlib) (1.17.0)\n",
            "Requirement already satisfied: charset_normalizer<4,>=2 in /usr/local/lib/python3.12/dist-packages (from requests<3,>=2->langchain) (3.4.4)\n",
            "Requirement already satisfied: urllib3<3,>=1.21.1 in /usr/local/lib/python3.12/dist-packages (from requests<3,>=2->langchain) (2.5.0)\n",
            "Requirement already satisfied: greenlet>=1 in /usr/local/lib/python3.12/dist-packages (from SQLAlchemy<3,>=1.4->langchain) (3.2.4)\n",
            "Requirement already satisfied: regex>=2022.1.18 in /usr/local/lib/python3.12/dist-packages (from tiktoken<1.0.0,>=0.7.0->langchain-openai) (2024.11.6)\n",
            "Requirement already satisfied: jsonpointer>=1.9 in /usr/local/lib/python3.12/dist-packages (from jsonpatch<2.0.0,>=1.33.0->langchain-core<1.0.0,>=0.3.72->langchain) (3.0.0)\n",
            "Collecting mypy-extensions>=0.3.0 (from typing-inspect<1,>=0.4.0->dataclasses-json<0.7.0,>=0.6.7->langchain-community)\n",
            "  Downloading mypy_extensions-1.1.0-py3-none-any.whl.metadata (1.1 kB)\n",
            "Downloading langchain_community-0.3.31-py3-none-any.whl (2.5 MB)\n",
            "\u001b[2K   \u001b[90m━━━━━━━━━━━━━━━━━━━━━━━━━━━━━━━━━━━━━━━━\u001b[0m \u001b[32m2.5/2.5 MB\u001b[0m \u001b[31m16.9 MB/s\u001b[0m eta \u001b[36m0:00:00\u001b[0m\n",
            "\u001b[?25hDownloading langchain_openai-0.3.35-py3-none-any.whl (75 kB)\n",
            "\u001b[2K   \u001b[90m━━━━━━━━━━━━━━━━━━━━━━━━━━━━━━━━━━━━━━━━\u001b[0m \u001b[32m76.0/76.0 kB\u001b[0m \u001b[31m2.8 MB/s\u001b[0m eta \u001b[36m0:00:00\u001b[0m\n",
            "\u001b[?25hDownloading dotenv-0.9.9-py2.py3-none-any.whl (1.9 kB)\n",
            "Downloading dataclasses_json-0.6.7-py3-none-any.whl (28 kB)\n",
            "Downloading requests-2.32.5-py3-none-any.whl (64 kB)\n",
            "\u001b[2K   \u001b[90m━━━━━━━━━━━━━━━━━━━━━━━━━━━━━━━━━━━━━━━━\u001b[0m \u001b[32m64.7/64.7 kB\u001b[0m \u001b[31m3.1 MB/s\u001b[0m eta \u001b[36m0:00:00\u001b[0m\n",
            "\u001b[?25hDownloading marshmallow-3.26.1-py3-none-any.whl (50 kB)\n",
            "\u001b[2K   \u001b[90m━━━━━━━━━━━━━━━━━━━━━━━━━━━━━━━━━━━━━━━━\u001b[0m \u001b[32m50.9/50.9 kB\u001b[0m \u001b[31m2.5 MB/s\u001b[0m eta \u001b[36m0:00:00\u001b[0m\n",
            "\u001b[?25hDownloading typing_inspect-0.9.0-py3-none-any.whl (8.8 kB)\n",
            "Downloading mypy_extensions-1.1.0-py3-none-any.whl (5.0 kB)\n",
            "Installing collected packages: requests, mypy-extensions, marshmallow, dotenv, typing-inspect, dataclasses-json, langchain-openai, langchain-community\n",
            "  Attempting uninstall: requests\n",
            "    Found existing installation: requests 2.32.4\n",
            "    Uninstalling requests-2.32.4:\n",
            "      Successfully uninstalled requests-2.32.4\n",
            "\u001b[31mERROR: pip's dependency resolver does not currently take into account all the packages that are installed. This behaviour is the source of the following dependency conflicts.\n",
            "google-colab 1.0.0 requires requests==2.32.4, but you have requests 2.32.5 which is incompatible.\u001b[0m\u001b[31m\n",
            "\u001b[0mSuccessfully installed dataclasses-json-0.6.7 dotenv-0.9.9 langchain-community-0.3.31 langchain-openai-0.3.35 marshmallow-3.26.1 mypy-extensions-1.1.0 requests-2.32.5 typing-inspect-0.9.0\n"
          ]
        }
      ],
      "source": [
        "!pip install openai langchain langchain-community langchain-openai matplotlib dotenv"
      ]
    },
    {
      "cell_type": "code",
      "execution_count": null,
      "metadata": {
        "id": "9X806NrX0Tqv"
      },
      "outputs": [],
      "source": [
        "from langchain_openai import ChatOpenAI\n",
        "import os\n",
        "from dotenv import load_dotenv\n",
        "\n",
        "load_dotenv('env',override=True)\n",
        "\n",
        "\n",
        "llm = ChatOpenAI(model = 'gpt-5-mini', # temperature=0.1,\n",
        "                 reasoning_effort='low')"
      ]
    },
    {
      "cell_type": "code",
      "source": [
        "llm.invoke(\"SQL DB의 핵심 명령어 5개 알려줘\")"
      ],
      "metadata": {
        "colab": {
          "base_uri": "https://localhost:8080/"
        },
        "id": "9Nb32ayI9KfM",
        "outputId": "b176046c-0248-4b09-d810-a828354cd2db"
      },
      "execution_count": null,
      "outputs": [
        {
          "output_type": "execute_result",
          "data": {
            "text/plain": [
              "AIMessage(content=\"다음은 SQL(관계형 DB)에서 가장 핵심적인 5가지 명령어와 간단한 설명·예시입니다.\\n\\n1) SELECT — 데이터 조회\\n- 설명: 테이블에서 행(레코드)을 조회한다.\\n- 기본 문법: SELECT 컬럼 FROM 테이블 WHERE 조건;\\n- 예: SELECT id, name FROM users WHERE active = 1 ORDER BY created_at DESC;\\n\\n2) INSERT — 데이터 삽입\\n- 설명: 테이블에 새로운 행을 추가한다.\\n- 기본 문법: INSERT INTO 테이블 (컬럼1, 컬럼2) VALUES (값1, 값2);\\n- 예: INSERT INTO users (name, email, active) VALUES ('홍길동', 'hong@example.com', 1);\\n\\n3) UPDATE — 데이터 수정\\n- 설명: 기존 행의 값을 변경한다(보통 WHERE로 대상 지정).\\n- 기본 문법: UPDATE 테이블 SET 컬럼1 = 값1, 컬럼2 = 값2 WHERE 조건;\\n- 예: UPDATE users SET active = 0 WHERE id = 10;\\n\\n4) DELETE — 데이터 삭제\\n- 설명: 테이블에서 행을 삭제한다(주의: WHERE 없으면 전체 삭제).\\n- 기본 문법: DELETE FROM 테이블 WHERE 조건;\\n- 예: DELETE FROM users WHERE id = 10;\\n\\n5) CREATE TABLE — 테이블 생성(스키마 정의)\\n- 설명: 새 테이블과 컬럼(타입, 제약조건)을 만든다.\\n- 기본 문법: CREATE TABLE 테이블명 (컬럼명 타입 제약조건, ...);\\n- 예: \\n  CREATE TABLE users (\\n    id INT PRIMARY KEY AUTO_INCREMENT,\\n    name VARCHAR(100) NOT NULL,\\n    email VARCHAR(255) UNIQUE,\\n    created_at TIMESTAMP DEFAULT CURRENT_TIMESTAMP\\n  );\\n\\n추가로 자주 쓰이는 명령어로는 DROP TABLE(테이블 삭제), ALTER TABLE(스키마 변경), JOIN(여러 테이블 결합), TRANSACTION 관련 명령(BEGIN/COMMIT/ROLLBACK) 등이 있습니다. 필요하면 예제나 트랜잭션/인덱스 사용법도 알려드릴게요.\", additional_kwargs={'refusal': None}, response_metadata={'token_usage': {'completion_tokens': 526, 'prompt_tokens': 19, 'total_tokens': 545, 'completion_tokens_details': {'accepted_prediction_tokens': 0, 'audio_tokens': 0, 'reasoning_tokens': 64, 'rejected_prediction_tokens': 0}, 'prompt_tokens_details': {'audio_tokens': 0, 'cached_tokens': 0}}, 'model_name': 'gpt-5-mini-2025-08-07', 'system_fingerprint': None, 'id': 'chatcmpl-CSxyJ8zLYKCGMvxN38FcXJ9vjNM2N', 'service_tier': 'default', 'finish_reason': 'stop', 'logprobs': None}, id='run--483a6cdb-023d-4d4d-8386-a88a126c04a8-0', usage_metadata={'input_tokens': 19, 'output_tokens': 526, 'total_tokens': 545, 'input_token_details': {'audio': 0, 'cache_read': 0}, 'output_token_details': {'audio': 0, 'reasoning': 64}})"
            ]
          },
          "metadata": {},
          "execution_count": 3
        }
      ]
    },
    {
      "cell_type": "markdown",
      "metadata": {
        "id": "VavsRrYTB-40"
      },
      "source": [
        "## 1. 예제 SQL 파일 만들기   \n",
        "\n",
        "가상의 도서관 데이터베이스를 만들어 활용하겠습니다.   \n",
        "책, 유저, 대여 정보로 구성된 3개의 테이블을 사용하겠습니다."
      ]
    },
    {
      "cell_type": "code",
      "source": [
        "import sqlite3\n",
        "from datetime import datetime, timedelta\n",
        "\n",
        "# 현재 날짜 기준 설정\n",
        "today = datetime.now().date()\n",
        "\n",
        "# SQLite DB 파일 연결\n",
        "conn = sqlite3.connect('library.db')\n",
        "c = conn.cursor()\n",
        "\n",
        "# 1. 출판사 테이블\n",
        "c.execute('''\n",
        "CREATE TABLE IF NOT EXISTS publishers (\n",
        "    publisher_id INTEGER PRIMARY KEY,\n",
        "    name TEXT NOT NULL,\n",
        "    country TEXT,\n",
        "    established_year INTEGER\n",
        ")\n",
        "''')\n",
        "\n",
        "# 2. 저자 테이블 (다대다 관계를 위해 분리)\n",
        "c.execute('''\n",
        "CREATE TABLE IF NOT EXISTS authors (\n",
        "    author_id INTEGER PRIMARY KEY,\n",
        "    name TEXT NOT NULL,\n",
        "    birth_year INTEGER,\n",
        "    nationality TEXT\n",
        ")\n",
        "''')\n",
        "\n",
        "# 3. 카테고리 테이블 (정규화)\n",
        "c.execute('''\n",
        "CREATE TABLE IF NOT EXISTS categories (\n",
        "    category_id INTEGER PRIMARY KEY,\n",
        "    name TEXT NOT NULL,\n",
        "    description TEXT\n",
        ")\n",
        "''')\n",
        "\n",
        "# 4. 책 테이블 (출판사, 카테고리 외래키 추가)\n",
        "c.execute('''\n",
        "CREATE TABLE IF NOT EXISTS books (\n",
        "    book_id INTEGER PRIMARY KEY,\n",
        "    title TEXT NOT NULL,\n",
        "    isbn TEXT UNIQUE,\n",
        "    publication_year INTEGER,\n",
        "    publisher_id INTEGER,\n",
        "    category_id INTEGER,\n",
        "    page_count INTEGER,\n",
        "    language TEXT DEFAULT 'Korean',\n",
        "    FOREIGN KEY(publisher_id) REFERENCES publishers(publisher_id),\n",
        "    FOREIGN KEY(category_id) REFERENCES categories(category_id)\n",
        ")\n",
        "''')\n",
        "\n",
        "# 5. 책-저자 연결 테이블 (다대다 관계)\n",
        "c.execute('''\n",
        "CREATE TABLE IF NOT EXISTS book_authors (\n",
        "    book_id INTEGER,\n",
        "    author_id INTEGER,\n",
        "    author_order INTEGER,\n",
        "    PRIMARY KEY(book_id, author_id),\n",
        "    FOREIGN KEY(book_id) REFERENCES books(book_id),\n",
        "    FOREIGN KEY(author_id) REFERENCES authors(author_id)\n",
        ")\n",
        "''')\n",
        "\n",
        "# 6. 책 복본 테이블 (실제 물리적 책)\n",
        "c.execute('''\n",
        "CREATE TABLE IF NOT EXISTS book_copies (\n",
        "    copy_id INTEGER PRIMARY KEY,\n",
        "    book_id INTEGER,\n",
        "    barcode TEXT UNIQUE,\n",
        "    condition TEXT CHECK(condition IN ('excellent', 'good', 'fair', 'poor')),\n",
        "    location TEXT,\n",
        "    acquisition_date TEXT,\n",
        "    status TEXT DEFAULT 'available' CHECK(status IN ('available', 'borrowed', 'lost', 'repair')),\n",
        "    FOREIGN KEY(book_id) REFERENCES books(book_id)\n",
        ")\n",
        "''')\n",
        "\n",
        "# 7. 회원 등급 테이블\n",
        "c.execute('''\n",
        "CREATE TABLE IF NOT EXISTS membership_types (\n",
        "    type_id INTEGER PRIMARY KEY,\n",
        "    type_name TEXT NOT NULL,\n",
        "    max_books INTEGER,\n",
        "    loan_period_days INTEGER,\n",
        "    late_fee_per_day REAL\n",
        ")\n",
        "''')\n",
        "\n",
        "# 8. 회원 테이블 (등급 추가)\n",
        "c.execute('''\n",
        "CREATE TABLE IF NOT EXISTS members (\n",
        "    member_id INTEGER PRIMARY KEY,\n",
        "    name TEXT NOT NULL,\n",
        "    email TEXT UNIQUE,\n",
        "    phone TEXT,\n",
        "    address TEXT,\n",
        "    join_date TEXT,\n",
        "    membership_type_id INTEGER DEFAULT 1,\n",
        "    is_active INTEGER DEFAULT 1,\n",
        "    FOREIGN KEY(membership_type_id) REFERENCES membership_types(type_id)\n",
        ")\n",
        "''')\n",
        "\n",
        "# 9. 대여 정보 테이블 (실제 복본 기준)\n",
        "c.execute('''\n",
        "CREATE TABLE IF NOT EXISTS rentals (\n",
        "    rental_id INTEGER PRIMARY KEY,\n",
        "    copy_id INTEGER,\n",
        "    member_id INTEGER,\n",
        "    rental_date TEXT,\n",
        "    due_date TEXT,\n",
        "    return_date TEXT,\n",
        "    status TEXT DEFAULT 'active' CHECK(status IN ('active', 'returned', 'overdue')),\n",
        "    FOREIGN KEY(copy_id) REFERENCES book_copies(copy_id),\n",
        "    FOREIGN KEY(member_id) REFERENCES members(member_id)\n",
        ")\n",
        "''')\n",
        "\n",
        "# 10. 예약 테이블\n",
        "c.execute('''\n",
        "CREATE TABLE IF NOT EXISTS reservations (\n",
        "    reservation_id INTEGER PRIMARY KEY,\n",
        "    book_id INTEGER,\n",
        "    member_id INTEGER,\n",
        "    reservation_date TEXT,\n",
        "    status TEXT DEFAULT 'waiting' CHECK(status IN ('waiting', 'ready', 'cancelled', 'completed')),\n",
        "    expiry_date TEXT,\n",
        "    FOREIGN KEY(book_id) REFERENCES books(book_id),\n",
        "    FOREIGN KEY(member_id) REFERENCES members(member_id)\n",
        ")\n",
        "''')\n",
        "\n",
        "# 11. 연체료 테이블\n",
        "c.execute('''\n",
        "CREATE TABLE IF NOT EXISTS late_fees (\n",
        "    fee_id INTEGER PRIMARY KEY,\n",
        "    rental_id INTEGER,\n",
        "    amount REAL,\n",
        "    calculation_date TEXT,\n",
        "    paid INTEGER DEFAULT 0,\n",
        "    payment_date TEXT,\n",
        "    FOREIGN KEY(rental_id) REFERENCES rentals(rental_id)\n",
        ")\n",
        "''')\n",
        "\n",
        "# 12. 리뷰 테이블\n",
        "c.execute('''\n",
        "CREATE TABLE IF NOT EXISTS reviews (\n",
        "    review_id INTEGER PRIMARY KEY,\n",
        "    book_id INTEGER,\n",
        "    member_id INTEGER,\n",
        "    rating INTEGER CHECK(rating >= 1 AND rating <= 5),\n",
        "    comment TEXT,\n",
        "    review_date TEXT,\n",
        "    FOREIGN KEY(book_id) REFERENCES books(book_id),\n",
        "    FOREIGN KEY(member_id) REFERENCES members(member_id)\n",
        ")\n",
        "''')\n",
        "\n",
        "print(\"테이블 생성 완료!\")\n",
        "\n",
        "# === 데이터 삽입 ===\n",
        "\n",
        "# 1. 출판사 데이터\n",
        "publishers_data = [\n",
        "    ('문학동네', '대한민국', 1993),\n",
        "    ('민음사', '대한민국', 1966),\n",
        "    ('Bloomsbury', '영국', 1986),\n",
        "    ('Scribner', '미국', 1846),\n",
        "    ('Penguin Books', '영국', 1935)\n",
        "]\n",
        "c.executemany(\"INSERT INTO publishers (name, country, established_year) VALUES (?, ?, ?)\", publishers_data)\n",
        "\n",
        "# 2. 카테고리 데이터\n",
        "categories_data = [\n",
        "    ('판타지', '마법, 신화, 초자연적 요소가 포함된 소설'),\n",
        "    ('고전문학', '시대를 초월한 문학적 가치를 지닌 작품'),\n",
        "    ('SF', '과학과 기술을 기반으로 한 공상과학 소설'),\n",
        "    ('소설', '일반 문학 소설'),\n",
        "    ('디스토피아', '암울한 미래 사회를 다룬 작품'),\n",
        "    ('동화', '어린이를 위한 이야기')\n",
        "]\n",
        "c.executemany(\"INSERT INTO categories (name, description) VALUES (?, ?)\", categories_data)\n",
        "\n",
        "# 3. 저자 데이터\n",
        "authors_data = [\n",
        "    ('J.K. 롤링', 1965, '영국'),\n",
        "    ('어니스트 헤밍웨이', 1899, '미국'),\n",
        "    ('김초엽', 1993, '대한민국'),\n",
        "    ('헤르만 헤세', 1877, '독일'),\n",
        "    ('J.R.R. 톨킨', 1892, '영국'),\n",
        "    ('조지 오웰', 1903, '영국'),\n",
        "    ('루이스 캐럴', 1832, '영국'),\n",
        "    ('F. 스콧 피츠제럴드', 1896, '미국'),\n",
        "    ('이민진', 1968, '대한민국'),\n",
        "    ('J.D. Salinger', 1919, '미국'),\n",
        "    ('Aldous Huxley', 1894, '영국')\n",
        "]\n",
        "c.executemany(\"INSERT INTO authors (name, birth_year, nationality) VALUES (?, ?, ?)\", authors_data)\n",
        "\n",
        "# 4. 책 데이터\n",
        "books_data = [\n",
        "    ('해리 포터와 마법사의 돌', '9788983920003', 1997, 3, 1, 320, 'Korean'),\n",
        "    ('노인과 바다', '9788937460012', 1952, 4, 2, 128, 'Korean'),\n",
        "    ('지구 끝의 온실', '9791164371273', 2016, 1, 3, 256, 'Korean'),\n",
        "    ('데미안', '9788937462788', 1919, 2, 4, 224, 'Korean'),\n",
        "    ('반지의 제왕', '9788937460893', 1954, 2, 1, 576, 'Korean'),\n",
        "    ('1984', '9788937462672', 1949, 5, 5, 400, 'Korean'),\n",
        "    ('이상한 나라의 앨리스', '9788937460821', 1865, 5, 6, 192, 'Korean'),\n",
        "    ('위대한 개츠비', '9788937462627', 1925, 4, 4, 256, 'Korean'),\n",
        "    ('파친코', '9788932473536', 2017, 1, 4, 640, 'Korean'),\n",
        "    ('The Catcher in the Rye', '9780316769174', 1951, 4, 4, 288, 'English'),\n",
        "    ('Brave New World', '9780060850524', 1932, 5, 5, 311, 'English')\n",
        "]\n",
        "c.executemany(\"\"\"INSERT INTO books (title, isbn, publication_year, publisher_id, category_id,\n",
        "              page_count, language) VALUES (?, ?, ?, ?, ?, ?, ?)\"\"\", books_data)\n",
        "\n",
        "# 5. 책-저자 연결\n",
        "book_authors_data = [\n",
        "    (1, 1, 1), (2, 2, 1), (3, 3, 1), (4, 4, 1),\n",
        "    (5, 5, 1), (6, 6, 1), (7, 7, 1), (8, 8, 1),\n",
        "    (9, 9, 1), (10, 10, 1), (11, 11, 1)\n",
        "]\n",
        "c.executemany(\"INSERT INTO book_authors (book_id, author_id, author_order) VALUES (?, ?, ?)\", book_authors_data)\n",
        "\n",
        "# 6. 책 복본 생성 (각 책당 2-3권, 현재 날짜 기준으로 입고일 설정)\n",
        "book_copies_data = []\n",
        "for book_id in range(1, 12):\n",
        "    num_copies = 2 if book_id % 2 == 0 else 3\n",
        "    for i in range(num_copies):\n",
        "        barcode = f\"BC{book_id:03d}{i+1:02d}\"\n",
        "        condition = 'excellent' if i == 0 else 'good'\n",
        "        location = f\"A{(book_id-1)//3 + 1}-{(book_id-1)%3 + 1}\"\n",
        "        # 입고일을 6개월 전부터 최근까지 다양하게 설정\n",
        "        acquisition_days_ago = 180 - (book_id * 10) - (i * 5)\n",
        "        acquisition_date = (today - timedelta(days=acquisition_days_ago)).isoformat()\n",
        "        status = 'available' if i > 0 else 'borrowed'\n",
        "        book_copies_data.append((book_id, barcode, condition, location, acquisition_date, status))\n",
        "\n",
        "c.executemany(\"\"\"INSERT INTO book_copies (book_id, barcode, condition, location, acquisition_date, status)\n",
        "              VALUES (?, ?, ?, ?, ?, ?)\"\"\", book_copies_data)\n",
        "\n",
        "# 7. 회원 등급\n",
        "membership_types_data = [\n",
        "    ('일반', 3, 14, 100),\n",
        "    ('우수', 5, 21, 50),\n",
        "    ('VIP', 10, 30, 0)\n",
        "]\n",
        "c.executemany(\"\"\"INSERT INTO membership_types (type_name, max_books, loan_period_days, late_fee_per_day)\n",
        "              VALUES (?, ?, ?, ?)\"\"\", membership_types_data)\n",
        "\n",
        "# 8. 회원 데이터 (가입일을 최근 날짜로 설정)\n",
        "members_data = [\n",
        "    ('김민준', 'minjun@example.com', '010-1234-5678', '서울시 강남구',\n",
        "     (today - timedelta(days=60)).isoformat(), 1, 1),\n",
        "    ('이하늘', 'haneul@example.com', '010-2345-6789', '서울시 서초구',\n",
        "     (today - timedelta(days=55)).isoformat(), 2, 1),\n",
        "    ('박서준', 'seojoon@example.com', '010-3456-7890', '서울시 송파구',\n",
        "     (today - timedelta(days=50)).isoformat(), 1, 1),\n",
        "    ('최유리', 'yuri@example.com', '010-4567-8901', '서울시 마포구',\n",
        "     (today - timedelta(days=45)).isoformat(), 3, 1),\n",
        "    ('정다은', 'daeun@example.com', '010-5678-9012', '서울시 용산구',\n",
        "     (today - timedelta(days=40)).isoformat(), 2, 1)\n",
        "]\n",
        "c.executemany(\"\"\"INSERT INTO members (name, email, phone, address, join_date, membership_type_id, is_active)\n",
        "              VALUES (?, ?, ?, ?, ?, ?, ?)\"\"\", members_data)\n",
        "\n",
        "# 9. 대여 정보 (현재 날짜 기준으로 다양한 상황 생성)\n",
        "rentals_data = [\n",
        "    # 정상 대여중 (반납일이 미래)\n",
        "    (1, 1, (today - timedelta(days=10)).isoformat(),\n",
        "           (today + timedelta(days=4)).isoformat(), None, 'active'),\n",
        "\n",
        "    # 연체중 (반납일 지남, 아직 반납 안함) - 5일 연체\n",
        "    (4, 2, (today - timedelta(days=26)).isoformat(),\n",
        "           (today - timedelta(days=5)).isoformat(), None, 'overdue'),\n",
        "\n",
        "    # 연체 후 반납 완료 (2일 연체했다가 반납)\n",
        "    (7, 3, (today - timedelta(days=20)).isoformat(),\n",
        "           (today - timedelta(days=10)).isoformat(),\n",
        "           (today - timedelta(days=8)).isoformat(), 'returned'),\n",
        "\n",
        "    # VIP 정상 대여중\n",
        "    (10, 4, (today - timedelta(days=5)).isoformat(),\n",
        "            (today + timedelta(days=25)).isoformat(), None, 'active'),\n",
        "\n",
        "    # 정상 반납 완료\n",
        "    (13, 5, (today - timedelta(days=15)).isoformat(),\n",
        "            (today - timedelta(days=1)).isoformat(),\n",
        "            (today - timedelta(days=2)).isoformat(), 'returned'),\n",
        "\n",
        "    # 연체중 (3일 연체)\n",
        "    (16, 1, (today - timedelta(days=17)).isoformat(),\n",
        "            (today - timedelta(days=3)).isoformat(), None, 'overdue'),\n",
        "]\n",
        "c.executemany(\"\"\"INSERT INTO rentals (copy_id, member_id, rental_date, due_date, return_date, status)\n",
        "              VALUES (?, ?, ?, ?, ?, ?)\"\"\", rentals_data)\n",
        "\n",
        "# 10. 예약 정보 (현재 날짜 기준)\n",
        "reservations_data = [\n",
        "    (1, 3, (today - timedelta(days=5)).isoformat(), 'waiting',\n",
        "     (today + timedelta(days=9)).isoformat()),\n",
        "    (5, 1, (today - timedelta(days=3)).isoformat(), 'waiting',\n",
        "     (today + timedelta(days=11)).isoformat())\n",
        "]\n",
        "c.executemany(\"\"\"INSERT INTO reservations (book_id, member_id, reservation_date, status, expiry_date)\n",
        "              VALUES (?, ?, ?, ?, ?)\"\"\", reservations_data)\n",
        "\n",
        "# 11. 리뷰 데이터 (현재 날짜 기준 최근 리뷰들)\n",
        "reviews_data = [\n",
        "    (2, 2, 5, '정말 감동적인 작품이었습니다. 인생 책으로 추천합니다!',\n",
        "     (today - timedelta(days=10)).isoformat()),\n",
        "    (3, 5, 4, 'SF의 새로운 가능성을 보여준 소설. 추천해요.',\n",
        "     (today - timedelta(days=5)).isoformat()),\n",
        "    (1, 1, 5, '어린 시절 읽었던 기억이 새롭습니다. 명작!',\n",
        "     (today - timedelta(days=15)).isoformat()),\n",
        "    (5, 3, 5, '판타지의 정석! 웅장한 세계관에 빠져들었습니다.',\n",
        "     (today - timedelta(days=12)).isoformat()),\n",
        "    (6, 4, 5, '디스토피아 소설의 걸작. 현대 사회를 되돌아보게 만드네요.',\n",
        "     (today - timedelta(days=8)).isoformat()),\n",
        "    (4, 2, 4, '자아 성찰에 대한 깊은 통찰이 담긴 책. 청소년기에 꼭 읽어야 할 소설입니다.',\n",
        "     (today - timedelta(days=7)).isoformat()),\n",
        "    (8, 1, 4, '1920년대 미국 사회의 화려함과 공허함을 잘 표현했어요.',\n",
        "     (today - timedelta(days=11)).isoformat()),\n",
        "    (9, 5, 5, '재일교포의 역사를 통해 인간의 존엄성을 느꼈습니다. 강추!',\n",
        "     (today - timedelta(days=3)).isoformat()),\n",
        "    (7, 3, 3, '동화지만 철학적 의미가 깊네요. 어른이 읽어도 좋습니다.',\n",
        "     (today - timedelta(days=9)).isoformat()),\n",
        "    (10, 4, 4, '10대의 방황과 고민이 생생하게 그려진 작품. 공감 100%',\n",
        "     (today - timedelta(days=6)).isoformat()),\n",
        "\n",
        "    # 별로인 리뷰 (1-2점)\n",
        "    (11, 1, 2, '너무 암울하고 우울해요. 기대했는데 실망스럽습니다.',\n",
        "     (today - timedelta(days=4)).isoformat()),\n",
        "    (6, 3, 1, '지루하고 난해합니다. 끝까지 읽기 힘들었어요.',\n",
        "     (today - timedelta(days=2)).isoformat()),\n",
        "    (4, 5, 2, '추상적인 내용이 많아서 이해하기 어렵네요. 별로 공감이 안 갑니다.',\n",
        "     (today - timedelta(days=1)).isoformat()),\n",
        "    (1, 4, 1, '과대평가된 책 같아요. 스토리가 예상 가능하고 유치합니다.',\n",
        "     today.isoformat())\n",
        "]\n",
        "c.executemany(\"\"\"INSERT INTO reviews (book_id, member_id, rating, comment, review_date)\n",
        "              VALUES (?, ?, ?, ?, ?)\"\"\", reviews_data)\n",
        "\n",
        "conn.commit()\n",
        "print(\"\\n데이터 삽입 완료!\")\n",
        "\n",
        "# === 연체료 자동 계산 ===\n",
        "print(\"\\n=== 연체료 계산 중... ===\\n\")\n",
        "\n",
        "def calculate_late_fees(cursor):\n",
        "    \"\"\"연체료 자동 계산 및 삽입\"\"\"\n",
        "\n",
        "    # 연체중인 대여 건 조회 (날짜만 비교)\n",
        "    cursor.execute(\"\"\"\n",
        "        SELECT\n",
        "            r.rental_id,\n",
        "            DATE(r.due_date) as due_date,\n",
        "            DATE(r.return_date) as return_date,\n",
        "            mt.late_fee_per_day,\n",
        "            m.name\n",
        "        FROM rentals r\n",
        "        JOIN members m ON r.member_id = m.member_id\n",
        "        JOIN membership_types mt ON m.membership_type_id = mt.type_id\n",
        "        WHERE (r.return_date IS NULL AND DATE(r.due_date) < DATE('now'))\n",
        "           OR (r.return_date IS NOT NULL AND DATE(r.return_date) > DATE(r.due_date))\n",
        "    \"\"\")\n",
        "\n",
        "    for rental_id, due_date, return_date, fee_per_day, member_name in cursor.fetchall():\n",
        "        # 연체 일수 계산 (SQLite의 날짜 함수 사용하여 일관성 유지)\n",
        "        cursor.execute(\"\"\"\n",
        "            SELECT CAST((JULIANDAY(?) - JULIANDAY(?)) AS INTEGER)\n",
        "        \"\"\", (return_date if return_date else datetime.now().date().isoformat(), due_date))\n",
        "\n",
        "        overdue_days = cursor.fetchone()[0]\n",
        "\n",
        "        if overdue_days > 0:\n",
        "            amount = overdue_days * fee_per_day\n",
        "            paid_status = 1 if return_date else 0  # 반납했으면 납부완료\n",
        "\n",
        "            # 이미 연체료가 있는지 확인\n",
        "            cursor.execute(\"SELECT fee_id FROM late_fees WHERE rental_id = ?\", (rental_id,))\n",
        "            if not cursor.fetchone():\n",
        "                payment_date = return_date if paid_status else None\n",
        "                cursor.execute(\"\"\"\n",
        "                    INSERT INTO late_fees (rental_id, amount, calculation_date, paid, payment_date)\n",
        "                    VALUES (?, ?, DATE('now'), ?, ?)\n",
        "                \"\"\", (rental_id, amount, paid_status, payment_date))\n",
        "                status = \"납부완료\" if paid_status else \"미납\"\n",
        "                print(f\"   {member_name}: {overdue_days}일 연체, {amount:,.0f}원 ({status})\")\n",
        "\n",
        "calculate_late_fees(c)\n",
        "conn.commit()\n",
        "\n",
        "# === 복잡한 쿼리 예제 ===\n",
        "print(\"\\n=== 쿼리 예제 ===\\n\")\n",
        "\n",
        "# 1. 책별 평균 평점과 리뷰 수\n",
        "print(\"1. 책별 평균 평점:\")\n",
        "c.execute(\"\"\"\n",
        "    SELECT b.title, AVG(r.rating) as avg_rating, COUNT(r.review_id) as review_count\n",
        "    FROM books b\n",
        "    LEFT JOIN reviews r ON b.book_id = r.book_id\n",
        "    GROUP BY b.book_id\n",
        "    HAVING review_count > 0\n",
        "    ORDER BY avg_rating DESC\n",
        "\"\"\")\n",
        "for row in c.fetchall():\n",
        "    print(f\"   {row[0]}: {row[1]:.1f}점 ({row[2]}개 리뷰)\")\n",
        "\n",
        "# 2. 회원별 대여 현황 및 연체 정보\n",
        "print(\"\\n2. 회원별 대여 현황:\")\n",
        "c.execute(\"\"\"\n",
        "    SELECT m.name, mt.type_name,\n",
        "           COUNT(CASE WHEN r.status IN ('active', 'overdue') THEN 1 END) as active_rentals,\n",
        "           mt.max_books as max_allowed,\n",
        "           SUM(CASE WHEN lf.paid = 0 THEN lf.amount ELSE 0 END) as unpaid_fees\n",
        "    FROM members m\n",
        "    JOIN membership_types mt ON m.membership_type_id = mt.type_id\n",
        "    LEFT JOIN rentals r ON m.member_id = r.member_id\n",
        "    LEFT JOIN late_fees lf ON r.rental_id = lf.rental_id\n",
        "    GROUP BY m.member_id\n",
        "\"\"\")\n",
        "for row in c.fetchall():\n",
        "    print(f\"   {row[0]} ({row[1]}): {row[2]}/{row[3]}권 대여중, 미납 연체료: {row[4] if row[4] else 0:,.0f}원\")\n",
        "\n",
        "# 3. 가장 인기있는 책 (대여 횟수 기준)\n",
        "print(\"\\n3. 인기 도서 TOP 5:\")\n",
        "c.execute(\"\"\"\n",
        "    SELECT b.title, a.name as author, COUNT(r.rental_id) as rental_count\n",
        "    FROM books b\n",
        "    JOIN book_authors ba ON b.book_id = ba.book_id\n",
        "    JOIN authors a ON ba.author_id = a.author_id\n",
        "    JOIN book_copies bc ON b.book_id = bc.book_id\n",
        "    LEFT JOIN rentals r ON bc.copy_id = r.copy_id\n",
        "    GROUP BY b.book_id\n",
        "    ORDER BY rental_count DESC\n",
        "    LIMIT 5\n",
        "\"\"\")\n",
        "for idx, row in enumerate(c.fetchall(), 1):\n",
        "    print(f\"   {idx}. {row[0]} - {row[1]} ({row[2]}회)\")\n",
        "\n",
        "# 4. 현재 대여 가능한 책 목록\n",
        "print(\"\\n4. 현재 대여 가능한 책:\")\n",
        "c.execute(\"\"\"\n",
        "    SELECT DISTINCT b.title, a.name as author, COUNT(bc.copy_id) as available_copies\n",
        "    FROM books b\n",
        "    JOIN book_authors ba ON b.book_id = ba.book_id\n",
        "    JOIN authors a ON ba.author_id = a.author_id\n",
        "    JOIN book_copies bc ON b.book_id = bc.book_id\n",
        "    WHERE bc.status = 'available'\n",
        "    GROUP BY b.book_id\n",
        "    ORDER BY available_copies DESC\n",
        "\"\"\")\n",
        "for row in c.fetchall():\n",
        "    print(f\"   {row[0]} - {row[1]} ({row[2]}권 가능)\")\n",
        "\n",
        "# 5. 현재 연체중인 도서 상세\n",
        "print(\"\\n5. 현재 연체중인 도서:\")\n",
        "c.execute(\"\"\"\n",
        "    SELECT\n",
        "        m.name,\n",
        "        b.title,\n",
        "        DATE(r.due_date) as due_date,\n",
        "        CAST((JULIANDAY(DATE('now')) - JULIANDAY(DATE(r.due_date))) AS INTEGER) as overdue_days,\n",
        "        CAST((JULIANDAY(DATE('now')) - JULIANDAY(DATE(r.due_date))) AS INTEGER) * mt.late_fee_per_day as fee\n",
        "    FROM rentals r\n",
        "    JOIN members m ON r.member_id = m.member_id\n",
        "    JOIN membership_types mt ON m.membership_type_id = mt.type_id\n",
        "    JOIN book_copies bc ON r.copy_id = bc.copy_id\n",
        "    JOIN books b ON bc.book_id = b.book_id\n",
        "    WHERE r.return_date IS NULL AND DATE(r.due_date) < DATE('now')\n",
        "    ORDER BY overdue_days DESC\n",
        "\"\"\")\n",
        "overdue_list = c.fetchall()\n",
        "if overdue_list:\n",
        "    for row in overdue_list:\n",
        "        print(f\"   {row[0]}: {row[1]} (연체 {row[3]}일, 연체료 {row[4]:,}원)\")\n",
        "else:\n",
        "    print(\"   연체중인 도서가 없습니다.\")\n",
        "\n",
        "conn.close()\n",
        "print(\"\\n데이터베이스 연결 종료!\")\n",
        "print(f\"\\n✅ 모든 날짜가 {today} 기준으로 설정되었습니다.\")"
      ],
      "metadata": {
        "id": "cXlnf8Rd6TG-",
        "colab": {
          "base_uri": "https://localhost:8080/"
        },
        "collapsed": true,
        "outputId": "b05dc324-f4a4-4699-fdda-92a2612ee9b5"
      },
      "execution_count": null,
      "outputs": [
        {
          "output_type": "stream",
          "name": "stdout",
          "text": [
            "테이블 생성 완료!\n",
            "\n",
            "데이터 삽입 완료!\n",
            "\n",
            "=== 연체료 계산 중... ===\n",
            "\n",
            "   이하늘: 5일 연체, 250원 (미납)\n",
            "   박서준: 2일 연체, 200원 (납부완료)\n",
            "   김민준: 3일 연체, 300원 (미납)\n",
            "\n",
            "=== 쿼리 예제 ===\n",
            "\n",
            "1. 책별 평균 평점:\n",
            "   노인과 바다: 5.0점 (1개 리뷰)\n",
            "   반지의 제왕: 5.0점 (1개 리뷰)\n",
            "   파친코: 5.0점 (1개 리뷰)\n",
            "   지구 끝의 온실: 4.0점 (1개 리뷰)\n",
            "   위대한 개츠비: 4.0점 (1개 리뷰)\n",
            "   The Catcher in the Rye: 4.0점 (1개 리뷰)\n",
            "   해리 포터와 마법사의 돌: 3.0점 (2개 리뷰)\n",
            "   데미안: 3.0점 (2개 리뷰)\n",
            "   1984: 3.0점 (2개 리뷰)\n",
            "   이상한 나라의 앨리스: 3.0점 (1개 리뷰)\n",
            "   Brave New World: 2.0점 (1개 리뷰)\n",
            "\n",
            "2. 회원별 대여 현황:\n",
            "   김민준 (일반): 2/3권 대여중, 미납 연체료: 300원\n",
            "   이하늘 (우수): 1/5권 대여중, 미납 연체료: 250원\n",
            "   박서준 (일반): 0/3권 대여중, 미납 연체료: 0원\n",
            "   최유리 (VIP): 1/10권 대여중, 미납 연체료: 0원\n",
            "   정다은 (우수): 0/5권 대여중, 미납 연체료: 0원\n",
            "\n",
            "3. 인기 도서 TOP 5:\n",
            "   1. 해리 포터와 마법사의 돌 - J.K. 롤링 (1회)\n",
            "   2. 노인과 바다 - 어니스트 헤밍웨이 (1회)\n",
            "   3. 지구 끝의 온실 - 김초엽 (1회)\n",
            "   4. 데미안 - 헤르만 헤세 (1회)\n",
            "   5. 반지의 제왕 - J.R.R. 톨킨 (1회)\n",
            "\n",
            "4. 현재 대여 가능한 책:\n",
            "   Brave New World - Aldous Huxley (2권 가능)\n",
            "   파친코 - 이민진 (2권 가능)\n",
            "   이상한 나라의 앨리스 - 루이스 캐럴 (2권 가능)\n",
            "   반지의 제왕 - J.R.R. 톨킨 (2권 가능)\n",
            "   지구 끝의 온실 - 김초엽 (2권 가능)\n",
            "   해리 포터와 마법사의 돌 - J.K. 롤링 (2권 가능)\n",
            "   The Catcher in the Rye - J.D. Salinger (1권 가능)\n",
            "   위대한 개츠비 - F. 스콧 피츠제럴드 (1권 가능)\n",
            "   1984 - 조지 오웰 (1권 가능)\n",
            "   데미안 - 헤르만 헤세 (1권 가능)\n",
            "   노인과 바다 - 어니스트 헤밍웨이 (1권 가능)\n",
            "\n",
            "5. 현재 연체중인 도서:\n",
            "   이하늘: 노인과 바다 (연체 5일, 연체료 250.0원)\n",
            "   김민준: 이상한 나라의 앨리스 (연체 3일, 연체료 300.0원)\n",
            "\n",
            "데이터베이스 연결 종료!\n",
            "\n",
            "✅ 모든 날짜가 2025-10-21 기준으로 설정되었습니다.\n"
          ]
        }
      ]
    },
    {
      "cell_type": "markdown",
      "metadata": {
        "id": "Hql9LA7yB-41"
      },
      "source": [
        "## 2. `create_sql_query_chain `"
      ]
    },
    {
      "cell_type": "markdown",
      "metadata": {
        "id": "V4qrHuB8B-41"
      },
      "source": [
        "이제, LangChain을 이용해 SQL DB를 처리하는 방법에 대해 알아보겠습니다."
      ]
    },
    {
      "cell_type": "markdown",
      "metadata": {
        "id": "UO9HW7ReB-41"
      },
      "source": [
        "langchain의 부가기능 중 SQLDatabase 를 이용해 db를 불러옵니다."
      ]
    },
    {
      "cell_type": "code",
      "execution_count": null,
      "metadata": {
        "id": "BBFJggqRB-41"
      },
      "outputs": [],
      "source": [
        "from langchain.utilities import SQLDatabase\n",
        "\n",
        "db = SQLDatabase.from_uri(\"sqlite:///library.db\")"
      ]
    },
    {
      "cell_type": "markdown",
      "source": [
        "db의 `get_table_info()` 결과를 프롬프트에 전달하여 분석을 수행합니다."
      ],
      "metadata": {
        "id": "A4bu2BY2RMhz"
      }
    },
    {
      "cell_type": "code",
      "source": [
        "import tiktoken\n",
        "encoder = tiktoken.encoding_for_model('gpt-4o')\n",
        "len(encoder.encode(db.get_table_info()))"
      ],
      "metadata": {
        "colab": {
          "base_uri": "https://localhost:8080/"
        },
        "id": "5180dZYi-l4T",
        "outputId": "50eec055-a6d9-4d3d-fa68-9119d274113f"
      },
      "execution_count": null,
      "outputs": [
        {
          "output_type": "execute_result",
          "data": {
            "text/plain": [
              "1830"
            ]
          },
          "metadata": {},
          "execution_count": 7
        }
      ]
    },
    {
      "cell_type": "code",
      "source": [
        "print(db.get_table_info())"
      ],
      "metadata": {
        "id": "mWLUXAvFRL7r",
        "colab": {
          "base_uri": "https://localhost:8080/"
        },
        "collapsed": true,
        "outputId": "195e113f-741f-4971-e44e-eef5b1d0fff9"
      },
      "execution_count": null,
      "outputs": [
        {
          "output_type": "stream",
          "name": "stdout",
          "text": [
            "\n",
            "CREATE TABLE authors (\n",
            "\tauthor_id INTEGER, \n",
            "\tname TEXT NOT NULL, \n",
            "\tbirth_year INTEGER, \n",
            "\tnationality TEXT, \n",
            "\tPRIMARY KEY (author_id)\n",
            ")\n",
            "\n",
            "/*\n",
            "3 rows from authors table:\n",
            "author_id\tname\tbirth_year\tnationality\n",
            "1\tJ.K. 롤링\t1965\t영국\n",
            "2\t어니스트 헤밍웨이\t1899\t미국\n",
            "3\t김초엽\t1993\t대한민국\n",
            "*/\n",
            "\n",
            "\n",
            "CREATE TABLE book_authors (\n",
            "\tbook_id INTEGER, \n",
            "\tauthor_id INTEGER, \n",
            "\tauthor_order INTEGER, \n",
            "\tPRIMARY KEY (book_id, author_id), \n",
            "\tFOREIGN KEY(book_id) REFERENCES books (book_id), \n",
            "\tFOREIGN KEY(author_id) REFERENCES authors (author_id)\n",
            ")\n",
            "\n",
            "/*\n",
            "3 rows from book_authors table:\n",
            "book_id\tauthor_id\tauthor_order\n",
            "1\t1\t1\n",
            "2\t2\t1\n",
            "3\t3\t1\n",
            "*/\n",
            "\n",
            "\n",
            "CREATE TABLE book_copies (\n",
            "\tcopy_id INTEGER, \n",
            "\tbook_id INTEGER, \n",
            "\tbarcode TEXT, \n",
            "\tcondition TEXT, \n",
            "\tlocation TEXT, \n",
            "\tacquisition_date TEXT, \n",
            "\tstatus TEXT DEFAULT 'available', \n",
            "\tPRIMARY KEY (copy_id), \n",
            "\tFOREIGN KEY(book_id) REFERENCES books (book_id), \n",
            "\tUNIQUE (barcode), \n",
            "\tCHECK (condition IN ('excellent', 'good', 'fair', 'poor')), \n",
            "\tCHECK (status IN ('available', 'borrowed', 'lost', 'repair'))\n",
            ")\n",
            "\n",
            "/*\n",
            "3 rows from book_copies table:\n",
            "copy_id\tbook_id\tbarcode\tcondition\tlocation\tacquisition_date\tstatus\n",
            "1\t1\tBC00101\texcellent\tA1-1\t2025-05-04\tborrowed\n",
            "2\t1\tBC00102\tgood\tA1-1\t2025-05-09\tavailable\n",
            "3\t1\tBC00103\tgood\tA1-1\t2025-05-14\tavailable\n",
            "*/\n",
            "\n",
            "\n",
            "CREATE TABLE books (\n",
            "\tbook_id INTEGER, \n",
            "\ttitle TEXT NOT NULL, \n",
            "\tisbn TEXT, \n",
            "\tpublication_year INTEGER, \n",
            "\tpublisher_id INTEGER, \n",
            "\tcategory_id INTEGER, \n",
            "\tpage_count INTEGER, \n",
            "\tlanguage TEXT DEFAULT 'Korean', \n",
            "\tPRIMARY KEY (book_id), \n",
            "\tFOREIGN KEY(publisher_id) REFERENCES publishers (publisher_id), \n",
            "\tFOREIGN KEY(category_id) REFERENCES categories (category_id), \n",
            "\tUNIQUE (isbn)\n",
            ")\n",
            "\n",
            "/*\n",
            "3 rows from books table:\n",
            "book_id\ttitle\tisbn\tpublication_year\tpublisher_id\tcategory_id\tpage_count\tlanguage\n",
            "1\t해리 포터와 마법사의 돌\t9788983920003\t1997\t3\t1\t320\tKorean\n",
            "2\t노인과 바다\t9788937460012\t1952\t4\t2\t128\tKorean\n",
            "3\t지구 끝의 온실\t9791164371273\t2016\t1\t3\t256\tKorean\n",
            "*/\n",
            "\n",
            "\n",
            "CREATE TABLE categories (\n",
            "\tcategory_id INTEGER, \n",
            "\tname TEXT NOT NULL, \n",
            "\tdescription TEXT, \n",
            "\tPRIMARY KEY (category_id)\n",
            ")\n",
            "\n",
            "/*\n",
            "3 rows from categories table:\n",
            "category_id\tname\tdescription\n",
            "1\t판타지\t마법, 신화, 초자연적 요소가 포함된 소설\n",
            "2\t고전문학\t시대를 초월한 문학적 가치를 지닌 작품\n",
            "3\tSF\t과학과 기술을 기반으로 한 공상과학 소설\n",
            "*/\n",
            "\n",
            "\n",
            "CREATE TABLE late_fees (\n",
            "\tfee_id INTEGER, \n",
            "\trental_id INTEGER, \n",
            "\tamount REAL, \n",
            "\tcalculation_date TEXT, \n",
            "\tpaid INTEGER DEFAULT 0, \n",
            "\tpayment_date TEXT, \n",
            "\tPRIMARY KEY (fee_id), \n",
            "\tFOREIGN KEY(rental_id) REFERENCES rentals (rental_id)\n",
            ")\n",
            "\n",
            "/*\n",
            "3 rows from late_fees table:\n",
            "fee_id\trental_id\tamount\tcalculation_date\tpaid\tpayment_date\n",
            "1\t2\t250.0\t2025-10-21\t0\tNone\n",
            "2\t3\t200.0\t2025-10-21\t1\t2025-10-13\n",
            "3\t6\t300.0\t2025-10-21\t0\tNone\n",
            "*/\n",
            "\n",
            "\n",
            "CREATE TABLE members (\n",
            "\tmember_id INTEGER, \n",
            "\tname TEXT NOT NULL, \n",
            "\temail TEXT, \n",
            "\tphone TEXT, \n",
            "\taddress TEXT, \n",
            "\tjoin_date TEXT, \n",
            "\tmembership_type_id INTEGER DEFAULT 1, \n",
            "\tis_active INTEGER DEFAULT 1, \n",
            "\tPRIMARY KEY (member_id), \n",
            "\tFOREIGN KEY(membership_type_id) REFERENCES membership_types (type_id), \n",
            "\tUNIQUE (email)\n",
            ")\n",
            "\n",
            "/*\n",
            "3 rows from members table:\n",
            "member_id\tname\temail\tphone\taddress\tjoin_date\tmembership_type_id\tis_active\n",
            "1\t김민준\tminjun@example.com\t010-1234-5678\t서울시 강남구\t2025-08-22\t1\t1\n",
            "2\t이하늘\thaneul@example.com\t010-2345-6789\t서울시 서초구\t2025-08-27\t2\t1\n",
            "3\t박서준\tseojoon@example.com\t010-3456-7890\t서울시 송파구\t2025-09-01\t1\t1\n",
            "*/\n",
            "\n",
            "\n",
            "CREATE TABLE membership_types (\n",
            "\ttype_id INTEGER, \n",
            "\ttype_name TEXT NOT NULL, \n",
            "\tmax_books INTEGER, \n",
            "\tloan_period_days INTEGER, \n",
            "\tlate_fee_per_day REAL, \n",
            "\tPRIMARY KEY (type_id)\n",
            ")\n",
            "\n",
            "/*\n",
            "3 rows from membership_types table:\n",
            "type_id\ttype_name\tmax_books\tloan_period_days\tlate_fee_per_day\n",
            "1\t일반\t3\t14\t100.0\n",
            "2\t우수\t5\t21\t50.0\n",
            "3\tVIP\t10\t30\t0.0\n",
            "*/\n",
            "\n",
            "\n",
            "CREATE TABLE publishers (\n",
            "\tpublisher_id INTEGER, \n",
            "\tname TEXT NOT NULL, \n",
            "\tcountry TEXT, \n",
            "\testablished_year INTEGER, \n",
            "\tPRIMARY KEY (publisher_id)\n",
            ")\n",
            "\n",
            "/*\n",
            "3 rows from publishers table:\n",
            "publisher_id\tname\tcountry\testablished_year\n",
            "1\t문학동네\t대한민국\t1993\n",
            "2\t민음사\t대한민국\t1966\n",
            "3\tBloomsbury\t영국\t1986\n",
            "*/\n",
            "\n",
            "\n",
            "CREATE TABLE rentals (\n",
            "\trental_id INTEGER, \n",
            "\tcopy_id INTEGER, \n",
            "\tmember_id INTEGER, \n",
            "\trental_date TEXT, \n",
            "\tdue_date TEXT, \n",
            "\treturn_date TEXT, \n",
            "\tstatus TEXT DEFAULT 'active', \n",
            "\tPRIMARY KEY (rental_id), \n",
            "\tFOREIGN KEY(copy_id) REFERENCES book_copies (copy_id), \n",
            "\tFOREIGN KEY(member_id) REFERENCES members (member_id), \n",
            "\tCHECK (status IN ('active', 'returned', 'overdue'))\n",
            ")\n",
            "\n",
            "/*\n",
            "3 rows from rentals table:\n",
            "rental_id\tcopy_id\tmember_id\trental_date\tdue_date\treturn_date\tstatus\n",
            "1\t1\t1\t2025-10-11\t2025-10-25\tNone\tactive\n",
            "2\t4\t2\t2025-09-25\t2025-10-16\tNone\toverdue\n",
            "3\t7\t3\t2025-10-01\t2025-10-11\t2025-10-13\treturned\n",
            "*/\n",
            "\n",
            "\n",
            "CREATE TABLE reservations (\n",
            "\treservation_id INTEGER, \n",
            "\tbook_id INTEGER, \n",
            "\tmember_id INTEGER, \n",
            "\treservation_date TEXT, \n",
            "\tstatus TEXT DEFAULT 'waiting', \n",
            "\texpiry_date TEXT, \n",
            "\tPRIMARY KEY (reservation_id), \n",
            "\tFOREIGN KEY(book_id) REFERENCES books (book_id), \n",
            "\tFOREIGN KEY(member_id) REFERENCES members (member_id), \n",
            "\tCHECK (status IN ('waiting', 'ready', 'cancelled', 'completed'))\n",
            ")\n",
            "\n",
            "/*\n",
            "3 rows from reservations table:\n",
            "reservation_id\tbook_id\tmember_id\treservation_date\tstatus\texpiry_date\n",
            "1\t1\t3\t2025-10-16\twaiting\t2025-10-30\n",
            "2\t5\t1\t2025-10-18\twaiting\t2025-11-01\n",
            "*/\n",
            "\n",
            "\n",
            "CREATE TABLE reviews (\n",
            "\treview_id INTEGER, \n",
            "\tbook_id INTEGER, \n",
            "\tmember_id INTEGER, \n",
            "\trating INTEGER, \n",
            "\tcomment TEXT, \n",
            "\treview_date TEXT, \n",
            "\tPRIMARY KEY (review_id), \n",
            "\tFOREIGN KEY(book_id) REFERENCES books (book_id), \n",
            "\tFOREIGN KEY(member_id) REFERENCES members (member_id), \n",
            "\tCHECK (rating >= 1 AND rating <= 5)\n",
            ")\n",
            "\n",
            "/*\n",
            "3 rows from reviews table:\n",
            "review_id\tbook_id\tmember_id\trating\tcomment\treview_date\n",
            "1\t2\t2\t5\t정말 감동적인 작품이었습니다. 인생 책으로 추천합니다!\t2025-10-11\n",
            "2\t3\t5\t4\tSF의 새로운 가능성을 보여준 소설. 추천해요.\t2025-10-16\n",
            "3\t1\t1\t5\t어린 시절 읽었던 기억이 새롭습니다. 명작!\t2025-10-06\n",
            "*/\n"
          ]
        }
      ]
    },
    {
      "cell_type": "markdown",
      "metadata": {
        "id": "NB9Skrm6B-42"
      },
      "source": [
        "`create_sql_query_chain`은 질문에 대한 SQL 쿼리를 생성합니다."
      ]
    },
    {
      "cell_type": "code",
      "source": [
        "from langchain.chains import create_sql_query_chain"
      ],
      "metadata": {
        "id": "MGH1Kl9TFufR"
      },
      "execution_count": null,
      "outputs": []
    },
    {
      "cell_type": "markdown",
      "source": [
        "원리 이해를 위해, Built-in Chain을 조금 단순화하여 변환해 보겠습니다.    \n",
        "(원본 코드: https://api.python.langchain.com/en/latest/_modules/langchain/chains/sql_database/query.html#create_sql_query_chain)"
      ],
      "metadata": {
        "id": "SAhKcJLVRoso"
      }
    },
    {
      "cell_type": "code",
      "execution_count": null,
      "metadata": {
        "id": "wB-WNePsB-42"
      },
      "outputs": [],
      "source": [
        "from langchain.prompts import PromptTemplate\n",
        "from langchain.schema.output_parser import StrOutputParser\n",
        "from langchain_core.runnables import RunnablePassthrough\n",
        "from langchain_core.runnables import RunnableParallel\n",
        "\n",
        "sql_prompt = PromptTemplate(template = '''SQL 테이블의 정보와 질문이 주어집니다.\n",
        "테이블을 참고하여, 질문을 쿼리로 변환하세요.\n",
        "만약 유저가 데이터의 개수를 지정하지 않는다면, {top_k} 개만 출력하세요.\n",
        "SQLite의 경우 LIMIT clause 를 사용하면 됩니다.\n",
        "데이터의 결과를 더 잘 전달하기 위해 정렬할 수 있습니다.\n",
        "주어진 예시 row에 없는 내용이라도, 쿼리를 작성하세요.\n",
        "\n",
        "정답과 무관한 컬럼에 대한 쿼리를 수행하지 말고, 필요한 내용만 추출하세요.\n",
        "아래에 주어지는 컬럼 이름과 테이블 정보를 꼭 참고하세요.\n",
        "존재하지 않는 컬럼에 대한 쿼리를 하지 않도록 주의하세요.\n",
        "만약 '오늘'과 같이 현재 날짜에 대한 질문이 들어오면 date() 등을 사용하세요.\n",
        "컬럼 이름은 \"로 구분하고, 전체 출력은 마크다운으로 수행하세요.\n",
        "\n",
        "테이블 정보: {table_info}\n",
        "질문: {input}\n",
        "---\n",
        "SQL Query:''')\n",
        "\n",
        "\n",
        "def _create_sql_query_chain(llm, db, prompt, k = 5):\n",
        "\n",
        "    sql_chain = (\n",
        "        prompt.partial(table_info = db.get_table_info(), top_k = str(k))\n",
        "        # 입력 변수 table_info, top_k 미리 추가\n",
        "        | llm\n",
        "\n",
        "        | StrOutputParser()\n",
        "        | (lambda x: x.strip())\n",
        "        # 공백제거\n",
        "    )\n",
        "    return sql_chain"
      ]
    },
    {
      "cell_type": "code",
      "source": [
        "query_chain = _create_sql_query_chain(llm,\n",
        "                                     db,\n",
        "                                     prompt = sql_prompt)"
      ],
      "metadata": {
        "id": "rMogEMS5R0yB"
      },
      "execution_count": null,
      "outputs": []
    },
    {
      "cell_type": "code",
      "source": [
        "response = query_chain.invoke(\"해리 포터와 마법사의 돌을 지금 빌릴 수 있나요?\")\n",
        "\n",
        "response"
      ],
      "metadata": {
        "id": "r-0K-TCGR8oJ",
        "colab": {
          "base_uri": "https://localhost:8080/",
          "height": 72
        },
        "outputId": "eef11272-6fad-4495-ca10-4fd42063b631"
      },
      "execution_count": null,
      "outputs": [
        {
          "output_type": "execute_result",
          "data": {
            "text/plain": [
              "'```sql\\nSELECT \"bc\".\"copy_id\", \"bc\".\"barcode\", \"bc\".\"status\", \"bc\".\"location\", \"bc\".\"acquisition_date\"\\nFROM \"books\" AS \"b\"\\nJOIN \"book_copies\" AS \"bc\" ON \"b\".\"book_id\" = \"bc\".\"book_id\"\\nWHERE \"b\".\"title\" = \\'해리 포터와 마법사의 돌\\'\\nORDER BY CASE WHEN \"bc\".\"status\" = \\'available\\' THEN 0 ELSE 1 END, \"bc\".\"copy_id\"\\nLIMIT 5;\\n```'"
            ],
            "application/vnd.google.colaboratory.intrinsic+json": {
              "type": "string"
            }
          },
          "metadata": {},
          "execution_count": 16
        }
      ]
    },
    {
      "cell_type": "code",
      "execution_count": null,
      "metadata": {
        "id": "4l8iEhf4BSAo",
        "colab": {
          "base_uri": "https://localhost:8080/"
        },
        "outputId": "96f6cc57-273a-4a09-fdd9-cc3e27645fc7"
      },
      "outputs": [
        {
          "output_type": "stream",
          "name": "stdout",
          "text": [
            "SELECT \"bc\".\"copy_id\", \"bc\".\"barcode\", \"bc\".\"status\", \"bc\".\"location\", \"bc\".\"acquisition_date\"\n",
            "FROM \"books\" AS \"b\"\n",
            "JOIN \"book_copies\" AS \"bc\" ON \"b\".\"book_id\" = \"bc\".\"book_id\"\n",
            "WHERE \"b\".\"title\" = '해리 포터와 마법사의 돌'\n",
            "ORDER BY CASE WHEN \"bc\".\"status\" = 'available' THEN 0 ELSE 1 END, \"bc\".\"copy_id\"\n",
            "LIMIT 5;\n"
          ]
        }
      ],
      "source": [
        "# response의 마크다운 형식 처리하기\n",
        "\n",
        "if \"```\" in response:\n",
        "    response = response.split('```sql\\n')[1].split('\\n```')[0]\n",
        "print(response)"
      ]
    },
    {
      "cell_type": "markdown",
      "metadata": {
        "id": "ORZazO1RB-42"
      },
      "source": [
        "제대로 작동하는지 확인해 보겠습니다."
      ]
    },
    {
      "cell_type": "code",
      "execution_count": null,
      "metadata": {
        "id": "4IAQdPsxB-42",
        "colab": {
          "base_uri": "https://localhost:8080/",
          "height": 54
        },
        "outputId": "9693984f-f7ba-4559-da11-ef7a3717674d"
      },
      "outputs": [
        {
          "output_type": "execute_result",
          "data": {
            "text/plain": [
              "\"[(2, 'BC00102', 'available', 'A1-1', '2025-05-09'), (3, 'BC00103', 'available', 'A1-1', '2025-05-14'), (1, 'BC00101', 'borrowed', 'A1-1', '2025-05-04')]\""
            ],
            "application/vnd.google.colaboratory.intrinsic+json": {
              "type": "string"
            }
          },
          "metadata": {},
          "execution_count": 18
        }
      ],
      "source": [
        "db.run(response)"
      ]
    },
    {
      "cell_type": "markdown",
      "source": [
        "## 쿼리 실행하기\n",
        "\n",
        "`QuerySQLDatabaseTool`은 쿼리를 받아 실행합니다."
      ],
      "metadata": {
        "id": "hapY5BBhdEDq"
      }
    },
    {
      "cell_type": "code",
      "source": [
        "from langchain_community.tools import QuerySQLDatabaseTool\n",
        "\n",
        "execute_query = QuerySQLDatabaseTool(db = db)\n",
        "\n",
        "execute_query.invoke(response)"
      ],
      "metadata": {
        "id": "kQ1NqVvTdHF7",
        "colab": {
          "base_uri": "https://localhost:8080/",
          "height": 54
        },
        "outputId": "692b05c1-d8d0-4271-f834-5c5fa1baf726"
      },
      "execution_count": null,
      "outputs": [
        {
          "output_type": "execute_result",
          "data": {
            "text/plain": [
              "\"[(2, 'BC00102', 'available', 'A1-1', '2025-05-09'), (3, 'BC00103', 'available', 'A1-1', '2025-05-14'), (1, 'BC00101', 'borrowed', 'A1-1', '2025-05-04')]\""
            ],
            "application/vnd.google.colaboratory.intrinsic+json": {
              "type": "string"
            }
          },
          "metadata": {},
          "execution_count": 19
        }
      ]
    },
    {
      "cell_type": "markdown",
      "source": [
        "두 체인을 연결해 보겠습니다. 중간 파싱 함수가 필요합니다."
      ],
      "metadata": {
        "id": "gytF5-0IdKIl"
      }
    },
    {
      "cell_type": "code",
      "source": [
        "# ```sql, ``` 사이의 문자열만 파싱\n",
        "def parse_sql(response):\n",
        "    if \"```\" in response:\n",
        "        response = response.split('```sql\\n')[1].split('\\n```')[0]\n",
        "    return response\n",
        "\n",
        "chain = query_chain | parse_sql | execute_query\n",
        "chain.invoke(\"해리 포터와 마법사의 돌을 지금 빌릴 수 있나요?\")"
      ],
      "metadata": {
        "id": "2P_oB2SFdI-P",
        "colab": {
          "base_uri": "https://localhost:8080/",
          "height": 35
        },
        "outputId": "b5091210-8c56-4968-d79c-406a22461da3"
      },
      "execution_count": null,
      "outputs": [
        {
          "output_type": "execute_result",
          "data": {
            "text/plain": [
              "\"[(2, 'BC00102', 'available'), (3, 'BC00103', 'available')]\""
            ],
            "application/vnd.google.colaboratory.intrinsic+json": {
              "type": "string"
            }
          },
          "metadata": {},
          "execution_count": 20
        }
      ]
    },
    {
      "cell_type": "markdown",
      "source": [
        "임의의 SQL 쿼리를 실행해, 값을 삭제하거나 추가할 수도 있습니다."
      ],
      "metadata": {
        "id": "zn4pgqwkz_cE"
      }
    },
    {
      "cell_type": "code",
      "source": [
        "chain.invoke(\"회원은 누가 있나요?\")"
      ],
      "metadata": {
        "id": "yi_rt8iy7Ols",
        "colab": {
          "base_uri": "https://localhost:8080/",
          "height": 35
        },
        "outputId": "7e11af24-6221-4b75-85e6-26e523b3c116"
      },
      "execution_count": null,
      "outputs": [
        {
          "output_type": "execute_result",
          "data": {
            "text/plain": [
              "\"[(1, '김민준'), (2, '이하늘'), (3, '박서준'), (4, '최유리'), (5, '정다은')]\""
            ],
            "application/vnd.google.colaboratory.intrinsic+json": {
              "type": "string"
            }
          },
          "metadata": {},
          "execution_count": 21
        }
      ]
    },
    {
      "cell_type": "code",
      "source": [
        "chain.invoke(\"박서준 회원 삭제해줘\")"
      ],
      "metadata": {
        "id": "VfUTuLY6oNIs",
        "colab": {
          "base_uri": "https://localhost:8080/",
          "height": 126
        },
        "outputId": "40c2e117-33a0-4d5f-a1c1-26e8bf7213df"
      },
      "execution_count": null,
      "outputs": [
        {
          "output_type": "execute_result",
          "data": {
            "text/plain": [
              "'Error: (sqlite3.ProgrammingError) You can only execute one statement at a time.\\n[SQL: -- 박서준 회원과 관련된 데이터 삭제 순서\\nDELETE FROM \"late_fees\"\\nWHERE \"rental_id\" IN (\\n  SELECT \"rental_id\" FROM \"rentals\"\\n  WHERE \"member_id\" = (\\n    SELECT \"member_id\" FROM \"members\" WHERE \"name\" = \\'박서준\\' LIMIT 1\\n  )\\n);\\n\\nDELETE FROM \"reviews\"\\nWHERE \"member_id\" = (SELECT \"member_id\" FROM \"members\" WHERE \"name\" = \\'박서준\\' LIMIT 1);\\n\\nDELETE FROM \"reservations\"\\nWHERE \"member_id\" = (SELECT \"member_id\" FROM \"members\" WHERE \"name\" = \\'박서준\\' LIMIT 1);\\n\\nDELETE FROM \"rentals\"\\nWHERE \"member_id\" = (SELECT \"member_id\" FROM \"members\" WHERE \"name\" = \\'박서준\\' LIMIT 1);\\n\\nDELETE FROM \"members\"\\nWHERE \"name\" = \\'박서준\\';]\\n(Background on this error at: https://sqlalche.me/e/20/f405)'"
            ],
            "application/vnd.google.colaboratory.intrinsic+json": {
              "type": "string"
            }
          },
          "metadata": {},
          "execution_count": 22
        }
      ]
    },
    {
      "cell_type": "code",
      "source": [
        "chain.invoke(\"회원은 누가 있나요?\")"
      ],
      "metadata": {
        "id": "QmJB-Xh1oOrs",
        "colab": {
          "base_uri": "https://localhost:8080/",
          "height": 35
        },
        "outputId": "d97bead3-6cb1-458b-e8f5-2bdc47f0b731"
      },
      "execution_count": null,
      "outputs": [
        {
          "output_type": "execute_result",
          "data": {
            "text/plain": [
              "\"[(1, '김민준'), (2, '이하늘'), (3, '박서준'), (4, '최유리'), (5, '정다은')]\""
            ],
            "application/vnd.google.colaboratory.intrinsic+json": {
              "type": "string"
            }
          },
          "metadata": {},
          "execution_count": 23
        }
      ]
    },
    {
      "cell_type": "markdown",
      "source": [
        "<br><br>\n",
        "## 쿼리 생성 후 응답하기\n",
        "질문이 들어오면, 쿼리를 받아 응답합니다."
      ],
      "metadata": {
        "id": "h1YUWzKToRwN"
      }
    },
    {
      "cell_type": "code",
      "source": [
        "answer_prompt = PromptTemplate(template = \"\"\"\n",
        "당신은 매우 활발하고 유머러스한 도서관 사서 AI입니다.\n",
        "모든 대화는 책 속 유명한 인물의 말투를 그대로 과장되게 따라하세요.\n",
        "맨 뒤에, 괄호를 통해 누구인지 알려주세요. (OOO 톤으로)\n",
        "\n",
        "질문과 SQL 쿼리, 쿼리의 실행 결과가 주어집니다.\n",
        "해당 정보를 바탕으로 질문에 대한 답변을 생성하세요.\n",
        "만약 결과가 없는 경우, 질문의 내용을 고려하여 적절한 답변을 생성하세요.\n",
        "대출 조회 결과가 없는 경우, 대출이 가능하다고 알리세요.\n",
        "보안 규정상 조회가 어려운 답변은, 답변을 거절하세요.\n",
        "\n",
        "Question: {input}\n",
        "SQL Query: {query}\n",
        "SQL Result: {result}\n",
        "\"\"\")\n",
        "\n",
        "answer_chain = answer_prompt | llm | StrOutputParser()\n",
        "\n",
        "chain = (\n",
        "    RunnableParallel(\n",
        "        input = RunnablePassthrough()).assign(\n",
        "            query = query_chain | parse_sql).assign(\n",
        "                result = execute_query).assign(\n",
        "                    answer= answer_chain)\n",
        ")\n",
        "\n",
        "chain.invoke(\"현재 연체 중인 도서와 연체료가 얼마인지 알려주세요.\")"
      ],
      "metadata": {
        "id": "OBVQwfASoSU0",
        "colab": {
          "base_uri": "https://localhost:8080/"
        },
        "outputId": "f463addb-20c4-48b9-f9c6-65d6ffda609c"
      },
      "execution_count": null,
      "outputs": [
        {
          "output_type": "execute_result",
          "data": {
            "text/plain": [
              "{'input': '현재 연체 중인 도서와 연체료가 얼마인지 알려주세요.',\n",
              " 'query': 'SELECT b.\"title\", COALESCE(lf.\"amount\", 0) AS \"late_fee\"\\nFROM \"rentals\" r\\nJOIN \"book_copies\" bc ON r.\"copy_id\" = bc.\"copy_id\"\\nJOIN \"books\" b ON bc.\"book_id\" = b.\"book_id\"\\nLEFT JOIN \"late_fees\" lf ON r.\"rental_id\" = lf.\"rental_id\"\\nWHERE r.\"status\" = \\'overdue\\'\\nORDER BY r.\"due_date\" ASC\\nLIMIT 5;',\n",
              " 'result': \"[('노인과 바다', 250.0), ('이상한 나라의 앨리스', 300.0)]\",\n",
              " 'answer': '아하, 단서가 여기 있구나! 먼지 쌓인 장부를 들춰보니 현재 연체된 책과 연체료는 다음과 같다 — 꼼꼼히 적어 두게나!\\n\\n- 노인과 바다: 250원  \\n- 이상한 나라의 앨리스: 300원\\n\\n총 연체료 합계는 550원이다. (정확한 계산은 내 관찰력 덕분이지.) 조속히 반납하라, 그렇지 않으면 다음 단서는 더 불쾌할 테다! (셜록 홈즈 톤으로)'}"
            ]
          },
          "metadata": {},
          "execution_count": 24
        }
      ]
    },
    {
      "cell_type": "markdown",
      "source": [
        "테스트 질문\n",
        "- 이메일이 haneul@example.com인 회원의 정보를 알려주세요.\n",
        "- 해리 포터와 마법사의 돌을 지금 빌릴 수 있나요?\n",
        "- 김민준 회원이 지금까지 빌린 책 목록을 보여주세요.\n",
        "- 현재 연체 중인 도서와 연체료가 얼마인지 알려주세요.\n",
        "- 판타지 장르에서 가장 인기 있는 책 3개를 추천해주세요.\n",
        "- 최근 6개월간 연체 이력이 없는 회원을 찾아서 우수 회원으로 업그레이드 추천해주세요."
      ],
      "metadata": {
        "id": "4tBt2ML27qos"
      }
    },
    {
      "cell_type": "markdown",
      "source": [
        "## Human(LLM) In the Loop 만들기\n",
        "\n",
        "코드는 잘 구성되어 있지만, 위에서 진행했던 것처럼 위험한 쿼리를 실행하는 것은 사전에 방지할 필요가 있습니다.    \n",
        "\n",
        "복잡한 로직도 가능하지만, 여기서는 중간 쿼리를 검증하여 Y/N으로 판독할 수 있는 단순한 모듈을 추가해 보겠습니다.    \n",
        "\n",
        "   \n",
        "질문과 쿼리를 보고, 해당 내용이 안전하지 않으면 이후 과정을 실행하지 않겠습니다."
      ],
      "metadata": {
        "id": "l0e_FhgUoT_2"
      }
    },
    {
      "cell_type": "code",
      "source": [
        "validation_prompt = PromptTemplate(template=\n",
        "    \"\"\"아래의 SQL 쿼리를 서버에서 실행하고자 합니다.\n",
        "쿼리의 안전성을 평가하세요.\n",
        "Approve하면 Y, 아니면 아무 키나 입력하세요.\n",
        "\n",
        "---\n",
        "\n",
        "Question = {input}\n",
        "\n",
        "---\n",
        "SQL Query = {query}\n",
        "\"\"\")\n",
        "# Prompt 지만 LLM이 아닌 인간에게 전달\n",
        "\n",
        "def human_approval(msg):\n",
        "    val_msg = validation_prompt.format(query = msg['query'], input = msg['input'])\n",
        "\n",
        "    print(type(msg))\n",
        "    resp = input(val_msg)\n",
        "\n",
        "    if resp.upper() == 'Y':\n",
        "        return execute_query\n",
        "\n",
        "    else:\n",
        "        return '보안 규정상 실행할 수 없음'\n",
        "\n"
      ],
      "metadata": {
        "id": "f5Kh9gGboQAc"
      },
      "execution_count": null,
      "outputs": []
    },
    {
      "cell_type": "code",
      "source": [
        "# Parallel 대신 Passthrough 사용하는 것도 가능\n",
        "# 이 경우 입력에 input이 전달되어야 함\n",
        "\n",
        "sql_chain_with_validation = RunnablePassthrough.assign(query =\n",
        "                                                       query_chain | parse_sql).assign(\n",
        "                                                           result = human_approval).assign(\n",
        "                                                               answer = answer_chain)\n",
        "\n",
        "sql_chain_with_validation.invoke({\"input\": \"현재 연체 중인 도서와 연체료가 얼마인지 알려주세요.\"})"
      ],
      "metadata": {
        "id": "O7iTdrLUoVxc",
        "colab": {
          "base_uri": "https://localhost:8080/"
        },
        "outputId": "104fc97a-0fb0-4fa9-d028-426f07fed24a"
      },
      "execution_count": null,
      "outputs": [
        {
          "name": "stdout",
          "output_type": "stream",
          "text": [
            "<class 'dict'>\n",
            "아래의 SQL 쿼리를 서버에서 실행하고자 합니다.\n",
            "쿼리의 안전성을 평가하세요.\n",
            "Approve하면 Y, 아니면 아무 키나 입력하세요.\n",
            "\n",
            "---\n",
            "\n",
            "Question = 현재 연체 중인 도서와 연체료가 얼마인지 알려주세요.\n",
            "\n",
            "---\n",
            "SQL Query = SELECT\n",
            "  b.\"title\",\n",
            "  r.\"rental_id\",\n",
            "  COALESCE(SUM(lf.\"amount\"), 0) AS \"late_fee_due\"\n",
            "FROM \"rentals\" r\n",
            "JOIN \"book_copies\" bc ON r.\"copy_id\" = bc.\"copy_id\"\n",
            "JOIN \"books\" b ON bc.\"book_id\" = b.\"book_id\"\n",
            "LEFT JOIN \"late_fees\" lf ON lf.\"rental_id\" = r.\"rental_id\" AND lf.\"paid\" = 0\n",
            "WHERE r.\"status\" = 'overdue'\n",
            "GROUP BY r.\"rental_id\", b.\"title\"\n",
            "ORDER BY \"late_fee_due\" DESC\n",
            "LIMIT 5;\n",
            "y\n"
          ]
        },
        {
          "output_type": "execute_result",
          "data": {
            "text/plain": [
              "{'input': '현재 연체 중인 도서와 연체료가 얼마인지 알려주세요.',\n",
              " 'query': 'SELECT\\n  b.\"title\",\\n  r.\"rental_id\",\\n  COALESCE(SUM(lf.\"amount\"), 0) AS \"late_fee_due\"\\nFROM \"rentals\" r\\nJOIN \"book_copies\" bc ON r.\"copy_id\" = bc.\"copy_id\"\\nJOIN \"books\" b ON bc.\"book_id\" = b.\"book_id\"\\nLEFT JOIN \"late_fees\" lf ON lf.\"rental_id\" = r.\"rental_id\" AND lf.\"paid\" = 0\\nWHERE r.\"status\" = \\'overdue\\'\\nGROUP BY r.\"rental_id\", b.\"title\"\\nORDER BY \"late_fee_due\" DESC\\nLIMIT 5;',\n",
              " 'result': \"[('이상한 나라의 앨리스', 6, 300.0), ('노인과 바다', 2, 250.0)]\",\n",
              " 'answer': '흠흠! 내 증거(데이터)를 들추어 보니, 연체 중인 책은 두 권이로군. 사건은 단순하다: 연체된 책과 각 연체료는 다음과 같다!\\n\\n- \"이상한 나라의 앨리스\" — 연체료: 300.0원 (대출ID: 6)  \\n- \"노인과 바다\" — 연체료: 250.0원 (대출ID: 2)\\n\\n총 연체료 합계는 550.0원이다. 빠르게 해결하면 도서들이 다시 평화롭게 책장으로 돌아갈 것이오. 서가의 평온을 위해 속히 납부하시길 권하노라! (셜록 홈즈 톤으로)'}"
            ]
          },
          "metadata": {},
          "execution_count": 26
        }
      ]
    },
    {
      "cell_type": "markdown",
      "source": [
        "# [실습] LLM으로 validation 검증 체인 추가하기   \n",
        "\n",
        "위의 `sql_chain_with_validation` 구조를 수정하여,    \n",
        "Human Approval 대신 LLM이 이를 검증하는 체인을 추가하세요.   \n",
        "다음은 예시 프롬프트입니다."
      ],
      "metadata": {
        "id": "Mj2RmpT7GCy5"
      }
    },
    {
      "cell_type": "markdown",
      "source": [
        "```python   \n",
        "아래의 SQL 쿼리를 서버에서 실행하고자 합니다.\n",
        "SQL 쿼리는 새로운 데이터를 추가하거나, 기존의 값을 변경하거나 삭제해서는 안 됩니다.\n",
        "쿼리의 안전성에 대해 먼저 30자 이내로 설명하세요.\n",
        "안전하면 \"분류 결과: Y\", 아니면 \"분류 결과: N\"을 출력하세요.\n",
        "\n",
        "SQL Query = {query}\n",
        "```"
      ],
      "metadata": {
        "id": "vaRz2Dx8GN4s"
      }
    },
    {
      "cell_type": "code",
      "source": [
        "llm_validation_prompt = PromptTemplate(template = \"\"\"\n",
        "아래의 SQL 쿼리를 서버에서 실행하고자 합니다.\n",
        "SQL 쿼리는 새로운 데이터를 추가하거나, 기존의 값을 변경하거나 삭제해서는 안 됩니다.\n",
        "쿼리의 안전성에 대해 먼저 30자 이내로 아래의 포맷에 맞게 설명하세요.\n",
        "포맷)\n",
        "안전하면 \"분류 결과: Y, 근거: ...이기 때문에 안전합니다.\", 아니면 \"분류 결과: N, 근거: ...이기 때문에 안전하지 않습니다.\"을 출력하세요.\n",
        "\n",
        "SQL Query = {query}\n",
        "\"\"\")\n",
        "\n",
        "def llm_approval(msg):\n",
        "    chain = llm_validation_prompt | llm | StrOutputParser()\n",
        "    result = chain.invoke(msg)\n",
        "    print(result)\n",
        "\n",
        "    if \"분류 결과: Y\" in result:\n",
        "       return human_approval(msg)\n",
        "\n",
        "\n",
        "    else:\n",
        "        return '보안 규정상 실행할 수 없음'\n"
      ],
      "metadata": {
        "id": "HKkVCwuNGmo8"
      },
      "execution_count": null,
      "outputs": []
    },
    {
      "cell_type": "code",
      "source": [
        "# Parallel 대신 Passthrough 사용하는 것도 가능\n",
        "# 이 경우 입력에 input이 전달되어야 함\n",
        "\n",
        "sql_chain_with_validation = RunnablePassthrough.assign(query =\n",
        "                                                       query_chain | parse_sql).assign(\n",
        "                                                           result = llm_approval).assign(\n",
        "                                                               answer = answer_chain)\n",
        "\n",
        "sql_chain_with_validation.invoke({\"input\": \"연체 도서에 1권을 추가해주세요.\"})\n",
        "# sql_chain_with_validation.invoke({\"input\": \"현재 연체 중인 도서와 연체료가 얼마인지 알려주세요.\"})"
      ],
      "metadata": {
        "colab": {
          "base_uri": "https://localhost:8080/"
        },
        "id": "HuAFnU9qIY5u",
        "outputId": "693af0bd-e2e2-4624-a09b-6949e875d0db"
      },
      "execution_count": null,
      "outputs": [
        {
          "output_type": "stream",
          "name": "stdout",
          "text": [
            "분류 결과: N, 근거: 추가이기 때문에 안전하지 않습니다.\n"
          ]
        },
        {
          "output_type": "execute_result",
          "data": {
            "text/plain": [
              "{'input': '연체 도서에 1권을 추가해주세요.',\n",
              " 'query': 'INSERT INTO \"rentals\" (\"rental_id\", \"copy_id\", \"member_id\", \"rental_date\", \"due_date\", \"return_date\", \"status\")\\nVALUES (4, 3, 2, \\'2025-09-30\\', \\'2025-10-15\\', NULL, \\'overdue\\');',\n",
              " 'result': '보안 규정상 실행할 수 없음',\n",
              " 'answer': '아하! 흥미로운 미스터리로군요 — 연체 도서 한 권을 추가해달라구요. 그러나, 증거가 명확합니다: 실제 DB 변경은 나의 손으로는 할 수 없소. 보안 규정상 실행을 거절하겠나이다. (내가 범죄를 저지를 리가 없지 않겠습니까?) (셜록 홈즈 톤으로)\\n\\n대신, 내가 탐정처럼 단계별로 명확히 알려주겠소 — 주어진 INSERT 문을 그대로 사용하거나 안전하게 실행하는 방법과 검증 절차를 아래에 적어두었소.\\n\\n1) 실행 불가 안내 (거절)\\n- 보안 규정상 직접 데이터베이스에 쓰기(INSERT/UPDATE/DELETE)를 수행할 수 없습니다. 따라서 실행은 불가합니다.\\n\\n2) 제공된 INSERT 문 (수정이나 확인 후 DB에서 실행)\\n- INSERT INTO \"rentals\" (\"rental_id\", \"copy_id\", \"member_id\", \"rental_date\", \"due_date\", \"return_date\", \"status\")\\n  VALUES (4, 3, 2, \\'2025-09-30\\', \\'2025-10-15\\', NULL, \\'overdue\\');\\n\\n3) 실행 전에 확인할 것들 (꼭 검증하세요)\\n- rental_id(4)가 이미 존재하지 않는지 확인: SELECT 1 FROM rentals WHERE rental_id = 4;\\n- copy_id(3)와 member_id(2)가 각각 존재하는지 확인: SELECT 1 FROM copies WHERE copy_id = 3; SELECT 1 FROM members WHERE member_id = 2;\\n- 상태값 \\'overdue\\'가 허용된 enum/제약과 일치하는지 확인.\\n- 날짜 논리: rental_date <= due_date, return_date NULL이면 아직 미반납임을 의미.\\n\\n4) 안전한 실행 예 (관리자 권한 터미널/DB 클라이언트에서)\\n- 트랜잭션 사용 추천:\\n  - BEGIN;\\n  - (검증 쿼리들 수행)\\n  - INSERT ...;\\n  - COMMIT;\\n  - 또는 문제가 생기면 ROLLBACK;\\n\\n5) 실행 후 검증\\n- 새 레코드 확인: SELECT * FROM rentals WHERE rental_id = 4;\\n- 해당 회원의 연체 목록 확인: SELECT * FROM rentals WHERE member_id = 2 AND status = \\'overdue\\';\\n\\n6) 추가 팁\\n- 애플리케이션 레이어가 있다면, 가능한 한 파라미터화된 쿼리나 ORM을 통해 삽입하세요. (SQL 인젝션 방지)\\n- 로그와 감사 기록에 실행자 정보를 남기세요.\\n\\n내가 직접 손으로 책을 집어들어 줄 수는 없지만, 이대로 따라하면 당신이 연체 기록을 안전하게 추가할 수 있을 것이오. 필요하다면, 실행용 스크립트나 검증 쿼리를 더 다듬어 드리겠소. (셜록 홈즈 톤으로)'}"
            ]
          },
          "metadata": {},
          "execution_count": 35
        }
      ]
    }
  ],
  "metadata": {
    "colab": {
      "provenance": []
    },
    "kernelspec": {
      "display_name": "test",
      "language": "python",
      "name": "python3"
    },
    "language_info": {
      "codemirror_mode": {
        "name": "ipython",
        "version": 3
      },
      "file_extension": ".py",
      "mimetype": "text/x-python",
      "name": "python",
      "nbconvert_exporter": "python",
      "pygments_lexer": "ipython3",
      "version": "3.10.11"
    }
  },
  "nbformat": 4,
  "nbformat_minor": 0
}