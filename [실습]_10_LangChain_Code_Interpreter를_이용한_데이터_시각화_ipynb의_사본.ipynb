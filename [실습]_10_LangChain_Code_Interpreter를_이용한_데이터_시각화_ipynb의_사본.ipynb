{
  "cells": [
    {
      "cell_type": "markdown",
      "id": "9991d933",
      "metadata": {
        "id": "9991d933"
      },
      "source": [
        "# [실습] LangChain Code Interpreter를 이용한 데이터 시각화"
      ]
    },
    {
      "cell_type": "markdown",
      "id": "mVVyL6fVqYh_",
      "metadata": {
        "id": "mVVyL6fVqYh_"
      },
      "source": [
        "Python repl_tool은 파이썬 코드를 입력받아 로컬에서 실행하는 기능입니다.   \n",
        "데이터 파일을 전달하고, 이를 위한 시각화를 수행해 보겠습니다.\n"
      ]
    },
    {
      "cell_type": "code",
      "execution_count": null,
      "id": "84b54a0a",
      "metadata": {
        "id": "84b54a0a",
        "colab": {
          "base_uri": "https://localhost:8080/"
        },
        "outputId": "8134cf4d-c62b-4bb4-c646-a83f3e846090"
      },
      "outputs": [
        {
          "output_type": "stream",
          "name": "stdout",
          "text": [
            "\u001b[?25l   \u001b[90m━━━━━━━━━━━━━━━━━━━━━━━━━━━━━━━━━━━━━━━━\u001b[0m \u001b[32m0.0/155.4 kB\u001b[0m \u001b[31m?\u001b[0m eta \u001b[36m-:--:--\u001b[0m\r\u001b[2K   \u001b[90m━━━━━━━━━━━━━━━━━━━━━━━━━━━━━━━━━━━━━━━━\u001b[0m \u001b[32m155.4/155.4 kB\u001b[0m \u001b[31m5.4 MB/s\u001b[0m eta \u001b[36m0:00:00\u001b[0m\n",
            "\u001b[?25h\u001b[?25l   \u001b[90m━━━━━━━━━━━━━━━━━━━━━━━━━━━━━━━━━━━━━━━━\u001b[0m \u001b[32m0.0/76.0 kB\u001b[0m \u001b[31m?\u001b[0m eta \u001b[36m-:--:--\u001b[0m\r\u001b[2K   \u001b[90m━━━━━━━━━━━━━━━━━━━━━━━━━━━━━━━━━━━━━━━━\u001b[0m \u001b[32m76.0/76.0 kB\u001b[0m \u001b[31m6.2 MB/s\u001b[0m eta \u001b[36m0:00:00\u001b[0m\n",
            "\u001b[2K   \u001b[90m━━━━━━━━━━━━━━━━━━━━━━━━━━━━━━━━━━━━━━━━\u001b[0m \u001b[32m2.5/2.5 MB\u001b[0m \u001b[31m34.5 MB/s\u001b[0m eta \u001b[36m0:00:00\u001b[0m\n",
            "\u001b[2K   \u001b[90m━━━━━━━━━━━━━━━━━━━━━━━━━━━━━━━━━━━━━━━━\u001b[0m \u001b[32m209.2/209.2 kB\u001b[0m \u001b[31m15.2 MB/s\u001b[0m eta \u001b[36m0:00:00\u001b[0m\n",
            "\u001b[2K   \u001b[90m━━━━━━━━━━━━━━━━━━━━━━━━━━━━━━━━━━━━━━━━\u001b[0m \u001b[32m46.1/46.1 kB\u001b[0m \u001b[31m3.3 MB/s\u001b[0m eta \u001b[36m0:00:00\u001b[0m\n",
            "\u001b[2K   \u001b[90m━━━━━━━━━━━━━━━━━━━━━━━━━━━━━━━━━━━━━━━━\u001b[0m \u001b[32m56.8/56.8 kB\u001b[0m \u001b[31m4.4 MB/s\u001b[0m eta \u001b[36m0:00:00\u001b[0m\n",
            "\u001b[2K   \u001b[90m━━━━━━━━━━━━━━━━━━━━━━━━━━━━━━━━━━━━━━━━\u001b[0m \u001b[32m64.7/64.7 kB\u001b[0m \u001b[31m5.5 MB/s\u001b[0m eta \u001b[36m0:00:00\u001b[0m\n",
            "\u001b[2K   \u001b[90m━━━━━━━━━━━━━━━━━━━━━━━━━━━━━━━━━━━━━━━━\u001b[0m \u001b[32m50.9/50.9 kB\u001b[0m \u001b[31m3.9 MB/s\u001b[0m eta \u001b[36m0:00:00\u001b[0m\n",
            "\u001b[2K   \u001b[90m━━━━━━━━━━━━━━━━━━━━━━━━━━━━━━━━━━━━━━━━\u001b[0m \u001b[32m207.6/207.6 kB\u001b[0m \u001b[31m17.1 MB/s\u001b[0m eta \u001b[36m0:00:00\u001b[0m\n",
            "\u001b[?25h\u001b[31mERROR: pip's dependency resolver does not currently take into account all the packages that are installed. This behaviour is the source of the following dependency conflicts.\n",
            "google-colab 1.0.0 requires requests==2.32.4, but you have requests 2.32.5 which is incompatible.\u001b[0m\u001b[31m\n",
            "\u001b[0m"
          ]
        }
      ],
      "source": [
        "!pip install langgraph openai matplotlib langchain langchain-openai langchain-community langchain-experimental -q"
      ]
    },
    {
      "cell_type": "markdown",
      "id": "cf243c21",
      "metadata": {
        "id": "cf243c21"
      },
      "source": [
        "이번 실습은 한국어 시각화가 필요할 수 있으므로, 코랩에서는 아래 옵션을 실행합니다."
      ]
    },
    {
      "cell_type": "code",
      "execution_count": null,
      "id": "29521d6e",
      "metadata": {
        "id": "29521d6e",
        "colab": {
          "base_uri": "https://localhost:8080/"
        },
        "collapsed": true,
        "outputId": "445eb677-c2c4-4602-d17b-8346d8a69562"
      },
      "outputs": [
        {
          "output_type": "stream",
          "name": "stdout",
          "text": [
            "Requirement already satisfied: koreanize_matplotlib in /usr/local/lib/python3.12/dist-packages (0.1.1)\n",
            "Requirement already satisfied: matplotlib in /usr/local/lib/python3.12/dist-packages (from koreanize_matplotlib) (3.10.0)\n",
            "Requirement already satisfied: contourpy>=1.0.1 in /usr/local/lib/python3.12/dist-packages (from matplotlib->koreanize_matplotlib) (1.3.3)\n",
            "Requirement already satisfied: cycler>=0.10 in /usr/local/lib/python3.12/dist-packages (from matplotlib->koreanize_matplotlib) (0.12.1)\n",
            "Requirement already satisfied: fonttools>=4.22.0 in /usr/local/lib/python3.12/dist-packages (from matplotlib->koreanize_matplotlib) (4.60.1)\n",
            "Requirement already satisfied: kiwisolver>=1.3.1 in /usr/local/lib/python3.12/dist-packages (from matplotlib->koreanize_matplotlib) (1.4.9)\n",
            "Requirement already satisfied: numpy>=1.23 in /usr/local/lib/python3.12/dist-packages (from matplotlib->koreanize_matplotlib) (2.0.2)\n",
            "Requirement already satisfied: packaging>=20.0 in /usr/local/lib/python3.12/dist-packages (from matplotlib->koreanize_matplotlib) (25.0)\n",
            "Requirement already satisfied: pillow>=8 in /usr/local/lib/python3.12/dist-packages (from matplotlib->koreanize_matplotlib) (11.3.0)\n",
            "Requirement already satisfied: pyparsing>=2.3.1 in /usr/local/lib/python3.12/dist-packages (from matplotlib->koreanize_matplotlib) (3.2.5)\n",
            "Requirement already satisfied: python-dateutil>=2.7 in /usr/local/lib/python3.12/dist-packages (from matplotlib->koreanize_matplotlib) (2.9.0.post0)\n",
            "Requirement already satisfied: six>=1.5 in /usr/local/lib/python3.12/dist-packages (from python-dateutil>=2.7->matplotlib->koreanize_matplotlib) (1.17.0)\n"
          ]
        }
      ],
      "source": [
        "!pip install koreanize_matplotlib"
      ]
    },
    {
      "cell_type": "code",
      "execution_count": null,
      "id": "84365aae",
      "metadata": {
        "id": "84365aae"
      },
      "outputs": [],
      "source": [
        "import os\n",
        "from dotenv import load_dotenv\n",
        "from langchain_openai import ChatOpenAI\n",
        "\n",
        "load_dotenv('env', override=True)\n",
        "\n",
        "llm = ChatOpenAI(model = 'gpt-4.1-mini', max_tokens=1024, temperature=0.1)"
      ]
    },
    {
      "cell_type": "markdown",
      "source": [
        "Python REPL을 불러옵니다.    \n",
        "이 클래스는 run을 통해 실행하는 구조로, 별도의 툴로 Wrap할 수 있습니다."
      ],
      "metadata": {
        "id": "abcbUUoh7nSp"
      },
      "id": "abcbUUoh7nSp"
    },
    {
      "cell_type": "code",
      "execution_count": null,
      "id": "JTB94iupG32J",
      "metadata": {
        "id": "JTB94iupG32J"
      },
      "outputs": [],
      "source": [
        "from langchain_experimental.tools.python.tool import PythonREPL\n",
        "repl = PythonREPL()"
      ]
    },
    {
      "cell_type": "code",
      "execution_count": null,
      "id": "RCH4TKXEFOKL",
      "metadata": {
        "id": "RCH4TKXEFOKL",
        "colab": {
          "base_uri": "https://localhost:8080/",
          "height": 54
        },
        "outputId": "771150e3-98a3-457e-ac62-98e4ebb5d9ff"
      },
      "outputs": [
        {
          "output_type": "stream",
          "name": "stderr",
          "text": [
            "WARNING:langchain_experimental.utilities.python:Python REPL can execute arbitrary code. Use with caution.\n"
          ]
        },
        {
          "output_type": "execute_result",
          "data": {
            "text/plain": [
              "'0\\n1\\n2\\n3\\n4\\n5\\n6\\n7\\n8\\n9\\n'"
            ],
            "application/vnd.google.colaboratory.intrinsic+json": {
              "type": "string"
            }
          },
          "metadata": {},
          "execution_count": 6
        }
      ],
      "source": [
        "example_code = \"for i in range(10): print(i)\"\n",
        "repl.run(example_code)"
      ]
    },
    {
      "cell_type": "markdown",
      "source": [
        "실제 구현에서의 툴은 아래와 같이 자세한 내용을 포함하는 것이 좋습니다."
      ],
      "metadata": {
        "id": "oeGS_IJt9y6b"
      },
      "id": "oeGS_IJt9y6b"
    },
    {
      "cell_type": "code",
      "execution_count": null,
      "id": "09e5115a",
      "metadata": {
        "id": "09e5115a"
      },
      "outputs": [],
      "source": [
        "from langchain_core.tools import tool\n",
        "from typing import Annotated\n",
        "from langchain_experimental.tools.python.tool import PythonREPL\n",
        "repl = PythonREPL()\n",
        "\n",
        "example_code = \"for i in range(10): print(i)\"\n",
        "repl.run(example_code)\n",
        "\n",
        "# 툴 정보를 보다 자세하게 작성하여 성능을 높입니다.\n",
        "@tool\n",
        "def python_repl_tool(\n",
        "    code: Annotated[str, \"The python code to execute.\"],\n",
        "):\n",
        "    \"\"\"Use this to execute python code. If you want to see the output of a value,\n",
        "    you MUST print it out with `print(...)`. This is visible to the user.\"\"\"\n",
        "    try:\n",
        "        result = repl.run(code)\n",
        "    except BaseException as e:\n",
        "        return f\"Failed to execute. Error: {repr(e)}\"\n",
        "    result_str = f\"Successfully executed:\\n```python\\n{code}\\n```\\nStdout: {result}\"\n",
        "    return result_str"
      ]
    },
    {
      "cell_type": "markdown",
      "id": "2980a506",
      "metadata": {
        "id": "2980a506"
      },
      "source": [
        "python_repl_tool을 LLM에 binding합니다."
      ]
    },
    {
      "cell_type": "code",
      "execution_count": null,
      "id": "5ILdSudxuAfy",
      "metadata": {
        "id": "5ILdSudxuAfy"
      },
      "outputs": [],
      "source": [
        "tools = [python_repl_tool]"
      ]
    },
    {
      "cell_type": "code",
      "execution_count": null,
      "id": "tAPZpahQtGlm",
      "metadata": {
        "id": "tAPZpahQtGlm",
        "colab": {
          "base_uri": "https://localhost:8080/",
          "height": 545
        },
        "outputId": "b612afb2-cea2-4356-9144-821119a8c6fa"
      },
      "outputs": [
        {
          "output_type": "display_data",
          "data": {
            "text/plain": [
              "\u001b[1;35mRunnableBinding\u001b[0m\u001b[1m(\u001b[0m\n",
              "    \u001b[33mbound\u001b[0m=\u001b[1;35mChatOpenAI\u001b[0m\u001b[1m(\u001b[0m\n",
              "        \u001b[33mclient\u001b[0m=\u001b[1m<\u001b[0m\u001b[1;95mopenai.resources.chat.completions.completions.Completions\u001b[0m\u001b[39m object at \u001b[0m\u001b[1;36m0x79dbed578620\u001b[0m\u001b[39m>,\u001b[0m\n",
              "\u001b[39m        \u001b[0m\u001b[33masync_client\u001b[0m\u001b[39m=<openai.resources.chat.completions.completions.AsyncCompletions object at \u001b[0m\u001b[1;36m0x79dbecf55a90\u001b[0m\u001b[39m>,\u001b[0m\n",
              "\u001b[39m        \u001b[0m\u001b[33mroot_client\u001b[0m\u001b[39m=<openai.OpenAI object at \u001b[0m\u001b[1;36m0x79dcd32647a0\u001b[0m\u001b[39m>,\u001b[0m\n",
              "\u001b[39m        \u001b[0m\u001b[33mroot_async_client\u001b[0m\u001b[39m=<openai.AsyncOpenAI object at \u001b[0m\u001b[1;36m0x79dbed578650\u001b[0m\u001b[1m>\u001b[0m,\n",
              "        \u001b[33mmodel_name\u001b[0m=\u001b[32m'gpt-4.1-mini'\u001b[0m,\n",
              "        \u001b[33mtemperature\u001b[0m=\u001b[1;36m0\u001b[0m\u001b[1;36m.1\u001b[0m,\n",
              "        \u001b[33mmodel_kwargs\u001b[0m=\u001b[1m{\u001b[0m\u001b[1m}\u001b[0m,\n",
              "        \u001b[33mopenai_api_key\u001b[0m=\u001b[1;35mSecretStr\u001b[0m\u001b[1m(\u001b[0m\u001b[32m'**********'\u001b[0m\u001b[1m)\u001b[0m,\n",
              "        \u001b[33mstream_usage\u001b[0m=\u001b[3;92mTrue\u001b[0m,\n",
              "        \u001b[33mmax_tokens\u001b[0m=\u001b[1;36m1024\u001b[0m\n",
              "    \u001b[1m)\u001b[0m,\n",
              "    \u001b[33mkwargs\u001b[0m=\u001b[1m{\u001b[0m\n",
              "        \u001b[32m'tools'\u001b[0m: \u001b[1m[\u001b[0m\n",
              "            \u001b[1m{\u001b[0m\n",
              "                \u001b[32m'type'\u001b[0m: \u001b[32m'function'\u001b[0m,\n",
              "                \u001b[32m'function'\u001b[0m: \u001b[1m{\u001b[0m\n",
              "                    \u001b[32m'name'\u001b[0m: \u001b[32m'python_repl_tool'\u001b[0m,\n",
              "                    \u001b[32m'description'\u001b[0m: \u001b[32m'Use this to execute python code. If you want to see the output of a value,\\n   \u001b[0m\n",
              "\u001b[32myou MUST print it out with `print\u001b[0m\u001b[32m(\u001b[0m\u001b[32m...\u001b[0m\u001b[32m)\u001b[0m\u001b[32m`. This is visible to the user.'\u001b[0m,\n",
              "                    \u001b[32m'parameters'\u001b[0m: \u001b[1m{\u001b[0m\n",
              "                        \u001b[32m'properties'\u001b[0m: \u001b[1m{\u001b[0m\u001b[32m'code'\u001b[0m: \u001b[1m{\u001b[0m\u001b[32m'description'\u001b[0m: \u001b[32m'The python code to execute.'\u001b[0m, \u001b[32m'type'\u001b[0m: \u001b[32m'string'\u001b[0m\u001b[1m}\u001b[0m\u001b[1m}\u001b[0m,\n",
              "                        \u001b[32m'required'\u001b[0m: \u001b[1m[\u001b[0m\u001b[32m'code'\u001b[0m\u001b[1m]\u001b[0m,\n",
              "                        \u001b[32m'type'\u001b[0m: \u001b[32m'object'\u001b[0m\n",
              "                    \u001b[1m}\u001b[0m\n",
              "                \u001b[1m}\u001b[0m\n",
              "            \u001b[1m}\u001b[0m\n",
              "        \u001b[1m]\u001b[0m\n",
              "    \u001b[1m}\u001b[0m,\n",
              "    \u001b[33mconfig\u001b[0m=\u001b[1m{\u001b[0m\u001b[1m}\u001b[0m,\n",
              "    \u001b[33mconfig_factories\u001b[0m=\u001b[1m[\u001b[0m\u001b[1m]\u001b[0m\n",
              "\u001b[1m)\u001b[0m\n"
            ],
            "text/html": [
              "<pre style=\"white-space:pre;overflow-x:auto;line-height:normal;font-family:Menlo,'DejaVu Sans Mono',consolas,'Courier New',monospace\"><span style=\"color: #800080; text-decoration-color: #800080; font-weight: bold\">RunnableBinding</span><span style=\"font-weight: bold\">(</span>\n",
              "    <span style=\"color: #808000; text-decoration-color: #808000\">bound</span>=<span style=\"color: #800080; text-decoration-color: #800080; font-weight: bold\">ChatOpenAI</span><span style=\"font-weight: bold\">(</span>\n",
              "        <span style=\"color: #808000; text-decoration-color: #808000\">client</span>=<span style=\"font-weight: bold\">&lt;</span><span style=\"color: #ff00ff; text-decoration-color: #ff00ff; font-weight: bold\">openai.resources.chat.completions.completions.Completions</span><span style=\"color: #000000; text-decoration-color: #000000\"> object at </span><span style=\"color: #008080; text-decoration-color: #008080; font-weight: bold\">0x79dbed578620</span><span style=\"color: #000000; text-decoration-color: #000000\">&gt;,</span>\n",
              "<span style=\"color: #000000; text-decoration-color: #000000\">        </span><span style=\"color: #808000; text-decoration-color: #808000\">async_client</span><span style=\"color: #000000; text-decoration-color: #000000\">=&lt;openai.resources.chat.completions.completions.AsyncCompletions object at </span><span style=\"color: #008080; text-decoration-color: #008080; font-weight: bold\">0x79dbecf55a90</span><span style=\"color: #000000; text-decoration-color: #000000\">&gt;,</span>\n",
              "<span style=\"color: #000000; text-decoration-color: #000000\">        </span><span style=\"color: #808000; text-decoration-color: #808000\">root_client</span><span style=\"color: #000000; text-decoration-color: #000000\">=&lt;openai.OpenAI object at </span><span style=\"color: #008080; text-decoration-color: #008080; font-weight: bold\">0x79dcd32647a0</span><span style=\"color: #000000; text-decoration-color: #000000\">&gt;,</span>\n",
              "<span style=\"color: #000000; text-decoration-color: #000000\">        </span><span style=\"color: #808000; text-decoration-color: #808000\">root_async_client</span><span style=\"color: #000000; text-decoration-color: #000000\">=&lt;openai.AsyncOpenAI object at </span><span style=\"color: #008080; text-decoration-color: #008080; font-weight: bold\">0x79dbed578650</span><span style=\"font-weight: bold\">&gt;</span>,\n",
              "        <span style=\"color: #808000; text-decoration-color: #808000\">model_name</span>=<span style=\"color: #008000; text-decoration-color: #008000\">'gpt-4.1-mini'</span>,\n",
              "        <span style=\"color: #808000; text-decoration-color: #808000\">temperature</span>=<span style=\"color: #008080; text-decoration-color: #008080; font-weight: bold\">0.1</span>,\n",
              "        <span style=\"color: #808000; text-decoration-color: #808000\">model_kwargs</span>=<span style=\"font-weight: bold\">{}</span>,\n",
              "        <span style=\"color: #808000; text-decoration-color: #808000\">openai_api_key</span>=<span style=\"color: #800080; text-decoration-color: #800080; font-weight: bold\">SecretStr</span><span style=\"font-weight: bold\">(</span><span style=\"color: #008000; text-decoration-color: #008000\">'**********'</span><span style=\"font-weight: bold\">)</span>,\n",
              "        <span style=\"color: #808000; text-decoration-color: #808000\">stream_usage</span>=<span style=\"color: #00ff00; text-decoration-color: #00ff00; font-style: italic\">True</span>,\n",
              "        <span style=\"color: #808000; text-decoration-color: #808000\">max_tokens</span>=<span style=\"color: #008080; text-decoration-color: #008080; font-weight: bold\">1024</span>\n",
              "    <span style=\"font-weight: bold\">)</span>,\n",
              "    <span style=\"color: #808000; text-decoration-color: #808000\">kwargs</span>=<span style=\"font-weight: bold\">{</span>\n",
              "        <span style=\"color: #008000; text-decoration-color: #008000\">'tools'</span>: <span style=\"font-weight: bold\">[</span>\n",
              "            <span style=\"font-weight: bold\">{</span>\n",
              "                <span style=\"color: #008000; text-decoration-color: #008000\">'type'</span>: <span style=\"color: #008000; text-decoration-color: #008000\">'function'</span>,\n",
              "                <span style=\"color: #008000; text-decoration-color: #008000\">'function'</span>: <span style=\"font-weight: bold\">{</span>\n",
              "                    <span style=\"color: #008000; text-decoration-color: #008000\">'name'</span>: <span style=\"color: #008000; text-decoration-color: #008000\">'python_repl_tool'</span>,\n",
              "                    <span style=\"color: #008000; text-decoration-color: #008000\">'description'</span>: <span style=\"color: #008000; text-decoration-color: #008000\">'Use this to execute python code. If you want to see the output of a value,\\n   </span>\n",
              "<span style=\"color: #008000; text-decoration-color: #008000\">you MUST print it out with `print(...)`. This is visible to the user.'</span>,\n",
              "                    <span style=\"color: #008000; text-decoration-color: #008000\">'parameters'</span>: <span style=\"font-weight: bold\">{</span>\n",
              "                        <span style=\"color: #008000; text-decoration-color: #008000\">'properties'</span>: <span style=\"font-weight: bold\">{</span><span style=\"color: #008000; text-decoration-color: #008000\">'code'</span>: <span style=\"font-weight: bold\">{</span><span style=\"color: #008000; text-decoration-color: #008000\">'description'</span>: <span style=\"color: #008000; text-decoration-color: #008000\">'The python code to execute.'</span>, <span style=\"color: #008000; text-decoration-color: #008000\">'type'</span>: <span style=\"color: #008000; text-decoration-color: #008000\">'string'</span><span style=\"font-weight: bold\">}}</span>,\n",
              "                        <span style=\"color: #008000; text-decoration-color: #008000\">'required'</span>: <span style=\"font-weight: bold\">[</span><span style=\"color: #008000; text-decoration-color: #008000\">'code'</span><span style=\"font-weight: bold\">]</span>,\n",
              "                        <span style=\"color: #008000; text-decoration-color: #008000\">'type'</span>: <span style=\"color: #008000; text-decoration-color: #008000\">'object'</span>\n",
              "                    <span style=\"font-weight: bold\">}</span>\n",
              "                <span style=\"font-weight: bold\">}</span>\n",
              "            <span style=\"font-weight: bold\">}</span>\n",
              "        <span style=\"font-weight: bold\">]</span>\n",
              "    <span style=\"font-weight: bold\">}</span>,\n",
              "    <span style=\"color: #808000; text-decoration-color: #808000\">config</span>=<span style=\"font-weight: bold\">{}</span>,\n",
              "    <span style=\"color: #808000; text-decoration-color: #808000\">config_factories</span>=<span style=\"font-weight: bold\">[]</span>\n",
              "<span style=\"font-weight: bold\">)</span>\n",
              "</pre>\n"
            ]
          },
          "metadata": {}
        }
      ],
      "source": [
        "from rich import print as rprint\n",
        "llm_with_tools = llm.bind_tools(tools)\n",
        "rprint(llm_with_tools)"
      ]
    },
    {
      "cell_type": "markdown",
      "id": "e5a50395",
      "metadata": {
        "id": "e5a50395"
      },
      "source": [
        "예시 데이터를 전달해 보겠습니다."
      ]
    },
    {
      "cell_type": "code",
      "execution_count": null,
      "id": "2b267022",
      "metadata": {
        "id": "2b267022",
        "colab": {
          "base_uri": "https://localhost:8080/",
          "height": 206
        },
        "outputId": "a34962e8-41d8-4e86-e9fe-f686090f742a"
      },
      "outputs": [
        {
          "output_type": "execute_result",
          "data": {
            "text/plain": [
              "           날짜   제품       가격  판매량  고객_연령 고객_성별  지역\n",
              "0  2023-01-01  노트북  1200000    5     34    남성  서울\n",
              "1  2023-01-02  노트북  1200000    3     42    여성  부산\n",
              "2  2023-01-03  노트북  1200000    2     28    남성  대구\n",
              "3  2023-01-04  노트북  1200000    7     45    여성  인천\n",
              "4  2023-01-05  노트북  1200000    4     31    남성  광주"
            ],
            "text/html": [
              "\n",
              "  <div id=\"df-aa33ab14-04c1-4065-9e93-51eeb0f34e87\" class=\"colab-df-container\">\n",
              "    <div>\n",
              "<style scoped>\n",
              "    .dataframe tbody tr th:only-of-type {\n",
              "        vertical-align: middle;\n",
              "    }\n",
              "\n",
              "    .dataframe tbody tr th {\n",
              "        vertical-align: top;\n",
              "    }\n",
              "\n",
              "    .dataframe thead th {\n",
              "        text-align: right;\n",
              "    }\n",
              "</style>\n",
              "<table border=\"1\" class=\"dataframe\">\n",
              "  <thead>\n",
              "    <tr style=\"text-align: right;\">\n",
              "      <th></th>\n",
              "      <th>날짜</th>\n",
              "      <th>제품</th>\n",
              "      <th>가격</th>\n",
              "      <th>판매량</th>\n",
              "      <th>고객_연령</th>\n",
              "      <th>고객_성별</th>\n",
              "      <th>지역</th>\n",
              "    </tr>\n",
              "  </thead>\n",
              "  <tbody>\n",
              "    <tr>\n",
              "      <th>0</th>\n",
              "      <td>2023-01-01</td>\n",
              "      <td>노트북</td>\n",
              "      <td>1200000</td>\n",
              "      <td>5</td>\n",
              "      <td>34</td>\n",
              "      <td>남성</td>\n",
              "      <td>서울</td>\n",
              "    </tr>\n",
              "    <tr>\n",
              "      <th>1</th>\n",
              "      <td>2023-01-02</td>\n",
              "      <td>노트북</td>\n",
              "      <td>1200000</td>\n",
              "      <td>3</td>\n",
              "      <td>42</td>\n",
              "      <td>여성</td>\n",
              "      <td>부산</td>\n",
              "    </tr>\n",
              "    <tr>\n",
              "      <th>2</th>\n",
              "      <td>2023-01-03</td>\n",
              "      <td>노트북</td>\n",
              "      <td>1200000</td>\n",
              "      <td>2</td>\n",
              "      <td>28</td>\n",
              "      <td>남성</td>\n",
              "      <td>대구</td>\n",
              "    </tr>\n",
              "    <tr>\n",
              "      <th>3</th>\n",
              "      <td>2023-01-04</td>\n",
              "      <td>노트북</td>\n",
              "      <td>1200000</td>\n",
              "      <td>7</td>\n",
              "      <td>45</td>\n",
              "      <td>여성</td>\n",
              "      <td>인천</td>\n",
              "    </tr>\n",
              "    <tr>\n",
              "      <th>4</th>\n",
              "      <td>2023-01-05</td>\n",
              "      <td>노트북</td>\n",
              "      <td>1200000</td>\n",
              "      <td>4</td>\n",
              "      <td>31</td>\n",
              "      <td>남성</td>\n",
              "      <td>광주</td>\n",
              "    </tr>\n",
              "  </tbody>\n",
              "</table>\n",
              "</div>\n",
              "    <div class=\"colab-df-buttons\">\n",
              "\n",
              "  <div class=\"colab-df-container\">\n",
              "    <button class=\"colab-df-convert\" onclick=\"convertToInteractive('df-aa33ab14-04c1-4065-9e93-51eeb0f34e87')\"\n",
              "            title=\"Convert this dataframe to an interactive table.\"\n",
              "            style=\"display:none;\">\n",
              "\n",
              "  <svg xmlns=\"http://www.w3.org/2000/svg\" height=\"24px\" viewBox=\"0 -960 960 960\">\n",
              "    <path d=\"M120-120v-720h720v720H120Zm60-500h600v-160H180v160Zm220 220h160v-160H400v160Zm0 220h160v-160H400v160ZM180-400h160v-160H180v160Zm440 0h160v-160H620v160ZM180-180h160v-160H180v160Zm440 0h160v-160H620v160Z\"/>\n",
              "  </svg>\n",
              "    </button>\n",
              "\n",
              "  <style>\n",
              "    .colab-df-container {\n",
              "      display:flex;\n",
              "      gap: 12px;\n",
              "    }\n",
              "\n",
              "    .colab-df-convert {\n",
              "      background-color: #E8F0FE;\n",
              "      border: none;\n",
              "      border-radius: 50%;\n",
              "      cursor: pointer;\n",
              "      display: none;\n",
              "      fill: #1967D2;\n",
              "      height: 32px;\n",
              "      padding: 0 0 0 0;\n",
              "      width: 32px;\n",
              "    }\n",
              "\n",
              "    .colab-df-convert:hover {\n",
              "      background-color: #E2EBFA;\n",
              "      box-shadow: 0px 1px 2px rgba(60, 64, 67, 0.3), 0px 1px 3px 1px rgba(60, 64, 67, 0.15);\n",
              "      fill: #174EA6;\n",
              "    }\n",
              "\n",
              "    .colab-df-buttons div {\n",
              "      margin-bottom: 4px;\n",
              "    }\n",
              "\n",
              "    [theme=dark] .colab-df-convert {\n",
              "      background-color: #3B4455;\n",
              "      fill: #D2E3FC;\n",
              "    }\n",
              "\n",
              "    [theme=dark] .colab-df-convert:hover {\n",
              "      background-color: #434B5C;\n",
              "      box-shadow: 0px 1px 3px 1px rgba(0, 0, 0, 0.15);\n",
              "      filter: drop-shadow(0px 1px 2px rgba(0, 0, 0, 0.3));\n",
              "      fill: #FFFFFF;\n",
              "    }\n",
              "  </style>\n",
              "\n",
              "    <script>\n",
              "      const buttonEl =\n",
              "        document.querySelector('#df-aa33ab14-04c1-4065-9e93-51eeb0f34e87 button.colab-df-convert');\n",
              "      buttonEl.style.display =\n",
              "        google.colab.kernel.accessAllowed ? 'block' : 'none';\n",
              "\n",
              "      async function convertToInteractive(key) {\n",
              "        const element = document.querySelector('#df-aa33ab14-04c1-4065-9e93-51eeb0f34e87');\n",
              "        const dataTable =\n",
              "          await google.colab.kernel.invokeFunction('convertToInteractive',\n",
              "                                                    [key], {});\n",
              "        if (!dataTable) return;\n",
              "\n",
              "        const docLinkHtml = 'Like what you see? Visit the ' +\n",
              "          '<a target=\"_blank\" href=https://colab.research.google.com/notebooks/data_table.ipynb>data table notebook</a>'\n",
              "          + ' to learn more about interactive tables.';\n",
              "        element.innerHTML = '';\n",
              "        dataTable['output_type'] = 'display_data';\n",
              "        await google.colab.output.renderOutput(dataTable, element);\n",
              "        const docLink = document.createElement('div');\n",
              "        docLink.innerHTML = docLinkHtml;\n",
              "        element.appendChild(docLink);\n",
              "      }\n",
              "    </script>\n",
              "  </div>\n",
              "\n",
              "\n",
              "    <div id=\"df-657d5ef4-e402-4d29-8740-d4a17d4c9e2a\">\n",
              "      <button class=\"colab-df-quickchart\" onclick=\"quickchart('df-657d5ef4-e402-4d29-8740-d4a17d4c9e2a')\"\n",
              "                title=\"Suggest charts\"\n",
              "                style=\"display:none;\">\n",
              "\n",
              "<svg xmlns=\"http://www.w3.org/2000/svg\" height=\"24px\"viewBox=\"0 0 24 24\"\n",
              "     width=\"24px\">\n",
              "    <g>\n",
              "        <path d=\"M19 3H5c-1.1 0-2 .9-2 2v14c0 1.1.9 2 2 2h14c1.1 0 2-.9 2-2V5c0-1.1-.9-2-2-2zM9 17H7v-7h2v7zm4 0h-2V7h2v10zm4 0h-2v-4h2v4z\"/>\n",
              "    </g>\n",
              "</svg>\n",
              "      </button>\n",
              "\n",
              "<style>\n",
              "  .colab-df-quickchart {\n",
              "      --bg-color: #E8F0FE;\n",
              "      --fill-color: #1967D2;\n",
              "      --hover-bg-color: #E2EBFA;\n",
              "      --hover-fill-color: #174EA6;\n",
              "      --disabled-fill-color: #AAA;\n",
              "      --disabled-bg-color: #DDD;\n",
              "  }\n",
              "\n",
              "  [theme=dark] .colab-df-quickchart {\n",
              "      --bg-color: #3B4455;\n",
              "      --fill-color: #D2E3FC;\n",
              "      --hover-bg-color: #434B5C;\n",
              "      --hover-fill-color: #FFFFFF;\n",
              "      --disabled-bg-color: #3B4455;\n",
              "      --disabled-fill-color: #666;\n",
              "  }\n",
              "\n",
              "  .colab-df-quickchart {\n",
              "    background-color: var(--bg-color);\n",
              "    border: none;\n",
              "    border-radius: 50%;\n",
              "    cursor: pointer;\n",
              "    display: none;\n",
              "    fill: var(--fill-color);\n",
              "    height: 32px;\n",
              "    padding: 0;\n",
              "    width: 32px;\n",
              "  }\n",
              "\n",
              "  .colab-df-quickchart:hover {\n",
              "    background-color: var(--hover-bg-color);\n",
              "    box-shadow: 0 1px 2px rgba(60, 64, 67, 0.3), 0 1px 3px 1px rgba(60, 64, 67, 0.15);\n",
              "    fill: var(--button-hover-fill-color);\n",
              "  }\n",
              "\n",
              "  .colab-df-quickchart-complete:disabled,\n",
              "  .colab-df-quickchart-complete:disabled:hover {\n",
              "    background-color: var(--disabled-bg-color);\n",
              "    fill: var(--disabled-fill-color);\n",
              "    box-shadow: none;\n",
              "  }\n",
              "\n",
              "  .colab-df-spinner {\n",
              "    border: 2px solid var(--fill-color);\n",
              "    border-color: transparent;\n",
              "    border-bottom-color: var(--fill-color);\n",
              "    animation:\n",
              "      spin 1s steps(1) infinite;\n",
              "  }\n",
              "\n",
              "  @keyframes spin {\n",
              "    0% {\n",
              "      border-color: transparent;\n",
              "      border-bottom-color: var(--fill-color);\n",
              "      border-left-color: var(--fill-color);\n",
              "    }\n",
              "    20% {\n",
              "      border-color: transparent;\n",
              "      border-left-color: var(--fill-color);\n",
              "      border-top-color: var(--fill-color);\n",
              "    }\n",
              "    30% {\n",
              "      border-color: transparent;\n",
              "      border-left-color: var(--fill-color);\n",
              "      border-top-color: var(--fill-color);\n",
              "      border-right-color: var(--fill-color);\n",
              "    }\n",
              "    40% {\n",
              "      border-color: transparent;\n",
              "      border-right-color: var(--fill-color);\n",
              "      border-top-color: var(--fill-color);\n",
              "    }\n",
              "    60% {\n",
              "      border-color: transparent;\n",
              "      border-right-color: var(--fill-color);\n",
              "    }\n",
              "    80% {\n",
              "      border-color: transparent;\n",
              "      border-right-color: var(--fill-color);\n",
              "      border-bottom-color: var(--fill-color);\n",
              "    }\n",
              "    90% {\n",
              "      border-color: transparent;\n",
              "      border-bottom-color: var(--fill-color);\n",
              "    }\n",
              "  }\n",
              "</style>\n",
              "\n",
              "      <script>\n",
              "        async function quickchart(key) {\n",
              "          const quickchartButtonEl =\n",
              "            document.querySelector('#' + key + ' button');\n",
              "          quickchartButtonEl.disabled = true;  // To prevent multiple clicks.\n",
              "          quickchartButtonEl.classList.add('colab-df-spinner');\n",
              "          try {\n",
              "            const charts = await google.colab.kernel.invokeFunction(\n",
              "                'suggestCharts', [key], {});\n",
              "          } catch (error) {\n",
              "            console.error('Error during call to suggestCharts:', error);\n",
              "          }\n",
              "          quickchartButtonEl.classList.remove('colab-df-spinner');\n",
              "          quickchartButtonEl.classList.add('colab-df-quickchart-complete');\n",
              "        }\n",
              "        (() => {\n",
              "          let quickchartButtonEl =\n",
              "            document.querySelector('#df-657d5ef4-e402-4d29-8740-d4a17d4c9e2a button');\n",
              "          quickchartButtonEl.style.display =\n",
              "            google.colab.kernel.accessAllowed ? 'block' : 'none';\n",
              "        })();\n",
              "      </script>\n",
              "    </div>\n",
              "\n",
              "    </div>\n",
              "  </div>\n"
            ],
            "application/vnd.google.colaboratory.intrinsic+json": {
              "type": "dataframe",
              "variable_name": "df",
              "summary": "{\n  \"name\": \"df\",\n  \"rows\": 25,\n  \"fields\": [\n    {\n      \"column\": \"\\ub0a0\\uc9dc\",\n      \"properties\": {\n        \"dtype\": \"object\",\n        \"num_unique_values\": 25,\n        \"samples\": [\n          \"2023-01-09\",\n          \"2023-01-17\",\n          \"2023-01-01\"\n        ],\n        \"semantic_type\": \"\",\n        \"description\": \"\"\n      }\n    },\n    {\n      \"column\": \"\\uc81c\\ud488\",\n      \"properties\": {\n        \"dtype\": \"category\",\n        \"num_unique_values\": 5,\n        \"samples\": [\n          \"\\ud0dc\\ube14\\ub9bf\",\n          \"\\uc2a4\\ub9c8\\ud2b8\\uc6cc\\uce58\",\n          \"\\uc2a4\\ub9c8\\ud2b8\\ud3f0\"\n        ],\n        \"semantic_type\": \"\",\n        \"description\": \"\"\n      }\n    },\n    {\n      \"column\": \"\\uac00\\uaca9\",\n      \"properties\": {\n        \"dtype\": \"number\",\n        \"std\": 524801,\n        \"min\": 150000,\n        \"max\": 1500000,\n        \"num_unique_values\": 5,\n        \"samples\": [\n          800000,\n          300000,\n          1500000\n        ],\n        \"semantic_type\": \"\",\n        \"description\": \"\"\n      }\n    },\n    {\n      \"column\": \"\\ud310\\ub9e4\\ub7c9\",\n      \"properties\": {\n        \"dtype\": \"number\",\n        \"std\": 6,\n        \"min\": 2,\n        \"max\": 28,\n        \"num_unique_values\": 19,\n        \"samples\": [\n          5,\n          8,\n          25\n        ],\n        \"semantic_type\": \"\",\n        \"description\": \"\"\n      }\n    },\n    {\n      \"column\": \"\\uace0\\uac1d_\\uc5f0\\ub839\",\n      \"properties\": {\n        \"dtype\": \"number\",\n        \"std\": 6,\n        \"min\": 22,\n        \"max\": 46,\n        \"num_unique_values\": 18,\n        \"samples\": [\n          34,\n          42,\n          33\n        ],\n        \"semantic_type\": \"\",\n        \"description\": \"\"\n      }\n    },\n    {\n      \"column\": \"\\uace0\\uac1d_\\uc131\\ubcc4\",\n      \"properties\": {\n        \"dtype\": \"category\",\n        \"num_unique_values\": 2,\n        \"samples\": [\n          \"\\uc5ec\\uc131\",\n          \"\\ub0a8\\uc131\"\n        ],\n        \"semantic_type\": \"\",\n        \"description\": \"\"\n      }\n    },\n    {\n      \"column\": \"\\uc9c0\\uc5ed\",\n      \"properties\": {\n        \"dtype\": \"category\",\n        \"num_unique_values\": 6,\n        \"samples\": [\n          \"\\uc11c\\uc6b8\",\n          \"\\ubd80\\uc0b0\"\n        ],\n        \"semantic_type\": \"\",\n        \"description\": \"\"\n      }\n    }\n  ]\n}"
            }
          },
          "metadata": {},
          "execution_count": 10
        }
      ],
      "source": [
        "import pandas as pd\n",
        "df = pd.read_csv('./sample_data.csv')\n",
        "df.head()\n"
      ]
    },
    {
      "cell_type": "markdown",
      "source": [
        "이전과 동일하게, LLM에게 메시지를 전달해 보겠습니다.   \n",
        "Step-by-Step으로 작업을 수행하도록 구성합니다."
      ],
      "metadata": {
        "id": "VQ60huvZ71MJ"
      },
      "id": "VQ60huvZ71MJ"
    },
    {
      "cell_type": "code",
      "execution_count": null,
      "id": "074053a2",
      "metadata": {
        "id": "074053a2"
      },
      "outputs": [],
      "source": [
        "from langchain_core.messages import HumanMessage, SystemMessage\n",
        "\n",
        "system_message = SystemMessage('''당신은 파이썬 코드를 이용한 데이터 분석의 전문가입니다.\n",
        "주어진 툴의 사용 방법을 참고하여 분석을 수행하세요.\n",
        "문제를 Step by Step으로 분할하여 풀고, 중간 출력은 항상 Print를 해야 확인이 가능합니다.\n",
        "한국어 시각화가 필요한 경우, import koreanize_matplotlib을 사용하시오. ''')\n",
        "\n",
        "query = HumanMessage('파일의 위치가 ./sample_data.csv 이다. 이 파일의 제품별 판매량을 비교하는 시각화를 result.png에 저장해줘.')\n",
        "msgs = [system_message, query]"
      ]
    },
    {
      "cell_type": "code",
      "execution_count": null,
      "id": "ULO76ctguUDO",
      "metadata": {
        "id": "ULO76ctguUDO",
        "colab": {
          "base_uri": "https://localhost:8080/",
          "height": 929
        },
        "outputId": "fe111516-ba43-4996-d617-5c9d0608d60d"
      },
      "outputs": [
        {
          "output_type": "display_data",
          "data": {
            "text/plain": [
              "\u001b[1;35mAIMessage\u001b[0m\u001b[1m(\u001b[0m\n",
              "    \u001b[33mcontent\u001b[0m=\u001b[32m''\u001b[0m,\n",
              "    \u001b[33madditional_kwargs\u001b[0m=\u001b[1m{\u001b[0m\n",
              "        \u001b[32m'tool_calls'\u001b[0m: \u001b[1m[\u001b[0m\n",
              "            \u001b[1m{\u001b[0m\n",
              "                \u001b[32m'id'\u001b[0m: \u001b[32m'call_H7eXlOODk5e9mvgFxUdVcysV'\u001b[0m,\n",
              "                \u001b[32m'function'\u001b[0m: \u001b[1m{\u001b[0m\n",
              "                    \u001b[32m'arguments'\u001b[0m: \u001b[32m'\u001b[0m\u001b[32m{\u001b[0m\u001b[32m\"code\":\"import pandas as pd\\\\nimport matplotlib.pyplot as plt\\\\nimport \u001b[0m\n",
              "\u001b[32mkoreanize_matplotlib\\\\n\\\\n# 데이터 불러오기\\\\ndf = pd.read_csv\u001b[0m\u001b[32m(\u001b[0m\u001b[32m\\'./sample_data.csv\\'\u001b[0m\u001b[32m)\u001b[0m\u001b[32m\\\\n\\\\n# 데이터 \u001b[0m\n",
              "\u001b[32m확인\\\\nprint\u001b[0m\u001b[32m(\u001b[0m\u001b[32mdf.head\u001b[0m\u001b[32m(\u001b[0m\u001b[32m)\u001b[0m\u001b[32m)\u001b[0m\u001b[32m\"\u001b[0m\u001b[32m}\u001b[0m\u001b[32m'\u001b[0m,\n",
              "                    \u001b[32m'name'\u001b[0m: \u001b[32m'python_repl_tool'\u001b[0m\n",
              "                \u001b[1m}\u001b[0m,\n",
              "                \u001b[32m'type'\u001b[0m: \u001b[32m'function'\u001b[0m\n",
              "            \u001b[1m}\u001b[0m\n",
              "        \u001b[1m]\u001b[0m,\n",
              "        \u001b[32m'refusal'\u001b[0m: \u001b[3;35mNone\u001b[0m\n",
              "    \u001b[1m}\u001b[0m,\n",
              "    \u001b[33mresponse_metadata\u001b[0m=\u001b[1m{\u001b[0m\n",
              "        \u001b[32m'token_usage'\u001b[0m: \u001b[1m{\u001b[0m\n",
              "            \u001b[32m'completion_tokens'\u001b[0m: \u001b[1;36m61\u001b[0m,\n",
              "            \u001b[32m'prompt_tokens'\u001b[0m: \u001b[1;36m189\u001b[0m,\n",
              "            \u001b[32m'total_tokens'\u001b[0m: \u001b[1;36m250\u001b[0m,\n",
              "            \u001b[32m'completion_tokens_details'\u001b[0m: \u001b[1m{\u001b[0m\n",
              "                \u001b[32m'accepted_prediction_tokens'\u001b[0m: \u001b[1;36m0\u001b[0m,\n",
              "                \u001b[32m'audio_tokens'\u001b[0m: \u001b[1;36m0\u001b[0m,\n",
              "                \u001b[32m'reasoning_tokens'\u001b[0m: \u001b[1;36m0\u001b[0m,\n",
              "                \u001b[32m'rejected_prediction_tokens'\u001b[0m: \u001b[1;36m0\u001b[0m\n",
              "            \u001b[1m}\u001b[0m,\n",
              "            \u001b[32m'prompt_tokens_details'\u001b[0m: \u001b[1m{\u001b[0m\u001b[32m'audio_tokens'\u001b[0m: \u001b[1;36m0\u001b[0m, \u001b[32m'cached_tokens'\u001b[0m: \u001b[1;36m0\u001b[0m\u001b[1m}\u001b[0m\n",
              "        \u001b[1m}\u001b[0m,\n",
              "        \u001b[32m'model_name'\u001b[0m: \u001b[32m'gpt-4.1-mini-2025-04-14'\u001b[0m,\n",
              "        \u001b[32m'system_fingerprint'\u001b[0m: \u001b[32m'fp_4c2851f862'\u001b[0m,\n",
              "        \u001b[32m'id'\u001b[0m: \u001b[32m'chatcmpl-CT1mfSRUU2irbhCDONPB71cJwb26w'\u001b[0m,\n",
              "        \u001b[32m'service_tier'\u001b[0m: \u001b[32m'default'\u001b[0m,\n",
              "        \u001b[32m'finish_reason'\u001b[0m: \u001b[32m'tool_calls'\u001b[0m,\n",
              "        \u001b[32m'logprobs'\u001b[0m: \u001b[3;35mNone\u001b[0m\n",
              "    \u001b[1m}\u001b[0m,\n",
              "    \u001b[33mid\u001b[0m=\u001b[32m'run--93b756a3-dace-4975-a8f0-41bf15ae3923-0'\u001b[0m,\n",
              "    \u001b[33mtool_calls\u001b[0m=\u001b[1m[\u001b[0m\n",
              "        \u001b[1m{\u001b[0m\n",
              "            \u001b[32m'name'\u001b[0m: \u001b[32m'python_repl_tool'\u001b[0m,\n",
              "            \u001b[32m'args'\u001b[0m: \u001b[1m{\u001b[0m\n",
              "                \u001b[32m'code'\u001b[0m: \u001b[32m\"import pandas as pd\\nimport matplotlib.pyplot as plt\\nimport koreanize_matplotlib\\n\\n# \u001b[0m\n",
              "\u001b[32m데이터 불러오기\\ndf = pd.read_csv\u001b[0m\u001b[32m(\u001b[0m\u001b[32m'./sample_data.csv'\u001b[0m\u001b[32m)\u001b[0m\u001b[32m\\n\\n# 데이터 확인\\nprint\u001b[0m\u001b[32m(\u001b[0m\u001b[32mdf.head\u001b[0m\u001b[32m(\u001b[0m\u001b[32m)\u001b[0m\u001b[32m)\u001b[0m\u001b[32m\"\u001b[0m\n",
              "            \u001b[1m}\u001b[0m,\n",
              "            \u001b[32m'id'\u001b[0m: \u001b[32m'call_H7eXlOODk5e9mvgFxUdVcysV'\u001b[0m,\n",
              "            \u001b[32m'type'\u001b[0m: \u001b[32m'tool_call'\u001b[0m\n",
              "        \u001b[1m}\u001b[0m\n",
              "    \u001b[1m]\u001b[0m,\n",
              "    \u001b[33musage_metadata\u001b[0m=\u001b[1m{\u001b[0m\n",
              "        \u001b[32m'input_tokens'\u001b[0m: \u001b[1;36m189\u001b[0m,\n",
              "        \u001b[32m'output_tokens'\u001b[0m: \u001b[1;36m61\u001b[0m,\n",
              "        \u001b[32m'total_tokens'\u001b[0m: \u001b[1;36m250\u001b[0m,\n",
              "        \u001b[32m'input_token_details'\u001b[0m: \u001b[1m{\u001b[0m\u001b[32m'audio'\u001b[0m: \u001b[1;36m0\u001b[0m, \u001b[32m'cache_read'\u001b[0m: \u001b[1;36m0\u001b[0m\u001b[1m}\u001b[0m,\n",
              "        \u001b[32m'output_token_details'\u001b[0m: \u001b[1m{\u001b[0m\u001b[32m'audio'\u001b[0m: \u001b[1;36m0\u001b[0m, \u001b[32m'reasoning'\u001b[0m: \u001b[1;36m0\u001b[0m\u001b[1m}\u001b[0m\n",
              "    \u001b[1m}\u001b[0m\n",
              "\u001b[1m)\u001b[0m\n"
            ],
            "text/html": [
              "<pre style=\"white-space:pre;overflow-x:auto;line-height:normal;font-family:Menlo,'DejaVu Sans Mono',consolas,'Courier New',monospace\"><span style=\"color: #800080; text-decoration-color: #800080; font-weight: bold\">AIMessage</span><span style=\"font-weight: bold\">(</span>\n",
              "    <span style=\"color: #808000; text-decoration-color: #808000\">content</span>=<span style=\"color: #008000; text-decoration-color: #008000\">''</span>,\n",
              "    <span style=\"color: #808000; text-decoration-color: #808000\">additional_kwargs</span>=<span style=\"font-weight: bold\">{</span>\n",
              "        <span style=\"color: #008000; text-decoration-color: #008000\">'tool_calls'</span>: <span style=\"font-weight: bold\">[</span>\n",
              "            <span style=\"font-weight: bold\">{</span>\n",
              "                <span style=\"color: #008000; text-decoration-color: #008000\">'id'</span>: <span style=\"color: #008000; text-decoration-color: #008000\">'call_H7eXlOODk5e9mvgFxUdVcysV'</span>,\n",
              "                <span style=\"color: #008000; text-decoration-color: #008000\">'function'</span>: <span style=\"font-weight: bold\">{</span>\n",
              "                    <span style=\"color: #008000; text-decoration-color: #008000\">'arguments'</span>: <span style=\"color: #008000; text-decoration-color: #008000\">'{\"code\":\"import pandas as pd\\\\nimport matplotlib.pyplot as plt\\\\nimport </span>\n",
              "<span style=\"color: #008000; text-decoration-color: #008000\">koreanize_matplotlib\\\\n\\\\n# 데이터 불러오기\\\\ndf = pd.read_csv(\\'./sample_data.csv\\')\\\\n\\\\n# 데이터 </span>\n",
              "<span style=\"color: #008000; text-decoration-color: #008000\">확인\\\\nprint(df.head())\"}'</span>,\n",
              "                    <span style=\"color: #008000; text-decoration-color: #008000\">'name'</span>: <span style=\"color: #008000; text-decoration-color: #008000\">'python_repl_tool'</span>\n",
              "                <span style=\"font-weight: bold\">}</span>,\n",
              "                <span style=\"color: #008000; text-decoration-color: #008000\">'type'</span>: <span style=\"color: #008000; text-decoration-color: #008000\">'function'</span>\n",
              "            <span style=\"font-weight: bold\">}</span>\n",
              "        <span style=\"font-weight: bold\">]</span>,\n",
              "        <span style=\"color: #008000; text-decoration-color: #008000\">'refusal'</span>: <span style=\"color: #800080; text-decoration-color: #800080; font-style: italic\">None</span>\n",
              "    <span style=\"font-weight: bold\">}</span>,\n",
              "    <span style=\"color: #808000; text-decoration-color: #808000\">response_metadata</span>=<span style=\"font-weight: bold\">{</span>\n",
              "        <span style=\"color: #008000; text-decoration-color: #008000\">'token_usage'</span>: <span style=\"font-weight: bold\">{</span>\n",
              "            <span style=\"color: #008000; text-decoration-color: #008000\">'completion_tokens'</span>: <span style=\"color: #008080; text-decoration-color: #008080; font-weight: bold\">61</span>,\n",
              "            <span style=\"color: #008000; text-decoration-color: #008000\">'prompt_tokens'</span>: <span style=\"color: #008080; text-decoration-color: #008080; font-weight: bold\">189</span>,\n",
              "            <span style=\"color: #008000; text-decoration-color: #008000\">'total_tokens'</span>: <span style=\"color: #008080; text-decoration-color: #008080; font-weight: bold\">250</span>,\n",
              "            <span style=\"color: #008000; text-decoration-color: #008000\">'completion_tokens_details'</span>: <span style=\"font-weight: bold\">{</span>\n",
              "                <span style=\"color: #008000; text-decoration-color: #008000\">'accepted_prediction_tokens'</span>: <span style=\"color: #008080; text-decoration-color: #008080; font-weight: bold\">0</span>,\n",
              "                <span style=\"color: #008000; text-decoration-color: #008000\">'audio_tokens'</span>: <span style=\"color: #008080; text-decoration-color: #008080; font-weight: bold\">0</span>,\n",
              "                <span style=\"color: #008000; text-decoration-color: #008000\">'reasoning_tokens'</span>: <span style=\"color: #008080; text-decoration-color: #008080; font-weight: bold\">0</span>,\n",
              "                <span style=\"color: #008000; text-decoration-color: #008000\">'rejected_prediction_tokens'</span>: <span style=\"color: #008080; text-decoration-color: #008080; font-weight: bold\">0</span>\n",
              "            <span style=\"font-weight: bold\">}</span>,\n",
              "            <span style=\"color: #008000; text-decoration-color: #008000\">'prompt_tokens_details'</span>: <span style=\"font-weight: bold\">{</span><span style=\"color: #008000; text-decoration-color: #008000\">'audio_tokens'</span>: <span style=\"color: #008080; text-decoration-color: #008080; font-weight: bold\">0</span>, <span style=\"color: #008000; text-decoration-color: #008000\">'cached_tokens'</span>: <span style=\"color: #008080; text-decoration-color: #008080; font-weight: bold\">0</span><span style=\"font-weight: bold\">}</span>\n",
              "        <span style=\"font-weight: bold\">}</span>,\n",
              "        <span style=\"color: #008000; text-decoration-color: #008000\">'model_name'</span>: <span style=\"color: #008000; text-decoration-color: #008000\">'gpt-4.1-mini-2025-04-14'</span>,\n",
              "        <span style=\"color: #008000; text-decoration-color: #008000\">'system_fingerprint'</span>: <span style=\"color: #008000; text-decoration-color: #008000\">'fp_4c2851f862'</span>,\n",
              "        <span style=\"color: #008000; text-decoration-color: #008000\">'id'</span>: <span style=\"color: #008000; text-decoration-color: #008000\">'chatcmpl-CT1mfSRUU2irbhCDONPB71cJwb26w'</span>,\n",
              "        <span style=\"color: #008000; text-decoration-color: #008000\">'service_tier'</span>: <span style=\"color: #008000; text-decoration-color: #008000\">'default'</span>,\n",
              "        <span style=\"color: #008000; text-decoration-color: #008000\">'finish_reason'</span>: <span style=\"color: #008000; text-decoration-color: #008000\">'tool_calls'</span>,\n",
              "        <span style=\"color: #008000; text-decoration-color: #008000\">'logprobs'</span>: <span style=\"color: #800080; text-decoration-color: #800080; font-style: italic\">None</span>\n",
              "    <span style=\"font-weight: bold\">}</span>,\n",
              "    <span style=\"color: #808000; text-decoration-color: #808000\">id</span>=<span style=\"color: #008000; text-decoration-color: #008000\">'run--93b756a3-dace-4975-a8f0-41bf15ae3923-0'</span>,\n",
              "    <span style=\"color: #808000; text-decoration-color: #808000\">tool_calls</span>=<span style=\"font-weight: bold\">[</span>\n",
              "        <span style=\"font-weight: bold\">{</span>\n",
              "            <span style=\"color: #008000; text-decoration-color: #008000\">'name'</span>: <span style=\"color: #008000; text-decoration-color: #008000\">'python_repl_tool'</span>,\n",
              "            <span style=\"color: #008000; text-decoration-color: #008000\">'args'</span>: <span style=\"font-weight: bold\">{</span>\n",
              "                <span style=\"color: #008000; text-decoration-color: #008000\">'code'</span>: <span style=\"color: #008000; text-decoration-color: #008000\">\"import pandas as pd\\nimport matplotlib.pyplot as plt\\nimport koreanize_matplotlib\\n\\n# </span>\n",
              "<span style=\"color: #008000; text-decoration-color: #008000\">데이터 불러오기\\ndf = pd.read_csv('./sample_data.csv')\\n\\n# 데이터 확인\\nprint(df.head())\"</span>\n",
              "            <span style=\"font-weight: bold\">}</span>,\n",
              "            <span style=\"color: #008000; text-decoration-color: #008000\">'id'</span>: <span style=\"color: #008000; text-decoration-color: #008000\">'call_H7eXlOODk5e9mvgFxUdVcysV'</span>,\n",
              "            <span style=\"color: #008000; text-decoration-color: #008000\">'type'</span>: <span style=\"color: #008000; text-decoration-color: #008000\">'tool_call'</span>\n",
              "        <span style=\"font-weight: bold\">}</span>\n",
              "    <span style=\"font-weight: bold\">]</span>,\n",
              "    <span style=\"color: #808000; text-decoration-color: #808000\">usage_metadata</span>=<span style=\"font-weight: bold\">{</span>\n",
              "        <span style=\"color: #008000; text-decoration-color: #008000\">'input_tokens'</span>: <span style=\"color: #008080; text-decoration-color: #008080; font-weight: bold\">189</span>,\n",
              "        <span style=\"color: #008000; text-decoration-color: #008000\">'output_tokens'</span>: <span style=\"color: #008080; text-decoration-color: #008080; font-weight: bold\">61</span>,\n",
              "        <span style=\"color: #008000; text-decoration-color: #008000\">'total_tokens'</span>: <span style=\"color: #008080; text-decoration-color: #008080; font-weight: bold\">250</span>,\n",
              "        <span style=\"color: #008000; text-decoration-color: #008000\">'input_token_details'</span>: <span style=\"font-weight: bold\">{</span><span style=\"color: #008000; text-decoration-color: #008000\">'audio'</span>: <span style=\"color: #008080; text-decoration-color: #008080; font-weight: bold\">0</span>, <span style=\"color: #008000; text-decoration-color: #008000\">'cache_read'</span>: <span style=\"color: #008080; text-decoration-color: #008080; font-weight: bold\">0</span><span style=\"font-weight: bold\">}</span>,\n",
              "        <span style=\"color: #008000; text-decoration-color: #008000\">'output_token_details'</span>: <span style=\"font-weight: bold\">{</span><span style=\"color: #008000; text-decoration-color: #008000\">'audio'</span>: <span style=\"color: #008080; text-decoration-color: #008080; font-weight: bold\">0</span>, <span style=\"color: #008000; text-decoration-color: #008000\">'reasoning'</span>: <span style=\"color: #008080; text-decoration-color: #008080; font-weight: bold\">0</span><span style=\"font-weight: bold\">}</span>\n",
              "    <span style=\"font-weight: bold\">}</span>\n",
              "<span style=\"font-weight: bold\">)</span>\n",
              "</pre>\n"
            ]
          },
          "metadata": {}
        }
      ],
      "source": [
        "tool_call_msg = llm_with_tools.invoke(msgs)\n",
        "rprint(tool_call_msg)"
      ]
    },
    {
      "cell_type": "code",
      "execution_count": null,
      "id": "febea3ea",
      "metadata": {
        "id": "febea3ea",
        "colab": {
          "base_uri": "https://localhost:8080/"
        },
        "outputId": "12530ecd-ba93-47c3-d666-727802aeef56"
      },
      "outputs": [
        {
          "output_type": "stream",
          "name": "stdout",
          "text": [
            "import pandas as pd\n",
            "import matplotlib.pyplot as plt\n",
            "import koreanize_matplotlib\n",
            "\n",
            "# 데이터 불러오기\n",
            "df = pd.read_csv('./sample_data.csv')\n",
            "\n",
            "# 데이터 확인\n",
            "print(df.head())\n"
          ]
        }
      ],
      "source": [
        "print(tool_call_msg.tool_calls[0]['args']['code'])"
      ]
    },
    {
      "cell_type": "code",
      "execution_count": null,
      "id": "a7JFuliuu2bN",
      "metadata": {
        "id": "a7JFuliuu2bN",
        "colab": {
          "base_uri": "https://localhost:8080/"
        },
        "outputId": "79e52704-825a-47be-fda1-b1a43d9a9bb8"
      },
      "outputs": [
        {
          "output_type": "execute_result",
          "data": {
            "text/plain": [
              "ToolMessage(content=\"Successfully executed:\\n```python\\nimport pandas as pd\\nimport matplotlib.pyplot as plt\\nimport koreanize_matplotlib\\n\\n# 데이터 불러오기\\ndf = pd.read_csv('./sample_data.csv')\\n\\n# 데이터 확인\\nprint(df.head())\\n```\\nStdout:            날짜   제품       가격  판매량  고객_연령 고객_성별  지역\\n0  2023-01-01  노트북  1200000    5     34    남성  서울\\n1  2023-01-02  노트북  1200000    3     42    여성  부산\\n2  2023-01-03  노트북  1200000    2     28    남성  대구\\n3  2023-01-04  노트북  1200000    7     45    여성  인천\\n4  2023-01-05  노트북  1200000    4     31    남성  광주\\n\", name='python_repl_tool', tool_call_id='call_H7eXlOODk5e9mvgFxUdVcysV')"
            ]
          },
          "metadata": {},
          "execution_count": 14
        }
      ],
      "source": [
        "python_repl_tool.invoke(tool_call_msg.tool_calls[0])"
      ]
    },
    {
      "cell_type": "markdown",
      "source": [
        "위와 같이 데이터 분석과 같은 문제는 단순히 툴을 1회 실행하는 것이 아닌, 추가적인 작업이 필요할 수 있습니다.    \n",
        "메시지의 Context를 계속 늘리며, 툴이 필요할 때마다 실행하도록 만들어 보겠습니다."
      ],
      "metadata": {
        "id": "vN6OkRDg8WyJ"
      },
      "id": "vN6OkRDg8WyJ"
    },
    {
      "cell_type": "code",
      "source": [
        "import koreanize_matplotlib\n",
        "\n",
        "def react_agent(llm, msgs , tools = [python_repl_tool]):\n",
        "\n",
        "    # 툴과 LLM 구성\n",
        "\n",
        "    tool_list = {x.name: x for x in tools}\n",
        "    # tavily_search.name = 'tavily_search' 을 이용하면\n",
        "    # tool_list = {'tavily_search': tavily_search} 와 동일합니다.\n",
        "\n",
        "    llm_with_tools = llm.bind_tools(tools)\n",
        "\n",
        "\n",
        "    # 메시지 구성\n",
        "    # messages = [HumanMessage(question)]\n",
        "    # print('Query:', question)\n",
        "    messages = msgs\n",
        "\n",
        "\n",
        "    # LLM에 메시지 전달 (분기)\n",
        "    tool_msg = llm_with_tools.invoke(question)\n",
        "    # AIMessage\n",
        "\n",
        "\n",
        "    # 1) 툴이 필요없으면: 응답 후 종료\n",
        "    # 2) 툴이 필요하면: AIMessage (+ Tool Call)\n",
        "    print('## LLM 호출 ##')\n",
        "    messages.append(tool_msg)\n",
        "    # [Human, AI]\n",
        "\n",
        "    if tool_msg.content:\n",
        "        print('LLM:', tool_msg.content)\n",
        "\n",
        "    while tool_msg.tool_calls:\n",
        "        # 툴 호출이 있을 경우: 툴 실행 후 결과를 전달 (반복)\n",
        "\n",
        "        for tool_call in tool_msg.tool_calls:\n",
        "            tool_name = tool_call['name']\n",
        "\n",
        "            print(f\"-- {tool_name} 사용 중 --\")\n",
        "            print(tool_call)\n",
        "\n",
        "\n",
        "            tool_exec = tool_list[tool_name]\n",
        "\n",
        "            tool_result = tool_exec.invoke(tool_call)\n",
        "            messages.append(tool_result)\n",
        "            # Tool Message 추가\n",
        "        tool_msg = llm_with_tools.invoke(messages)\n",
        "        # AIMessage\n",
        "        print('## LLM 호출 ##')\n",
        "        messages.append(tool_msg)\n",
        "\n",
        "        if tool_msg.content:\n",
        "            print('LLM:', tool_msg.content)\n",
        "\n",
        "\n",
        "    result = tool_msg\n",
        "\n",
        "    return messages\n",
        "\n",
        "react_agent(llm, msgs, tools)"
      ],
      "metadata": {
        "id": "NrECu3sl8FoS",
        "colab": {
          "base_uri": "https://localhost:8080/",
          "height": 309
        },
        "outputId": "47414a02-63be-4b51-9277-387a3a83a5ae"
      },
      "id": "NrECu3sl8FoS",
      "execution_count": null,
      "outputs": [
        {
          "output_type": "error",
          "ename": "NameError",
          "evalue": "name 'question' is not defined",
          "traceback": [
            "\u001b[0;31m---------------------------------------------------------------------------\u001b[0m",
            "\u001b[0;31mNameError\u001b[0m                                 Traceback (most recent call last)",
            "\u001b[0;32m/tmp/ipython-input-4049489416.py\u001b[0m in \u001b[0;36m<cell line: 0>\u001b[0;34m()\u001b[0m\n\u001b[1;32m     60\u001b[0m     \u001b[0;32mreturn\u001b[0m \u001b[0mmessages\u001b[0m\u001b[0;34m\u001b[0m\u001b[0;34m\u001b[0m\u001b[0m\n\u001b[1;32m     61\u001b[0m \u001b[0;34m\u001b[0m\u001b[0m\n\u001b[0;32m---> 62\u001b[0;31m \u001b[0mreact_agent\u001b[0m\u001b[0;34m(\u001b[0m\u001b[0mllm\u001b[0m\u001b[0;34m,\u001b[0m \u001b[0mmsgs\u001b[0m\u001b[0;34m,\u001b[0m \u001b[0mtools\u001b[0m\u001b[0;34m)\u001b[0m\u001b[0;34m\u001b[0m\u001b[0;34m\u001b[0m\u001b[0m\n\u001b[0m",
            "\u001b[0;32m/tmp/ipython-input-4049489416.py\u001b[0m in \u001b[0;36mreact_agent\u001b[0;34m(llm, msgs, tools)\u001b[0m\n\u001b[1;32m     19\u001b[0m \u001b[0;34m\u001b[0m\u001b[0m\n\u001b[1;32m     20\u001b[0m     \u001b[0;31m# LLM에 메시지 전달 (분기)\u001b[0m\u001b[0;34m\u001b[0m\u001b[0;34m\u001b[0m\u001b[0m\n\u001b[0;32m---> 21\u001b[0;31m     \u001b[0mtool_msg\u001b[0m \u001b[0;34m=\u001b[0m \u001b[0mllm_with_tools\u001b[0m\u001b[0;34m.\u001b[0m\u001b[0minvoke\u001b[0m\u001b[0;34m(\u001b[0m\u001b[0mquestion\u001b[0m\u001b[0;34m)\u001b[0m\u001b[0;34m\u001b[0m\u001b[0;34m\u001b[0m\u001b[0m\n\u001b[0m\u001b[1;32m     22\u001b[0m     \u001b[0;31m# AIMessage\u001b[0m\u001b[0;34m\u001b[0m\u001b[0;34m\u001b[0m\u001b[0m\n\u001b[1;32m     23\u001b[0m \u001b[0;34m\u001b[0m\u001b[0m\n",
            "\u001b[0;31mNameError\u001b[0m: name 'question' is not defined"
          ]
        }
      ]
    },
    {
      "cell_type": "markdown",
      "id": "a902ed8b",
      "metadata": {
        "id": "a902ed8b"
      },
      "source": [
        "LangGraph의 prebuilt를 이용하면 이전의 코드를 매우 간결하게 구성할 수 있습니다."
      ]
    },
    {
      "cell_type": "code",
      "execution_count": null,
      "id": "GfFFx2CIyvEA",
      "metadata": {
        "id": "GfFFx2CIyvEA"
      },
      "outputs": [],
      "source": [
        "from langgraph.prebuilt import create_react_agent"
      ]
    },
    {
      "cell_type": "code",
      "execution_count": null,
      "id": "3f002e4e",
      "metadata": {
        "id": "3f002e4e"
      },
      "outputs": [],
      "source": [
        "agent = create_react_agent(llm, tools)\n",
        "# system_prompt를 통해 시스템 프롬프트도 커스텀"
      ]
    },
    {
      "cell_type": "code",
      "execution_count": null,
      "id": "dfeb3268",
      "metadata": {
        "id": "dfeb3268"
      },
      "outputs": [],
      "source": [
        "agent.invoke(\n",
        "    {'messages':[HumanMessage('파일의 위치가 ./sample_data.csv 이다. 이 파일의 제품별 판매량을 비교하여 result.png에 시각화해줘. 묻지 말고 끝까지 해.')]})"
      ]
    }
  ],
  "metadata": {
    "colab": {
      "provenance": []
    },
    "kernelspec": {
      "display_name": "Python 3",
      "language": "python",
      "name": "python3"
    },
    "language_info": {
      "codemirror_mode": {
        "name": "ipython",
        "version": 3
      },
      "file_extension": ".py",
      "mimetype": "text/x-python",
      "name": "python",
      "nbconvert_exporter": "python",
      "pygments_lexer": "ipython3",
      "version": "3.12.9"
    }
  },
  "nbformat": 4,
  "nbformat_minor": 5
}